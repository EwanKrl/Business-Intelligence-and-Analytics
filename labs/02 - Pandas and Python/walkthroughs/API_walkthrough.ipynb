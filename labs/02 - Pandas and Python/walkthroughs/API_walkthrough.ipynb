{
  "cells": [
    {
      "attachments": {},
      "cell_type": "markdown",
      "metadata": {
        "colab_type": "text",
        "id": "view-in-github"
      },
      "source": [
        "<a href=\"https://colab.research.google.com/github/michalis0/Business-Intelligence-and-Analytics/blob/master/labs/02%20-%20Pandas%20and%20Python/walkthroughs/Exercise_API.ipynb\" target=\"_parent\"><img src=\"https://colab.research.google.com/assets/colab-badge.svg\" alt=\"Open In Colab\"/></a>"
      ]
    },
    {
      "cell_type": "code",
      "execution_count": null,
      "metadata": {
        "cellView": "form",
        "colab": {
          "base_uri": "https://localhost:8080/",
          "height": 133
        },
        "id": "LIG51I0NZ0QE",
        "outputId": "9cf6ed7c-f26b-4b4f-e819-1a5ff75c1640"
      },
      "outputs": [
        {
          "data": {
            "text/html": [
              "\n",
              "<div>\n",
              "<td> \n",
              "<img src=\"https://upload.wikimedia.org/wikipedia/commons/thumb/2/2b/Logo_Universit%C3%A9_de_Lausanne.svg/2000px-Logo_Universit%C3%A9_de_Lausanne.svg.png\" style=\"padding-right:10px;width:240px;float:left\"/></td>\n",
              "<h2 style=\"white-space: nowrap\">Business Intelligence and Analytics</h2></td>\n",
              "<hr style=\"clear:both\">\n",
              "<p style=\"font-size:0.85em; margin:2px; text-align:justify\">\n",
              "\n",
              "</div>\n"
            ],
            "text/plain": [
              "<IPython.core.display.HTML object>"
            ]
          },
          "metadata": {},
          "output_type": "display_data"
        }
      ],
      "source": [
        "#@title Exercise on API - Lab 2\n",
        "\n",
        "%%html\n",
        "\n",
        "<div>\n",
        "<td> \n",
        "<img src=\"https://upload.wikimedia.org/wikipedia/commons/thumb/2/2b/Logo_Universit%C3%A9_de_Lausanne.svg/2000px-Logo_Universit%C3%A9_de_Lausanne.svg.png\" style=\"padding-right:10px;width:240px;float:left\"/></td>\n",
        "<h2 style=\"white-space: nowrap\">Business Intelligence and Analytics</h2></td>\n",
        "<hr style=\"clear:both\">\n",
        "<p style=\"font-size:0.85em; margin:2px; text-align:justify\">\n",
        "\n",
        "</div>"
      ]
    },
    {
      "cell_type": "markdown",
      "metadata": {
        "id": "nPrgCqTTVXmg"
      },
      "source": [
        "# Introduction\n",
        "\n",
        ">This exercise aims at illustrating the practical use of API requests to obtain data from the Internet. During this exercise, we will show you how to obtain API data from various websites in `json` format. Then, you will use a small program that allows you to retrieve the data in Colab. From this point onwards, the data will be accessible for you to work on.\n",
        "\n",
        "> We are going to use **2 examples**: one where you retrieve IMDb data about your **favorite movie** and another where you retrieve **current weather** data from any city in the world.\n",
        "\n",
        "_Note_: data treatment will be developed in the following labs: \"Pandas and Python\" and \"Data cleaning\", respectively the 2nd and 3rd labs. This exercise only shows you the process of obtaining _real time_ online data from an API.\n",
        "\n",
        "_Reminder_: data obtained in such a way is called _external_ data.\n",
        "\n",
        "\n"
      ]
    },
    {
      "cell_type": "markdown",
      "metadata": {
        "id": "LoodZhsh0eaH"
      },
      "source": [
        "# 1. Data from your favorite movie\n",
        "\n",
        "In this example, you will understand how to extract data concerning the movie of your choice.\n",
        "\n",
        "First, you will have to make a request against an API to obtain the data.\n",
        "\n",
        "Second, you will translate this data in Colab."
      ]
    },
    {
      "cell_type": "markdown",
      "metadata": {
        "id": "a6GT0pj-eIMz"
      },
      "source": [
        "## Making a OMDb API request\n",
        "\n",
        "**Let us take a look at the [OMDb API](https://www.omdbapi.com/)**\n",
        "\n",
        "> You can see that you will be able to make a HTTP request with this URL: ```http://www.omdbapi.com/?apikey=[yourkey]&```\n",
        "\n",
        "For this, you will need a **key** (see theory) for the API to control your requests. For OMDb API, free requests are limited to 1'000 per day.\n",
        "\n",
        "> You can get your own key [here](https://www.omdbapi.com/apikey.aspx) by inputing your email address.\n",
        "\n",
        "> You can also use the key I generated : `6be81d95`.\n",
        "\n",
        "You will then need to apply **filters** to your HTTP request for the API to recognize what you are looking for. Those will be appended to the end of your URL.\n",
        "\n",
        "For example, say I want to search for the movie \"The Big Short\" with a full plot.\n",
        "> The filters would be the following: `t=The+Big+Short&plot=full`. You can see that `t` indicates the title of the movie (for this API, it is mandatory) and `plot` has an option `full`.\n",
        "\n",
        "> The filters are always separed by a `&` sign.\n",
        "\n",
        "Therefore, the URL of my request would be the following:\n",
        "\n",
        "```https://www.omdbapi.com/?apikey=6be81d95&t=The+Big+Short&plot=full```\n",
        "\n",
        "**Try inputing that URL in your browser and see what happens!**\n"
      ]
    },
    {
      "cell_type": "markdown",
      "metadata": {
        "id": "ZY0tP7cNvAo9"
      },
      "source": [
        "### Result\n",
        "\n",
        "If everything goes well, you get a webpage in `json` format !\n",
        "\n",
        "You might recognize the **semi-structured** data type from your theory class.\n",
        "\n",
        ">However, all of this is still happening in your web browser, and you cannot process this data with any program of your choice."
      ]
    },
    {
      "cell_type": "markdown",
      "metadata": {
        "id": "A2xDQI_oew6Q"
      },
      "source": [
        "## Loading the data in Colab\n",
        "\n",
        "More on this process can be found [here](https://colab.research.google.com/github/nestauk/im-tutorials/blob/3-ysi-tutorial/notebooks/APIs/API_tutorial.ipynb). This exercise is largely inspired by the official Colab tutorial."
      ]
    },
    {
      "cell_type": "code",
      "execution_count": null,
      "metadata": {
        "colab": {
          "base_uri": "https://localhost:8080/"
        },
        "id": "Sa-33IjZaGdI",
        "outputId": "1d4d8520-0097-4a65-bbbc-cd7ab504cea3"
      },
      "outputs": [
        {
          "name": "stdout",
          "output_type": "stream",
          "text": [
            "https://www.omdbapi.com/?apikey=6be81d95&t=The+Big+Short&plot=full\n",
            "Request returned 200 : 'OK'\n",
            "{'Actors': 'Christian Bale, Steve Carell, Ryan Gosling',\n",
            " 'Awards': 'Won 1 Oscar. 37 wins & 81 nominations total',\n",
            " 'BoxOffice': '$70,259,870',\n",
            " 'Country': 'United States',\n",
            " 'DVD': '15 Mar 2016',\n",
            " 'Director': 'Adam McKay',\n",
            " 'Genre': 'Biography, Comedy, Drama',\n",
            " 'Language': 'English',\n",
            " 'Metascore': '81',\n",
            " 'Plot': 'Three separate but parallel stories of the U.S mortgage housing '\n",
            "         'crisis of 2005 are told. Michael Burry, an eccentric ex-physician '\n",
            "         'turned one-eyed Scion Capital hedge fund manager, has traded '\n",
            "         'traditional office attire for shorts, bare feet and a Supercuts '\n",
            "         'haircut. He believes that the US housing market is built on a bubble '\n",
            "         'that will burst within the next few years. Autonomy within the '\n",
            "         'company allows Burry to do largely as he pleases, so Burry proceeds '\n",
            "         'to bet against the housing market with the banks, who are more than '\n",
            "         'happy to accept his proposal for something that has never happened '\n",
            "         'in American history. The banks believe that Burry is a crackpot and '\n",
            "         'therefore are confident in that they will win the deal. Jared '\n",
            "         'Vennett with Deutschebank gets wind of what Burry is doing and, as '\n",
            "         \"an investor believes he too can cash in on Burry's beliefs. An \"\n",
            "         'errant telephone call to FrontPoint Partners gets this information '\n",
            "         'into the hands of Mark Baum, an idealist who is fed up with the '\n",
            "         'corruption in the financial industry. Baum and his associates, who '\n",
            "         'work at an arms length under Morgan Stanley, decide to join forces '\n",
            "         'with Vennett despite not totally trusting him. In addition to '\n",
            "         \"Burry's information, they further believe that most of the mortgages \"\n",
            "         'are overrated by the bond agencies, with the banks collating all the '\n",
            "         'sub-prime mortgages under AAA packages. Charlie Geller and Jamie '\n",
            "         'Shipley, who are minor players in a $30 million start-up garage '\n",
            "         \"company called Brownfield, get a hold of Vennett's prospectus on the \"\n",
            "         'matter. Wanting in on the action but not having the official clout '\n",
            "         'to play, they decide to call an old \"friend\", retired investment '\n",
            "         'banker Ben Rickert, to help out. All three of these groups work on '\n",
            "         \"the premise that the banks are stupid and don't know what's going \"\n",
            "         'on, while for them to win, the general economy has to lose, which '\n",
            "         'means the suffering of the general investor who trusts the financial '\n",
            "         'institutions. That latter aspect may not sit well with Baum. Some of '\n",
            "         'these assumptions may be incorrect and may be far more manipulative '\n",
            "         'than they could have ever imagined, which in turn may throw curves '\n",
            "         'into the process.',\n",
            " 'Poster': 'https://m.media-amazon.com/images/M/MV5BNDc4MThhN2EtZjMzNC00ZDJmLThiZTgtNThlY2UxZWMzNjdkXkEyXkFqcGdeQXVyNDk3NzU2MTQ@._V1_SX300.jpg',\n",
            " 'Production': 'N/A',\n",
            " 'Rated': 'R',\n",
            " 'Ratings': [{'Source': 'Internet Movie Database', 'Value': '7.8/10'},\n",
            "             {'Source': 'Rotten Tomatoes', 'Value': '89%'},\n",
            "             {'Source': 'Metacritic', 'Value': '81/100'}],\n",
            " 'Released': '23 Dec 2015',\n",
            " 'Response': 'True',\n",
            " 'Runtime': '130 min',\n",
            " 'Title': 'The Big Short',\n",
            " 'Type': 'movie',\n",
            " 'Website': 'N/A',\n",
            " 'Writer': 'Charles Randolph, Adam McKay, Michael Lewis',\n",
            " 'Year': '2015',\n",
            " 'imdbID': 'tt1596363',\n",
            " 'imdbRating': '7.8',\n",
            " 'imdbVotes': '437,558'}\n"
          ]
        }
      ],
      "source": [
        "import requests  # Import the requests library\n",
        "\n",
        "# Query URL\n",
        "url = ('https://www.omdbapi.com/?apikey=6be81d95&t=The+Big+Short&plot=full')  # Movie 'The Big Short' with a full plot\n",
        "\n",
        "print(url)\n",
        "\n",
        "response = requests.get(url)  # Make a GET request to the URL.\n",
        "\n",
        "# Print status code (and associated text).\n",
        "print(f\"Request returned {response.status_code} : '{response.reason}'\")\n",
        "\n",
        "#Note: status 200 means the request was successful. Search online for documentation about request statuses.\n",
        "\n",
        "# Print data returned (parsing as JSON)\n",
        "payload = response.json()  # Parse `response.text` into JSON\n",
        "\n",
        "import pprint #This library makes the result look good.\n",
        "\n",
        "pp = pprint.PrettyPrinter(indent=1)\n",
        "pp.pprint(payload)"
      ]
    },
    {
      "cell_type": "markdown",
      "metadata": {
        "id": "mDdTMPOym_FE"
      },
      "source": [
        "**You did it!** You can now process the data obtained in the movie description"
      ]
    },
    {
      "cell_type": "code",
      "execution_count": null,
      "metadata": {
        "colab": {
          "base_uri": "https://localhost:8080/",
          "height": 36
        },
        "id": "HfMM215ukpIU",
        "outputId": "c3d991ee-2a1a-45ea-94b8-3e3b03554aee"
      },
      "outputs": [
        {
          "data": {
            "application/vnd.google.colaboratory.intrinsic+json": {
              "type": "string"
            },
            "text/plain": [
              "'Christian Bale, Steve Carell, Ryan Gosling'"
            ]
          },
          "execution_count": 31,
          "metadata": {},
          "output_type": "execute_result"
        }
      ],
      "source": [
        "#Show the actors that played in the movie\n",
        "\n",
        "payload['Actors']"
      ]
    },
    {
      "cell_type": "code",
      "execution_count": null,
      "metadata": {
        "colab": {
          "base_uri": "https://localhost:8080/"
        },
        "id": "dodnN5bXk3wH",
        "outputId": "10764f38-f022-459c-9125-e7b1098feeec"
      },
      "outputs": [
        {
          "name": "stdout",
          "output_type": "stream",
          "text": [
            "Three separate but parallel stories of the U.S mortgage housing crisis of 2005 are told. Michael Burry, an eccentric ex-physician turned one-eyed Scion Capital hedge fund manager, has traded traditional office attire for shorts, bare feet and a Supercuts haircut. He believes that the US housing market is built on a bubble that will burst within the next few years. Autonomy within the company allows Burry to do largely as he pleases, so Burry proceeds to bet against the housing market with the banks, who are more than happy to accept his proposal for something that has never happened in American history. The banks believe that Burry is a crackpot and therefore are confident in that they will win the deal. Jared Vennett with Deutschebank gets wind of what Burry is doing and, as an investor believes he too can cash in on Burry's beliefs. An errant telephone call to FrontPoint Partners gets this information into the hands of Mark Baum, an idealist who is fed up with the corruption in the financial industry. Baum and his associates, who work at an arms length under Morgan Stanley, decide to join forces with Vennett despite not totally trusting him. In addition to Burry's information, they further believe that most of the mortgages are overrated by the bond agencies, with the banks collating all the sub-prime mortgages under AAA packages. Charlie Geller and Jamie Shipley, who are minor players in a $30 million start-up garage company called Brownfield, get a hold of Vennett's prospectus on the matter. Wanting in on the action but not having the official clout to play, they decide to call an old \"friend\", retired investment banker Ben Rickert, to help out. All three of these groups work on the premise that the banks are stupid and don't know what's going on, while for them to win, the general economy has to lose, which means the suffering of the general investor who trusts the financial institutions. That latter aspect may not sit well with Baum. Some of these assumptions may be incorrect and may be far more manipulative than they could have ever imagined, which in turn may throw curves into the process.\n"
          ]
        }
      ],
      "source": [
        "#Show the plot of the movie\n",
        "\n",
        "plot = payload['Plot']\n",
        "\n",
        "print(plot)"
      ]
    },
    {
      "cell_type": "code",
      "execution_count": null,
      "metadata": {
        "colab": {
          "base_uri": "https://localhost:8080/"
        },
        "id": "HvlhtmJ5oLfW",
        "outputId": "9acf195a-89bd-4c77-fc59-98b095eee524"
      },
      "outputs": [
        {
          "name": "stdout",
          "output_type": "stream",
          "text": [
            "<class 'str'>\n",
            "364\n"
          ]
        }
      ],
      "source": [
        "#Count the number of words in the plot\n",
        "print(type(plot))\n",
        "\n",
        "plot_length = plot.split() #use the split method on a string\n",
        "\n",
        "print(len(plot_length)) #count the length of the list containing all words"
      ]
    },
    {
      "cell_type": "markdown",
      "metadata": {
        "id": "gZRqqUm1rK80"
      },
      "source": [
        "## Your turn !\n",
        "\n",
        "Here, you will be able to search for your own favorite movie and retrieve the corresponding IMDb data."
      ]
    },
    {
      "cell_type": "code",
      "execution_count": null,
      "metadata": {
        "id": "FeqPoaFfrZn9"
      },
      "outputs": [],
      "source": [
        "your_url = ('Your url here') \n",
        "\n",
        "#You will need the key and the name of the movie from omdbapi.com (see the first part of this example)"
      ]
    },
    {
      "cell_type": "code",
      "execution_count": null,
      "metadata": {
        "colab": {
          "base_uri": "https://localhost:8080/",
          "height": 414
        },
        "id": "tNs2IYQLxzBH",
        "outputId": "a135e277-494a-42fd-de06-029ae6e853ce"
      },
      "outputs": [
        {
          "name": "stdout",
          "output_type": "stream",
          "text": [
            "Your url here\n"
          ]
        },
        {
          "ename": "MissingSchema",
          "evalue": "ignored",
          "output_type": "error",
          "traceback": [
            "\u001b[0;31m---------------------------------------------------------------------------\u001b[0m",
            "\u001b[0;31mMissingSchema\u001b[0m                             Traceback (most recent call last)",
            "\u001b[0;32m<ipython-input-35-209beff3746b>\u001b[0m in \u001b[0;36m<module>\u001b[0;34m\u001b[0m\n\u001b[1;32m      3\u001b[0m \u001b[0mprint\u001b[0m\u001b[0;34m(\u001b[0m\u001b[0myour_url\u001b[0m\u001b[0;34m)\u001b[0m \u001b[0;31m#The URL of your choice.\u001b[0m\u001b[0;34m\u001b[0m\u001b[0;34m\u001b[0m\u001b[0m\n\u001b[1;32m      4\u001b[0m \u001b[0;34m\u001b[0m\u001b[0m\n\u001b[0;32m----> 5\u001b[0;31m \u001b[0mresponse\u001b[0m \u001b[0;34m=\u001b[0m \u001b[0mrequests\u001b[0m\u001b[0;34m.\u001b[0m\u001b[0mget\u001b[0m\u001b[0;34m(\u001b[0m\u001b[0myour_url\u001b[0m\u001b[0;34m)\u001b[0m  \u001b[0;31m# Make a GET request to the URL.\u001b[0m\u001b[0;34m\u001b[0m\u001b[0;34m\u001b[0m\u001b[0m\n\u001b[0m\u001b[1;32m      6\u001b[0m \u001b[0;34m\u001b[0m\u001b[0m\n\u001b[1;32m      7\u001b[0m \u001b[0;31m# Print status code (and associated text).\u001b[0m\u001b[0;34m\u001b[0m\u001b[0;34m\u001b[0m\u001b[0;34m\u001b[0m\u001b[0m\n",
            "\u001b[0;32m/usr/local/lib/python3.8/dist-packages/requests/api.py\u001b[0m in \u001b[0;36mget\u001b[0;34m(url, params, **kwargs)\u001b[0m\n\u001b[1;32m     74\u001b[0m \u001b[0;34m\u001b[0m\u001b[0m\n\u001b[1;32m     75\u001b[0m     \u001b[0mkwargs\u001b[0m\u001b[0;34m.\u001b[0m\u001b[0msetdefault\u001b[0m\u001b[0;34m(\u001b[0m\u001b[0;34m'allow_redirects'\u001b[0m\u001b[0;34m,\u001b[0m \u001b[0;32mTrue\u001b[0m\u001b[0;34m)\u001b[0m\u001b[0;34m\u001b[0m\u001b[0;34m\u001b[0m\u001b[0m\n\u001b[0;32m---> 76\u001b[0;31m     \u001b[0;32mreturn\u001b[0m \u001b[0mrequest\u001b[0m\u001b[0;34m(\u001b[0m\u001b[0;34m'get'\u001b[0m\u001b[0;34m,\u001b[0m \u001b[0murl\u001b[0m\u001b[0;34m,\u001b[0m \u001b[0mparams\u001b[0m\u001b[0;34m=\u001b[0m\u001b[0mparams\u001b[0m\u001b[0;34m,\u001b[0m \u001b[0;34m**\u001b[0m\u001b[0mkwargs\u001b[0m\u001b[0;34m)\u001b[0m\u001b[0;34m\u001b[0m\u001b[0;34m\u001b[0m\u001b[0m\n\u001b[0m\u001b[1;32m     77\u001b[0m \u001b[0;34m\u001b[0m\u001b[0m\n\u001b[1;32m     78\u001b[0m \u001b[0;34m\u001b[0m\u001b[0m\n",
            "\u001b[0;32m/usr/local/lib/python3.8/dist-packages/requests/api.py\u001b[0m in \u001b[0;36mrequest\u001b[0;34m(method, url, **kwargs)\u001b[0m\n\u001b[1;32m     59\u001b[0m     \u001b[0;31m# cases, and look like a memory leak in others.\u001b[0m\u001b[0;34m\u001b[0m\u001b[0;34m\u001b[0m\u001b[0;34m\u001b[0m\u001b[0m\n\u001b[1;32m     60\u001b[0m     \u001b[0;32mwith\u001b[0m \u001b[0msessions\u001b[0m\u001b[0;34m.\u001b[0m\u001b[0mSession\u001b[0m\u001b[0;34m(\u001b[0m\u001b[0;34m)\u001b[0m \u001b[0;32mas\u001b[0m \u001b[0msession\u001b[0m\u001b[0;34m:\u001b[0m\u001b[0;34m\u001b[0m\u001b[0;34m\u001b[0m\u001b[0m\n\u001b[0;32m---> 61\u001b[0;31m         \u001b[0;32mreturn\u001b[0m \u001b[0msession\u001b[0m\u001b[0;34m.\u001b[0m\u001b[0mrequest\u001b[0m\u001b[0;34m(\u001b[0m\u001b[0mmethod\u001b[0m\u001b[0;34m=\u001b[0m\u001b[0mmethod\u001b[0m\u001b[0;34m,\u001b[0m \u001b[0murl\u001b[0m\u001b[0;34m=\u001b[0m\u001b[0murl\u001b[0m\u001b[0;34m,\u001b[0m \u001b[0;34m**\u001b[0m\u001b[0mkwargs\u001b[0m\u001b[0;34m)\u001b[0m\u001b[0;34m\u001b[0m\u001b[0;34m\u001b[0m\u001b[0m\n\u001b[0m\u001b[1;32m     62\u001b[0m \u001b[0;34m\u001b[0m\u001b[0m\n\u001b[1;32m     63\u001b[0m \u001b[0;34m\u001b[0m\u001b[0m\n",
            "\u001b[0;32m/usr/local/lib/python3.8/dist-packages/requests/sessions.py\u001b[0m in \u001b[0;36mrequest\u001b[0;34m(self, method, url, params, data, headers, cookies, files, auth, timeout, allow_redirects, proxies, hooks, stream, verify, cert, json)\u001b[0m\n\u001b[1;32m    526\u001b[0m             \u001b[0mhooks\u001b[0m\u001b[0;34m=\u001b[0m\u001b[0mhooks\u001b[0m\u001b[0;34m,\u001b[0m\u001b[0;34m\u001b[0m\u001b[0;34m\u001b[0m\u001b[0m\n\u001b[1;32m    527\u001b[0m         )\n\u001b[0;32m--> 528\u001b[0;31m         \u001b[0mprep\u001b[0m \u001b[0;34m=\u001b[0m \u001b[0mself\u001b[0m\u001b[0;34m.\u001b[0m\u001b[0mprepare_request\u001b[0m\u001b[0;34m(\u001b[0m\u001b[0mreq\u001b[0m\u001b[0;34m)\u001b[0m\u001b[0;34m\u001b[0m\u001b[0;34m\u001b[0m\u001b[0m\n\u001b[0m\u001b[1;32m    529\u001b[0m \u001b[0;34m\u001b[0m\u001b[0m\n\u001b[1;32m    530\u001b[0m         \u001b[0mproxies\u001b[0m \u001b[0;34m=\u001b[0m \u001b[0mproxies\u001b[0m \u001b[0;32mor\u001b[0m \u001b[0;34m{\u001b[0m\u001b[0;34m}\u001b[0m\u001b[0;34m\u001b[0m\u001b[0;34m\u001b[0m\u001b[0m\n",
            "\u001b[0;32m/usr/local/lib/python3.8/dist-packages/requests/sessions.py\u001b[0m in \u001b[0;36mprepare_request\u001b[0;34m(self, request)\u001b[0m\n\u001b[1;32m    454\u001b[0m \u001b[0;34m\u001b[0m\u001b[0m\n\u001b[1;32m    455\u001b[0m         \u001b[0mp\u001b[0m \u001b[0;34m=\u001b[0m \u001b[0mPreparedRequest\u001b[0m\u001b[0;34m(\u001b[0m\u001b[0;34m)\u001b[0m\u001b[0;34m\u001b[0m\u001b[0;34m\u001b[0m\u001b[0m\n\u001b[0;32m--> 456\u001b[0;31m         p.prepare(\n\u001b[0m\u001b[1;32m    457\u001b[0m             \u001b[0mmethod\u001b[0m\u001b[0;34m=\u001b[0m\u001b[0mrequest\u001b[0m\u001b[0;34m.\u001b[0m\u001b[0mmethod\u001b[0m\u001b[0;34m.\u001b[0m\u001b[0mupper\u001b[0m\u001b[0;34m(\u001b[0m\u001b[0;34m)\u001b[0m\u001b[0;34m,\u001b[0m\u001b[0;34m\u001b[0m\u001b[0;34m\u001b[0m\u001b[0m\n\u001b[1;32m    458\u001b[0m             \u001b[0murl\u001b[0m\u001b[0;34m=\u001b[0m\u001b[0mrequest\u001b[0m\u001b[0;34m.\u001b[0m\u001b[0murl\u001b[0m\u001b[0;34m,\u001b[0m\u001b[0;34m\u001b[0m\u001b[0;34m\u001b[0m\u001b[0m\n",
            "\u001b[0;32m/usr/local/lib/python3.8/dist-packages/requests/models.py\u001b[0m in \u001b[0;36mprepare\u001b[0;34m(self, method, url, headers, files, data, params, auth, cookies, hooks, json)\u001b[0m\n\u001b[1;32m    314\u001b[0m \u001b[0;34m\u001b[0m\u001b[0m\n\u001b[1;32m    315\u001b[0m         \u001b[0mself\u001b[0m\u001b[0;34m.\u001b[0m\u001b[0mprepare_method\u001b[0m\u001b[0;34m(\u001b[0m\u001b[0mmethod\u001b[0m\u001b[0;34m)\u001b[0m\u001b[0;34m\u001b[0m\u001b[0;34m\u001b[0m\u001b[0m\n\u001b[0;32m--> 316\u001b[0;31m         \u001b[0mself\u001b[0m\u001b[0;34m.\u001b[0m\u001b[0mprepare_url\u001b[0m\u001b[0;34m(\u001b[0m\u001b[0murl\u001b[0m\u001b[0;34m,\u001b[0m \u001b[0mparams\u001b[0m\u001b[0;34m)\u001b[0m\u001b[0;34m\u001b[0m\u001b[0;34m\u001b[0m\u001b[0m\n\u001b[0m\u001b[1;32m    317\u001b[0m         \u001b[0mself\u001b[0m\u001b[0;34m.\u001b[0m\u001b[0mprepare_headers\u001b[0m\u001b[0;34m(\u001b[0m\u001b[0mheaders\u001b[0m\u001b[0;34m)\u001b[0m\u001b[0;34m\u001b[0m\u001b[0;34m\u001b[0m\u001b[0m\n\u001b[1;32m    318\u001b[0m         \u001b[0mself\u001b[0m\u001b[0;34m.\u001b[0m\u001b[0mprepare_cookies\u001b[0m\u001b[0;34m(\u001b[0m\u001b[0mcookies\u001b[0m\u001b[0;34m)\u001b[0m\u001b[0;34m\u001b[0m\u001b[0;34m\u001b[0m\u001b[0m\n",
            "\u001b[0;32m/usr/local/lib/python3.8/dist-packages/requests/models.py\u001b[0m in \u001b[0;36mprepare_url\u001b[0;34m(self, url, params)\u001b[0m\n\u001b[1;32m    388\u001b[0m             \u001b[0merror\u001b[0m \u001b[0;34m=\u001b[0m \u001b[0merror\u001b[0m\u001b[0;34m.\u001b[0m\u001b[0mformat\u001b[0m\u001b[0;34m(\u001b[0m\u001b[0mto_native_string\u001b[0m\u001b[0;34m(\u001b[0m\u001b[0murl\u001b[0m\u001b[0;34m,\u001b[0m \u001b[0;34m'utf8'\u001b[0m\u001b[0;34m)\u001b[0m\u001b[0;34m)\u001b[0m\u001b[0;34m\u001b[0m\u001b[0;34m\u001b[0m\u001b[0m\n\u001b[1;32m    389\u001b[0m \u001b[0;34m\u001b[0m\u001b[0m\n\u001b[0;32m--> 390\u001b[0;31m             \u001b[0;32mraise\u001b[0m \u001b[0mMissingSchema\u001b[0m\u001b[0;34m(\u001b[0m\u001b[0merror\u001b[0m\u001b[0;34m)\u001b[0m\u001b[0;34m\u001b[0m\u001b[0;34m\u001b[0m\u001b[0m\n\u001b[0m\u001b[1;32m    391\u001b[0m \u001b[0;34m\u001b[0m\u001b[0m\n\u001b[1;32m    392\u001b[0m         \u001b[0;32mif\u001b[0m \u001b[0;32mnot\u001b[0m \u001b[0mhost\u001b[0m\u001b[0;34m:\u001b[0m\u001b[0;34m\u001b[0m\u001b[0;34m\u001b[0m\u001b[0m\n",
            "\u001b[0;31mMissingSchema\u001b[0m: Invalid URL 'Your url here': No schema supplied. Perhaps you meant http://Your url here?"
          ]
        }
      ],
      "source": [
        "import requests  \n",
        "\n",
        "print(your_url) #The URL of your choice.\n",
        "\n",
        "response = requests.get(your_url)  # Make a GET request to the URL.\n",
        "\n",
        "# Print status code (and associated text).\n",
        "print(f\"Request returned {response.status_code} : '{response.reason}'\")\n",
        "\n",
        "\n",
        "# Print data returned (parsing as JSON)\n",
        "your_movie = response.json()  \n",
        "\n",
        "import pprint\n",
        "pp = pprint.PrettyPrinter(indent=1)\n",
        "pp.pprint(your_movie)"
      ]
    },
    {
      "cell_type": "code",
      "execution_count": null,
      "metadata": {
        "id": "yKzT96KkzFhC"
      },
      "outputs": [],
      "source": [
        "#Find the ratings of your movie!\n",
        "\n",
        "your_movie['Your code here']"
      ]
    },
    {
      "cell_type": "code",
      "execution_count": null,
      "metadata": {
        "id": "xiTf-AfPzPIt"
      },
      "outputs": [],
      "source": [
        "#Find the writer of your movie!\n",
        "\n",
        "'Your code here'"
      ]
    },
    {
      "cell_type": "markdown",
      "metadata": {
        "id": "mzEXDyT599Cm"
      },
      "source": [
        "# 2. Current weather data\n",
        "\n",
        "In this example, you will see how to obtain real-time weather data on the city of your choice.\n",
        "\n",
        "> We will use [OpenWeather API](https://openweathermap.org/api). You can find documentation there.\n",
        "\n",
        "The process is relatively similar to the first example, and hopefully by now you will have understood the intuition. This will therefore be a more concise illustration."
      ]
    },
    {
      "cell_type": "markdown",
      "metadata": {
        "id": "QVrdMG7-CZMS"
      },
      "source": [
        "## Current weather in Lausanne\n",
        "\n",
        "We have already generated an API key: `APPID=c3b012a09cda741d210d8739c796c3da`\n",
        "\n",
        "The only parameters inputted here are the name of the city and the country code: `Lausanne,ch`.\n",
        "\n",
        "You could also input the latitude and longitude according to [the documentation](https://openweathermap.org/current).\n",
        "\n",
        "> The OpenWeather API is going to return the following `JSON`formatted data."
      ]
    },
    {
      "cell_type": "code",
      "execution_count": null,
      "metadata": {
        "id": "FB76ieSJJNqC"
      },
      "outputs": [],
      "source": [
        "url = ('https://api.openweathermap.org/data/2.5/weather?q=Lausanne,ch&APPID=c3b012a09cda741d210d8739c796c3da') #City of Lausanne, CH"
      ]
    },
    {
      "cell_type": "markdown",
      "metadata": {
        "id": "QO19KLlc7-Lu"
      },
      "source": [
        "We automated the input of the city and the country code for you:\n",
        "\n",
        "**Run the following code and input the corresponding request. Then press enter.**"
      ]
    },
    {
      "cell_type": "code",
      "execution_count": null,
      "metadata": {
        "id": "DnGP610g79ro"
      },
      "outputs": [],
      "source": [
        "url_city = input(\"Enter the city: \")"
      ]
    },
    {
      "cell_type": "code",
      "execution_count": null,
      "metadata": {
        "id": "csP5h9gg8krJ"
      },
      "outputs": [],
      "source": [
        "url_city = url_city.lower().capitalize()\n",
        "\n",
        "url_country = input(\"Enter the country code:\")"
      ]
    },
    {
      "cell_type": "code",
      "execution_count": null,
      "metadata": {
        "id": "2j9KeyNU9C2k"
      },
      "outputs": [],
      "source": [
        "url_country = url_country.lower()\n",
        "url_data = url_city+','+url_country\n",
        "\n",
        "url = ('https://api.openweathermap.org/data/2.5/weather?q={}&APPID=c3b012a09cda741d210d8739c796c3da').format(url_data)"
      ]
    },
    {
      "cell_type": "markdown",
      "metadata": {
        "id": "Gt2cYv2B-76Q"
      },
      "source": [
        "We can now repeat the same operation. We fetch the data from the API using the URL with the corresponding filters you just inputted."
      ]
    },
    {
      "cell_type": "code",
      "execution_count": null,
      "metadata": {
        "id": "6eLmKv9X-G0t"
      },
      "outputs": [],
      "source": [
        "import requests  # Import the requests library\n",
        "\n",
        "\n",
        "print(url)\n",
        "\n",
        "response = requests.get(url)  # Make a GET request to the URL.\n",
        "\n",
        "# Print status code (and associated text).\n",
        "print(f\"Request returned {response.status_code} : '{response.reason}'\")\n",
        "\n",
        "#Note: status 200 means the request was successful. Search online for documentation about request statuses.\n",
        "\n",
        "# Print data returned (parsing as JSON)\n",
        "payload = response.json()  # Parse `response.text` into JSON\n",
        "\n",
        "import pprint #This library makes the result look good.\n",
        "\n",
        "pp = pprint.PrettyPrinter(indent=1)\n",
        "pp.pprint(payload)"
      ]
    },
    {
      "cell_type": "markdown",
      "metadata": {
        "id": "zQY99f-oFIAf"
      },
      "source": [
        "_Note_: You can play with this request by changing the URL with the city of your choice."
      ]
    },
    {
      "cell_type": "code",
      "execution_count": null,
      "metadata": {
        "id": "X2vS-wAaFEn9"
      },
      "outputs": [],
      "source": [
        "#What is the temperature?\n",
        "print(type(payload['main']))\n",
        "\n",
        "main_info = payload['main']\n",
        "main_info"
      ]
    },
    {
      "cell_type": "code",
      "execution_count": null,
      "metadata": {
        "id": "ScV2ZFzwrsyX"
      },
      "outputs": [],
      "source": [
        "#The previous cell is a dictionary. You can directly obtain the temperature:\n",
        "payload['main']['temp']"
      ]
    },
    {
      "cell_type": "code",
      "execution_count": null,
      "metadata": {
        "id": "5B6hmLxlF4Un"
      },
      "outputs": [],
      "source": [
        "#You can also translate this data into a pandas DataFrame (cf. pandas walkthrough)\n",
        "import pandas as pd\n",
        "\n",
        "name = payload['name']\n",
        "main_index = []\n",
        "main_index.append(name)\n",
        "\n",
        "df_main = pd.DataFrame(main_info, index=main_index)\n",
        "df_main"
      ]
    },
    {
      "cell_type": "code",
      "execution_count": null,
      "metadata": {
        "id": "FXx9vFnTHvyN"
      },
      "outputs": [],
      "source": [
        "#Temperature is in Kelvin- let us translate into Celsius\n",
        "\n",
        "df_main[['temp', 'feels_like', 'temp_min', 'temp_max']] = df_main[['temp', 'feels_like', 'temp_min', 'temp_max']] - 273.15\n",
        "df_main"
      ]
    }
  ],
  "metadata": {
    "colab": {
      "authorship_tag": "ABX9TyN/B68bo1NjVDcINKAe4LBR",
      "include_colab_link": true,
      "provenance": []
    },
    "kernelspec": {
      "display_name": "base",
      "language": "python",
      "name": "python3"
    },
    "language_info": {
      "name": "python",
      "version": "3.9.15"
    },
    "vscode": {
      "interpreter": {
        "hash": "b0cc462c96df3621bcc58e01fadcdf9264a069c5c4bbf07201077bb349d3c6bf"
      }
    }
  },
  "nbformat": 4,
  "nbformat_minor": 0
}
