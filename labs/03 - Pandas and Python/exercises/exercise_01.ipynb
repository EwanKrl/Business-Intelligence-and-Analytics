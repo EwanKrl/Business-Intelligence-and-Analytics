{
  "cells": [
    {
      "cell_type": "markdown",
      "metadata": {
        "id": "view-in-github",
        "colab_type": "text"
      },
      "source": [
        "<a href=\"https://colab.research.google.com/github/michalis0/Business-Intelligence-and-Analytics/blob/master/labs/02%20-%20Pandas%20and%20Python/exercises/exercise_01.ipynb\" target=\"_parent\"><img src=\"https://colab.research.google.com/assets/colab-badge.svg\" alt=\"Open In Colab\"/></a>"
      ]
    },
    {
      "cell_type": "markdown",
      "metadata": {
        "id": "ILyU0L16vFm6"
      },
      "source": [
        "# Part 1\n",
        "\n",
        "\n"
      ]
    },
    {
      "cell_type": "code",
      "execution_count": null,
      "metadata": {
        "id": "8C3A0jwrvFm_"
      },
      "outputs": [],
      "source": [
        "import pandas as pd"
      ]
    },
    {
      "cell_type": "markdown",
      "metadata": {
        "id": "lhPJiZDYvFnK"
      },
      "source": [
        "##Question 1\n",
        "We will work on one dataset.\n",
        "With the function `pd.read_csv()`, load the file: `google-play-store-apps/googleplaystore_user_reviews.csv`.\n",
        "\n",
        "The URL you need is: https://media.githubusercontent.com/media/michalis0/Business-Intelligence-and-Analytics/master/data/google-play-store-apps/googleplaystore_user_reviews.csv\n",
        "\n",
        "Normally CSV files are separated by commas, but this one is separated by \";\". Use the argument `sep=\";\"` to let Pandas know that the values are separated by \";\"."
      ]
    },
    {
      "cell_type": "code",
      "execution_count": null,
      "metadata": {
        "id": "9-ArMjlRvFnM"
      },
      "outputs": [],
      "source": [
        "#Load the googleplaystore_user_reviews.csv file\n",
        "googleplaystore_user_reviews = pd.read_csv('''YOUR CODE HERE''', sep=';')"
      ]
    },
    {
      "cell_type": "markdown",
      "metadata": {
        "id": "nt17aKbovFnS"
      },
      "source": [
        "##Question 2\n",
        "Chek the data (googleplaystore_user_reviews) by using the following functions:\n",
        "* `.head()`(beginning of the list)\n",
        "* `.tail()` (end of the list)\n",
        "* `.columns` (column names)\n",
        "* `.index` (raw identifier)\n",
        "* `.dtypes` (column types)"
      ]
    },
    {
      "cell_type": "code",
      "execution_count": null,
      "metadata": {
        "collapsed": true,
        "id": "PueLvW0PvFnU",
        "scrolled": true
      },
      "outputs": [],
      "source": [
        "#Beginning of the list\n",
        "googleplaystore_user_reviews.head()"
      ]
    },
    {
      "cell_type": "code",
      "execution_count": null,
      "metadata": {
        "id": "lnnqISWG88he"
      },
      "outputs": [],
      "source": [
        "#End of the list\n",
        "googleplaystore_user_reviews'''YOUR CODE HERE'''"
      ]
    },
    {
      "cell_type": "code",
      "execution_count": null,
      "metadata": {
        "id": "g8GQJzHP88YP"
      },
      "outputs": [],
      "source": [
        "#Column names\n",
        "googleplaystore_user_reviews'''YOUR CODE HERE'''"
      ]
    },
    {
      "cell_type": "code",
      "execution_count": null,
      "metadata": {
        "id": "PMK_xp1b88Ng"
      },
      "outputs": [],
      "source": [
        "#Raw identifier\n",
        "'''YOUR CODE HERE'''"
      ]
    },
    {
      "cell_type": "code",
      "execution_count": null,
      "metadata": {
        "id": "3l4E7KP187sG"
      },
      "outputs": [],
      "source": [
        "#Column types\n",
        "'''YOUR CODE HERE'''"
      ]
    },
    {
      "cell_type": "markdown",
      "metadata": {
        "id": "cQIDsx8VDNps"
      },
      "source": [
        "##Question 3\n",
        "\n",
        "Remember that each column/attribute of our data may have different attribute types. Have a look at the following table to recall the different DataTypes in Pandas and Python (it is the same as in the walkthrough).\n",
        "\n",
        "| Pandas dtype  | Python type  | NumPy type|Usage\n",
        "| :--- | :--- | :--- | :--- |\n",
        "| object| str or mixed | string_, unicode_, mixed types| Text or mixed numeric and non_numeric values |\n",
        "| int 64| int| int_, int8, int16, int32, int64, uint8, uint18, uint32, uint64 | Integer numbers i.e. [1,2,3,...] |\n",
        "| float64| float| float_, float15, float32, float64 | Floating point numbers (They contain decimal points) |\n",
        "| bool| bool|bool_| True/False values|\n",
        "| datetime64 | NA | datetime64[ns]     | Date and time values  |\n",
        "| timedelta[ns] | NA  | NA| Differences between two datetime|\n",
        "| category | NA| NA| Finite list of text values|\n",
        "\n",
        "Use the following cells to convert each column to the required dtype:"
      ]
    },
    {
      "cell_type": "code",
      "execution_count": null,
      "metadata": {
        "id": "BmNiC4MpGbK7"
      },
      "outputs": [],
      "source": [
        "#Convert Sentiment to categorical\n",
        "googleplaystore_user_reviews['''YOUR CODE HERE'''] = googleplaystore_user_reviews['''YOUR CODE HERE'''].astype('''YOUR CODE HERE''')"
      ]
    },
    {
      "cell_type": "code",
      "execution_count": null,
      "metadata": {
        "id": "Y1RZksytGrrL"
      },
      "outputs": [],
      "source": [
        "#Sentiment_Polarity to numeric\n",
        "googleplaystore_user_reviews['''YOUR CODE HERE'''] = pd.to_numeric(googleplaystore_user_reviews['''YOUR CODE HERE'''], errors='coerce')"
      ]
    },
    {
      "cell_type": "code",
      "execution_count": null,
      "metadata": {
        "id": "GS362Z5VG50T"
      },
      "outputs": [],
      "source": [
        "#Sentiment_Subjectivity to numeric\n",
        "googleplaystore_user_reviews['''YOUR CODE HERE'''] = '''YOUR CODE HERE'''"
      ]
    },
    {
      "cell_type": "markdown",
      "metadata": {
        "id": "IsJwcCBpHcUk"
      },
      "source": [
        "Now lets have a look at the dtypes:"
      ]
    },
    {
      "cell_type": "code",
      "execution_count": null,
      "metadata": {
        "id": "jeUm-hIsHb7g"
      },
      "outputs": [],
      "source": [
        "#Column types (use .dtypes)\n",
        "'''YOUR CODE HERE'''"
      ]
    },
    {
      "cell_type": "markdown",
      "metadata": {
        "id": "2W0A_7b69dV-"
      },
      "source": [
        "# Part 2\n"
      ]
    },
    {
      "cell_type": "markdown",
      "metadata": {
        "id": "T0d2fZe2vFnx"
      },
      "source": [
        "##Question 4\n",
        "Note that there exist some null values. For each dataframe, count the number of null values by using: `.isnull()` and `.sum()`. Drop the null values if there exist. Print the shape of your dataframes before and after the cleaning process: `.shape`. How many data was deleted ?\n",
        "\n",
        "**Solution:**"
      ]
    },
    {
      "cell_type": "code",
      "execution_count": null,
      "metadata": {
        "id": "Yh4BS1SYvFny"
      },
      "outputs": [],
      "source": [
        "#First, we want to see the DataFrame's size (use .size)\n",
        "googleplaystore_user_reviews'''YOUR CODE HERE'''"
      ]
    },
    {
      "cell_type": "code",
      "execution_count": null,
      "metadata": {
        "id": "k-cGLkTS_8go"
      },
      "outputs": [],
      "source": [
        "#Let's count the number of null values per column (use .isnull() and .sum())\n",
        "googleplaystore_user_reviews'''YOUR CODE HERE'''"
      ]
    },
    {
      "cell_type": "code",
      "execution_count": null,
      "metadata": {
        "id": "tvRVINDk_6wn"
      },
      "outputs": [],
      "source": [
        "#Now we store the number of rows of the original Dataframe\n",
        "nb_rows = len('''YOUR CODE HERE''')"
      ]
    },
    {
      "cell_type": "code",
      "execution_count": null,
      "metadata": {
        "id": "T6LRC2XV_6qK"
      },
      "outputs": [],
      "source": [
        "#We can drop the rows that have a null value in them with .dropna()\n",
        "googleplaystore_user_reviews = googleplaystore_user_reviews'''YOUR CODE HERE'''"
      ]
    },
    {
      "cell_type": "code",
      "execution_count": null,
      "metadata": {
        "id": "6vtiw4fm_6jY"
      },
      "outputs": [],
      "source": [
        "#Take a look at the new DataFrame, without any null values with .head()\n",
        "'''YOUR CODE HERE'''"
      ]
    },
    {
      "cell_type": "code",
      "execution_count": null,
      "metadata": {
        "id": "R9r0Z9f6_6Uk"
      },
      "outputs": [],
      "source": [
        "#Check the size again, did it change?\n",
        "'''YOUR CODE HERE'''"
      ]
    },
    {
      "cell_type": "code",
      "execution_count": null,
      "metadata": {
        "id": "cgS-GSEKAC9z"
      },
      "outputs": [],
      "source": [
        "#How many rows did we delete? (remember what you stored before dropping the null values)\n",
        "print('We deleted', '''YOUR CODE HERE''', 'rows!')"
      ]
    },
    {
      "cell_type": "markdown",
      "metadata": {
        "id": "9QNGjUe_vFoB"
      },
      "source": [
        "##Question 5\n",
        "We will now apply some selections/filters on the `google_playstore_user_reviews.csv` DataFrame:\n",
        "\n",
        "* filter  the data reviews where the Sentiment_Subjectivity mean  > 0.5 , use: `grouby()`, `mean()` and `where()`  \n",
        "* select the 10 best reviewed apps, use `.sort_values()`  \n",
        "* select the genres that have the highest rating  mean: use `groupby()`, `mean()`and `sort_values()`\n",
        "    \n",
        "**Solution:**"
      ]
    },
    {
      "cell_type": "code",
      "execution_count": null,
      "metadata": {
        "id": "PCPiPyHE7Zu0"
      },
      "outputs": [],
      "source": [
        "#Take the mean of each App's Sentiment_Subjectivity\n",
        "grouped_mean = googleplaystore_user_reviews.groupby('''YOUR CODE HERE''')['''YOUR CODE HERE'''].mean()"
      ]
    },
    {
      "cell_type": "code",
      "execution_count": null,
      "metadata": {
        "id": "DKUEv32DAmD6"
      },
      "outputs": [],
      "source": [
        "#Only keep the Apps with a mean higher than 0.5\n",
        "grouped_mean_higher = grouped_mean.where('''YOUR CODE HERE''')\n",
        "#There are some rows with null values, drop them\n",
        "good_apps = grouped_mean_higher'''YOUR CODE HERE'''"
      ]
    },
    {
      "cell_type": "code",
      "execution_count": null,
      "metadata": {
        "id": "2je81tmIAlu0"
      },
      "outputs": [],
      "source": [
        "#Let's look at what we have (use .head())\n",
        "'''YOUR CODE HERE'''"
      ]
    },
    {
      "cell_type": "code",
      "execution_count": null,
      "metadata": {
        "id": "ynzzwQJ5-dNj"
      },
      "outputs": [],
      "source": [
        "#All that is left to do is to select the 10 Apps with the highest SentimentSubjectivity\n",
        "good_apps.sort_values(ascending='''YOUR CODE HERE''')[:10]"
      ]
    },
    {
      "cell_type": "markdown",
      "metadata": {
        "id": "urRiSZiV-9Dk"
      },
      "source": [
        "Once again, have a look at the different dtypes:\n",
        "\n",
        "| Pandas dtype  | Python type  | NumPy type|Usage\n",
        "| :--- | :--- | :--- | :--- |\n",
        "| object| str or mixed | string_, unicode_, mixed types| Text or mixed numeric and non_numeric values |\n",
        "| int 64| int| int_, int8, int16, int32, int64, uint8, uint18, uint32, uint64 | Integer numbers |\n",
        "| float64| float| float_, float15, float32, float64 | Floating point numbers |\n",
        "| bool| bool|bool_| True/False values|\n",
        "| datetime64 | NA | datetime64[ns]     | Date and time values  |\n",
        "| timedelta[ns] | NA  | NA| Differences between two datetime|\n",
        "| category | NA| NA| Finite list of text values|\n",
        "\n",
        "Using the argument `errors = 'coerce'`to deal with string values inside the column, convert each column to the required type.\n",
        "\n"
      ]
    }
  ],
  "metadata": {
    "colab": {
      "name": "Exercise_1.ipynb",
      "provenance": [],
      "include_colab_link": true
    },
    "kernelspec": {
      "display_name": "Python 3",
      "language": "python",
      "name": "python3"
    },
    "language_info": {
      "codemirror_mode": {
        "name": "ipython",
        "version": 3
      },
      "file_extension": ".py",
      "mimetype": "text/x-python",
      "name": "python",
      "nbconvert_exporter": "python",
      "pygments_lexer": "ipython3",
      "version": "3.7.6"
    }
  },
  "nbformat": 4,
  "nbformat_minor": 0
}