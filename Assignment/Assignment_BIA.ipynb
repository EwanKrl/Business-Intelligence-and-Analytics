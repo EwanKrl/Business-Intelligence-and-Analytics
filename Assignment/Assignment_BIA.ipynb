{
  "cells": [
    {
      "cell_type": "markdown",
      "metadata": {
        "id": "view-in-github",
        "colab_type": "text"
      },
      "source": [
        "<a href=\"https://colab.research.google.com/github/ahmadajal/BIA_assignment_2024/blob/main/Assignment_BIA.ipynb\" target=\"_parent\"><img src=\"https://colab.research.google.com/assets/colab-badge.svg\" alt=\"Open In Colab\"/></a>"
      ]
    },
    {
      "cell_type": "code",
      "execution_count": null,
      "id": "15dc4475-7f7d-4457-8762-bb031a0629b2",
      "metadata": {
        "id": "15dc4475-7f7d-4457-8762-bb031a0629b2"
      },
      "outputs": [],
      "source": [
        "# IMPORT YOUR LIBRARIES HERE\n",
        "import pandas as pd\n",
        "from sklearn.model_selection import train_test_split, GridSearchCV\n",
        "from sklearn.linear_model import LinearRegression, LogisticRegression, LogisticRegressionCV\n",
        "from sklearn.metrics import mean_squared_error, r2_score, confusion_matrix, classification_report\n",
        "from sklearn.preprocessing import OneHotEncoder, MinMaxScaler, StandardScaler\n",
        "from sklearn.metrics import r2_score, mean_absolute_error, mean_squared_error\n",
        "from sklearn.preprocessing import PolynomialFeatures\n",
        "from sklearn.neighbors import KNeighborsClassifier\n",
        "from sklearn.tree import DecisionTreeClassifier\n",
        "import numpy as np\n",
        "import matplotlib\n",
        "import matplotlib.pyplot as plt\n",
        "import seaborn as sns"
      ]
    },
    {
      "cell_type": "markdown",
      "id": "a844a8c0-078c-4946-8927-e570469c601c",
      "metadata": {
        "id": "a844a8c0-078c-4946-8927-e570469c601c"
      },
      "source": [
        "# Business and Intelligence Analytics personal assignment\n",
        "\n",
        "Welcome to the BIA personal assignment!\n",
        "\n",
        "You will have to implement regression and classification algorithms, applying these methods to the topics of agriculture, food, water, and health. More precisely, you will try to:\n",
        "- Predict crop yields using data on weather and fertilizer use.\n",
        "- Predict the potability of water using data on the mineral and micro-organisms content of water.\n",
        "\n",
        "Once you are done you have to submit your notebook on moodle. The deadline of the submission is on __May 19th at 23:59__.\n",
        "\n",
        "If there is need for further clarifications on the questions, after the assignment is released, we will update this file, so make sure you check the git repository for updates.\n",
        "\n",
        "Good luck!"
      ]
    },
    {
      "cell_type": "markdown",
      "id": "306ac928-a1e5-4dd7-8e62-b8108c22e5a9",
      "metadata": {
        "id": "306ac928-a1e5-4dd7-8e62-b8108c22e5a9"
      },
      "source": [
        "#1- Linear regression: predicting crop yields\n",
        "\n",
        "In 2022, between 735 million persons worldwide were suffering from hunger (see [SDG Goal 2](https://www.un.org/sustainabledevelopment/hunger/) Zero Hunger). Given the ongoing growth of the world population, it is imperative to comprehend crop yield at a global level in order to tackle food security issues and mitigate the effects of climate change.\n",
        "\n",
        "The Agricultural yield depends on weather conditions (rain, temperature, etc) and fertilizers use. Having precise information regarding the historical crop yield is critical for making informed decisions regarding agricultural risk management and future projections.\n",
        "\n",
        "Some publications on the topic of food:\n",
        "- [Threats to Nitrogen Fertilizer, Opportunities to Cultivate Sustainable Practices?](https://e4s.center/resources/reports/threats-to-nitrogen-fertilizer-opportunities-to-cultivate-sustainable-practices/)\n",
        "- [True cost of food as a lever to transform the Swiss food system](https://e4s.center/resources/reports/true-cost-of-food-as-a-lever-to-transform-the-swiss-food-system/)\n",
        "\n",
        "<img src='https://upload.wikimedia.org/wikipedia/commons/thumb/b/b7/Sustainable_Development_Goal_02ZeroHunger.svg/800px-Sustainable_Development_Goal_02ZeroHunger.svg.png' width=\"200\">\n",
        "\n",
        "We will use data obtained from the [FAO](http://www.fao.org/home/en/) (Food and Agriculture Organization) and [World Data Bank](https://data.worldbank.org/), and gathered in the [Crop Yield Prediction Dataset](https://www.kaggle.com/datasets/patelris/crop-yield-prediction-dataset).\n",
        "\n",
        "Our goal is to predict the crop yields using the _temperature_, _rain fall_, and _type of crops_.\n"
      ]
    },
    {
      "cell_type": "markdown",
      "id": "783579c9-3e8e-4b44-b95a-58179f897d40",
      "metadata": {
        "id": "783579c9-3e8e-4b44-b95a-58179f897d40"
      },
      "source": [
        "## 1.1 Load and Discover the dataset"
      ]
    },
    {
      "cell_type": "markdown",
      "id": "0beccfea-24ca-4c3f-92f1-c5a950b2cbce",
      "metadata": {
        "id": "0beccfea-24ca-4c3f-92f1-c5a950b2cbce"
      },
      "source": [
        "Load the data in a pandas dataframe. The url link is provided below. Display the first 10 observations and the types of data."
      ]
    },
    {
      "cell_type": "code",
      "execution_count": null,
      "id": "3e87e292-3eed-4193-ba24-60693606b433",
      "metadata": {
        "id": "3e87e292-3eed-4193-ba24-60693606b433"
      },
      "outputs": [],
      "source": [
        "url_yield = 'https://media.githubusercontent.com/media/michalis0/Business-Intelligence-and-Analytics/master/data/yield_df.csv'\n",
        "# YOUR CODE HERE\n"
      ]
    },
    {
      "cell_type": "markdown",
      "id": "a0916a03-2452-43da-9c5d-c5f43fddd8f2",
      "metadata": {
        "id": "a0916a03-2452-43da-9c5d-c5f43fddd8f2"
      },
      "source": [
        "#### Question 1\n",
        "Print the list of countries (`Area`) and years available in the dataset. How many unique countries do we have in this dataset?"
      ]
    },
    {
      "cell_type": "code",
      "execution_count": null,
      "id": "af13bb43-fe6f-49ec-b2a4-2faee5cee321",
      "metadata": {
        "id": "af13bb43-fe6f-49ec-b2a4-2faee5cee321"
      },
      "outputs": [],
      "source": [
        "# YOUR CODE HERE\n",
        "\n"
      ]
    },
    {
      "cell_type": "markdown",
      "id": "5c92f5c7-b11c-428b-9c7c-93406aa3f413",
      "metadata": {
        "id": "5c92f5c7-b11c-428b-9c7c-93406aa3f413"
      },
      "source": [
        "#### Question 2\n",
        "Print the list of unique items in the `Item` column of the dataset. You should obtain a list of 10 crops. Which corp is the __most frequent__ in this dataset?"
      ]
    },
    {
      "cell_type": "code",
      "execution_count": null,
      "id": "81c32aba-b1fa-46c6-b1e6-0582ab9ca55e",
      "metadata": {
        "id": "81c32aba-b1fa-46c6-b1e6-0582ab9ca55e"
      },
      "outputs": [],
      "source": [
        "# YOUR CODE HERE\n"
      ]
    },
    {
      "cell_type": "markdown",
      "source": [
        "#### Question 3\n",
        "We Are interested to know the total yield of \"Wheat\" in each country in the year 2010. Create a new dataframe that contains the total (sum) of `hg/ha_yield` for each country in the year 2010. Which country had the __highest yield of Wheat__ in the year 2010?"
      ],
      "metadata": {
        "id": "iSawmHxTmuDN"
      },
      "id": "iSawmHxTmuDN"
    },
    {
      "cell_type": "code",
      "source": [
        "# YOUR CODE HERE"
      ],
      "metadata": {
        "id": "gAccKnVzmxRF"
      },
      "id": "gAccKnVzmxRF",
      "execution_count": null,
      "outputs": []
    },
    {
      "cell_type": "markdown",
      "id": "b0118e44-ca7c-4a81-998f-c8bccf4248e2",
      "metadata": {
        "id": "b0118e44-ca7c-4a81-998f-c8bccf4248e2"
      },
      "source": [
        "Display summary statistics for the columns: `hg/ha_yield`, `average_rain_fall_mm_per_year`, `pesticides_tonnes`,`avg_temp`. How many observations do we have?\n",
        "\n",
        "*Hint:* You can extract the columns `hg/ha_yield`, `average_rain_fall_mm_per_year`, `pesticides_tonnes`,`avg_temp` in a new dataframe since we will reuse it in the following questions. hg/ha_yield indicates how many hectograms (hundreds of grams) of crop were produced on one hectare of land."
      ]
    },
    {
      "cell_type": "code",
      "execution_count": null,
      "id": "4e212211-7d8d-41e7-a20f-9bcaadf9122e",
      "metadata": {
        "id": "4e212211-7d8d-41e7-a20f-9bcaadf9122e"
      },
      "outputs": [],
      "source": [
        "# YOUR CODE HERE\n"
      ]
    },
    {
      "cell_type": "markdown",
      "id": "8a995d1b-a04b-4e57-bfd9-26db5a4a0f53",
      "metadata": {
        "id": "8a995d1b-a04b-4e57-bfd9-26db5a4a0f53"
      },
      "source": [
        "#### Question 4\n",
        "Display a heatmap of the correlation matrix between the columns: `hg/ha_yield`, `average_rain_fall_mm_per_year`, `pesticides_tonnes`, `avg_temp`. Which pair of varibales (columns) have the __highest correlation__?"
      ]
    },
    {
      "cell_type": "code",
      "execution_count": null,
      "id": "b13cf896-70a1-45e6-b19a-7a7d8e9c0ae9",
      "metadata": {
        "id": "b13cf896-70a1-45e6-b19a-7a7d8e9c0ae9"
      },
      "outputs": [],
      "source": [
        "# YOUR CODE HERE\n"
      ]
    },
    {
      "cell_type": "markdown",
      "id": "91e4d566-d5e5-4179-8807-cf7f2eb48bf9",
      "metadata": {
        "id": "91e4d566-d5e5-4179-8807-cf7f2eb48bf9"
      },
      "source": [
        "Create a boxplot of the columns: `hg/ha_yield`, `average_rain_fall_mm_per_year`, `pesticides_tonnes`, `avg_temp`."
      ]
    },
    {
      "cell_type": "code",
      "execution_count": null,
      "id": "8f14fddf-5f93-44d3-9d2d-c4a35a3b2871",
      "metadata": {
        "id": "8f14fddf-5f93-44d3-9d2d-c4a35a3b2871"
      },
      "outputs": [],
      "source": [
        "# YOUR CODE HERE\n"
      ]
    },
    {
      "cell_type": "markdown",
      "id": "f3e878bc-9a34-4875-8771-f6521c2f1b66",
      "metadata": {
        "id": "f3e878bc-9a34-4875-8771-f6521c2f1b66"
      },
      "source": [
        "- Feel free to pursue your exploration to better understand your dataset. Although not graded, this might help you better understanding the problem and answer the following questions."
      ]
    },
    {
      "cell_type": "code",
      "execution_count": null,
      "id": "7ef645ef-3117-490f-91fe-083e2f96cc97",
      "metadata": {
        "id": "7ef645ef-3117-490f-91fe-083e2f96cc97"
      },
      "outputs": [],
      "source": [
        "# YOUR CODE HERE\n"
      ]
    },
    {
      "cell_type": "markdown",
      "id": "9741f056-f011-469c-9527-d1d016ddce83",
      "metadata": {
        "id": "9741f056-f011-469c-9527-d1d016ddce83"
      },
      "source": [
        "## 1.2: Multivariate regression\n",
        "\n",
        "We will try to predict the crop yields (column `hg/ha_yield`) using the features: `Item`, `average_rain_fall_mm_per_year`, `pesticides_tonnes`, and `avg_temp`.\n",
        "\n",
        "Extract your features and target variables, i.e., X and y variables."
      ]
    },
    {
      "cell_type": "code",
      "execution_count": null,
      "id": "4f218896-30f9-41d9-95a8-7550ab0fcdb6",
      "metadata": {
        "id": "4f218896-30f9-41d9-95a8-7550ab0fcdb6"
      },
      "outputs": [],
      "source": [
        "# YOUR CODE HERE\n"
      ]
    },
    {
      "cell_type": "markdown",
      "id": "9511b15e-2147-48c7-82e0-24bf45bd194e",
      "metadata": {
        "id": "9511b15e-2147-48c7-82e0-24bf45bd194e"
      },
      "source": [
        "Encode the column `Item` using `OneHotEncoder`. After doing the one-hot encoding, you have to remove the `Item` column and add the columns resulting from the one-hot encoding to the dataframe.\n",
        "\n",
        "__Note:__ TO perform one-hot encoding you can either use sklearn `OneHotEncoder` or the `getdummies` method from pandas."
      ]
    },
    {
      "cell_type": "code",
      "source": [
        "# YOUR CODE HERE\n",
        "\n"
      ],
      "metadata": {
        "id": "gwXJmLcSHYj8"
      },
      "id": "gwXJmLcSHYj8",
      "execution_count": null,
      "outputs": []
    },
    {
      "cell_type": "markdown",
      "id": "fccaf94d-c35f-46b8-ae64-456446f93bf7",
      "metadata": {
        "id": "fccaf94d-c35f-46b8-ae64-456446f93bf7"
      },
      "source": [
        "Split between training and test set.\n",
        "\n",
        "__Important:__ To ensure reproducibility, you have to use the following values for the `train_test_split` function:\n",
        "\n",
        "`test_size=0.2`, `random_state=42`, `shuffle=True`"
      ]
    },
    {
      "cell_type": "code",
      "execution_count": null,
      "id": "0ebc8bd9-7d91-4b60-a545-dcc254897368",
      "metadata": {
        "id": "0ebc8bd9-7d91-4b60-a545-dcc254897368"
      },
      "outputs": [],
      "source": [
        "# YOUR CODE HERE\n"
      ]
    },
    {
      "cell_type": "markdown",
      "id": "99c27197-47b0-4d46-a65b-8226d0accef8",
      "metadata": {
        "id": "99c27197-47b0-4d46-a65b-8226d0accef8"
      },
      "source": [
        "Rescale both the features of the training and test datasets (`X_train`, `X_test`) and also the target values for training and test (`y_train`, `y_test`) using `MinMaxScaler`."
      ]
    },
    {
      "cell_type": "code",
      "source": [
        "# YOUR CODE HERE\n"
      ],
      "metadata": {
        "id": "_EW0qnsRHdCs"
      },
      "id": "_EW0qnsRHdCs",
      "execution_count": null,
      "outputs": []
    },
    {
      "cell_type": "markdown",
      "id": "d62901f2-e2c9-46f9-bffe-0d0f431a0f1d",
      "metadata": {
        "id": "d62901f2-e2c9-46f9-bffe-0d0f431a0f1d"
      },
      "source": [
        "Build and train a multivariate linear regression model."
      ]
    },
    {
      "cell_type": "code",
      "execution_count": null,
      "id": "fb27386b-b84e-4c51-9445-6d6712178d15",
      "metadata": {
        "id": "fb27386b-b84e-4c51-9445-6d6712178d15"
      },
      "outputs": [],
      "source": [
        "# YOUR CODE HERE\n",
        "\n"
      ]
    },
    {
      "cell_type": "markdown",
      "id": "b52fa49c-f2a9-4c43-8170-80ef1d6f3326",
      "metadata": {
        "id": "b52fa49c-f2a9-4c43-8170-80ef1d6f3326"
      },
      "source": [
        "#### Question 5\n",
        "\n",
        "What is the $R^2$, mean absolute error, and mean square error on the test set?\n",
        "\n",
        "__Important:__ To answer the corresponding question in the quiz correctly, you have to follow the above steps (one-hot encoding, train-test split with the given parameters, and min-max rescaling) exactly as instructed."
      ]
    },
    {
      "cell_type": "code",
      "execution_count": null,
      "id": "8ac40095-701c-47d3-81ca-06e6740bd439",
      "metadata": {
        "id": "8ac40095-701c-47d3-81ca-06e6740bd439"
      },
      "outputs": [],
      "source": [
        "# YOUR CODE HERE\n"
      ]
    },
    {
      "cell_type": "markdown",
      "source": [
        "#### Question 6\n",
        "Now, we would like to observe the effect of removing some of the features from the training on the performance of the linear regression model. Train 4 different linear regressions using the 4 datasets below. Each dataset only has a subset of the features:\n",
        "- `average_rain_fall_mm_per_year`, `pesticides_tonnes`,`avg_temp`\n",
        "- `pesticides_tonnes`,`avg_temp`\n",
        "- `average_rain_fall_mm_per_year`,`avg_temp`\n",
        "- `average_rain_fall_mm_per_year`, `pesticides_tonnes`\n",
        "\n",
        "Make sure that you split each dataset to train and test using the same parameters (`test_size=0.2`, `random_state=42`, `shuffle=True`) and rescale the features and the target variable using min-max scaler. Training the linear regression on which of the subsets of the features leads to the __smallest mean-squared error__?"
      ],
      "metadata": {
        "id": "YamCTliTEoY6"
      },
      "id": "YamCTliTEoY6"
    },
    {
      "cell_type": "code",
      "source": [
        "# YOUR CODE HERE\n",
        "\n",
        "\n",
        "\n",
        "\n"
      ],
      "metadata": {
        "id": "bhvqKW5LEq6b"
      },
      "id": "bhvqKW5LEq6b",
      "execution_count": null,
      "outputs": []
    },
    {
      "cell_type": "markdown",
      "source": [
        "## 1.3 Polynomial features regression\n",
        "\n",
        "\n",
        "Next, We will try to improve the performance of our model using Polynomial Features. We will only use the numerical features in this part, i.e., `average_rain_fall_mm_per_year`, `pesticides_tonnes`,`avg_temp`.\n",
        "\n",
        "Write a function that gets as inputs the degree of polynomial features (an integer), the training and test sets (features and target variables), and return the mean absolute error and mean square error of a polynomial feature regression on the test set.\n",
        "\n",
        "*Hint*: Your function should transform your training and test set to integrate polynomial features, then train your model, and then calculate predictions on the test set and return error metrics.\n",
        "\n",
        "*Hint*: You have to use the `PolynomialFeatures` class from sklearn."
      ],
      "metadata": {
        "id": "ezhC3-a6a3lo"
      },
      "id": "ezhC3-a6a3lo"
    },
    {
      "cell_type": "code",
      "source": [
        "# YOUR CODE HERE\n",
        "\n"
      ],
      "metadata": {
        "id": "qidGKsUsbUlZ"
      },
      "id": "qidGKsUsbUlZ",
      "execution_count": null,
      "outputs": []
    },
    {
      "cell_type": "markdown",
      "source": [
        "#### Question 7\n",
        "\n",
        "Run the polynomial regression models with degrees ranging from 2 to 6, i.e., in Python `range(2, 7)`. Use the training and test set you build in the above section or perform the split again using the parameters `test_size=0.2`, `random_state=42`, `shuffle=True`. Remember that for this part, You only have to use the features `average_rain_fall_mm_per_year`, `pesticides_tonnes`,`avg_temp`. Which polynomial degree results in the smallest mean squared error on the test set?"
      ],
      "metadata": {
        "id": "we-QuEDZbX7L"
      },
      "id": "we-QuEDZbX7L"
    },
    {
      "cell_type": "code",
      "source": [
        "# YOUR CODE HERE\n"
      ],
      "metadata": {
        "id": "CQoXU-HIbi0q"
      },
      "id": "CQoXU-HIbi0q",
      "execution_count": null,
      "outputs": []
    },
    {
      "cell_type": "markdown",
      "id": "d08235a6-27ec-45b7-9adc-0eea440b6b02",
      "metadata": {
        "id": "d08235a6-27ec-45b7-9adc-0eea440b6b02"
      },
      "source": [
        "# 2. Classification\n",
        "\n",
        "Access to safe drinking-water is essential to health, a basic human right and a component of effective policy for health protection. However, for at least 3 billion people, the quality of the water they depend on is unknown due to a lack of monitoring (see [SDG Goal 6](https://sdgs.un.org/goals/goal6) \"Ensure availability and sustainable management of water and sanitation for all\").\n",
        "\n",
        "<img src='https://upload.wikimedia.org/wikipedia/commons/thumb/8/87/Sustainable_Development_Goal_6.png/800px-Sustainable_Development_Goal_6.png' width=\"200\">\n",
        "\n",
        "We will use data from the [Water Quality](https://www.kaggle.com/datasets/mssmartypants/water-quality) dataset to try to predict whether the water is safe to drink depending on the concentration of various minerals and microorganisms. Check the webpage to read a description of the features and get a better understanding of our problem."
      ]
    },
    {
      "cell_type": "markdown",
      "id": "c15fbefb-e6b7-47ad-aaf0-d411c82a84f4",
      "metadata": {
        "id": "c15fbefb-e6b7-47ad-aaf0-d411c82a84f4"
      },
      "source": [
        "## 2.1 Load and Discover the dataset"
      ]
    },
    {
      "cell_type": "markdown",
      "id": "9e484596-0a73-4b6a-a5c5-8a8cd02f8ac2",
      "metadata": {
        "id": "9e484596-0a73-4b6a-a5c5-8a8cd02f8ac2"
      },
      "source": [
        "Load the data in a pandas dataframe. The url link is provided below. Display the first 10 observations and the types of data"
      ]
    },
    {
      "cell_type": "code",
      "execution_count": null,
      "id": "2b92e6a4-30b0-44b4-b986-9b5d1c472842",
      "metadata": {
        "id": "2b92e6a4-30b0-44b4-b986-9b5d1c472842"
      },
      "outputs": [],
      "source": [
        "url_water = 'https://media.githubusercontent.com/media/michalis0/Business-Intelligence-and-Analytics/master/data/waterQuality1.csv'\n",
        "\n",
        "# YOUR CODE HERE\n"
      ]
    },
    {
      "cell_type": "markdown",
      "id": "61c68ed6-2ecc-4c1a-9dad-f089e34e532d",
      "metadata": {
        "id": "61c68ed6-2ecc-4c1a-9dad-f089e34e532d"
      },
      "source": [
        "#### Question 8\n",
        "Display the correlation heatmap of the columns of this dataset. Which feature in this dataset has the __highest correlation__ with the `is_safe` feature?\n",
        "\n",
        "*Hint*: You do not necessarily need to look at the heatmap plot to compare the correlation values. You can compare the correlation values by directly looking at the correlation dataframe."
      ]
    },
    {
      "cell_type": "code",
      "source": [
        "# YOUR CODE HERE\n"
      ],
      "metadata": {
        "id": "Ffcaonj4csqC"
      },
      "id": "Ffcaonj4csqC",
      "execution_count": null,
      "outputs": []
    },
    {
      "cell_type": "markdown",
      "id": "42054742-c2fb-4976-b401-ea6830ea833f",
      "metadata": {
        "id": "42054742-c2fb-4976-b401-ea6830ea833f"
      },
      "source": [
        "Feel free to pursue your exploration to better understand your dataset. Although not graded, this might help you better understanding the problem and answer the following questions."
      ]
    },
    {
      "cell_type": "code",
      "execution_count": null,
      "id": "e1892050-1f1e-42d5-ad07-32fe0910bf01",
      "metadata": {
        "id": "e1892050-1f1e-42d5-ad07-32fe0910bf01"
      },
      "outputs": [],
      "source": [
        "# YOUR CODE HERE\n"
      ]
    },
    {
      "cell_type": "markdown",
      "id": "b3071c9e-1801-4e27-9a4c-8893ac08ef03",
      "metadata": {
        "id": "b3071c9e-1801-4e27-9a4c-8893ac08ef03"
      },
      "source": [
        "## 2.2 Preprocessing"
      ]
    },
    {
      "cell_type": "markdown",
      "id": "6522cf94-1f4f-497e-9015-d60f143a47e4",
      "metadata": {
        "id": "6522cf94-1f4f-497e-9015-d60f143a47e4"
      },
      "source": [
        "Our goal in this section is to predict the class \"is_safe\", using all the other features."
      ]
    },
    {
      "cell_type": "markdown",
      "id": "cb8282bf-987f-4409-baaf-39610e66712b",
      "metadata": {
        "id": "cb8282bf-987f-4409-baaf-39610e66712b"
      },
      "source": [
        "Extract the features and the target variable X and y. How many observations do we have of class 0 and of class 1? What is the base rate for this classification problem?"
      ]
    },
    {
      "cell_type": "code",
      "execution_count": null,
      "id": "218d4647-0200-4998-8b5d-5de08fe181a1",
      "metadata": {
        "id": "218d4647-0200-4998-8b5d-5de08fe181a1"
      },
      "outputs": [],
      "source": [
        "# YOUR CODE HERE\n"
      ]
    },
    {
      "cell_type": "markdown",
      "id": "d39e9c21-ba17-4627-b467-22a14b4cd7fb",
      "metadata": {
        "id": "d39e9c21-ba17-4627-b467-22a14b4cd7fb"
      },
      "source": [
        "Split the dataset into training and test sets.\n",
        "\n",
        "__Important__: Use the following values for the train_test_split function: `test_size=0.2`, `random_state=42`, `shuffle=True`. Use the `stratify` argument and set it equal to the y (target variable) to ensure a balanced split of target labels between the training and test sets."
      ]
    },
    {
      "cell_type": "code",
      "execution_count": null,
      "id": "a5898455-ac15-4eb2-9d48-6c058f191131",
      "metadata": {
        "id": "a5898455-ac15-4eb2-9d48-6c058f191131"
      },
      "outputs": [],
      "source": [
        "# YOUR CODE HERE\n"
      ]
    },
    {
      "cell_type": "markdown",
      "id": "7ea3208e-e021-4e0e-90f8-f6c6eb81c02a",
      "metadata": {
        "id": "7ea3208e-e021-4e0e-90f8-f6c6eb81c02a"
      },
      "source": [
        "Rescale the features using `StandardScaler`."
      ]
    },
    {
      "cell_type": "code",
      "execution_count": null,
      "id": "8f1b4cb5-1656-4353-8639-5a8a378f5cef",
      "metadata": {
        "id": "8f1b4cb5-1656-4353-8639-5a8a378f5cef"
      },
      "outputs": [],
      "source": [
        "# YOUR CODE HERE\n"
      ]
    },
    {
      "cell_type": "markdown",
      "id": "c1a78d5a-7e57-49a3-8f15-7fa6f15e5027",
      "metadata": {
        "id": "c1a78d5a-7e57-49a3-8f15-7fa6f15e5027"
      },
      "source": [
        "## 2.3 Logistic Regression"
      ]
    },
    {
      "cell_type": "markdown",
      "id": "fe653332-9ff8-4ad6-a5ab-4e438a7d4f14",
      "metadata": {
        "id": "fe653332-9ff8-4ad6-a5ab-4e438a7d4f14"
      },
      "source": [
        "Train a logistic regression classifier. Set the following values for the arguments of the Logistic Regression class:\n",
        "\n",
        "```penalty='l2', solver='lbfgs', max_iter=1000, random_state=42```"
      ]
    },
    {
      "cell_type": "code",
      "execution_count": null,
      "id": "7cadc026-ffb9-4aea-b541-674127da7e3c",
      "metadata": {
        "id": "7cadc026-ffb9-4aea-b541-674127da7e3c"
      },
      "outputs": [],
      "source": [
        "# YOUR CODE HERE\n"
      ]
    },
    {
      "cell_type": "markdown",
      "id": "a4cb3a09-4c5e-4e89-84fe-aedfe7df7fc1",
      "metadata": {
        "id": "a4cb3a09-4c5e-4e89-84fe-aedfe7df7fc1"
      },
      "source": [
        "#### Question 10\n",
        "Compute the accuracy on the training and test set. Is the test accuracy better than the base rate?\n",
        "\n",
        "__Important__: to answer this question correctly on Moodle quiz, you have to precisely follow the above instructions for train-test splitting and training the model (Use the values provided for the arguments)."
      ]
    },
    {
      "cell_type": "code",
      "execution_count": null,
      "id": "a716618f-ed45-49d1-8f86-fb000e7304ac",
      "metadata": {
        "id": "a716618f-ed45-49d1-8f86-fb000e7304ac"
      },
      "outputs": [],
      "source": [
        "# YOUR CODE HERE\n"
      ]
    },
    {
      "cell_type": "markdown",
      "id": "e70c2ae2-4659-4ae0-a79a-504b3c76443f",
      "metadata": {
        "id": "e70c2ae2-4659-4ae0-a79a-504b3c76443f"
      },
      "source": [
        "#### Question 11\n",
        "\n",
        "Plot a heatmap of the confusion matrix you compute for the predictions on\n",
        "the test data. Class 1 is the positive class. How many false positive did we obtain?"
      ]
    },
    {
      "cell_type": "code",
      "execution_count": null,
      "id": "5eac357c-07e3-416e-8a25-e36991a65a70",
      "metadata": {
        "id": "5eac357c-07e3-416e-8a25-e36991a65a70"
      },
      "outputs": [],
      "source": [
        "# YOUR CODE HERE\n"
      ]
    },
    {
      "cell_type": "markdown",
      "id": "be0dd998-c956-4728-9075-34cb13eeee1e",
      "metadata": {
        "id": "be0dd998-c956-4728-9075-34cb13eeee1e"
      },
      "source": [
        "Train a logistic regression classifier with cross-validation. Use 5 folds and 9 values in the logsclae between $10^{-4}$ and $10^4$ for the regularizer parameter. For the rest of the arguments, we use the same values as we used for the logistic regression with no cross validation.\n",
        "\n",
        "__Important:__ Set the following values for the arguments:\n",
        "```\n",
        "penalty='l2', solver='lbfgs', max_iter=1000, random_state=42, cv=5, Cs=*9*\n",
        "```"
      ]
    },
    {
      "cell_type": "code",
      "execution_count": null,
      "id": "f345bab1-5985-401f-8141-f01198cb1028",
      "metadata": {
        "id": "f345bab1-5985-401f-8141-f01198cb1028"
      },
      "outputs": [],
      "source": [
        "# YOUR CODE HERE\n"
      ]
    },
    {
      "cell_type": "markdown",
      "source": [
        "#### Question 12\n",
        "\n",
        "What is the value of the regularizer parameter for the best Logistic Regression model? What is the accuracy of the best model on the test data?"
      ],
      "metadata": {
        "id": "_-7axtzAV0PW"
      },
      "id": "_-7axtzAV0PW"
    },
    {
      "cell_type": "code",
      "source": [
        " # YOUR CODE HERE"
      ],
      "metadata": {
        "id": "jEGKVoakTWR1"
      },
      "id": "jEGKVoakTWR1",
      "execution_count": null,
      "outputs": []
    },
    {
      "cell_type": "markdown",
      "id": "c8755d13-e60d-47a0-8f1b-da6533c7d09a",
      "metadata": {
        "id": "c8755d13-e60d-47a0-8f1b-da6533c7d09a"
      },
      "source": [
        "Using the sklearn `classification_report` function, compute the precision, recall, and f1 score of class 1 and class 0 for the best model on the test data?"
      ]
    },
    {
      "cell_type": "code",
      "execution_count": null,
      "id": "f534e8c8-e260-44a5-a919-87a2b5766ee7",
      "metadata": {
        "id": "f534e8c8-e260-44a5-a919-87a2b5766ee7"
      },
      "outputs": [],
      "source": [
        "# YOUR CODE HERE\n"
      ]
    },
    {
      "cell_type": "markdown",
      "id": "59c37554-92a3-44b3-83ec-39fd76a16b39",
      "metadata": {
        "id": "59c37554-92a3-44b3-83ec-39fd76a16b39"
      },
      "source": [
        "## 2.4 KNN classifier"
      ]
    },
    {
      "cell_type": "markdown",
      "id": "3e829a37-268e-4310-9b51-d868020e1488",
      "metadata": {
        "id": "3e829a37-268e-4310-9b51-d868020e1488"
      },
      "source": [
        "Train a KNN classifier on the training dataset. Use the following values for the arguments of the KNN classifier:\n",
        "```\n",
        "n_neighbors=7, p=2, weights='uniform', algorithm=\"kd_tree\"\n",
        "```"
      ]
    },
    {
      "cell_type": "code",
      "execution_count": null,
      "id": "2ead0216-3239-4a1b-9bc3-00f8601628a4",
      "metadata": {
        "id": "2ead0216-3239-4a1b-9bc3-00f8601628a4"
      },
      "outputs": [],
      "source": [
        "# YOUR CODE HERE\n"
      ]
    },
    {
      "cell_type": "markdown",
      "id": "63b12db0-a203-4c0e-8976-7e4035a6ea8e",
      "metadata": {
        "id": "63b12db0-a203-4c0e-8976-7e4035a6ea8e"
      },
      "source": [
        "#### Question 13\n",
        "Use `GridSearchCV` to find the best hyper-parameters for your KNN model. Use values between 1 and 10 for `n_neighbors` argument and use either 'uniform' or 'distance' for the `weights` argument. Use a 5-fold cross validation. This translate to the following values for the arguments of the `GridSearchCV`:\n",
        "```\n",
        "param_grid={\"n_neighbors\": range(1, 11), \"weights\":[\"uniform\", \"distance\"]}, cv=5\n",
        "```\n",
        "\n",
        "What is the accuracy of the best KNN model on the test data?"
      ]
    },
    {
      "cell_type": "code",
      "execution_count": null,
      "id": "9c99ee6b-c812-4672-9ce5-a98c79a25c67",
      "metadata": {
        "id": "9c99ee6b-c812-4672-9ce5-a98c79a25c67"
      },
      "outputs": [],
      "source": [
        "# YOUR CODE HERE\n"
      ]
    },
    {
      "cell_type": "markdown",
      "source": [
        "#### Question 14\n",
        "\n",
        "What are the `n_neighbors` and `weights` values for the best KNN model?"
      ],
      "metadata": {
        "id": "XgOI9wv_iOmm"
      },
      "id": "XgOI9wv_iOmm"
    },
    {
      "cell_type": "code",
      "source": [
        "# YOUR CODE HERE"
      ],
      "metadata": {
        "id": "_DJAtH7-h5YA"
      },
      "id": "_DJAtH7-h5YA",
      "execution_count": null,
      "outputs": []
    },
    {
      "cell_type": "markdown",
      "id": "0b09b651-b03a-4cfc-b514-a823c6914ca5",
      "metadata": {
        "id": "0b09b651-b03a-4cfc-b514-a823c6914ca5"
      },
      "source": [
        "Plot a heatmap of the confusion matrix on the test set for the best KNN model. Using the sklearn `classification_report` function, compute the accuracy of the best KNN model on the test set as well as its precision, recall, and f1 score for both class 1 and 0."
      ]
    },
    {
      "cell_type": "code",
      "source": [
        "# YOUR CODE HERE"
      ],
      "metadata": {
        "id": "0BaukNUOjCf9"
      },
      "id": "0BaukNUOjCf9",
      "execution_count": null,
      "outputs": []
    },
    {
      "cell_type": "markdown",
      "id": "45dc258a-d7cb-46da-a8cb-c3749a6bbe03",
      "metadata": {
        "id": "45dc258a-d7cb-46da-a8cb-c3749a6bbe03"
      },
      "source": [
        "## 2.5 Decision Trees"
      ]
    },
    {
      "cell_type": "markdown",
      "id": "b267fafa-a5b4-4759-a6ec-9b95ef00e3ff",
      "metadata": {
        "id": "b267fafa-a5b4-4759-a6ec-9b95ef00e3ff"
      },
      "source": [
        "Train a Decision Tree classifier on the trainig data. Use the following values for the arguments of the decision tree:\n",
        "```\n",
        "criterion=\"gini\", max_depth=3, random_state=42\n",
        "```"
      ]
    },
    {
      "cell_type": "code",
      "execution_count": null,
      "id": "b6ce7ca3-5d8a-4e8a-b1b2-f310847373fb",
      "metadata": {
        "id": "b6ce7ca3-5d8a-4e8a-b1b2-f310847373fb"
      },
      "outputs": [],
      "source": [
        "# YOUR CODE HERE\n"
      ]
    },
    {
      "cell_type": "markdown",
      "id": "aacfc59f-7aa0-4030-9ef0-58a051be89e7",
      "metadata": {
        "id": "aacfc59f-7aa0-4030-9ef0-58a051be89e7"
      },
      "source": [
        "#### Question 15\n",
        "Use `GridSearchCV` to find the best hyper-parameters for your decision tree model. Use values between 1 and 7 for `max_depth` argument and use either 'gini' or 'entropy' for the `criterion` argument. Use a 5-fold cross validation. This translate to the following values for the arguments of the `GridSearchCV`:\n",
        "```\n",
        "param_grid={\"max_depth\": range(1, 8), \"criterion\":[\"gini\", \"entropy\"]}, cv=5\n",
        "```\n",
        "\n",
        "What is the accuracy of the best decision tree model on the test data?\n"
      ]
    },
    {
      "cell_type": "code",
      "execution_count": null,
      "id": "abab96a6-d754-4e5b-9e8c-f756760a2f88",
      "metadata": {
        "id": "abab96a6-d754-4e5b-9e8c-f756760a2f88"
      },
      "outputs": [],
      "source": [
        "# YOUR CODE HERE\n"
      ]
    },
    {
      "cell_type": "markdown",
      "source": [
        "#### Question 16\n",
        "What are 'criterion' and 'max_depth' values for the best decision tree model?\n"
      ],
      "metadata": {
        "id": "zyg92hKxtTRl"
      },
      "id": "zyg92hKxtTRl"
    },
    {
      "cell_type": "code",
      "source": [
        "# YOUR CODE HERE\n"
      ],
      "metadata": {
        "id": "94Hhel-ntSk0"
      },
      "id": "94Hhel-ntSk0",
      "execution_count": null,
      "outputs": []
    },
    {
      "cell_type": "markdown",
      "id": "e154e70d-e2b8-4a8b-b6f6-a53ddbfba37d",
      "metadata": {
        "id": "e154e70d-e2b8-4a8b-b6f6-a53ddbfba37d"
      },
      "source": [
        "Plot a heatmap of the confusion matrix on the test set for the best decision tree model. Using the sklearn `classification_report` function, compute the accuracy of the best decision tree model on the test set as well as its precision, recall, and f1 score for both class 1 and 0."
      ]
    },
    {
      "cell_type": "code",
      "execution_count": null,
      "id": "f1997aca-cbf3-4a23-bf65-bcdd15293d80",
      "metadata": {
        "id": "f1997aca-cbf3-4a23-bf65-bcdd15293d80"
      },
      "outputs": [],
      "source": [
        "# YOUR CODE HERE\n"
      ]
    },
    {
      "cell_type": "markdown",
      "source": [
        "#### Question 17\n",
        "In this particular problem (predicting whether the water is safe or not) it is important for us to be as precise as possible when predicting a water sample is safe (when predicting class 1). Given this criterion, what is the best option among the 3 model you trained, i.e., logistic regression, KNN classifier, and decision tree?"
      ],
      "metadata": {
        "id": "lMg6iK2XuTYu"
      },
      "id": "lMg6iK2XuTYu"
    },
    {
      "cell_type": "markdown",
      "id": "fbc3b538-551c-4098-b82f-8c00d976a448",
      "metadata": {
        "id": "fbc3b538-551c-4098-b82f-8c00d976a448"
      },
      "source": [
        "### Congrats, you are done with the assignment!\n",
        "\n"
      ]
    }
  ],
  "metadata": {
    "kernelspec": {
      "display_name": "Python 3 (ipykernel)",
      "language": "python",
      "name": "python3"
    },
    "language_info": {
      "codemirror_mode": {
        "name": "ipython",
        "version": 3
      },
      "file_extension": ".py",
      "mimetype": "text/x-python",
      "name": "python",
      "nbconvert_exporter": "python",
      "pygments_lexer": "ipython3",
      "version": "3.9.4"
    },
    "colab": {
      "provenance": [],
      "include_colab_link": true
    }
  },
  "nbformat": 4,
  "nbformat_minor": 5
}