{
  "cells": [
    {
      "attachments": {},
      "cell_type": "markdown",
      "metadata": {
        "colab_type": "text",
        "id": "view-in-github"
      },
      "source": [
        "<a href=\"https://colab.research.google.com/github/michalis0/Business-Intelligence-and-Analytics/blob/master/labs/02%20-%20Pandas%20and%20Python/walkthroughs/walkthrough_pandas_load_file.ipynb\" target=\"_parent\"><img src=\"https://colab.research.google.com/assets/colab-badge.svg\" alt=\"Open In Colab\"/></a>"
      ]
    },
    {
      "cell_type": "markdown",
      "metadata": {
        "id": "1k_qF-UHvc3B"
      },
      "source": [
        "<h1 align=\"center\"> Walkthrough - Lab 2</h1>\n",
        "\n",
        "<div>\n",
        "<td> \n",
        "<img src=\"https://upload.wikimedia.org/wikipedia/commons/thumb/2/2b/Logo_Universit%C3%A9_de_Lausanne.svg/2000px-Logo_Universit%C3%A9_de_Lausanne.svg.png\" style=\"padding-right:10px;width:240px;float:left\"/></td>\n",
        "<h2 style=\"white-space: nowrap\">Business Intelligence and Analytics</h2></td>\n",
        "<hr style=\"clear:both\">\n",
        "<p style=\"font-size:0.85em; margin:2px; text-align:justify\">\n",
        "\n",
        "</div>"
      ]
    },
    {
      "cell_type": "markdown",
      "metadata": {
        "id": "HT7WDJuNMc-F"
      },
      "source": [
        "# Basic Pandas operations\n",
        "\n",
        "**Goal**: Our goal here is to learn how to load a dataset into a Pandas DataFrame. The dataset can come either in CSV or in JSON format. We will see also how to perform basic data manipulations and very basic data visualizations so that you understand the nature of your data."
      ]
    },
    {
      "cell_type": "markdown",
      "metadata": {
        "id": "oV2jka2Hvc3F"
      },
      "source": [
        "## 1. Loading a dataset in CSV format\n",
        "\n",
        "First you have to import the `pandas` package."
      ]
    },
    {
      "cell_type": "code",
      "execution_count": 1,
      "metadata": {
        "id": "1Z3Tez5xNcE2"
      },
      "outputs": [],
      "source": [
        "import pandas as pd # press shift+enter to execute it"
      ]
    },
    {
      "cell_type": "markdown",
      "metadata": {
        "id": "V3kh8_9rNfLZ"
      },
      "source": [
        "Now you can see that you autocomplete your code with functions that are included in `pandas`. Eg type `pd.read` and see that it recommends some functions:\n"
      ]
    },
    {
      "cell_type": "code",
      "execution_count": 2,
      "metadata": {
        "colab": {
          "base_uri": "https://localhost:8080/",
          "height": 206
        },
        "id": "e9Up10t7Mc-H",
        "outputId": "de3fff7e-aa66-4ed3-93d9-b0b25ee78a58",
        "scrolled": true
      },
      "outputs": [
        {
          "data": {
            "text/html": [
              "\n",
              "  <div id=\"df-2039ed10-0036-4320-b810-69902cfca993\">\n",
              "    <div class=\"colab-df-container\">\n",
              "      <div>\n",
              "<style scoped>\n",
              "    .dataframe tbody tr th:only-of-type {\n",
              "        vertical-align: middle;\n",
              "    }\n",
              "\n",
              "    .dataframe tbody tr th {\n",
              "        vertical-align: top;\n",
              "    }\n",
              "\n",
              "    .dataframe thead th {\n",
              "        text-align: right;\n",
              "    }\n",
              "</style>\n",
              "<table border=\"1\" class=\"dataframe\">\n",
              "  <thead>\n",
              "    <tr style=\"text-align: right;\">\n",
              "      <th></th>\n",
              "      <th>01.01.2018 00:01;read;country_7;2458151261;SEO;North America</th>\n",
              "    </tr>\n",
              "  </thead>\n",
              "  <tbody>\n",
              "    <tr>\n",
              "      <th>0</th>\n",
              "      <td>01.01.2018 00:03;read;country_7;2458151262;SEO...</td>\n",
              "    </tr>\n",
              "    <tr>\n",
              "      <th>1</th>\n",
              "      <td>01.01.2018 00:04;read;country_7;2458151263;AdW...</td>\n",
              "    </tr>\n",
              "    <tr>\n",
              "      <th>2</th>\n",
              "      <td>01.01.2018 00:04;read;country_7;2458151264;AdW...</td>\n",
              "    </tr>\n",
              "    <tr>\n",
              "      <th>3</th>\n",
              "      <td>01.01.2018 00:05;read;country_8;2458151265;Red...</td>\n",
              "    </tr>\n",
              "    <tr>\n",
              "      <th>4</th>\n",
              "      <td>01.01.2018 00:05;read;country_6;2458151266;Red...</td>\n",
              "    </tr>\n",
              "  </tbody>\n",
              "</table>\n",
              "</div>\n",
              "      <button class=\"colab-df-convert\" onclick=\"convertToInteractive('df-2039ed10-0036-4320-b810-69902cfca993')\"\n",
              "              title=\"Convert this dataframe to an interactive table.\"\n",
              "              style=\"display:none;\">\n",
              "        \n",
              "  <svg xmlns=\"http://www.w3.org/2000/svg\" height=\"24px\"viewBox=\"0 0 24 24\"\n",
              "       width=\"24px\">\n",
              "    <path d=\"M0 0h24v24H0V0z\" fill=\"none\"/>\n",
              "    <path d=\"M18.56 5.44l.94 2.06.94-2.06 2.06-.94-2.06-.94-.94-2.06-.94 2.06-2.06.94zm-11 1L8.5 8.5l.94-2.06 2.06-.94-2.06-.94L8.5 2.5l-.94 2.06-2.06.94zm10 10l.94 2.06.94-2.06 2.06-.94-2.06-.94-.94-2.06-.94 2.06-2.06.94z\"/><path d=\"M17.41 7.96l-1.37-1.37c-.4-.4-.92-.59-1.43-.59-.52 0-1.04.2-1.43.59L10.3 9.45l-7.72 7.72c-.78.78-.78 2.05 0 2.83L4 21.41c.39.39.9.59 1.41.59.51 0 1.02-.2 1.41-.59l7.78-7.78 2.81-2.81c.8-.78.8-2.07 0-2.86zM5.41 20L4 18.59l7.72-7.72 1.47 1.35L5.41 20z\"/>\n",
              "  </svg>\n",
              "      </button>\n",
              "      \n",
              "  <style>\n",
              "    .colab-df-container {\n",
              "      display:flex;\n",
              "      flex-wrap:wrap;\n",
              "      gap: 12px;\n",
              "    }\n",
              "\n",
              "    .colab-df-convert {\n",
              "      background-color: #E8F0FE;\n",
              "      border: none;\n",
              "      border-radius: 50%;\n",
              "      cursor: pointer;\n",
              "      display: none;\n",
              "      fill: #1967D2;\n",
              "      height: 32px;\n",
              "      padding: 0 0 0 0;\n",
              "      width: 32px;\n",
              "    }\n",
              "\n",
              "    .colab-df-convert:hover {\n",
              "      background-color: #E2EBFA;\n",
              "      box-shadow: 0px 1px 2px rgba(60, 64, 67, 0.3), 0px 1px 3px 1px rgba(60, 64, 67, 0.15);\n",
              "      fill: #174EA6;\n",
              "    }\n",
              "\n",
              "    [theme=dark] .colab-df-convert {\n",
              "      background-color: #3B4455;\n",
              "      fill: #D2E3FC;\n",
              "    }\n",
              "\n",
              "    [theme=dark] .colab-df-convert:hover {\n",
              "      background-color: #434B5C;\n",
              "      box-shadow: 0px 1px 3px 1px rgba(0, 0, 0, 0.15);\n",
              "      filter: drop-shadow(0px 1px 2px rgba(0, 0, 0, 0.3));\n",
              "      fill: #FFFFFF;\n",
              "    }\n",
              "  </style>\n",
              "\n",
              "      <script>\n",
              "        const buttonEl =\n",
              "          document.querySelector('#df-2039ed10-0036-4320-b810-69902cfca993 button.colab-df-convert');\n",
              "        buttonEl.style.display =\n",
              "          google.colab.kernel.accessAllowed ? 'block' : 'none';\n",
              "\n",
              "        async function convertToInteractive(key) {\n",
              "          const element = document.querySelector('#df-2039ed10-0036-4320-b810-69902cfca993');\n",
              "          const dataTable =\n",
              "            await google.colab.kernel.invokeFunction('convertToInteractive',\n",
              "                                                     [key], {});\n",
              "          if (!dataTable) return;\n",
              "\n",
              "          const docLinkHtml = 'Like what you see? Visit the ' +\n",
              "            '<a target=\"_blank\" href=https://colab.research.google.com/notebooks/data_table.ipynb>data table notebook</a>'\n",
              "            + ' to learn more about interactive tables.';\n",
              "          element.innerHTML = '';\n",
              "          dataTable['output_type'] = 'display_data';\n",
              "          await google.colab.output.renderOutput(dataTable, element);\n",
              "          const docLink = document.createElement('div');\n",
              "          docLink.innerHTML = docLinkHtml;\n",
              "          element.appendChild(docLink);\n",
              "        }\n",
              "      </script>\n",
              "    </div>\n",
              "  </div>\n",
              "  "
            ],
            "text/plain": [
              "  01.01.2018 00:01;read;country_7;2458151261;SEO;North America\n",
              "0  01.01.2018 00:03;read;country_7;2458151262;SEO...          \n",
              "1  01.01.2018 00:04;read;country_7;2458151263;AdW...          \n",
              "2  01.01.2018 00:04;read;country_7;2458151264;AdW...          \n",
              "3  01.01.2018 00:05;read;country_8;2458151265;Red...          \n",
              "4  01.01.2018 00:05;read;country_6;2458151266;Red...          "
            ]
          },
          "execution_count": 2,
          "metadata": {},
          "output_type": "execute_result"
        }
      ],
      "source": [
        "# let's load a file\n",
        "url = \"https://media.githubusercontent.com/media/michalis0/Business-Intelligence-and-Analytics/master/data/pandas_tutorial_read.csv\"\n",
        "data = pd.read_csv(url) \n",
        "data.head()"
      ]
    },
    {
      "cell_type": "markdown",
      "metadata": {
        "id": "opHgAjE6Mc-O"
      },
      "source": [
        "Is the above correct? Most likely not. \n",
        "\n",
        "CSV stands for \"Comma Separated Values\", which is not the case here. We see there are ';' and the data seem to be in one column. The default delimiter is ',' so we need to change it."
      ]
    },
    {
      "cell_type": "code",
      "execution_count": 3,
      "metadata": {
        "colab": {
          "base_uri": "https://localhost:8080/",
          "height": 206
        },
        "id": "Yv5UVka1Mc-Q",
        "outputId": "aa656d82-5e92-47a2-bfa3-32f4ef6151e9"
      },
      "outputs": [
        {
          "data": {
            "text/html": [
              "\n",
              "  <div id=\"df-d1249375-3efe-4ab7-ad38-9b4286327a2e\">\n",
              "    <div class=\"colab-df-container\">\n",
              "      <div>\n",
              "<style scoped>\n",
              "    .dataframe tbody tr th:only-of-type {\n",
              "        vertical-align: middle;\n",
              "    }\n",
              "\n",
              "    .dataframe tbody tr th {\n",
              "        vertical-align: top;\n",
              "    }\n",
              "\n",
              "    .dataframe thead th {\n",
              "        text-align: right;\n",
              "    }\n",
              "</style>\n",
              "<table border=\"1\" class=\"dataframe\">\n",
              "  <thead>\n",
              "    <tr style=\"text-align: right;\">\n",
              "      <th></th>\n",
              "      <th>01.01.2018 00:01</th>\n",
              "      <th>read</th>\n",
              "      <th>country_7</th>\n",
              "      <th>2458151261</th>\n",
              "      <th>SEO</th>\n",
              "      <th>North America</th>\n",
              "    </tr>\n",
              "  </thead>\n",
              "  <tbody>\n",
              "    <tr>\n",
              "      <th>0</th>\n",
              "      <td>01.01.2018 00:03</td>\n",
              "      <td>read</td>\n",
              "      <td>country_7</td>\n",
              "      <td>2458151262</td>\n",
              "      <td>SEO</td>\n",
              "      <td>South America</td>\n",
              "    </tr>\n",
              "    <tr>\n",
              "      <th>1</th>\n",
              "      <td>01.01.2018 00:04</td>\n",
              "      <td>read</td>\n",
              "      <td>country_7</td>\n",
              "      <td>2458151263</td>\n",
              "      <td>AdWords</td>\n",
              "      <td>Africa</td>\n",
              "    </tr>\n",
              "    <tr>\n",
              "      <th>2</th>\n",
              "      <td>01.01.2018 00:04</td>\n",
              "      <td>read</td>\n",
              "      <td>country_7</td>\n",
              "      <td>2458151264</td>\n",
              "      <td>AdWords</td>\n",
              "      <td>Europe</td>\n",
              "    </tr>\n",
              "    <tr>\n",
              "      <th>3</th>\n",
              "      <td>01.01.2018 00:05</td>\n",
              "      <td>read</td>\n",
              "      <td>country_8</td>\n",
              "      <td>2458151265</td>\n",
              "      <td>Reddit</td>\n",
              "      <td>North America</td>\n",
              "    </tr>\n",
              "    <tr>\n",
              "      <th>4</th>\n",
              "      <td>01.01.2018 00:05</td>\n",
              "      <td>read</td>\n",
              "      <td>country_6</td>\n",
              "      <td>2458151266</td>\n",
              "      <td>Reddit</td>\n",
              "      <td>North America</td>\n",
              "    </tr>\n",
              "  </tbody>\n",
              "</table>\n",
              "</div>\n",
              "      <button class=\"colab-df-convert\" onclick=\"convertToInteractive('df-d1249375-3efe-4ab7-ad38-9b4286327a2e')\"\n",
              "              title=\"Convert this dataframe to an interactive table.\"\n",
              "              style=\"display:none;\">\n",
              "        \n",
              "  <svg xmlns=\"http://www.w3.org/2000/svg\" height=\"24px\"viewBox=\"0 0 24 24\"\n",
              "       width=\"24px\">\n",
              "    <path d=\"M0 0h24v24H0V0z\" fill=\"none\"/>\n",
              "    <path d=\"M18.56 5.44l.94 2.06.94-2.06 2.06-.94-2.06-.94-.94-2.06-.94 2.06-2.06.94zm-11 1L8.5 8.5l.94-2.06 2.06-.94-2.06-.94L8.5 2.5l-.94 2.06-2.06.94zm10 10l.94 2.06.94-2.06 2.06-.94-2.06-.94-.94-2.06-.94 2.06-2.06.94z\"/><path d=\"M17.41 7.96l-1.37-1.37c-.4-.4-.92-.59-1.43-.59-.52 0-1.04.2-1.43.59L10.3 9.45l-7.72 7.72c-.78.78-.78 2.05 0 2.83L4 21.41c.39.39.9.59 1.41.59.51 0 1.02-.2 1.41-.59l7.78-7.78 2.81-2.81c.8-.78.8-2.07 0-2.86zM5.41 20L4 18.59l7.72-7.72 1.47 1.35L5.41 20z\"/>\n",
              "  </svg>\n",
              "      </button>\n",
              "      \n",
              "  <style>\n",
              "    .colab-df-container {\n",
              "      display:flex;\n",
              "      flex-wrap:wrap;\n",
              "      gap: 12px;\n",
              "    }\n",
              "\n",
              "    .colab-df-convert {\n",
              "      background-color: #E8F0FE;\n",
              "      border: none;\n",
              "      border-radius: 50%;\n",
              "      cursor: pointer;\n",
              "      display: none;\n",
              "      fill: #1967D2;\n",
              "      height: 32px;\n",
              "      padding: 0 0 0 0;\n",
              "      width: 32px;\n",
              "    }\n",
              "\n",
              "    .colab-df-convert:hover {\n",
              "      background-color: #E2EBFA;\n",
              "      box-shadow: 0px 1px 2px rgba(60, 64, 67, 0.3), 0px 1px 3px 1px rgba(60, 64, 67, 0.15);\n",
              "      fill: #174EA6;\n",
              "    }\n",
              "\n",
              "    [theme=dark] .colab-df-convert {\n",
              "      background-color: #3B4455;\n",
              "      fill: #D2E3FC;\n",
              "    }\n",
              "\n",
              "    [theme=dark] .colab-df-convert:hover {\n",
              "      background-color: #434B5C;\n",
              "      box-shadow: 0px 1px 3px 1px rgba(0, 0, 0, 0.15);\n",
              "      filter: drop-shadow(0px 1px 2px rgba(0, 0, 0, 0.3));\n",
              "      fill: #FFFFFF;\n",
              "    }\n",
              "  </style>\n",
              "\n",
              "      <script>\n",
              "        const buttonEl =\n",
              "          document.querySelector('#df-d1249375-3efe-4ab7-ad38-9b4286327a2e button.colab-df-convert');\n",
              "        buttonEl.style.display =\n",
              "          google.colab.kernel.accessAllowed ? 'block' : 'none';\n",
              "\n",
              "        async function convertToInteractive(key) {\n",
              "          const element = document.querySelector('#df-d1249375-3efe-4ab7-ad38-9b4286327a2e');\n",
              "          const dataTable =\n",
              "            await google.colab.kernel.invokeFunction('convertToInteractive',\n",
              "                                                     [key], {});\n",
              "          if (!dataTable) return;\n",
              "\n",
              "          const docLinkHtml = 'Like what you see? Visit the ' +\n",
              "            '<a target=\"_blank\" href=https://colab.research.google.com/notebooks/data_table.ipynb>data table notebook</a>'\n",
              "            + ' to learn more about interactive tables.';\n",
              "          element.innerHTML = '';\n",
              "          dataTable['output_type'] = 'display_data';\n",
              "          await google.colab.output.renderOutput(dataTable, element);\n",
              "          const docLink = document.createElement('div');\n",
              "          docLink.innerHTML = docLinkHtml;\n",
              "          element.appendChild(docLink);\n",
              "        }\n",
              "      </script>\n",
              "    </div>\n",
              "  </div>\n",
              "  "
            ],
            "text/plain": [
              "   01.01.2018 00:01  read  country_7  2458151261      SEO  North America\n",
              "0  01.01.2018 00:03  read  country_7  2458151262      SEO  South America\n",
              "1  01.01.2018 00:04  read  country_7  2458151263  AdWords         Africa\n",
              "2  01.01.2018 00:04  read  country_7  2458151264  AdWords         Europe\n",
              "3  01.01.2018 00:05  read  country_8  2458151265   Reddit  North America\n",
              "4  01.01.2018 00:05  read  country_6  2458151266   Reddit  North America"
            ]
          },
          "execution_count": 3,
          "metadata": {},
          "output_type": "execute_result"
        }
      ],
      "source": [
        "data = pd.read_csv(url, delimiter=';') \n",
        "data.head()"
      ]
    },
    {
      "cell_type": "markdown",
      "metadata": {
        "id": "q2PcFLDEMc-U"
      },
      "source": [
        "This looks better. But something else does not look good now. Our DataFrame is missing a header, let's assign one:"
      ]
    },
    {
      "cell_type": "code",
      "execution_count": 4,
      "metadata": {
        "colab": {
          "base_uri": "https://localhost:8080/",
          "height": 206
        },
        "id": "0p8R3uQFMc-V",
        "outputId": "2c53cc36-a411-420c-8538-1aba6492b3b7"
      },
      "outputs": [
        {
          "data": {
            "text/html": [
              "\n",
              "  <div id=\"df-44e6e1a4-ad86-4e2d-9135-36537d933cd9\">\n",
              "    <div class=\"colab-df-container\">\n",
              "      <div>\n",
              "<style scoped>\n",
              "    .dataframe tbody tr th:only-of-type {\n",
              "        vertical-align: middle;\n",
              "    }\n",
              "\n",
              "    .dataframe tbody tr th {\n",
              "        vertical-align: top;\n",
              "    }\n",
              "\n",
              "    .dataframe thead th {\n",
              "        text-align: right;\n",
              "    }\n",
              "</style>\n",
              "<table border=\"1\" class=\"dataframe\">\n",
              "  <thead>\n",
              "    <tr style=\"text-align: right;\">\n",
              "      <th></th>\n",
              "      <th>my_datetime</th>\n",
              "      <th>event</th>\n",
              "      <th>country</th>\n",
              "      <th>user_id</th>\n",
              "      <th>source</th>\n",
              "      <th>topic</th>\n",
              "    </tr>\n",
              "  </thead>\n",
              "  <tbody>\n",
              "    <tr>\n",
              "      <th>0</th>\n",
              "      <td>01.01.2018 00:01</td>\n",
              "      <td>read</td>\n",
              "      <td>country_7</td>\n",
              "      <td>2458151261</td>\n",
              "      <td>SEO</td>\n",
              "      <td>North America</td>\n",
              "    </tr>\n",
              "    <tr>\n",
              "      <th>1</th>\n",
              "      <td>01.01.2018 00:03</td>\n",
              "      <td>read</td>\n",
              "      <td>country_7</td>\n",
              "      <td>2458151262</td>\n",
              "      <td>SEO</td>\n",
              "      <td>South America</td>\n",
              "    </tr>\n",
              "    <tr>\n",
              "      <th>2</th>\n",
              "      <td>01.01.2018 00:04</td>\n",
              "      <td>read</td>\n",
              "      <td>country_7</td>\n",
              "      <td>2458151263</td>\n",
              "      <td>AdWords</td>\n",
              "      <td>Africa</td>\n",
              "    </tr>\n",
              "    <tr>\n",
              "      <th>3</th>\n",
              "      <td>01.01.2018 00:04</td>\n",
              "      <td>read</td>\n",
              "      <td>country_7</td>\n",
              "      <td>2458151264</td>\n",
              "      <td>AdWords</td>\n",
              "      <td>Europe</td>\n",
              "    </tr>\n",
              "    <tr>\n",
              "      <th>4</th>\n",
              "      <td>01.01.2018 00:05</td>\n",
              "      <td>read</td>\n",
              "      <td>country_8</td>\n",
              "      <td>2458151265</td>\n",
              "      <td>Reddit</td>\n",
              "      <td>North America</td>\n",
              "    </tr>\n",
              "  </tbody>\n",
              "</table>\n",
              "</div>\n",
              "      <button class=\"colab-df-convert\" onclick=\"convertToInteractive('df-44e6e1a4-ad86-4e2d-9135-36537d933cd9')\"\n",
              "              title=\"Convert this dataframe to an interactive table.\"\n",
              "              style=\"display:none;\">\n",
              "        \n",
              "  <svg xmlns=\"http://www.w3.org/2000/svg\" height=\"24px\"viewBox=\"0 0 24 24\"\n",
              "       width=\"24px\">\n",
              "    <path d=\"M0 0h24v24H0V0z\" fill=\"none\"/>\n",
              "    <path d=\"M18.56 5.44l.94 2.06.94-2.06 2.06-.94-2.06-.94-.94-2.06-.94 2.06-2.06.94zm-11 1L8.5 8.5l.94-2.06 2.06-.94-2.06-.94L8.5 2.5l-.94 2.06-2.06.94zm10 10l.94 2.06.94-2.06 2.06-.94-2.06-.94-.94-2.06-.94 2.06-2.06.94z\"/><path d=\"M17.41 7.96l-1.37-1.37c-.4-.4-.92-.59-1.43-.59-.52 0-1.04.2-1.43.59L10.3 9.45l-7.72 7.72c-.78.78-.78 2.05 0 2.83L4 21.41c.39.39.9.59 1.41.59.51 0 1.02-.2 1.41-.59l7.78-7.78 2.81-2.81c.8-.78.8-2.07 0-2.86zM5.41 20L4 18.59l7.72-7.72 1.47 1.35L5.41 20z\"/>\n",
              "  </svg>\n",
              "      </button>\n",
              "      \n",
              "  <style>\n",
              "    .colab-df-container {\n",
              "      display:flex;\n",
              "      flex-wrap:wrap;\n",
              "      gap: 12px;\n",
              "    }\n",
              "\n",
              "    .colab-df-convert {\n",
              "      background-color: #E8F0FE;\n",
              "      border: none;\n",
              "      border-radius: 50%;\n",
              "      cursor: pointer;\n",
              "      display: none;\n",
              "      fill: #1967D2;\n",
              "      height: 32px;\n",
              "      padding: 0 0 0 0;\n",
              "      width: 32px;\n",
              "    }\n",
              "\n",
              "    .colab-df-convert:hover {\n",
              "      background-color: #E2EBFA;\n",
              "      box-shadow: 0px 1px 2px rgba(60, 64, 67, 0.3), 0px 1px 3px 1px rgba(60, 64, 67, 0.15);\n",
              "      fill: #174EA6;\n",
              "    }\n",
              "\n",
              "    [theme=dark] .colab-df-convert {\n",
              "      background-color: #3B4455;\n",
              "      fill: #D2E3FC;\n",
              "    }\n",
              "\n",
              "    [theme=dark] .colab-df-convert:hover {\n",
              "      background-color: #434B5C;\n",
              "      box-shadow: 0px 1px 3px 1px rgba(0, 0, 0, 0.15);\n",
              "      filter: drop-shadow(0px 1px 2px rgba(0, 0, 0, 0.3));\n",
              "      fill: #FFFFFF;\n",
              "    }\n",
              "  </style>\n",
              "\n",
              "      <script>\n",
              "        const buttonEl =\n",
              "          document.querySelector('#df-44e6e1a4-ad86-4e2d-9135-36537d933cd9 button.colab-df-convert');\n",
              "        buttonEl.style.display =\n",
              "          google.colab.kernel.accessAllowed ? 'block' : 'none';\n",
              "\n",
              "        async function convertToInteractive(key) {\n",
              "          const element = document.querySelector('#df-44e6e1a4-ad86-4e2d-9135-36537d933cd9');\n",
              "          const dataTable =\n",
              "            await google.colab.kernel.invokeFunction('convertToInteractive',\n",
              "                                                     [key], {});\n",
              "          if (!dataTable) return;\n",
              "\n",
              "          const docLinkHtml = 'Like what you see? Visit the ' +\n",
              "            '<a target=\"_blank\" href=https://colab.research.google.com/notebooks/data_table.ipynb>data table notebook</a>'\n",
              "            + ' to learn more about interactive tables.';\n",
              "          element.innerHTML = '';\n",
              "          dataTable['output_type'] = 'display_data';\n",
              "          await google.colab.output.renderOutput(dataTable, element);\n",
              "          const docLink = document.createElement('div');\n",
              "          docLink.innerHTML = docLinkHtml;\n",
              "          element.appendChild(docLink);\n",
              "        }\n",
              "      </script>\n",
              "    </div>\n",
              "  </div>\n",
              "  "
            ],
            "text/plain": [
              "        my_datetime event    country     user_id   source          topic\n",
              "0  01.01.2018 00:01  read  country_7  2458151261      SEO  North America\n",
              "1  01.01.2018 00:03  read  country_7  2458151262      SEO  South America\n",
              "2  01.01.2018 00:04  read  country_7  2458151263  AdWords         Africa\n",
              "3  01.01.2018 00:04  read  country_7  2458151264  AdWords         Europe\n",
              "4  01.01.2018 00:05  read  country_8  2458151265   Reddit  North America"
            ]
          },
          "execution_count": 4,
          "metadata": {},
          "output_type": "execute_result"
        }
      ],
      "source": [
        "data = pd.read_csv(url, \n",
        "                   delimiter=';', \n",
        "                   names = ['my_datetime', 'event', 'country', 'user_id', 'source', 'topic']) \n",
        "data.head()\n"
      ]
    },
    {
      "cell_type": "markdown",
      "metadata": {
        "id": "qwwVIxHfMc-c"
      },
      "source": [
        "With the `head` function you see the first few lines. The .shape function shows the shape of the dataframe (rows, columns). You can also see the:\n",
        "\n",
        "- whole dataset: just type ```data```\n",
        "- the beginning as before ```data.head()``` \n",
        "- the last 5 entries ```data.tail()``` or \n",
        "- a sample such as ```data.sample(5)```\n",
        "- some descriptive statistics ```data.describe()```\n",
        "Try it out below:"
      ]
    },
    {
      "cell_type": "code",
      "execution_count": 5,
      "metadata": {
        "colab": {
          "base_uri": "https://localhost:8080/"
        },
        "id": "RorAv2x0Mc-d",
        "outputId": "f853b62b-4a1b-4caa-b280-ff7eb95198f3"
      },
      "outputs": [
        {
          "data": {
            "text/plain": [
              "(1795, 6)"
            ]
          },
          "execution_count": 5,
          "metadata": {},
          "output_type": "execute_result"
        }
      ],
      "source": [
        "data.shape"
      ]
    },
    {
      "cell_type": "code",
      "execution_count": 6,
      "metadata": {
        "id": "IUv7cCsl_g7T"
      },
      "outputs": [],
      "source": [
        "#Use this cell to write your own code"
      ]
    },
    {
      "cell_type": "markdown",
      "metadata": {
        "id": "Z6qhq8t3Mc-f"
      },
      "source": [
        "### DataFrame components\n",
        "There are three components of the DataFrame: the index, columns and data (values). We can extract each of these components into their own variables. Let's do that and then inspect them:"
      ]
    },
    {
      "cell_type": "code",
      "execution_count": 7,
      "metadata": {
        "id": "SssBXmqWMc-f"
      },
      "outputs": [],
      "source": [
        "index = data.index\n",
        "columns = data.columns\n",
        "values = data.values"
      ]
    },
    {
      "cell_type": "code",
      "execution_count": 8,
      "metadata": {
        "colab": {
          "base_uri": "https://localhost:8080/"
        },
        "id": "jcFpF9yoMc-i",
        "outputId": "9a22dd43-94b3-4a36-a148-51e4c0f143c0"
      },
      "outputs": [
        {
          "data": {
            "text/plain": [
              "RangeIndex(start=0, stop=1795, step=1)"
            ]
          },
          "execution_count": 8,
          "metadata": {},
          "output_type": "execute_result"
        }
      ],
      "source": [
        "index"
      ]
    },
    {
      "cell_type": "code",
      "execution_count": 9,
      "metadata": {
        "colab": {
          "base_uri": "https://localhost:8080/"
        },
        "id": "a2PH_uMMMc-j",
        "outputId": "b5ce3330-cbe1-458c-eb6d-69a78c91f9bb"
      },
      "outputs": [
        {
          "data": {
            "text/plain": [
              "Index(['my_datetime', 'event', 'country', 'user_id', 'source', 'topic'], dtype='object')"
            ]
          },
          "execution_count": 9,
          "metadata": {},
          "output_type": "execute_result"
        }
      ],
      "source": [
        "columns"
      ]
    },
    {
      "cell_type": "code",
      "execution_count": 10,
      "metadata": {
        "colab": {
          "base_uri": "https://localhost:8080/"
        },
        "id": "sV6mB-WBMc-l",
        "outputId": "32261b23-002f-4a48-fa6e-c44c832a54be"
      },
      "outputs": [
        {
          "data": {
            "text/plain": [
              "array([['01.01.2018 00:01', 'read', 'country_7', '2458151261', 'SEO',\n",
              "        'North America'],\n",
              "       ['01.01.2018 00:03', 'read', 'country_7', '2458151262', 'SEO',\n",
              "        'South America'],\n",
              "       ['01.01.2018 00:04', 'read', 'country_7', '2458151263', 'AdWords',\n",
              "        'Africa'],\n",
              "       ...,\n",
              "       ['01.01.2018 23:59', 'read', 'country_6', '2458153053', 'Reddit',\n",
              "        'Asia'],\n",
              "       ['01.01.2018 23:59', 'read', 'country_7', '2458153054', 'AdWords',\n",
              "        'Europe'],\n",
              "       ['01.01.2018 23:59', 'read', 'country_5', '2458153055', 'Reddit',\n",
              "        'Asia']], dtype=object)"
            ]
          },
          "execution_count": 10,
          "metadata": {},
          "output_type": "execute_result"
        }
      ],
      "source": [
        "values"
      ]
    },
    {
      "cell_type": "markdown",
      "metadata": {
        "id": "pF-4EXbOMc-n"
      },
      "source": [
        "### Data types of the components"
      ]
    },
    {
      "cell_type": "code",
      "execution_count": 11,
      "metadata": {
        "colab": {
          "base_uri": "https://localhost:8080/"
        },
        "id": "kcUBNR9AMc-n",
        "outputId": "569ee257-aa6c-432e-832d-2520bb168f64"
      },
      "outputs": [
        {
          "data": {
            "text/plain": [
              "pandas.core.indexes.range.RangeIndex"
            ]
          },
          "execution_count": 11,
          "metadata": {},
          "output_type": "execute_result"
        }
      ],
      "source": [
        "type(index)"
      ]
    },
    {
      "cell_type": "code",
      "execution_count": 12,
      "metadata": {
        "colab": {
          "base_uri": "https://localhost:8080/"
        },
        "id": "iccy4ZE8Mc-p",
        "outputId": "394f92c5-4141-4780-b13e-dc2487c63665"
      },
      "outputs": [
        {
          "data": {
            "text/plain": [
              "pandas.core.indexes.base.Index"
            ]
          },
          "execution_count": 12,
          "metadata": {},
          "output_type": "execute_result"
        }
      ],
      "source": [
        "type(columns)"
      ]
    },
    {
      "cell_type": "code",
      "execution_count": 13,
      "metadata": {
        "colab": {
          "base_uri": "https://localhost:8080/"
        },
        "id": "wDBYWUCrMc-q",
        "outputId": "dc01129f-d911-44a1-af67-73348019578f"
      },
      "outputs": [
        {
          "data": {
            "text/plain": [
              "numpy.ndarray"
            ]
          },
          "execution_count": 13,
          "metadata": {},
          "output_type": "execute_result"
        }
      ],
      "source": [
        "type(values)"
      ]
    },
    {
      "cell_type": "markdown",
      "metadata": {
        "id": "ihQFsP5DMc-s"
      },
      "source": [
        "\n",
        "The index and the columns are the same type: a pandas **`Index`** object (**`RangeIndex`** is of type **`Index`**), which is a sequence of labels for either the rows or the columns.\n",
        "\n",
        "The values are a NumPy **`ndarray`**, which stands for n-dimensional array, and is the primary container of data in the NumPy library. Pandas is built directly on top of NumPy."
      ]
    },
    {
      "cell_type": "markdown",
      "metadata": {
        "id": "NPZ-0mD_Mc-s"
      },
      "source": [
        "### Selecting columns\n",
        "\n",
        "If you want to select two particular columns you can do it like that:\n",
        "\n",
        "```data[['country', 'user_id']]``` \n",
        "\n",
        "or you can take the columns in a different order: \n",
        "\n",
        "```data[['user_id', 'country']]```.\n",
        "\n",
        "The way to remember the syntax is that outer brackets signify that you want to select columns, and the inner brackets are for the list itself.\n",
        "\n",
        "Try it out."
      ]
    },
    {
      "cell_type": "code",
      "execution_count": 13,
      "metadata": {
        "id": "aUEQ-RAlMc-t"
      },
      "outputs": [],
      "source": []
    },
    {
      "cell_type": "markdown",
      "metadata": {
        "id": "V6VtRZPtMc-u"
      },
      "source": [
        "The above returns a pandas.DataFrame. If you want to return a pandas.Series instead then you can use this syntax:\n",
        "\n",
        "```data.user_id ```\n",
        "\n",
        "or \n",
        "\n",
        "``` data['user_id'] ```"
      ]
    },
    {
      "cell_type": "code",
      "execution_count": 13,
      "metadata": {
        "id": "waGTpqepMc-u"
      },
      "outputs": [],
      "source": []
    },
    {
      "cell_type": "markdown",
      "metadata": {
        "id": "Nw3hClEJMc-w"
      },
      "source": [
        "If you want to filter one those users that came from SEO then you can write:\n",
        "\n",
        "``` data[data.source == 'SEO'] ```\n",
        "\n",
        "where the inner statement will create a boolean mask."
      ]
    },
    {
      "cell_type": "code",
      "execution_count": 13,
      "metadata": {
        "id": "gzpqqRYtMc-w"
      },
      "outputs": [],
      "source": []
    },
    {
      "cell_type": "markdown",
      "metadata": {
        "id": "RJYHORgqMc-x"
      },
      "source": [
        "### Chaining\n",
        "\n",
        "You can combine multiple selection methods as follows:\n",
        "\n",
        "``` data.head()[['country', 'user_id']] ```\n",
        "\n",
        "**CAUTION**: A thing to keep in mind is that when you use chaining you work on *copies* of the original DataFrame. So if you use chaining to change data, you may observe that the original DataFrame was not changed."
      ]
    },
    {
      "cell_type": "markdown",
      "metadata": {
        "id": "vYETQYsOMc-y"
      },
      "source": [
        "#### Exercice 1:\n",
        "Now it's your turn to solve an exercise and deepen your knowledge.\n",
        "\n",
        "Select the user_id, the country and the topic columns for the users who are from country_2 and show only the first 10 results"
      ]
    },
    {
      "cell_type": "code",
      "execution_count": 14,
      "metadata": {
        "id": "lg4wCaGiMc-z"
      },
      "outputs": [],
      "source": [
        "# enter your solution here."
      ]
    },
    {
      "cell_type": "markdown",
      "metadata": {
        "id": "ON8xtuzBdCoc"
      },
      "source": [
        "### Column Types\n",
        "\n",
        "Remember that each column/attribute of our data may have different attribute types. Have a look at the following table to understand the different DataTypes in Pandas and Python.\n",
        "\n",
        "| Pandas dtype  | Python type  | NumPy type|Usage\n",
        "| :--- | :--- | :--- | :--- |\n",
        "| object| str or mixed | string_, unicode_, mixed types| Text or mixed numeric and non_numeric values |\n",
        "| int 64| int| int_, int8, int16, int32, int64, uint8, uint18, uint32, uint64 | Integer numbers i.e. [1,2,3,...] |\n",
        "| float64| float| float_, float15, float32, float64 | Floating point numbers (They contain decimal points) |\n",
        "| bool| bool|bool_| True/False values|\n",
        "| datetime64 | NA | datetime64[ns]     | Date and time values  |\n",
        "| timedelta[ns] | NA  | NA| Differences between two datetime|\n",
        "| category | NA| NA| Finite list of text values|\n",
        "\n",
        "Although Pandas will correctly infer the type of data most of the times, it is important to check our columns and convert them if needed. Otherwise our results might get messed up.\n",
        "\n",
        "The function `.dtypes` allows us to see the type of each column. Run the following cell to see how it works:"
      ]
    },
    {
      "cell_type": "code",
      "execution_count": 15,
      "metadata": {
        "colab": {
          "base_uri": "https://localhost:8080/"
        },
        "id": "N9reNjiHfRSj",
        "outputId": "77fee16c-78fe-49f8-e235-5f5b2081dce6"
      },
      "outputs": [
        {
          "data": {
            "text/plain": [
              "my_datetime    object\n",
              "event          object\n",
              "country        object\n",
              "user_id        object\n",
              "source         object\n",
              "topic          object\n",
              "dtype: object"
            ]
          },
          "execution_count": 15,
          "metadata": {},
          "output_type": "execute_result"
        }
      ],
      "source": [
        "data.dtypes"
      ]
    },
    {
      "cell_type": "markdown",
      "metadata": {
        "id": "-L2tFm-Kfzt6"
      },
      "source": [
        "We can see that altough most columns seem to have the correct type, we can still improve our DataFrame. Let's convert the [\"my_datetime\"] column to the \"datetime64\" type, so that Pandas knows this column contains Date and Time values.\n",
        "\n",
        "For this, the [.to_datetime()](https://https://pandas.pydata.org/pandas-docs/stable/reference/api/pandas.to_datetime.html) function might come in handy.\n"
      ]
    },
    {
      "cell_type": "code",
      "execution_count": 16,
      "metadata": {
        "colab": {
          "base_uri": "https://localhost:8080/"
        },
        "id": "YGXheJTNh2gp",
        "outputId": "4dcf6856-4379-4cbc-9ef9-5d41fb52d9b6"
      },
      "outputs": [
        {
          "data": {
            "text/plain": [
              "my_datetime    datetime64[ns]\n",
              "event                  object\n",
              "country                object\n",
              "user_id                object\n",
              "source                 object\n",
              "topic                  object\n",
              "dtype: object"
            ]
          },
          "execution_count": 16,
          "metadata": {},
          "output_type": "execute_result"
        }
      ],
      "source": [
        "# First, let's convert the column type\n",
        "data[\"my_datetime\"] = pd.to_datetime(data[\"my_datetime\"]) \n",
        "\n",
        "#Now let's have a look at the dtypes once again\n",
        "data.dtypes"
      ]
    },
    {
      "cell_type": "markdown",
      "metadata": {
        "id": "E2agT1bFijyS"
      },
      "source": [
        "The user_id column seems to contain integers. Pandas did not correctly infer it since some of the rows in this column are corrupted (they contain other values than integers). \n",
        "\n",
        "However, we can still use the `pd.to_numeric` function to convert the column to the correct type. We can use the `errors = 'coerce' argument to handle these errors. This will set all cells in the [\"user_id\"] column containing corrupted entries to NaN (Not a Number). \n",
        "\n",
        "Other possible values for \"errors=\" are:\n",
        " * `errors = raise` This will raise an error if it encounters an invalid entry\n",
        " * `errors = ignore` This will return the original data (the data we passed as an argument) if it encounters an error. No conversion will take place."
      ]
    },
    {
      "cell_type": "code",
      "execution_count": 17,
      "metadata": {
        "colab": {
          "base_uri": "https://localhost:8080/"
        },
        "id": "RvklRN2uk8tg",
        "outputId": "6f75ec19-0005-489f-9f79-f63715a125b5"
      },
      "outputs": [
        {
          "data": {
            "text/plain": [
              "my_datetime    datetime64[ns]\n",
              "event                  object\n",
              "country                object\n",
              "user_id               float64\n",
              "source                 object\n",
              "topic                  object\n",
              "dtype: object"
            ]
          },
          "execution_count": 17,
          "metadata": {},
          "output_type": "execute_result"
        }
      ],
      "source": [
        "#Let's convert the column type \n",
        "data[\"user_id\"] = pd.to_numeric(data[\"user_id\"], errors='coerce')\n",
        "\n",
        "#Now let's have a look at the dtypes once again\n",
        "data.dtypes\n"
      ]
    },
    {
      "cell_type": "markdown",
      "metadata": {
        "id": "LPH8sxAu8xdT"
      },
      "source": [
        "Since the number of possible countries is limited, we can convert that column to the categorical type with the `.astype()` function: "
      ]
    },
    {
      "cell_type": "code",
      "execution_count": 18,
      "metadata": {
        "colab": {
          "base_uri": "https://localhost:8080/"
        },
        "id": "ns2RWHFp9Asl",
        "outputId": "e02ef614-baf5-4562-e4f2-c71a7c002aeb"
      },
      "outputs": [
        {
          "data": {
            "text/plain": [
              "my_datetime    datetime64[ns]\n",
              "event                  object\n",
              "country              category\n",
              "user_id               float64\n",
              "source                 object\n",
              "topic                  object\n",
              "dtype: object"
            ]
          },
          "execution_count": 18,
          "metadata": {},
          "output_type": "execute_result"
        }
      ],
      "source": [
        "#Change dtype\n",
        "data['country'] = data['country'].astype('category')\n",
        "\n",
        "#Now let's have a look at the dtypes once again\n",
        "data.dtypes\n",
        "\n"
      ]
    },
    {
      "cell_type": "markdown",
      "metadata": {
        "id": "orVO6jOCyVPd"
      },
      "source": [
        "### Dropping missing values\n",
        "\n",
        "Since our column contained some corrupted data, those cells were set to NaN. \n",
        "The function `.isnull()` will return a DataFrame with values:\n",
        " * False for cells where the data is not null\n",
        " * True for cells where the data is null\n",
        "\n",
        "We can then use `.sum()` to sum all values where the latter is True."
      ]
    },
    {
      "cell_type": "code",
      "execution_count": 19,
      "metadata": {
        "colab": {
          "base_uri": "https://localhost:8080/"
        },
        "id": "_gred764ziGW",
        "outputId": "d0bed661-af9b-4226-93fc-97bf3ad930ed"
      },
      "outputs": [
        {
          "data": {
            "text/plain": [
              "my_datetime    0\n",
              "event          0\n",
              "country        0\n",
              "user_id        4\n",
              "source         0\n",
              "topic          0\n",
              "dtype: int64"
            ]
          },
          "execution_count": 19,
          "metadata": {},
          "output_type": "execute_result"
        }
      ],
      "source": [
        "#Let's see how many column values are missing\n",
        "data.isnull().sum()"
      ]
    },
    {
      "cell_type": "markdown",
      "metadata": {
        "id": "qOJDUQuC1Gu2"
      },
      "source": [
        "We can now remove the missing values with the `.dropna()` function.\n",
        "If no argument is passed, this function will drop all rows where at least one of the values is missing."
      ]
    },
    {
      "cell_type": "code",
      "execution_count": 20,
      "metadata": {
        "colab": {
          "base_uri": "https://localhost:8080/"
        },
        "id": "-ENKXDKG1Rv0",
        "outputId": "4922f76c-3d09-4ba6-bb71-592eb6ad207b"
      },
      "outputs": [
        {
          "data": {
            "text/plain": [
              "my_datetime    0\n",
              "event          0\n",
              "country        0\n",
              "user_id        0\n",
              "source         0\n",
              "topic          0\n",
              "dtype: int64"
            ]
          },
          "execution_count": 20,
          "metadata": {},
          "output_type": "execute_result"
        }
      ],
      "source": [
        "#We first drop all the rows\n",
        "data = data.dropna()\n",
        "\n",
        "#Let's have another look\n",
        "data.isnull().sum()\n"
      ]
    },
    {
      "cell_type": "markdown",
      "metadata": {
        "id": "-XtrLvjFMc-3"
      },
      "source": [
        "---\n",
        "## 2. Loading JSON files\n",
        "\n",
        "Many of the data in the Internet exists in JSON format which is a structured text format, and is very similar to a Python dictionary.\n",
        "\n",
        "We will see how to load a JSON dataset in a Pandas DataFrame.\n",
        "\n",
        "We will use the Citibike API that provides a real-time view of the Citibike stations in New York.\n",
        "The API call at http://www.citibikenyc.com/stations/json."
      ]
    },
    {
      "cell_type": "code",
      "execution_count": 21,
      "metadata": {
        "id": "IdSOwaauvc3U"
      },
      "outputs": [],
      "source": [
        "# Import libraries\n",
        "import pandas as pd\n",
        "\n",
        "# Display all columns\n",
        "pd.set_option('display.max_columns', None)\n",
        "# Display max 50 rows\n",
        "pd.set_option('display.max_rows', 50)"
      ]
    },
    {
      "cell_type": "code",
      "execution_count": 22,
      "metadata": {
        "id": "42hyYkTRvc3U"
      },
      "outputs": [],
      "source": [
        "# Read json file\n",
        "\n",
        "# import urllib library\n",
        "from urllib.request import urlopen\n",
        "  \n",
        "# import json\n",
        "import json\n",
        "# store the URL in url as \n",
        "# parameter for urlopen\n",
        "url = \"https://raw.githubusercontent.com/michalis0/Business-Intelligence-and-Analytics/master/labs/02%20-%20Pandas%20and%20Python/walkthroughs/data/station_status.json\"\n",
        "  \n",
        "# store the response of URL\n",
        "response = urlopen(url)\n",
        "  \n",
        "# storing the JSON response \n",
        "# from url in data\n",
        "data = json.loads(response.read())\n",
        "\n",
        "#uncomment to see how the data looks:\n",
        "#print(data)  "
      ]
    },
    {
      "cell_type": "code",
      "execution_count": 23,
      "metadata": {
        "colab": {
          "base_uri": "https://localhost:8080/"
        },
        "id": "vsuOO0WKvc3V",
        "outputId": "1402ba6a-98f7-40ac-91e3-27cf23934a81"
      },
      "outputs": [
        {
          "data": {
            "text/plain": [
              "dict_keys(['data', 'last_updated', 'ttl'])"
            ]
          },
          "execution_count": 23,
          "metadata": {},
          "output_type": "execute_result"
        }
      ],
      "source": [
        "# Below you see how the JSON file looks. The JSON results contain two keys:\n",
        "#  - The 'data' key contains all the data\n",
        "#  - The 'last_updated' key contains the timestamp of the last update\n",
        "#  - And the 'ttl' key contains the time to live of the data\n",
        "data.keys()"
      ]
    },
    {
      "cell_type": "code",
      "execution_count": 24,
      "metadata": {
        "colab": {
          "base_uri": "https://localhost:8080/"
        },
        "id": "sCiLDwz-vc3V",
        "outputId": "7596546b-a698-40fb-a2dd-f1fb7e5dd4ca"
      },
      "outputs": [
        {
          "data": {
            "text/plain": [
              "dict_keys(['stations'])"
            ]
          },
          "execution_count": 24,
          "metadata": {},
          "output_type": "execute_result"
        }
      ],
      "source": [
        "# The field \"data\" contains the information we want but it has a nested structure\n",
        "data[\"data\"].keys()\n",
        "# The field \"stations\" contains the actual data"
      ]
    },
    {
      "cell_type": "code",
      "execution_count": 25,
      "metadata": {
        "colab": {
          "base_uri": "https://localhost:8080/",
          "height": 426
        },
        "id": "LZRE6sAZvc3V",
        "outputId": "45728e11-7359-4b2f-f058-bff10da282ac"
      },
      "outputs": [
        {
          "data": {
            "text/html": [
              "\n",
              "  <div id=\"df-743ee304-2265-47e3-baf4-d1e2343099eb\">\n",
              "    <div class=\"colab-df-container\">\n",
              "      <div>\n",
              "<style scoped>\n",
              "    .dataframe tbody tr th:only-of-type {\n",
              "        vertical-align: middle;\n",
              "    }\n",
              "\n",
              "    .dataframe tbody tr th {\n",
              "        vertical-align: top;\n",
              "    }\n",
              "\n",
              "    .dataframe thead th {\n",
              "        text-align: right;\n",
              "    }\n",
              "</style>\n",
              "<table border=\"1\" class=\"dataframe\">\n",
              "  <thead>\n",
              "    <tr style=\"text-align: right;\">\n",
              "      <th></th>\n",
              "      <th>is_renting</th>\n",
              "      <th>eightd_has_available_keys</th>\n",
              "      <th>station_status</th>\n",
              "      <th>is_installed</th>\n",
              "      <th>num_docks_disabled</th>\n",
              "      <th>num_scooters_available</th>\n",
              "      <th>legacy_id</th>\n",
              "      <th>num_docks_available</th>\n",
              "      <th>num_bikes_available</th>\n",
              "      <th>is_returning</th>\n",
              "      <th>station_id</th>\n",
              "      <th>last_reported</th>\n",
              "      <th>num_scooters_unavailable</th>\n",
              "      <th>num_bikes_disabled</th>\n",
              "      <th>num_ebikes_available</th>\n",
              "      <th>valet</th>\n",
              "      <th>eightd_active_station_services</th>\n",
              "    </tr>\n",
              "  </thead>\n",
              "  <tbody>\n",
              "    <tr>\n",
              "      <th>1239</th>\n",
              "      <td>1</td>\n",
              "      <td>False</td>\n",
              "      <td>active</td>\n",
              "      <td>1</td>\n",
              "      <td>0</td>\n",
              "      <td>NaN</td>\n",
              "      <td>4277</td>\n",
              "      <td>2</td>\n",
              "      <td>18</td>\n",
              "      <td>1</td>\n",
              "      <td>4277</td>\n",
              "      <td>1677703897</td>\n",
              "      <td>NaN</td>\n",
              "      <td>1</td>\n",
              "      <td>1</td>\n",
              "      <td>NaN</td>\n",
              "      <td>NaN</td>\n",
              "    </tr>\n",
              "    <tr>\n",
              "      <th>1794</th>\n",
              "      <td>1</td>\n",
              "      <td>False</td>\n",
              "      <td>active</td>\n",
              "      <td>1</td>\n",
              "      <td>0</td>\n",
              "      <td>NaN</td>\n",
              "      <td>4967</td>\n",
              "      <td>19</td>\n",
              "      <td>1</td>\n",
              "      <td>1</td>\n",
              "      <td>4967</td>\n",
              "      <td>1677704824</td>\n",
              "      <td>NaN</td>\n",
              "      <td>1</td>\n",
              "      <td>0</td>\n",
              "      <td>NaN</td>\n",
              "      <td>NaN</td>\n",
              "    </tr>\n",
              "    <tr>\n",
              "      <th>309</th>\n",
              "      <td>1</td>\n",
              "      <td>False</td>\n",
              "      <td>active</td>\n",
              "      <td>1</td>\n",
              "      <td>0</td>\n",
              "      <td>0.0</td>\n",
              "      <td>3383</td>\n",
              "      <td>23</td>\n",
              "      <td>2</td>\n",
              "      <td>1</td>\n",
              "      <td>66de3fde-0aca-11e7-82f6-3863bb44ef7c</td>\n",
              "      <td>1677705252</td>\n",
              "      <td>0.0</td>\n",
              "      <td>0</td>\n",
              "      <td>2</td>\n",
              "      <td>NaN</td>\n",
              "      <td>NaN</td>\n",
              "    </tr>\n",
              "    <tr>\n",
              "      <th>930</th>\n",
              "      <td>1</td>\n",
              "      <td>False</td>\n",
              "      <td>active</td>\n",
              "      <td>1</td>\n",
              "      <td>0</td>\n",
              "      <td>0.0</td>\n",
              "      <td>4534</td>\n",
              "      <td>16</td>\n",
              "      <td>6</td>\n",
              "      <td>1</td>\n",
              "      <td>7478be11-37d8-49b1-a253-f0810045f6ff</td>\n",
              "      <td>1677705248</td>\n",
              "      <td>0.0</td>\n",
              "      <td>0</td>\n",
              "      <td>1</td>\n",
              "      <td>NaN</td>\n",
              "      <td>NaN</td>\n",
              "    </tr>\n",
              "    <tr>\n",
              "      <th>339</th>\n",
              "      <td>1</td>\n",
              "      <td>False</td>\n",
              "      <td>active</td>\n",
              "      <td>1</td>\n",
              "      <td>0</td>\n",
              "      <td>0.0</td>\n",
              "      <td>4640</td>\n",
              "      <td>22</td>\n",
              "      <td>30</td>\n",
              "      <td>1</td>\n",
              "      <td>5f7ac86c-1a98-4603-8749-4bb83ac84acd</td>\n",
              "      <td>1677705303</td>\n",
              "      <td>0.0</td>\n",
              "      <td>1</td>\n",
              "      <td>13</td>\n",
              "      <td>NaN</td>\n",
              "      <td>NaN</td>\n",
              "    </tr>\n",
              "  </tbody>\n",
              "</table>\n",
              "</div>\n",
              "      <button class=\"colab-df-convert\" onclick=\"convertToInteractive('df-743ee304-2265-47e3-baf4-d1e2343099eb')\"\n",
              "              title=\"Convert this dataframe to an interactive table.\"\n",
              "              style=\"display:none;\">\n",
              "        \n",
              "  <svg xmlns=\"http://www.w3.org/2000/svg\" height=\"24px\"viewBox=\"0 0 24 24\"\n",
              "       width=\"24px\">\n",
              "    <path d=\"M0 0h24v24H0V0z\" fill=\"none\"/>\n",
              "    <path d=\"M18.56 5.44l.94 2.06.94-2.06 2.06-.94-2.06-.94-.94-2.06-.94 2.06-2.06.94zm-11 1L8.5 8.5l.94-2.06 2.06-.94-2.06-.94L8.5 2.5l-.94 2.06-2.06.94zm10 10l.94 2.06.94-2.06 2.06-.94-2.06-.94-.94-2.06-.94 2.06-2.06.94z\"/><path d=\"M17.41 7.96l-1.37-1.37c-.4-.4-.92-.59-1.43-.59-.52 0-1.04.2-1.43.59L10.3 9.45l-7.72 7.72c-.78.78-.78 2.05 0 2.83L4 21.41c.39.39.9.59 1.41.59.51 0 1.02-.2 1.41-.59l7.78-7.78 2.81-2.81c.8-.78.8-2.07 0-2.86zM5.41 20L4 18.59l7.72-7.72 1.47 1.35L5.41 20z\"/>\n",
              "  </svg>\n",
              "      </button>\n",
              "      \n",
              "  <style>\n",
              "    .colab-df-container {\n",
              "      display:flex;\n",
              "      flex-wrap:wrap;\n",
              "      gap: 12px;\n",
              "    }\n",
              "\n",
              "    .colab-df-convert {\n",
              "      background-color: #E8F0FE;\n",
              "      border: none;\n",
              "      border-radius: 50%;\n",
              "      cursor: pointer;\n",
              "      display: none;\n",
              "      fill: #1967D2;\n",
              "      height: 32px;\n",
              "      padding: 0 0 0 0;\n",
              "      width: 32px;\n",
              "    }\n",
              "\n",
              "    .colab-df-convert:hover {\n",
              "      background-color: #E2EBFA;\n",
              "      box-shadow: 0px 1px 2px rgba(60, 64, 67, 0.3), 0px 1px 3px 1px rgba(60, 64, 67, 0.15);\n",
              "      fill: #174EA6;\n",
              "    }\n",
              "\n",
              "    [theme=dark] .colab-df-convert {\n",
              "      background-color: #3B4455;\n",
              "      fill: #D2E3FC;\n",
              "    }\n",
              "\n",
              "    [theme=dark] .colab-df-convert:hover {\n",
              "      background-color: #434B5C;\n",
              "      box-shadow: 0px 1px 3px 1px rgba(0, 0, 0, 0.15);\n",
              "      filter: drop-shadow(0px 1px 2px rgba(0, 0, 0, 0.3));\n",
              "      fill: #FFFFFF;\n",
              "    }\n",
              "  </style>\n",
              "\n",
              "      <script>\n",
              "        const buttonEl =\n",
              "          document.querySelector('#df-743ee304-2265-47e3-baf4-d1e2343099eb button.colab-df-convert');\n",
              "        buttonEl.style.display =\n",
              "          google.colab.kernel.accessAllowed ? 'block' : 'none';\n",
              "\n",
              "        async function convertToInteractive(key) {\n",
              "          const element = document.querySelector('#df-743ee304-2265-47e3-baf4-d1e2343099eb');\n",
              "          const dataTable =\n",
              "            await google.colab.kernel.invokeFunction('convertToInteractive',\n",
              "                                                     [key], {});\n",
              "          if (!dataTable) return;\n",
              "\n",
              "          const docLinkHtml = 'Like what you see? Visit the ' +\n",
              "            '<a target=\"_blank\" href=https://colab.research.google.com/notebooks/data_table.ipynb>data table notebook</a>'\n",
              "            + ' to learn more about interactive tables.';\n",
              "          element.innerHTML = '';\n",
              "          dataTable['output_type'] = 'display_data';\n",
              "          await google.colab.output.renderOutput(dataTable, element);\n",
              "          const docLink = document.createElement('div');\n",
              "          docLink.innerHTML = docLinkHtml;\n",
              "          element.appendChild(docLink);\n",
              "        }\n",
              "      </script>\n",
              "    </div>\n",
              "  </div>\n",
              "  "
            ],
            "text/plain": [
              "      is_renting  eightd_has_available_keys station_status  is_installed  \\\n",
              "1239           1                      False         active             1   \n",
              "1794           1                      False         active             1   \n",
              "309            1                      False         active             1   \n",
              "930            1                      False         active             1   \n",
              "339            1                      False         active             1   \n",
              "\n",
              "      num_docks_disabled  num_scooters_available legacy_id  \\\n",
              "1239                   0                     NaN      4277   \n",
              "1794                   0                     NaN      4967   \n",
              "309                    0                     0.0      3383   \n",
              "930                    0                     0.0      4534   \n",
              "339                    0                     0.0      4640   \n",
              "\n",
              "      num_docks_available  num_bikes_available  is_returning  \\\n",
              "1239                    2                   18             1   \n",
              "1794                   19                    1             1   \n",
              "309                    23                    2             1   \n",
              "930                    16                    6             1   \n",
              "339                    22                   30             1   \n",
              "\n",
              "                                station_id  last_reported  \\\n",
              "1239                                  4277     1677703897   \n",
              "1794                                  4967     1677704824   \n",
              "309   66de3fde-0aca-11e7-82f6-3863bb44ef7c     1677705252   \n",
              "930   7478be11-37d8-49b1-a253-f0810045f6ff     1677705248   \n",
              "339   5f7ac86c-1a98-4603-8749-4bb83ac84acd     1677705303   \n",
              "\n",
              "      num_scooters_unavailable  num_bikes_disabled  num_ebikes_available  \\\n",
              "1239                       NaN                   1                     1   \n",
              "1794                       NaN                   1                     0   \n",
              "309                        0.0                   0                     2   \n",
              "930                        0.0                   0                     1   \n",
              "339                        0.0                   1                    13   \n",
              "\n",
              "     valet eightd_active_station_services  \n",
              "1239   NaN                            NaN  \n",
              "1794   NaN                            NaN  \n",
              "309    NaN                            NaN  \n",
              "930    NaN                            NaN  \n",
              "339    NaN                            NaN  "
            ]
          },
          "execution_count": 25,
          "metadata": {},
          "output_type": "execute_result"
        }
      ],
      "source": [
        "# We can convert the nested dictionary to a pandas dataframe\n",
        "# We want to extract the data from the key \"data\"\n",
        "df_info = pd.DataFrame(data[\"data\"][\"stations\"])\n",
        "df_info.sample(5)"
      ]
    },
    {
      "cell_type": "code",
      "execution_count": 26,
      "metadata": {
        "colab": {
          "base_uri": "https://localhost:8080/"
        },
        "id": "zyTjJ6-5vc3W",
        "outputId": "d7eeefc2-4452-41cc-8424-8c389cea2876"
      },
      "outputs": [
        {
          "data": {
            "text/plain": [
              "is_renting                          int64\n",
              "eightd_has_available_keys            bool\n",
              "station_status                     object\n",
              "is_installed                        int64\n",
              "num_docks_disabled                  int64\n",
              "num_scooters_available            float64\n",
              "legacy_id                          object\n",
              "num_docks_available                 int64\n",
              "num_bikes_available                 int64\n",
              "is_returning                        int64\n",
              "station_id                         object\n",
              "last_reported                       int64\n",
              "num_scooters_unavailable          float64\n",
              "num_bikes_disabled                  int64\n",
              "num_ebikes_available                int64\n",
              "valet                              object\n",
              "eightd_active_station_services     object\n",
              "dtype: object"
            ]
          },
          "execution_count": 26,
          "metadata": {},
          "output_type": "execute_result"
        }
      ],
      "source": [
        "# Display types of each column\n",
        "df_info.dtypes"
      ]
    },
    {
      "cell_type": "code",
      "execution_count": 27,
      "metadata": {
        "id": "brOhicEjvc3W"
      },
      "outputs": [],
      "source": [
        "# Replace NAN value of all integer fields by 0\n",
        "df_info.fillna(0, inplace=True)"
      ]
    },
    {
      "cell_type": "markdown",
      "metadata": {
        "id": "5wHkwCavvc3W"
      },
      "source": [
        "---\n",
        "For the following questions, you may find usefull to use the following functions:\n",
        "- `describe()`,\n",
        "- `mean()`,\n",
        "- `groupby()`,\n",
        "- `where()`,\n",
        "- `sort_values()`\n",
        "\n",
        "You will find more information about them on the offcial documentation."
      ]
    },
    {
      "cell_type": "markdown",
      "metadata": {
        "id": "ts8TUGJvvc3W"
      },
      "source": [
        "__Question 2.1:__ Add a column nammed `ebike_prop` which contains the proportion of available e-bikes among all available bikes. That is we want the following ratio expressed in percenatge : $$\\frac{num \\ ebikes \\ available}{num \\ ebikes \\ available + num \\ bikes \\ available}$$"
      ]
    },
    {
      "cell_type": "code",
      "execution_count": 28,
      "metadata": {
        "colab": {
          "base_uri": "https://localhost:8080/",
          "height": 530
        },
        "id": "QgGyrdvmvc3X",
        "outputId": "ea97ba97-e6b0-4725-c080-0ee64062ac48"
      },
      "outputs": [
        {
          "data": {
            "text/html": [
              "\n",
              "  <div id=\"df-3b02f174-6535-4004-826b-cf3abea68117\">\n",
              "    <div class=\"colab-df-container\">\n",
              "      <div>\n",
              "<style scoped>\n",
              "    .dataframe tbody tr th:only-of-type {\n",
              "        vertical-align: middle;\n",
              "    }\n",
              "\n",
              "    .dataframe tbody tr th {\n",
              "        vertical-align: top;\n",
              "    }\n",
              "\n",
              "    .dataframe thead th {\n",
              "        text-align: right;\n",
              "    }\n",
              "</style>\n",
              "<table border=\"1\" class=\"dataframe\">\n",
              "  <thead>\n",
              "    <tr style=\"text-align: right;\">\n",
              "      <th></th>\n",
              "      <th>is_renting</th>\n",
              "      <th>eightd_has_available_keys</th>\n",
              "      <th>station_status</th>\n",
              "      <th>is_installed</th>\n",
              "      <th>num_docks_disabled</th>\n",
              "      <th>num_scooters_available</th>\n",
              "      <th>legacy_id</th>\n",
              "      <th>num_docks_available</th>\n",
              "      <th>num_bikes_available</th>\n",
              "      <th>is_returning</th>\n",
              "      <th>station_id</th>\n",
              "      <th>last_reported</th>\n",
              "      <th>num_scooters_unavailable</th>\n",
              "      <th>num_bikes_disabled</th>\n",
              "      <th>num_ebikes_available</th>\n",
              "      <th>valet</th>\n",
              "      <th>eightd_active_station_services</th>\n",
              "      <th>ebike_prop</th>\n",
              "    </tr>\n",
              "  </thead>\n",
              "  <tbody>\n",
              "    <tr>\n",
              "      <th>0</th>\n",
              "      <td>1</td>\n",
              "      <td>False</td>\n",
              "      <td>active</td>\n",
              "      <td>1</td>\n",
              "      <td>0</td>\n",
              "      <td>0.0</td>\n",
              "      <td>3092</td>\n",
              "      <td>1</td>\n",
              "      <td>25</td>\n",
              "      <td>1</td>\n",
              "      <td>66dd01c5-0aca-11e7-82f6-3863bb44ef7c</td>\n",
              "      <td>1677705200</td>\n",
              "      <td>0.0</td>\n",
              "      <td>1</td>\n",
              "      <td>9</td>\n",
              "      <td>0</td>\n",
              "      <td>0</td>\n",
              "      <td>Ellipsis</td>\n",
              "    </tr>\n",
              "    <tr>\n",
              "      <th>1</th>\n",
              "      <td>1</td>\n",
              "      <td>False</td>\n",
              "      <td>active</td>\n",
              "      <td>1</td>\n",
              "      <td>0</td>\n",
              "      <td>0.0</td>\n",
              "      <td>432</td>\n",
              "      <td>33</td>\n",
              "      <td>5</td>\n",
              "      <td>1</td>\n",
              "      <td>66dc10d1-0aca-11e7-82f6-3863bb44ef7c</td>\n",
              "      <td>1677705201</td>\n",
              "      <td>0.0</td>\n",
              "      <td>6</td>\n",
              "      <td>0</td>\n",
              "      <td>0</td>\n",
              "      <td>0</td>\n",
              "      <td>Ellipsis</td>\n",
              "    </tr>\n",
              "    <tr>\n",
              "      <th>2</th>\n",
              "      <td>1</td>\n",
              "      <td>False</td>\n",
              "      <td>active</td>\n",
              "      <td>1</td>\n",
              "      <td>0</td>\n",
              "      <td>0.0</td>\n",
              "      <td>3169</td>\n",
              "      <td>69</td>\n",
              "      <td>5</td>\n",
              "      <td>1</td>\n",
              "      <td>66dd4ec7-0aca-11e7-82f6-3863bb44ef7c</td>\n",
              "      <td>1677705197</td>\n",
              "      <td>0.0</td>\n",
              "      <td>0</td>\n",
              "      <td>5</td>\n",
              "      <td>0</td>\n",
              "      <td>0</td>\n",
              "      <td>Ellipsis</td>\n",
              "    </tr>\n",
              "    <tr>\n",
              "      <th>3</th>\n",
              "      <td>1</td>\n",
              "      <td>False</td>\n",
              "      <td>active</td>\n",
              "      <td>1</td>\n",
              "      <td>0</td>\n",
              "      <td>0.0</td>\n",
              "      <td>3115</td>\n",
              "      <td>5</td>\n",
              "      <td>43</td>\n",
              "      <td>1</td>\n",
              "      <td>66dd2060-0aca-11e7-82f6-3863bb44ef7c</td>\n",
              "      <td>1677705198</td>\n",
              "      <td>0.0</td>\n",
              "      <td>0</td>\n",
              "      <td>0</td>\n",
              "      <td>0</td>\n",
              "      <td>0</td>\n",
              "      <td>Ellipsis</td>\n",
              "    </tr>\n",
              "    <tr>\n",
              "      <th>4</th>\n",
              "      <td>1</td>\n",
              "      <td>False</td>\n",
              "      <td>active</td>\n",
              "      <td>1</td>\n",
              "      <td>0</td>\n",
              "      <td>0.0</td>\n",
              "      <td>3891</td>\n",
              "      <td>13</td>\n",
              "      <td>7</td>\n",
              "      <td>1</td>\n",
              "      <td>b35ba3c0-d3e8-4b1a-b63b-73a7bb518c9e</td>\n",
              "      <td>1677705198</td>\n",
              "      <td>0.0</td>\n",
              "      <td>0</td>\n",
              "      <td>0</td>\n",
              "      <td>0</td>\n",
              "      <td>0</td>\n",
              "      <td>Ellipsis</td>\n",
              "    </tr>\n",
              "  </tbody>\n",
              "</table>\n",
              "</div>\n",
              "      <button class=\"colab-df-convert\" onclick=\"convertToInteractive('df-3b02f174-6535-4004-826b-cf3abea68117')\"\n",
              "              title=\"Convert this dataframe to an interactive table.\"\n",
              "              style=\"display:none;\">\n",
              "        \n",
              "  <svg xmlns=\"http://www.w3.org/2000/svg\" height=\"24px\"viewBox=\"0 0 24 24\"\n",
              "       width=\"24px\">\n",
              "    <path d=\"M0 0h24v24H0V0z\" fill=\"none\"/>\n",
              "    <path d=\"M18.56 5.44l.94 2.06.94-2.06 2.06-.94-2.06-.94-.94-2.06-.94 2.06-2.06.94zm-11 1L8.5 8.5l.94-2.06 2.06-.94-2.06-.94L8.5 2.5l-.94 2.06-2.06.94zm10 10l.94 2.06.94-2.06 2.06-.94-2.06-.94-.94-2.06-.94 2.06-2.06.94z\"/><path d=\"M17.41 7.96l-1.37-1.37c-.4-.4-.92-.59-1.43-.59-.52 0-1.04.2-1.43.59L10.3 9.45l-7.72 7.72c-.78.78-.78 2.05 0 2.83L4 21.41c.39.39.9.59 1.41.59.51 0 1.02-.2 1.41-.59l7.78-7.78 2.81-2.81c.8-.78.8-2.07 0-2.86zM5.41 20L4 18.59l7.72-7.72 1.47 1.35L5.41 20z\"/>\n",
              "  </svg>\n",
              "      </button>\n",
              "      \n",
              "  <style>\n",
              "    .colab-df-container {\n",
              "      display:flex;\n",
              "      flex-wrap:wrap;\n",
              "      gap: 12px;\n",
              "    }\n",
              "\n",
              "    .colab-df-convert {\n",
              "      background-color: #E8F0FE;\n",
              "      border: none;\n",
              "      border-radius: 50%;\n",
              "      cursor: pointer;\n",
              "      display: none;\n",
              "      fill: #1967D2;\n",
              "      height: 32px;\n",
              "      padding: 0 0 0 0;\n",
              "      width: 32px;\n",
              "    }\n",
              "\n",
              "    .colab-df-convert:hover {\n",
              "      background-color: #E2EBFA;\n",
              "      box-shadow: 0px 1px 2px rgba(60, 64, 67, 0.3), 0px 1px 3px 1px rgba(60, 64, 67, 0.15);\n",
              "      fill: #174EA6;\n",
              "    }\n",
              "\n",
              "    [theme=dark] .colab-df-convert {\n",
              "      background-color: #3B4455;\n",
              "      fill: #D2E3FC;\n",
              "    }\n",
              "\n",
              "    [theme=dark] .colab-df-convert:hover {\n",
              "      background-color: #434B5C;\n",
              "      box-shadow: 0px 1px 3px 1px rgba(0, 0, 0, 0.15);\n",
              "      filter: drop-shadow(0px 1px 2px rgba(0, 0, 0, 0.3));\n",
              "      fill: #FFFFFF;\n",
              "    }\n",
              "  </style>\n",
              "\n",
              "      <script>\n",
              "        const buttonEl =\n",
              "          document.querySelector('#df-3b02f174-6535-4004-826b-cf3abea68117 button.colab-df-convert');\n",
              "        buttonEl.style.display =\n",
              "          google.colab.kernel.accessAllowed ? 'block' : 'none';\n",
              "\n",
              "        async function convertToInteractive(key) {\n",
              "          const element = document.querySelector('#df-3b02f174-6535-4004-826b-cf3abea68117');\n",
              "          const dataTable =\n",
              "            await google.colab.kernel.invokeFunction('convertToInteractive',\n",
              "                                                     [key], {});\n",
              "          if (!dataTable) return;\n",
              "\n",
              "          const docLinkHtml = 'Like what you see? Visit the ' +\n",
              "            '<a target=\"_blank\" href=https://colab.research.google.com/notebooks/data_table.ipynb>data table notebook</a>'\n",
              "            + ' to learn more about interactive tables.';\n",
              "          element.innerHTML = '';\n",
              "          dataTable['output_type'] = 'display_data';\n",
              "          await google.colab.output.renderOutput(dataTable, element);\n",
              "          const docLink = document.createElement('div');\n",
              "          docLink.innerHTML = docLinkHtml;\n",
              "          element.appendChild(docLink);\n",
              "        }\n",
              "      </script>\n",
              "    </div>\n",
              "  </div>\n",
              "  "
            ],
            "text/plain": [
              "   is_renting  eightd_has_available_keys station_status  is_installed  \\\n",
              "0           1                      False         active             1   \n",
              "1           1                      False         active             1   \n",
              "2           1                      False         active             1   \n",
              "3           1                      False         active             1   \n",
              "4           1                      False         active             1   \n",
              "\n",
              "   num_docks_disabled  num_scooters_available legacy_id  num_docks_available  \\\n",
              "0                   0                     0.0      3092                    1   \n",
              "1                   0                     0.0       432                   33   \n",
              "2                   0                     0.0      3169                   69   \n",
              "3                   0                     0.0      3115                    5   \n",
              "4                   0                     0.0      3891                   13   \n",
              "\n",
              "   num_bikes_available  is_returning                            station_id  \\\n",
              "0                   25             1  66dd01c5-0aca-11e7-82f6-3863bb44ef7c   \n",
              "1                    5             1  66dc10d1-0aca-11e7-82f6-3863bb44ef7c   \n",
              "2                    5             1  66dd4ec7-0aca-11e7-82f6-3863bb44ef7c   \n",
              "3                   43             1  66dd2060-0aca-11e7-82f6-3863bb44ef7c   \n",
              "4                    7             1  b35ba3c0-d3e8-4b1a-b63b-73a7bb518c9e   \n",
              "\n",
              "   last_reported  num_scooters_unavailable  num_bikes_disabled  \\\n",
              "0     1677705200                       0.0                   1   \n",
              "1     1677705201                       0.0                   6   \n",
              "2     1677705197                       0.0                   0   \n",
              "3     1677705198                       0.0                   0   \n",
              "4     1677705198                       0.0                   0   \n",
              "\n",
              "   num_ebikes_available valet eightd_active_station_services ebike_prop  \n",
              "0                     9     0                              0   Ellipsis  \n",
              "1                     0     0                              0   Ellipsis  \n",
              "2                     5     0                              0   Ellipsis  \n",
              "3                     0     0                              0   Ellipsis  \n",
              "4                     0     0                              0   Ellipsis  "
            ]
          },
          "execution_count": 28,
          "metadata": {},
          "output_type": "execute_result"
        }
      ],
      "source": [
        "# Add column with the proportion of e-bikes available\n",
        "df_info[\"ebike_prop\"] = ... # enter your solution here\n",
        "df_info.head()"
      ]
    },
    {
      "cell_type": "markdown",
      "metadata": {
        "id": "4mZ3r3yrvc3X"
      },
      "source": [
        "__Question 2.2:__ What are the `station_id` of the stations with the greatest proportion of available e-bikes ? Display the first 5 stations."
      ]
    },
    {
      "cell_type": "code",
      "execution_count": 29,
      "metadata": {
        "id": "LuvIgy8Ivc3Y"
      },
      "outputs": [],
      "source": [
        "# enter your solution here"
      ]
    },
    {
      "cell_type": "markdown",
      "metadata": {
        "id": "yKixlJIZvc3Y"
      },
      "source": [
        "__Question 2.3:__ What are the `station_id` of the stations with the greatest proportion of available e-bikes where the number of available e-bikes is greater or equal to 10 (so that you can maximize your chances to get an e-bike by the time you reach the station) ? Display the first 10 stations id with the proportion, number of docks of the station and the number of bikes available."
      ]
    },
    {
      "cell_type": "code",
      "execution_count": 30,
      "metadata": {
        "id": "378ph2E7vc3Z"
      },
      "outputs": [],
      "source": [
        "# enter your solution here"
      ]
    },
    {
      "cell_type": "markdown",
      "metadata": {
        "id": "nUPJVJiLvc3Z"
      },
      "source": [
        "__Question 2.4:__ It is often interesting to find simple statistics about a column like the mean, or the highest values. Whhat is the proportion of stations with a proportion of available e-bikes >= 50 % ? Same question for a proportion of 75 %."
      ]
    },
    {
      "cell_type": "code",
      "execution_count": 31,
      "metadata": {
        "id": "ywmQVyqYvc3Z"
      },
      "outputs": [],
      "source": [
        "# Display the statistics of the initial data file for the newly_created column \"ebike_prop\"\n",
        "# enter your solution here"
      ]
    },
    {
      "cell_type": "markdown",
      "metadata": {
        "id": "ez35041svc3a"
      },
      "source": [
        "__Question 2.5:__ Print the number of disabled bikes in the entire network."
      ]
    },
    {
      "cell_type": "code",
      "execution_count": 32,
      "metadata": {
        "id": "2Bm5UcTavc3a"
      },
      "outputs": [],
      "source": [
        "# enter your solution here"
      ]
    },
    {
      "cell_type": "markdown",
      "metadata": {
        "id": "hZhwxyTjvc3a"
      },
      "source": [
        "__Question 2.6:__ Count the number of stations with at least 5 bikes unavailable. Display the following fields:\n",
        "- station_id,\n",
        "- station_status,\n",
        "- num_bikes_available,\n",
        "- num_docks_available,\n",
        "- num_bikes_disabled"
      ]
    },
    {
      "cell_type": "markdown",
      "metadata": {
        "id": "ESYgL8A7Mc_P"
      },
      "source": [
        "---\n",
        "## Writing the data to a CSV\n",
        "\n",
        "With the above, we just scratched the surface of what it means to do data processing.\n",
        "\n",
        "After you did your basic data processing, you may want to save the DataFrame in a new CSV file, so that you don't have to repeat the same pre-processing everytime. You can use the [to_csv](https://datatofish.com/export-dataframe-to-csv/) function.\n",
        "\n",
        "**Note**: When you use Google Colab, this file will only be saved in your temporary virtual machine space and will be deleted once your Colab instance is closed (i.e. you close the window). If you want to explore more permanent solutions of saving your file look [here](https://colab.research.google.com/notebooks/io.ipynb).\n"
      ]
    },
    {
      "cell_type": "code",
      "execution_count": 33,
      "metadata": {
        "id": "geghC3KjMc_Q"
      },
      "outputs": [],
      "source": [
        "# uncomment the following to save the file\n",
        "# df.to_csv(\"my_new_file.csv\", sep=\",\")"
      ]
    }
  ],
  "metadata": {
    "colab": {
      "collapsed_sections": [
        "RJYHORgqMc-x"
      ],
      "include_colab_link": true,
      "provenance": []
    },
    "kernel_info": {
      "name": "python3"
    },
    "kernelspec": {
      "display_name": "base",
      "language": "python",
      "name": "python3"
    },
    "language_info": {
      "codemirror_mode": {
        "name": "ipython",
        "version": 3
      },
      "file_extension": ".py",
      "mimetype": "text/x-python",
      "name": "python",
      "nbconvert_exporter": "python",
      "pygments_lexer": "ipython3",
      "version": "3.9.15"
    },
    "nteract": {
      "version": "0.15.0"
    },
    "vscode": {
      "interpreter": {
        "hash": "b0cc462c96df3621bcc58e01fadcdf9264a069c5c4bbf07201077bb349d3c6bf"
      }
    }
  },
  "nbformat": 4,
  "nbformat_minor": 0
}
