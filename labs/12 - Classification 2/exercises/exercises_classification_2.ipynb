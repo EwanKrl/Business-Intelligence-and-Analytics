{
  "cells": [
    {
      "cell_type": "markdown",
      "metadata": {
        "id": "view-in-github",
        "colab_type": "text"
      },
      "source": [
        "<a href=\"https://colab.research.google.com/github/michalis0/Business-Intelligence-and-Analytics/blob/master/labs/12%20-%20Classification%202/exercises/exercises_classification_2.ipynb\" target=\"_parent\"><img src=\"https://colab.research.google.com/assets/colab-badge.svg\" alt=\"Open In Colab\"/></a>"
      ]
    },
    {
      "cell_type": "markdown",
      "metadata": {
        "id": "EcgnGJdJ4QX8"
      },
      "source": [
        "<h1 align=\"center\"> EXERCISES - CLASSIFICATION 2</h1>\n",
        "\n",
        "<div>\n",
        "<td>\n",
        "<img src=\"https://upload.wikimedia.org/wikipedia/commons/thumb/2/2b/Logo_Universit%C3%A9_de_Lausanne.svg/2000px-Logo_Universit%C3%A9_de_Lausanne.svg.png\" style=\"padding-right:10px;width:240px;float:left\"/></td>\n",
        "<h2 style=\"white-space: nowrap\">Business Intelligence and Analytics</h2></td>\n",
        "<hr style=\"clear:both\">\n",
        "<p style=\"font-size:0.85em; margin:2px; text-align:justify\">\n",
        "\n",
        "</div>"
      ]
    },
    {
      "cell_type": "markdown",
      "metadata": {
        "id": "R1BSf8GX2sQd"
      },
      "source": [
        "## KNN and Decision Trees\n",
        "\n",
        "In this lab we will work on K Nearest Neighbor and Decision Trees for classification."
      ]
    },
    {
      "cell_type": "code",
      "execution_count": null,
      "metadata": {
        "id": "2D9mQhcj2sQe"
      },
      "outputs": [],
      "source": [
        "%matplotlib inline\n",
        "import numpy as np\n",
        "import matplotlib.pyplot as plt\n",
        "from matplotlib import collections  as mc\n",
        "%load_ext autoreload\n",
        "%autoreload 2\n",
        "import pandas as pd\n",
        "import seaborn as sns\n",
        "from sklearn.preprocessing import LabelEncoder, OneHotEncoder\n",
        "sns.set_style(\"white\")"
      ]
    },
    {
      "cell_type": "code",
      "execution_count": null,
      "metadata": {
        "id": "Q1CKWYwc2sQh"
      },
      "outputs": [],
      "source": [
        "np.random.seed(72)"
      ]
    },
    {
      "cell_type": "markdown",
      "metadata": {
        "id": "bTVsCvCv2sQl"
      },
      "source": [
        "### Load data\n",
        "\n",
        "We will start with the `heart disease` dataset from last week. Here's a description of the attributes in the data-set:\n",
        "\n",
        "> 1. age\n",
        "> 2. sex\n",
        "> 3. chest pain type (4 values)\n",
        "> 4. resting blood pressure\n",
        "> 5. serum cholestoral in mg/dl\n",
        "> 6. fasting blood sugar > 120 mg/dl\n",
        "> 7. resting electrocardiographic results (values 0,1,2)\n",
        "> 8. maximum heart rate achieved\n",
        "> 9. exercise induced angina\n",
        "> 10. target: 1: presence 0: absence of a heart disease"
      ]
    },
    {
      "cell_type": "code",
      "execution_count": null,
      "metadata": {
        "id": "5trH0DXt2sQl"
      },
      "outputs": [],
      "source": [
        "# data-set: heart.csv\n",
        "df = pd.read_csv(\"https://raw.githubusercontent.com/michalis0/Business-Intelligence-and-Analytics/master/data/heart.csv\")\n",
        "df.head()"
      ]
    },
    {
      "cell_type": "code",
      "execution_count": null,
      "metadata": {
        "id": "yFUEig7y2sQp"
      },
      "outputs": [],
      "source": [
        "from sklearn.neighbors import KNeighborsClassifier\n",
        "from sklearn.preprocessing import StandardScaler\n",
        "from sklearn import datasets"
      ]
    },
    {
      "cell_type": "markdown",
      "metadata": {
        "id": "7BLOy4W32sQt"
      },
      "source": [
        "### K-neirest neighbor classification\n",
        "\n",
        "Let's start with only 2 features: age and maximum heart rate achieved (thalach). Define your features and target variable."
      ]
    },
    {
      "cell_type": "code",
      "execution_count": null,
      "metadata": {
        "id": "ki6QRs6t2sQu"
      },
      "outputs": [],
      "source": [
        "X = \"YOUR CODE HERE\"\n",
        "y = \"YOUR CODE HERE\""
      ]
    },
    {
      "cell_type": "markdown",
      "metadata": {
        "id": "IjPq4TjY4I-C"
      },
      "source": [
        "Split your data set into train and test subsets. Use the sklearn `train_test_split` with `test_size=0.2` and `random_state=72`."
      ]
    },
    {
      "cell_type": "code",
      "execution_count": null,
      "metadata": {
        "id": "iNvVsTIp2sQx"
      },
      "outputs": [],
      "source": [
        "from sklearn.model_selection import train_test_split\n",
        "# YOUR CODE HERE"
      ]
    },
    {
      "cell_type": "markdown",
      "metadata": {
        "id": "Vw5rbTEV3hnH"
      },
      "source": [
        "Define a KNN model with __3__ number of neighbors.\n"
      ]
    },
    {
      "cell_type": "code",
      "execution_count": null,
      "metadata": {
        "id": "DQM7lDu1uMUy"
      },
      "outputs": [],
      "source": [
        "#Create model\n",
        "model = \"YOUR CODE HERE\""
      ]
    },
    {
      "cell_type": "markdown",
      "metadata": {
        "id": "MyxTAXGs3nez"
      },
      "source": [
        "Fit your model now using the train set."
      ]
    },
    {
      "cell_type": "code",
      "execution_count": null,
      "metadata": {
        "id": "F9WckoiSD8kv"
      },
      "outputs": [],
      "source": [
        "model.fit(\"YOUR CODE HERE\")"
      ]
    },
    {
      "cell_type": "markdown",
      "metadata": {
        "id": "WCu8nkWe3sXG"
      },
      "source": [
        "Compare your train and test accuracy for the KNN model."
      ]
    },
    {
      "cell_type": "code",
      "execution_count": null,
      "metadata": {
        "id": "-YK9xRp6CIyP"
      },
      "outputs": [],
      "source": [
        "# train accuracy\n",
        "\"YOUR CODE HERE\""
      ]
    },
    {
      "cell_type": "code",
      "execution_count": null,
      "metadata": {
        "id": "4V2KZ7XTCNNK"
      },
      "outputs": [],
      "source": [
        "# test accuracy\n",
        "\"YOUR CODE HERE\""
      ]
    },
    {
      "cell_type": "markdown",
      "metadata": {
        "id": "WYS-bFxJrZNw"
      },
      "source": [
        "Calculate the base rate"
      ]
    },
    {
      "cell_type": "code",
      "execution_count": null,
      "metadata": {
        "id": "EFsMa1m2r7pj"
      },
      "outputs": [],
      "source": [
        "#Compute the base rate\n",
        "#Base rate = (most frequent class)/(total observations)\n",
        "nbr_heart_disease = df.loc[df[\"YOUR CODE HERE\"] == 1].shape[0]\n",
        "print(\"#Heart disease = \", \"YOUR CODE HERE\")\n",
        "\n",
        "nbr_no_heart_disease = df.loc[df[\"YOUR CODE HERE\"] == 0].shape[0]\n",
        "print(\"#No heart disease = \", \"YOUR CODE HERE\")\n",
        "\n",
        "print(\"Baserate = \", \"YOUR CODE HERE\")"
      ]
    },
    {
      "cell_type": "markdown",
      "metadata": {
        "id": "cjgp2sfVrb8B"
      },
      "source": [
        "Show the confusion matrix for the KNN model."
      ]
    },
    {
      "cell_type": "code",
      "execution_count": null,
      "metadata": {
        "id": "2DsK5wpLrfSt"
      },
      "outputs": [],
      "source": [
        "#Confusion matrix\n",
        "from sklearn.metrics import confusion_matrix\n",
        "confusion_matrix(\"YOUR CODE HERE\")"
      ]
    },
    {
      "cell_type": "markdown",
      "metadata": {
        "id": "BapRfVTr8N5Z"
      },
      "source": [
        "For which combination of K (number of neighbors), the value `p` (distance metric), and weight do we obtain the best accurary? Use the values indicated in the following code cell.\n",
        "\n",
        "__Important: this exercise answers the Moodle quiz question 1.__"
      ]
    },
    {
      "cell_type": "code",
      "execution_count": null,
      "metadata": {
        "id": "OAzuyS0E8W_E"
      },
      "outputs": [],
      "source": [
        "n_neighbors = [2,3,4,5,6,7]\n",
        "p_values = [1,2]\n",
        "weights = ['uniform', 'distance']\n",
        "for n in n_neighbors:\n",
        "    for p in p_values:\n",
        "        for w in weights:\n",
        "            model = KNeighborsClassifier(n_neighbors=n, p=p, weights=w)\n",
        "            model.fit(\"YOUR CODE HERE\")\n",
        "            print(\"accuracy for k = \" + str(n) + \", p = \" + str(p) + \", weight = \" + w + \" : \" + str(model.score(\"YOUR CODE HERE\")))"
      ]
    },
    {
      "cell_type": "markdown",
      "metadata": {
        "id": "iwF1RHqA75K6"
      },
      "source": [
        "Now, using the KNN model with the best parameters you achieved above, let's try to predict the class and probability of correct classification for Age = 50, Thalach = 130 and Age = 70, Thalach = 160"
      ]
    },
    {
      "cell_type": "code",
      "source": [
        "# define and train the model with the best parameters\n",
        "model = KNeighborsClassifier(\"YOUR CODE HERE\")\n",
        "model.fit(\"YOUR CODE HERE\")"
      ],
      "metadata": {
        "id": "-QaYk6UE5WYA"
      },
      "execution_count": null,
      "outputs": []
    },
    {
      "cell_type": "code",
      "execution_count": null,
      "metadata": {
        "id": "jxYtT2fU75K7"
      },
      "outputs": [],
      "source": [
        "print(model.predict(\"YOUR CODE HERE\"))\n",
        "print(model.predict_proba(\"YOUR CODE HERE\"))"
      ]
    },
    {
      "cell_type": "markdown",
      "metadata": {
        "id": "QRpOrur22sRV"
      },
      "source": [
        "Now let's try more numerical features and see if the accuracy improves.\n",
        "We will use now \"age\", \"thalach\", \"trestbps\" and \"chol\".\n",
        "Define your features and your target variable."
      ]
    },
    {
      "cell_type": "code",
      "execution_count": null,
      "metadata": {
        "id": "uDnaUYF92sRV"
      },
      "outputs": [],
      "source": [
        "X = \"YOUR CODE HERE\"\n",
        "y = \"YOUR CODE HERE\""
      ]
    },
    {
      "cell_type": "markdown",
      "metadata": {
        "id": "0q09jUP34hme"
      },
      "source": [
        "Split your data set into train and test subsets. Again use `test_size=0.2, random_state=72`."
      ]
    },
    {
      "cell_type": "code",
      "execution_count": null,
      "metadata": {
        "id": "1g55iCbL2sRY"
      },
      "outputs": [],
      "source": [
        "# YOUR CODE HERE"
      ]
    },
    {
      "cell_type": "markdown",
      "metadata": {
        "id": "CsuD0tPc4ugm"
      },
      "source": [
        "Standardize your data using the sklearn standard scaler."
      ]
    },
    {
      "cell_type": "code",
      "execution_count": null,
      "metadata": {
        "id": "R9ScYZRs2sRd"
      },
      "outputs": [],
      "source": [
        "standardize = StandardScaler()\n",
        "\"YOUR CODE HERE\""
      ]
    },
    {
      "cell_type": "code",
      "execution_count": null,
      "metadata": {
        "id": "I9Y0TMkp2sRg"
      },
      "outputs": [],
      "source": [
        "X_train = \"YOUR CODE HERE\"\n",
        "X_test = \"YOUR CODE HERE\""
      ]
    },
    {
      "cell_type": "markdown",
      "metadata": {
        "id": "QQOpg_A04zNw"
      },
      "source": [
        "Fit your model using the train data. Let's use the same KNN model that you defined above.\n",
        "\n"
      ]
    },
    {
      "cell_type": "code",
      "execution_count": null,
      "metadata": {
        "id": "8MMBMLJZ2sRk"
      },
      "outputs": [],
      "source": [
        "model.fit(\"YOUR CODE HERE\")"
      ]
    },
    {
      "cell_type": "markdown",
      "metadata": {
        "id": "pEOw7KN8421R"
      },
      "source": [
        "Compare your train and test accurary."
      ]
    },
    {
      "cell_type": "code",
      "execution_count": null,
      "metadata": {
        "id": "nwPGNVyx2sRp"
      },
      "outputs": [],
      "source": [
        "# train accuracy\n",
        "\"YOUR CODE HERE\""
      ]
    },
    {
      "cell_type": "code",
      "execution_count": null,
      "metadata": {
        "id": "w2cIMQD-2sRs"
      },
      "outputs": [],
      "source": [
        "# test accuracy\n",
        "\"YOUR CODE HERE\""
      ]
    },
    {
      "cell_type": "code",
      "execution_count": null,
      "metadata": {
        "id": "wn-EZaVmD0of"
      },
      "outputs": [],
      "source": [
        "#Confusion matrix for the test predictions\n",
        "from sklearn.metrics import confusion_matrix\n",
        "\"YOUR CODE HERE\""
      ]
    },
    {
      "cell_type": "markdown",
      "metadata": {
        "id": "8LyUkgxEejXV"
      },
      "source": [
        "### Decision tree classification\n",
        "\n",
        "We will now use the decision tree algorithm for classification. We will use the same dataset as the above exercise, i.e., we use the 4 features \"age\", \"thalach\", \"trestbps\", \"chol\".\n",
        "\n",
        "Import the necessary libraries for decision tree classification, define the model and train your model. The test it. What is the accuracy of your model (using the test set)?"
      ]
    },
    {
      "cell_type": "code",
      "execution_count": null,
      "metadata": {
        "id": "TLeAUxpCev2f"
      },
      "outputs": [],
      "source": [
        "from sklearn import tree\n",
        "from sklearn.tree import DecisionTreeClassifier\n",
        "model = DecisionTreeClassifier(max_depth = 1)\n",
        "model.fit(\"YOUR CODE HERE\")\n",
        "print(model.score(\"YOUR CODE HERE\"))"
      ]
    },
    {
      "cell_type": "markdown",
      "metadata": {
        "id": "foQ2ukBEkxmo"
      },
      "source": [
        "How can you improve your model?\n",
        "\n",
        "As you may know increasing the depth of the decision tree can improve its accuracy, but it can also lead to overfitting! Using the range of values for depth provided in the cell below, find the depth value that leads to the best test accuracy.\n",
        "\n",
        "__Important: This exercise answers the Moodle quiz question 2.__"
      ]
    },
    {
      "cell_type": "code",
      "execution_count": null,
      "metadata": {
        "id": "qfJ0pPZHexKG"
      },
      "outputs": [],
      "source": [
        "best_acc = 0\n",
        "for depth in range(1, 8):\n",
        "  model = DecisionTreeClassifier(\"YOUR CODE HERE\")\n",
        "  model.fit(\"YOUR CODE HERE\")\n",
        "  accuracy = model.score(\"YOUR CODE HERE\")\n",
        "  if accuracy > best_acc:\n",
        "    best_acc = accuracy\n",
        "    best_depth = depth\n",
        "print(\"best depth: \", \"YOUR CODE HERE\")"
      ]
    }
  ],
  "metadata": {
    "colab": {
      "name": "Exercises_Classification_2.ipynb",
      "provenance": [],
      "include_colab_link": true
    },
    "kernelspec": {
      "display_name": "Python 3",
      "language": "python",
      "name": "python3"
    },
    "language_info": {
      "codemirror_mode": {
        "name": "ipython",
        "version": 3
      },
      "file_extension": ".py",
      "mimetype": "text/x-python",
      "name": "python",
      "nbconvert_exporter": "python",
      "pygments_lexer": "ipython3",
      "version": "3.6.9"
    }
  },
  "nbformat": 4,
  "nbformat_minor": 0
}