{
  "cells": [
    {
      "attachments": {},
      "cell_type": "markdown",
      "metadata": {
        "colab_type": "text",
        "id": "view-in-github"
      },
      "source": [
        "<a href=\"https://colab.research.google.com/github/michalis0/Business-Intelligence-and-Analytics/blob/master/BIA_assignments/BIA_assignment_2023/BIA_assignment_2023.ipynb\" target=\"_parent\"><img src=\"https://colab.research.google.com/assets/colab-badge.svg\" alt=\"Open In Colab\"/></a>"
      ]
    },
    {
      "cell_type": "markdown",
      "metadata": {},
      "source": [
        "<h1 align=\"center\"> GRADED ASSIGNMENT</h1>\n",
        "\n",
        "<div>\n",
        "<td> \n",
        "<img src=\"https://upload.wikimedia.org/wikipedia/commons/thumb/2/2b/Logo_Universit%C3%A9_de_Lausanne.svg/2000px-Logo_Universit%C3%A9_de_Lausanne.svg.png\" style=\"padding-right:10px;width:240px;float:left\"/></td>\n",
        "<h2 style=\"white-space: nowrap\">Business Intelligence and Analytics</h2></td>\n",
        "<hr style=\"clear:both\">\n",
        "<p style=\"font-size:0.85em; margin:2px; text-align:justify\">\n",
        "\n",
        "</div>"
      ]
    },
    {
      "attachments": {},
      "cell_type": "markdown",
      "metadata": {
        "id": "fqhjIaf-moHf"
      },
      "source": [
        "Welcome to the Assignment! \n",
        "\n",
        "This notebooks contains two **independent** tasks. You will have to complete both tasks to receive a grade.\n",
        "- The first task is about a Youtube video dataset.\n",
        "- The second task is about a financial dataset on credit information of clients\n",
        "\n",
        "In each part, we will provide you with a set of questions. You will have to answer these questions by writing code in the corresponding cells before ansering the quiz questions on Moodle.\n",
        "Then, you will have to perform the following two steps:\n",
        "- Answer the quiz questions on Moodle.\n",
        "- Submit this notebook on Moodle\n",
        "\n",
        "Make sure to follow all instructions carefully.\n",
        "\n",
        "Good luck! 🍀\n",
        "\n",
        "**Note**: Have your notebook with the answers ready for answering the quiz. \n",
        "\n",
        "**Questions**: You can post your questions in Moodle in the dedicated forum. No questions will be answered by email.\n",
        "\n",
        "When creating a question, please make sure to provide a clear description of your problem and the code you have already tried.\n",
        "\n",
        "Also in the object  of the message, use the following format: Part X - Question Y.Z where :\n",
        "- X is the part number,\n",
        "- Y is the question number\n",
        "- Z is the sub-question number."
      ]
    },
    {
      "attachments": {},
      "cell_type": "markdown",
      "metadata": {
        "id": "s9syfj48o8JA"
      },
      "source": [
        "## PART I - DATA CLEANING AND EXPLORATION\n",
        "First a few preliminary steps to set you up. You can execute the cells below to get you started."
      ]
    },
    {
      "cell_type": "code",
      "execution_count": null,
      "metadata": {
        "id": "KbBjnc2xmnDW"
      },
      "outputs": [],
      "source": [
        "# Import required packages\n",
        "# You should not need additonal packages for this part but you can import any package you want\n",
        "\n",
        "import pandas as pd\n",
        "import numpy as np\n",
        "import matplotlib.pyplot as plt\n",
        "import seaborn as sns\n",
        "\n",
        "%matplotlib inline\n",
        "sns.set_style('darkgrid')\n",
        "\n",
        "# Do not change the following line\n",
        "pd.set_option('display.float_format', lambda x: '%.2f' % x)"
      ]
    },
    {
      "cell_type": "code",
      "execution_count": null,
      "metadata": {},
      "outputs": [],
      "source": [
        "pd.read_csv('https://storage.googleapis.com/bia-assignment/youtube.csv')"
      ]
    },
    {
      "cell_type": "code",
      "execution_count": null,
      "metadata": {
        "colab": {
          "base_uri": "https://localhost:8080/",
          "height": 437
        },
        "id": "NrlTbxuWpLn8",
        "outputId": "82b54fc5-27b3-4977-daea-653c7d40f505"
      },
      "outputs": [],
      "source": [
        "# Load the data\n",
        "df = pd.read_csv('https://storage.googleapis.com/bia-assignment/youtube.csv')\n",
        "\n",
        "# Visualise first 3 rows\n",
        "df.sort_values(by='upload_date', ascending=False).head(3)"
      ]
    },
    {
      "attachments": {},
      "cell_type": "markdown",
      "metadata": {
        "id": "JUy85CCApovj"
      },
      "source": [
        "This Youtube dataset contains informations about multiple videos uploaded on youtube.\n",
        "- **channel** : the channel id of that has uploaded the video\n",
        "- **upload_date** : the date when the video has been uploaded on Youtube\n",
        "- **title** : the title of the video\n",
        "- **tags** : a list of tags that the author of the video has allocated to its video \n",
        "- **duration** : the duration of the video in seconds\n",
        "- **view_count** : the number of views of a video\n",
        "- **average_rating** : the average rating of the video when the metadata have been extracted\n",
        "- **height, width** : the maxinal resolution of the video\n",
        "- **channel_cat** : the category to which the channel belongs"
      ]
    },
    {
      "attachments": {},
      "cell_type": "markdown",
      "metadata": {
        "id": "Af0rd8CPrg_r"
      },
      "source": [
        "### Question 1. How many observations (rows) and columns does the dataset contain?\n",
        "Print the number of rows and colums of the dataset."
      ]
    },
    {
      "cell_type": "code",
      "execution_count": null,
      "metadata": {
        "id": "7HOzM_sJrgRM"
      },
      "outputs": [],
      "source": [
        "# YOUR CODE HERE\n",
        "nb_rows = ...\n",
        "nb_cols = ...\n",
        "print('Number of rows: ', nb_rows, sep='\\t')\n",
        "print('Number of columns: ', nb_cols, sep='\\t')"
      ]
    },
    {
      "attachments": {},
      "cell_type": "markdown",
      "metadata": {
        "id": "bUoTjOmOs5Ew"
      },
      "source": [
        "Print the number of null values in each column"
      ]
    },
    {
      "cell_type": "code",
      "execution_count": null,
      "metadata": {},
      "outputs": [],
      "source": [
        "# YOUR CODE HERE"
      ]
    },
    {
      "cell_type": "markdown",
      "metadata": {},
      "source": [
        "Now please check what are the data types of the different attributes (columns)."
      ]
    },
    {
      "cell_type": "code",
      "execution_count": null,
      "metadata": {
        "id": "y5mbuGOitC-5"
      },
      "outputs": [],
      "source": [
        "# YOUR CODE HERE"
      ]
    },
    {
      "attachments": {},
      "cell_type": "markdown",
      "metadata": {
        "id": "zGb2GIUWtX8p"
      },
      "source": [
        "Change the data type for the following columns: upload_date.\n",
        "It should now be a date.\n",
        "\n",
        "**Hint**: make sure that days, month, year are encoded correctly. For this you can check what the date looks like before and after the encoding. "
      ]
    },
    {
      "cell_type": "code",
      "execution_count": null,
      "metadata": {
        "id": "PpxVbbuQttyn"
      },
      "outputs": [],
      "source": [
        "# YOUR CODE HERE\n",
        "df['upload_date'] = ..."
      ]
    },
    {
      "attachments": {},
      "cell_type": "markdown",
      "metadata": {
        "id": "O-tRXMTWvVBi"
      },
      "source": [
        "### Question 2. For which order period have these data samples been collected?"
      ]
    },
    {
      "attachments": {},
      "cell_type": "markdown",
      "metadata": {},
      "source": [
        "#### Question 2.1: What is the upload date of the oldest video ? and of the most recent video ?"
      ]
    },
    {
      "cell_type": "code",
      "execution_count": null,
      "metadata": {
        "id": "ikVQNUBzveL5"
      },
      "outputs": [],
      "source": [
        "# YOUR CODE HERE\n",
        "min_date = ...\n",
        "max_date = ...\n",
        "print(f\"The minimum upload date is {min_date}\")\n",
        "print(f\"The maximum upload date is {max_date}\")"
      ]
    },
    {
      "attachments": {},
      "cell_type": "markdown",
      "metadata": {},
      "source": [
        "#### Question 2.2: What is the view count of the oldest video? and of the newest video?"
      ]
    },
    {
      "cell_type": "code",
      "execution_count": null,
      "metadata": {},
      "outputs": [],
      "source": [
        "# YOUR CODE HERE\n",
        "oldest_video_view = ...\n",
        "print(f\"The oldest video has {oldest_video_view} views\")\n",
        "\n",
        "most_recent_video_view = ...\n",
        "print(f\"The most recent video has {most_recent_video_view} views\")"
      ]
    },
    {
      "attachments": {},
      "cell_type": "markdown",
      "metadata": {
        "id": "s5icPwziwAym"
      },
      "source": [
        "### Question 3. Categories analysis"
      ]
    },
    {
      "attachments": {},
      "cell_type": "markdown",
      "metadata": {},
      "source": [
        "#### Question 3.1: What are the average view count and total view count per category (\"Gaming\" and \"Howto & Stlye\") ?\n",
        "**Hint**: Use the [`group_by()`](https://pandas.pydata.org/pandas-docs/stable/reference/api/pandas.DataFrame.groupby.html) function and refer to its documentation for examples on how to use it. The function `group_by()` is used to group the data by a certain column and is then followed by an aggregation function such as `sum()` or `mean()` which will be applied to the grouped data.\n",
        "For example, to get the average income per country, you can use the following code:\n",
        "```python\n",
        "```python\n",
        "df.groupby('country')['income'].mean()\n",
        "```\n",
        "\n",
        "Or if you want to get different statistics for different columns, you can use the following code:\n",
        "```python\n",
        "df.groupby('country').agg({'population': 'sum', 'income': ['mean', 'sdt']})\n",
        "```\n",
        "This will return a dataframe with the sum of the population and the mean and standard deviation of the average income per country."
      ]
    },
    {
      "cell_type": "code",
      "execution_count": null,
      "metadata": {
        "id": "7IRv8Vwpwvzt"
      },
      "outputs": [],
      "source": [
        "# YOUR CODE HERE"
      ]
    },
    {
      "attachments": {},
      "cell_type": "markdown",
      "metadata": {},
      "source": [
        "#### Question 3.2: On one graph, plot monthly views for each channel category with a lineplot.\n",
        "**Hint:** You may want to add new columns such as month and year and then do a groupy on these two columns by for the plot. Alternatively, another option is to use the [`resample()`](https://pandas.pydata.org/pandas-docs/stable/reference/api/pandas.DataFrame.resample.html) function."
      ]
    },
    {
      "cell_type": "code",
      "execution_count": null,
      "metadata": {},
      "outputs": [],
      "source": [
        "# Add columns for year and month\n",
        "# YOUR CODE HERE"
      ]
    },
    {
      "cell_type": "code",
      "execution_count": null,
      "metadata": {},
      "outputs": [],
      "source": [
        "# Create a figure and plot the line chart of average views for the category Gaming\n",
        "# YOUR CODE HERE"
      ]
    },
    {
      "attachments": {},
      "cell_type": "markdown",
      "metadata": {},
      "source": [
        "#### Question 3.3: What is the correlation between the average monthly views of each channel category for the year 2012 ?\n",
        "__Hint :__ You may want to filter data for the year 2012 first, then get monthly average views as a time series for both channels before computing the correlation."
      ]
    },
    {
      "cell_type": "code",
      "execution_count": null,
      "metadata": {},
      "outputs": [],
      "source": [
        "# YOUR CODE HERE"
      ]
    },
    {
      "attachments": {},
      "cell_type": "markdown",
      "metadata": {
        "id": "w6-mD_F1xKzN"
      },
      "source": [
        "### Question 4. Number of tags and the average rating of the videos"
      ]
    },
    {
      "attachments": {},
      "cell_type": "markdown",
      "metadata": {},
      "source": [
        "#### Question 4.1: Add a colum to the dataframe that contains the number of tags related to this video"
      ]
    },
    {
      "cell_type": "code",
      "execution_count": null,
      "metadata": {},
      "outputs": [],
      "source": [
        "# YOUR CODE HERE"
      ]
    },
    {
      "attachments": {},
      "cell_type": "markdown",
      "metadata": {},
      "source": [
        "#### Question 4.2: Compute the correlation between the number of tags and the average rating of videos"
      ]
    },
    {
      "cell_type": "code",
      "execution_count": null,
      "metadata": {},
      "outputs": [],
      "source": [
        "# YOUR CODE HERE"
      ]
    },
    {
      "attachments": {},
      "cell_type": "markdown",
      "metadata": {},
      "source": [
        "#### Question 4.3: Compute the correlation between the length of the title and the average rating of videos"
      ]
    },
    {
      "cell_type": "code",
      "execution_count": null,
      "metadata": {},
      "outputs": [],
      "source": [
        "# YOUR CODE HERE"
      ]
    },
    {
      "attachments": {},
      "cell_type": "markdown",
      "metadata": {
        "id": "dugn_inryN-z"
      },
      "source": [
        "### Question 5. Average duration of videos"
      ]
    },
    {
      "attachments": {},
      "cell_type": "markdown",
      "metadata": {},
      "source": [
        "#### Question 5.1: Compute the average duration of videos each year."
      ]
    },
    {
      "cell_type": "code",
      "execution_count": null,
      "metadata": {},
      "outputs": [],
      "source": [
        "# Compute the average duration of videos each year."
      ]
    },
    {
      "attachments": {},
      "cell_type": "markdown",
      "metadata": {},
      "source": [
        "#### Question 5.2: Plot the average duration of video per year for both categories on the same plot."
      ]
    },
    {
      "cell_type": "code",
      "execution_count": null,
      "metadata": {
        "id": "lFmlIqrZzCsW"
      },
      "outputs": [],
      "source": [
        "# YOUR CODE HERE"
      ]
    },
    {
      "attachments": {},
      "cell_type": "markdown",
      "metadata": {
        "id": "y6Q9dfLR2MgP"
      },
      "source": [
        "## PART II - CLASSIFICATION\n",
        "For the second part, we will use a bank related dataset.   \n",
        "The dataset contains information on a company's employees such as:\n",
        "\n",
        "* customer ID\n",
        "* customer age\n",
        "* gender\n",
        "* education level\n",
        "* marital status\n",
        "* income category\n",
        "* credit limit\n",
        "* ...\n"
      ]
    },
    {
      "cell_type": "code",
      "execution_count": 2,
      "metadata": {},
      "outputs": [],
      "source": [
        "# All necessary imports\n",
        "# You should not need additonal packages for this part but you can import any package you want\n",
        "\n",
        "from sklearn.cluster import KMeans\n",
        "import pandas as pd\n",
        "import numpy as np\n",
        "import plotly.express as px\n",
        "import matplotlib.pyplot as plt\n",
        "import seaborn as sns\n",
        "\n",
        "%matplotlib inline\n",
        "sns.set_style('darkgrid')\n",
        "\n",
        "# Do not change the following line\n",
        "pd.set_option('display.float_format', lambda x: '%.2f' % x)"
      ]
    },
    {
      "attachments": {},
      "cell_type": "markdown",
      "metadata": {},
      "source": [
        "### Load the data"
      ]
    },
    {
      "attachments": {},
      "cell_type": "markdown",
      "metadata": {},
      "source": [
        "Load the dataset in a dataframe called `df` and visualise the first 5 rows."
      ]
    },
    {
      "cell_type": "code",
      "execution_count": 3,
      "metadata": {},
      "outputs": [
        {
          "data": {
            "text/html": [
              "<div>\n",
              "<style scoped>\n",
              "    .dataframe tbody tr th:only-of-type {\n",
              "        vertical-align: middle;\n",
              "    }\n",
              "\n",
              "    .dataframe tbody tr th {\n",
              "        vertical-align: top;\n",
              "    }\n",
              "\n",
              "    .dataframe thead th {\n",
              "        text-align: right;\n",
              "    }\n",
              "</style>\n",
              "<table border=\"1\" class=\"dataframe\">\n",
              "  <thead>\n",
              "    <tr style=\"text-align: right;\">\n",
              "      <th></th>\n",
              "      <th>CustomerID</th>\n",
              "      <th>Customer_Age</th>\n",
              "      <th>Gender</th>\n",
              "      <th>Dependent_count</th>\n",
              "      <th>Education_Level</th>\n",
              "      <th>Marital_Status</th>\n",
              "      <th>Income_Category</th>\n",
              "      <th>Months_on_book</th>\n",
              "      <th>Total_Relationship_Count</th>\n",
              "      <th>Months_Inactive_12_mon</th>\n",
              "      <th>Contacts_Count_12_mon</th>\n",
              "      <th>Credit_Limit</th>\n",
              "      <th>Total_Revolving_Bal</th>\n",
              "      <th>Avg_Open_To_Buy</th>\n",
              "      <th>Total_Amt_Chng_Q4_Q1</th>\n",
              "      <th>Total_Trans_Amt</th>\n",
              "      <th>Total_Trans_Ct</th>\n",
              "      <th>Total_Ct_Chng_Q4_Q1</th>\n",
              "      <th>Avg_Utilization_Ratio</th>\n",
              "      <th>CustomerID.1</th>\n",
              "    </tr>\n",
              "  </thead>\n",
              "  <tbody>\n",
              "    <tr>\n",
              "      <th>3564</th>\n",
              "      <td>77905798</td>\n",
              "      <td>55</td>\n",
              "      <td>F</td>\n",
              "      <td>2</td>\n",
              "      <td>Graduate</td>\n",
              "      <td>Married</td>\n",
              "      <td>Less than $40K</td>\n",
              "      <td>42</td>\n",
              "      <td>5</td>\n",
              "      <td>3</td>\n",
              "      <td>3</td>\n",
              "      <td>2216.01</td>\n",
              "      <td>1034</td>\n",
              "      <td>1182.01</td>\n",
              "      <td>0.76</td>\n",
              "      <td>1540</td>\n",
              "      <td>36</td>\n",
              "      <td>0.29</td>\n",
              "      <td>0.45</td>\n",
              "      <td>77894049</td>\n",
              "    </tr>\n",
              "    <tr>\n",
              "      <th>14106</th>\n",
              "      <td>77890680</td>\n",
              "      <td>56</td>\n",
              "      <td>M</td>\n",
              "      <td>3</td>\n",
              "      <td>Graduate</td>\n",
              "      <td>Single</td>\n",
              "      <td>$120K +</td>\n",
              "      <td>44</td>\n",
              "      <td>3</td>\n",
              "      <td>1</td>\n",
              "      <td>2</td>\n",
              "      <td>34516.00</td>\n",
              "      <td>1307</td>\n",
              "      <td>33209.01</td>\n",
              "      <td>0.56</td>\n",
              "      <td>13759</td>\n",
              "      <td>120</td>\n",
              "      <td>0.75</td>\n",
              "      <td>0.03</td>\n",
              "      <td>77904591</td>\n",
              "    </tr>\n",
              "    <tr>\n",
              "      <th>14881</th>\n",
              "      <td>77892013</td>\n",
              "      <td>54</td>\n",
              "      <td>M</td>\n",
              "      <td>1</td>\n",
              "      <td>College</td>\n",
              "      <td>Married</td>\n",
              "      <td>$120K +</td>\n",
              "      <td>44</td>\n",
              "      <td>4</td>\n",
              "      <td>3</td>\n",
              "      <td>2</td>\n",
              "      <td>2820.99</td>\n",
              "      <td>2415</td>\n",
              "      <td>406.01</td>\n",
              "      <td>0.46</td>\n",
              "      <td>1419</td>\n",
              "      <td>36</td>\n",
              "      <td>0.78</td>\n",
              "      <td>0.85</td>\n",
              "      <td>77905366</td>\n",
              "    </tr>\n",
              "    <tr>\n",
              "      <th>2651</th>\n",
              "      <td>77900956</td>\n",
              "      <td>46</td>\n",
              "      <td>M</td>\n",
              "      <td>3</td>\n",
              "      <td>Doctorate</td>\n",
              "      <td>Married</td>\n",
              "      <td>$60K - $80K</td>\n",
              "      <td>31</td>\n",
              "      <td>2</td>\n",
              "      <td>2</td>\n",
              "      <td>2</td>\n",
              "      <td>21160.99</td>\n",
              "      <td>1198</td>\n",
              "      <td>19963.00</td>\n",
              "      <td>0.78</td>\n",
              "      <td>13119</td>\n",
              "      <td>104</td>\n",
              "      <td>0.60</td>\n",
              "      <td>0.05</td>\n",
              "      <td>77893136</td>\n",
              "    </tr>\n",
              "    <tr>\n",
              "      <th>9434</th>\n",
              "      <td>77906292</td>\n",
              "      <td>37</td>\n",
              "      <td>M</td>\n",
              "      <td>3</td>\n",
              "      <td>High School</td>\n",
              "      <td>Married</td>\n",
              "      <td>Less than $40K</td>\n",
              "      <td>26</td>\n",
              "      <td>3</td>\n",
              "      <td>3</td>\n",
              "      <td>4</td>\n",
              "      <td>6865.99</td>\n",
              "      <td>2389</td>\n",
              "      <td>4477.00</td>\n",
              "      <td>0.38</td>\n",
              "      <td>862</td>\n",
              "      <td>13</td>\n",
              "      <td>0.18</td>\n",
              "      <td>0.35</td>\n",
              "      <td>77899919</td>\n",
              "    </tr>\n",
              "  </tbody>\n",
              "</table>\n",
              "</div>"
            ],
            "text/plain": [
              "       CustomerID  Customer_Age Gender  Dependent_count Education_Level  \\\n",
              "3564     77905798            55      F                2        Graduate   \n",
              "14106    77890680            56      M                3        Graduate   \n",
              "14881    77892013            54      M                1         College   \n",
              "2651     77900956            46      M                3       Doctorate   \n",
              "9434     77906292            37      M                3     High School   \n",
              "\n",
              "      Marital_Status Income_Category  Months_on_book  \\\n",
              "3564         Married  Less than $40K              42   \n",
              "14106         Single         $120K +              44   \n",
              "14881        Married         $120K +              44   \n",
              "2651         Married     $60K - $80K              31   \n",
              "9434         Married  Less than $40K              26   \n",
              "\n",
              "       Total_Relationship_Count  Months_Inactive_12_mon  \\\n",
              "3564                          5                       3   \n",
              "14106                         3                       1   \n",
              "14881                         4                       3   \n",
              "2651                          2                       2   \n",
              "9434                          3                       3   \n",
              "\n",
              "       Contacts_Count_12_mon  Credit_Limit  Total_Revolving_Bal  \\\n",
              "3564                       3       2216.01                 1034   \n",
              "14106                      2      34516.00                 1307   \n",
              "14881                      2       2820.99                 2415   \n",
              "2651                       2      21160.99                 1198   \n",
              "9434                       4       6865.99                 2389   \n",
              "\n",
              "       Avg_Open_To_Buy  Total_Amt_Chng_Q4_Q1  Total_Trans_Amt  Total_Trans_Ct  \\\n",
              "3564           1182.01                  0.76             1540              36   \n",
              "14106         33209.01                  0.56            13759             120   \n",
              "14881           406.01                  0.46             1419              36   \n",
              "2651          19963.00                  0.78            13119             104   \n",
              "9434           4477.00                  0.38              862              13   \n",
              "\n",
              "       Total_Ct_Chng_Q4_Q1  Avg_Utilization_Ratio  CustomerID.1  \n",
              "3564                  0.29                   0.45      77894049  \n",
              "14106                 0.75                   0.03      77904591  \n",
              "14881                 0.78                   0.85      77905366  \n",
              "2651                  0.60                   0.05      77893136  \n",
              "9434                  0.18                   0.35      77899919  "
            ]
          },
          "execution_count": 3,
          "metadata": {},
          "output_type": "execute_result"
        }
      ],
      "source": [
        "# Load the data\n",
        "df = pd.read_csv('https://storage.googleapis.com/bia-assignment/bank_data.csv')\n",
        "\n",
        "df.sample(5)"
      ]
    },
    {
      "attachments": {},
      "cell_type": "markdown",
      "metadata": {},
      "source": [
        "### Question 1: Data Exploration"
      ]
    },
    {
      "attachments": {},
      "cell_type": "markdown",
      "metadata": {},
      "source": [
        "#### Question 1.1 Create an historgam of the Education_Level column to get a sense of the data distribution for this column. What is the most common education level of the customers?"
      ]
    },
    {
      "cell_type": "code",
      "execution_count": null,
      "metadata": {},
      "outputs": [],
      "source": [
        "# YOUR CODE HERE"
      ]
    },
    {
      "attachments": {},
      "cell_type": "markdown",
      "metadata": {},
      "source": [
        "#### Question 1.2 What is the age distribution of the people from the dataset ? Plot its distribution.\n",
        "__Hint :__ Plot histogram from the _Customer_Age_ feature."
      ]
    },
    {
      "cell_type": "code",
      "execution_count": null,
      "metadata": {},
      "outputs": [],
      "source": [
        "# YOUR CODE HERE"
      ]
    },
    {
      "attachments": {},
      "cell_type": "markdown",
      "metadata": {},
      "source": [
        "#### Question 1.3 Does the data distribution for the Customer_Age column look to follow a normal distribution? Compute the mean, standard deviation, skewness and kurtosis of the distribution.\n",
        "__Hint :__ You may want to use the [`skew()`](https://docs.scipy.org/doc/scipy/reference/generated/scipy.stats.skew.html) function from the scipy library. For the kurtosis, you can use the [`kurtosis()`](https://docs.scipy.org/doc/scipy/reference/generated/scipy.stats.kurtosis.html) function. <br>\n",
        "If you want to test the normality of the distribution, you can use tjhe ktest function from the scipy library. For example, to test if the distribution of the Customer_Age column is normal, you can use the following code:\n",
        "```python\n",
        "from scipy.stats import kstest\n",
        "kstest(df['column_tot_test'], 'norm')\n",
        "```\n",
        "Another alternative is to use jarque_bera test from the statsmodels library. You can refer to the documentation for more information on how to use it on the following link: https://www.statsmodels.org/stable/generated/statsmodels.stats.stattools.jarque_bera.html\n",
        "\n",
        "The skewness and kurtosis of a normal distribution are respectively 0 and 3. If the skewness is between -0.5 and 0.5, the data are fairly symmetrical. If the skewness is between -1 and – 0.5 or between 0.5 and 1, the data are moderately skewed. If the skewness is less than -1 or greater than 1, the data are highly skewed. A negative skewness indicates that the tail on the left side of the distribution is longer or fatter. A positive skewness indicates that the tail on the right side is longer or fatter. The kurtosis is a measure of whether the data are heavy-tailed or light-tailed relative to a normal distribution. That is, data sets with high kurtosis tend to have heavy tails, or outliers. Data sets with low kurtosis tend to have light tails, or lack of outliers. A uniform distribution would be the extreme case."
      ]
    },
    {
      "cell_type": "code",
      "execution_count": null,
      "metadata": {},
      "outputs": [],
      "source": [
        "# YOUR CODE HERE"
      ]
    },
    {
      "attachments": {},
      "cell_type": "markdown",
      "metadata": {},
      "source": [
        "### Question 2. Convert categrocial columns to numerical\n",
        "At this point, we will change some of the values in the dataset in order be able to work with these features. <br>\n",
        "Indeed a clustering algorithm is based on distances between the data points. Therefore, we need to have numeric values instead of categorical variables.<br>\n",
        "\n",
        "For this reason, we will perform the following mapping:\n",
        "- We will map `Men` to 0 and `Female` to 1 of the column `Gender`\n",
        "- We will also convert the `Income_Category` to a numeric value, where we will assume that the higher the income, the more likely the customer is to have a credit card. You should do the following mapping:\n",
        "\n",
        "| Categorical Value (to be replaced)     | Numerical Value (new value to overwrite the categorical variable)     |\n",
        "| -----------       | -----------   |\n",
        "| 'Unknown'         |  -1           | \n",
        "| '$120K +'         |  120          | \n",
        "| '$80K - $120K'    |  80           | \n",
        "| '$60K - $80K'     | 60            |\n",
        "| '$40K - $60K'     | 40            |\n",
        "| 'Less than $40K'  | 0             | \n",
        "\n",
        "- We will also convert the `Education_Level` to a numeric value, where we will assume that the higher the education level, the more likely the customer is to have a credit card. Here again, you should respect the following convention:\n",
        "\n",
        "| Categorical Value (to be replaced)     | Numerical Value (new value to overwrite the categorical variable)     |\n",
        "| -----------       | -----------   |\n",
        "| 'Unknown'         |  -1           | \n",
        "| 'Uneducated'      |   1           | \n",
        "| 'High School'     |  2            | \n",
        "| 'College'         | 3             |\n",
        "| 'Graduate'        | 4             |\n",
        "| 'Post-Graduate'   | 5             | \n",
        "| 'Doctorate'       | 6             | \n",
        "\n",
        "**Hint :** You may want to use the [`map()`](https://pandas.pydata.org/pandas-docs/stable/reference/api/pandas.Series.map.html) function applied to a column of a dataframe."
      ]
    },
    {
      "cell_type": "code",
      "execution_count": null,
      "metadata": {},
      "outputs": [],
      "source": [
        "# Convert categorical variables to numerical variables"
      ]
    },
    {
      "cell_type": "code",
      "execution_count": null,
      "metadata": {},
      "outputs": [],
      "source": [
        "# Here we drop all rows with missing values\n",
        "df[['Customer_Age' , 'Gender', 'Income_Category', 'Education_Level', 'Credit_Limit']].dropna(axis=0, how='any')\n",
        "# We can see that there are no missing values in the columns we are interested in as the number of rows is the same as before"
      ]
    },
    {
      "cell_type": "code",
      "execution_count": null,
      "metadata": {},
      "outputs": [],
      "source": [
        "# Keep only numerical columns of the dataframe\n",
        "# These columns are the ones we are interested in as they can be used to cluster the customers\n",
        "\n",
        "df_num = df.select_dtypes(include=np.number)\n",
        "df_num"
      ]
    },
    {
      "attachments": {},
      "cell_type": "markdown",
      "metadata": {},
      "source": [
        "### Question 3. Use the elbow method to find the optimal number of clusters for following feartures: _Customer_Age, Gender, Income_Category, Education_Level, Credit_Limit_\n",
        "#### Question 3.1 : What is the inertia for 3 and 4 clusters ? (rounded to the nearest integer)\n",
        "Refer to the lab 5 for any help about the methodology. <br>\n",
        "__Hint:__ You should test between 2 to 10 clusters. Also, when you call the `KMeans` function, you should set the `random_state` paramter to 111 and the `n_init` to 50. This will ensure that the results are reproducible."
      ]
    },
    {
      "cell_type": "code",
      "execution_count": null,
      "metadata": {},
      "outputs": [],
      "source": [
        "# YOU CODE HERE"
      ]
    },
    {
      "attachments": {},
      "cell_type": "markdown",
      "metadata": {},
      "source": [
        "### Question 4. Use the elbow method to find the optimal number of clusters for following features: _Income_Category, Education_Level, Months_on_book_\n",
        "#### Question 4.1 : What is the optimal number of cluster for this sub dataset ?\n",
        "Refer to the lab 5 for any help about the methodology. <br>\n",
        "__Hint:__ You should test between 2 to 10 clusters. Also, when you call the `KMeans` function, you should set the `random_state` paramter to 111 and the `n_init` to 50. This will ensure that the results are reproducible."
      ]
    },
    {
      "cell_type": "code",
      "execution_count": null,
      "metadata": {},
      "outputs": [],
      "source": [
        "# YOU CODE HERE"
      ]
    },
    {
      "attachments": {},
      "cell_type": "markdown",
      "metadata": {},
      "source": [
        "#### Question 4.2 : What is the cluster assignment (cluster ID - varying between 0 and the optimal number found previously) for a person with an income of 120K, a post-graduate degree and 36 months on book?"
      ]
    },
    {
      "cell_type": "code",
      "execution_count": null,
      "metadata": {},
      "outputs": [],
      "source": [
        "# YOUR CODE HERE\n",
        "result = ...\n",
        "print(f\"Cluster assignment for the person described above: {result}\")"
      ]
    },
    {
      "attachments": {},
      "cell_type": "markdown",
      "metadata": {},
      "source": [
        "#### Question 4.3 : Get the cluster centroid for the person described above.\n",
        "The get the centroid of a cluster, you can use the [`cluster_centers_`](https://scikit-learn.org/stable/modules/generated/sklearn.cluster.KMeans.html) attribute of the KMeans object."
      ]
    },
    {
      "cell_type": "code",
      "execution_count": null,
      "metadata": {},
      "outputs": [],
      "source": [
        "# YOUR CODE HERE"
      ]
    }
  ],
  "metadata": {
    "colab": {
      "include_colab_link": true,
      "name": "BIA_assignment_2022.ipynb",
      "provenance": []
    },
    "kernelspec": {
      "display_name": "base",
      "language": "python",
      "name": "python3"
    },
    "language_info": {
      "codemirror_mode": {
        "name": "ipython",
        "version": 3
      },
      "file_extension": ".py",
      "mimetype": "text/x-python",
      "name": "python",
      "nbconvert_exporter": "python",
      "pygments_lexer": "ipython3",
      "version": "3.9.15"
    },
    "vscode": {
      "interpreter": {
        "hash": "b0cc462c96df3621bcc58e01fadcdf9264a069c5c4bbf07201077bb349d3c6bf"
      }
    }
  },
  "nbformat": 4,
  "nbformat_minor": 0
}
