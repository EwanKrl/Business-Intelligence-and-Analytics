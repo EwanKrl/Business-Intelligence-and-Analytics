{
  "nbformat": 4,
  "nbformat_minor": 0,
  "metadata": {
    "colab": {
      "provenance": []
    },
    "kernelspec": {
      "name": "python3",
      "display_name": "Python 3"
    },
    "language_info": {
      "name": "python"
    }
  },
  "cells": [
    {
      "cell_type": "markdown",
      "source": [
        "<h1><center>Exercises\n",
        "\n",
        "<div>\n",
        "<td>\n",
        "<img src=\"https://upload.wikimedia.org/wikipedia/commons/thumb/2/2b/Logo_Universit%C3%A9_de_Lausanne.svg/2000px-Logo_Universit%C3%A9_de_Lausanne.svg.png\" style=\"padding-right:10px;width:240px;float:left\" width=700/></td>\n",
        "<h2 style=\"white-space: nowrap\">Business Intelligence and Analytics</h2></td></center>\n",
        "<hr style=\"clear:both\">\n",
        "<p style=\"font-size:0.85em; margin:2px; text-align:justify\">\n",
        "\n",
        "\n"
      ],
      "metadata": {
        "id": "BOHnQiaon2K2"
      }
    },
    {
      "cell_type": "code",
      "source": [
        "#Libraries import\n",
        "import pandas as pd\n",
        "import matplotlib\n",
        "import matplotlib.pyplot as plt\n",
        "import seaborn as sns"
      ],
      "metadata": {
        "id": "L3g0GX9Unyvy"
      },
      "execution_count": 1,
      "outputs": []
    },
    {
      "cell_type": "markdown",
      "source": [
        ">In this notebook, we will explore a dataset containing restaurant transactions, including total bill amounts, tips, customer demographics, and visit details. The goal is to analyze and visualize patterns using various types of graphs. Please use the function that we used in the precedent labs to load the dataset."
      ],
      "metadata": {
        "id": "3gfmU7ZAn7DV"
      }
    },
    {
      "cell_type": "code",
      "source": [
        "url = 'https://media.githubusercontent.com/media/michalis0/Business-Intelligence-and-Analytics/master/data/tips.csv'\n",
        "data = '''YOUR CODE HERE'''\n",
        "data.head()"
      ],
      "metadata": {
        "id": "XulbpA-7n42E"
      },
      "execution_count": 8,
      "outputs": []
    },
    {
      "cell_type": "markdown",
      "source": [
        "###**Exercise 1**\n",
        ">Now it's your turn ! Create a **barplot** so that we can see **the number of male customers during lunch time**.\n",
        ">\n",
        ">Be sure to name your graph and the axes."
      ],
      "metadata": {
        "id": "6FJTLoQholWw"
      }
    },
    {
      "cell_type": "code",
      "source": [
        "'''YOUR CODE HERE'''"
      ],
      "metadata": {
        "id": "dLixiZmroKDM"
      },
      "execution_count": 9,
      "outputs": []
    },
    {
      "cell_type": "markdown",
      "source": [
        "###**Exercise 2**\n",
        ">Create a **pie chart** that shows **the proportion of female customers visiting each day**. Percentage should be indicated on the chart and rounded at 2 digit, for this you can use `autopct=%.2f%%'` as an argument in the pie plot function.\n",
        ">\n",
        ">**autopct** enables you to display the percent value rounded to the rounding you wish.\n"
      ],
      "metadata": {
        "id": "PuDSCm6JtuH8"
      }
    },
    {
      "cell_type": "code",
      "source": [
        "'''YOUR CODE HERE'''"
      ],
      "metadata": {
        "id": "Ifd1lcOGuebR"
      },
      "execution_count": 9,
      "outputs": []
    },
    {
      "cell_type": "markdown",
      "source": [
        "###**Exercise 3**\n",
        "\n",
        ">Create the boxplot visualizing the relationship between tips, gender, and smoking status. The x-axis should represent the gender. The y-axis should represent the amount of tip. Use the `hue` parameter to differentiate between smoker status. Don't forget to add appropriate axis labels and a title to the graph.\n",
        "\n",
        "<h2> Important: This question answers the Moodle quiz question 1. <h2>"
      ],
      "metadata": {
        "id": "yJ8XasvnueB5"
      }
    },
    {
      "cell_type": "code",
      "source": [
        "'''YOUR CODE HERE'''"
      ],
      "metadata": {
        "id": "zAXqS4_nuX-4"
      },
      "execution_count": 9,
      "outputs": []
    },
    {
      "cell_type": "markdown",
      "source": [
        "### **Exercise 4**\n",
        ">Create a heatmap of correlations of columns `total_bill`, `tip`, `sex` and `size`. Like with every other data visualization tool, you can improve its look so that it's easier to read and understand.\n",
        ">\n",
        ">For example, you can try to show the values of the correlations on each cell of the heatmap. Use this [link](https://likegeeks.com/seaborn-heatmap-tutorial/) to find out how to easily do so.\n",
        "\n",
        "\n",
        "<h2> Important: This question answers the Moodle quiz question 2. <h2>"
      ],
      "metadata": {
        "id": "sIFbKa3A3q50"
      }
    },
    {
      "cell_type": "code",
      "source": [
        "# Convert the 'sex' column to binary values: Female → 1, Male → 0\n",
        "# ⚠️ Do not modify this mapping, as it is required for consistency in data processing\n",
        "data['sex'] = data['sex'].map({'Female': 1, 'Male': 0})\n",
        "\n",
        "'''YOUR CODE HERE'''"
      ],
      "metadata": {
        "id": "OhhQZy2Uw9M5"
      },
      "execution_count": 10,
      "outputs": []
    }
  ]
}