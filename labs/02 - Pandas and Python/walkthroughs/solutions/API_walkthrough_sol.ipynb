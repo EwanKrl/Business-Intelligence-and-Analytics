{
  "cells": [
    {
      "cell_type": "markdown",
      "metadata": {
        "id": "view-in-github",
        "colab_type": "text"
      },
      "source": [
        "<a href=\"https://colab.research.google.com/github/michalis0/Business-Intelligence-and-Analytics/blob/master/labs/02%20-%20Pandas%20and%20Python/walkthroughs/API_walkthrough_sol.ipynb\" target=\"_parent\"><img src=\"https://colab.research.google.com/assets/colab-badge.svg\" alt=\"Open In Colab\"/></a>"
      ]
    },
    {
      "cell_type": "code",
      "execution_count": 1,
      "metadata": {
        "id": "LIG51I0NZ0QE",
        "outputId": "862edbaf-4235-4e3e-c87c-f902a9a614cc",
        "colab": {
          "base_uri": "https://localhost:8080/",
          "height": 133
        }
      },
      "outputs": [
        {
          "output_type": "display_data",
          "data": {
            "text/plain": [
              "<IPython.core.display.HTML object>"
            ],
            "text/html": [
              "\n",
              "<div>\n",
              "<td>\n",
              "<img src=\"https://upload.wikimedia.org/wikipedia/commons/thumb/2/2b/Logo_Universit%C3%A9_de_Lausanne.svg/2000px-Logo_Universit%C3%A9_de_Lausanne.svg.png\" style=\"padding-right:10px;width:240px;float:left\"/></td>\n",
              "<h2 style=\"white-space: nowrap\">Business Intelligence and Analytics</h2></td>\n",
              "<hr style=\"clear:both\">\n",
              "<p style=\"font-size:0.85em; margin:2px; text-align:justify\">\n",
              "\n",
              "</div>\n"
            ]
          },
          "metadata": {}
        }
      ],
      "source": [
        "#@title Exercise on API - Lab 2\n",
        "\n",
        "%%html\n",
        "\n",
        "<div>\n",
        "<td>\n",
        "<img src=\"https://upload.wikimedia.org/wikipedia/commons/thumb/2/2b/Logo_Universit%C3%A9_de_Lausanne.svg/2000px-Logo_Universit%C3%A9_de_Lausanne.svg.png\" style=\"padding-right:10px;width:240px;float:left\"/></td>\n",
        "<h2 style=\"white-space: nowrap\">Business Intelligence and Analytics</h2></td>\n",
        "<hr style=\"clear:both\">\n",
        "<p style=\"font-size:0.85em; margin:2px; text-align:justify\">\n",
        "\n",
        "</div>"
      ]
    },
    {
      "cell_type": "markdown",
      "metadata": {
        "id": "nPrgCqTTVXmg"
      },
      "source": [
        "# Introduction\n",
        "\n",
        ">This exercise aims at illustrating the practical use of API requests to obtain data from the Internet. During this exercise, we will show you how to obtain API data from various websites in `json` format. Then, you will use a small program that allows you to retrieve the data in Colab. From this point onwards, the data will be accessible for you to work on.\n",
        "\n",
        "> We are going to use **2 examples**: one where you retrieve IMDb data about your **favorite movie** and another where you retrieve **current weather** data from any city in the world.\n",
        "\n",
        "_Note_: data treatment will be developed in the following labs: \"Pandas and Python\" and \"Data cleaning\", respectively the 2nd and 3rd labs. This exercise only shows you the process of obtaining _real time_ online data from an API.\n",
        "\n",
        "_Reminder_: data obtained in such a way is called _external_ data.\n",
        "\n",
        "\n"
      ]
    },
    {
      "cell_type": "markdown",
      "metadata": {
        "id": "LoodZhsh0eaH"
      },
      "source": [
        "# 1. Data from your favorite movie\n",
        "\n",
        "In this example, you will understand how to extract data concerning the movie of your choice.\n",
        "\n",
        "First, you will have to make a request against an API to obtain the data.\n",
        "\n",
        "Second, you will translate this data in Colab."
      ]
    },
    {
      "cell_type": "markdown",
      "metadata": {
        "id": "a6GT0pj-eIMz"
      },
      "source": [
        "## Making a OMDb API request\n",
        "\n",
        "**Let us take a look at the [OMDb API](https://www.omdbapi.com/)**\n",
        "\n",
        "> You can see that you will be able to make a HTTP request with this URL: ```http://www.omdbapi.com/?apikey=[yourkey]&```\n",
        "\n",
        "For this, you will need a **key** (see theory) for the API to control your requests. For OMDb API, free requests are limited to 1'000 per day.\n",
        "\n",
        "> You can get your own key [here](https://www.omdbapi.com/apikey.aspx) by inputing your email address.\n",
        "\n",
        "> You can also use the key I generated : `6be81d95`.\n",
        "\n",
        "You will then need to apply **filters** to your HTTP request for the API to recognize what you are looking for. Those will be appended to the end of your URL.\n",
        "\n",
        "For example, say I want to search for the movie \"The Big Short\" with a full plot.\n",
        "> The filters would be the following: `t=The+Big+Short&plot=full`. You can see that `t` indicates the title of the movie (for this API, it is mandatory) and `plot` has an option `full`.\n",
        "\n",
        "> The filters are always separed by a `&` sign.\n",
        "\n",
        "Therefore, the URL of my request would be the following:\n",
        "\n",
        "```https://www.omdbapi.com/?apikey=6be81d95&t=The+Big+Short&plot=full```\n",
        "\n",
        "**Try inputing that URL in your browser and see what happens!**\n"
      ]
    },
    {
      "cell_type": "markdown",
      "metadata": {
        "id": "ZY0tP7cNvAo9"
      },
      "source": [
        "### Result\n",
        "\n",
        "If everything goes well, you get a webpage in `json` format !\n",
        "\n",
        "You might recognize the **semi-structured** data type from your theory class.\n",
        "\n",
        ">However, all of this is still happening in your web browser, and you cannot process this data with any program of your choice."
      ]
    },
    {
      "cell_type": "markdown",
      "metadata": {
        "id": "A2xDQI_oew6Q"
      },
      "source": [
        "## Loading the data in Colab\n",
        "\n",
        "More on this process can be found [here](https://colab.research.google.com/github/nestauk/im-tutorials/blob/3-ysi-tutorial/notebooks/APIs/API_tutorial.ipynb). This exercise is largely inspired by the official Colab tutorial."
      ]
    },
    {
      "cell_type": "code",
      "execution_count": 2,
      "metadata": {
        "id": "Sa-33IjZaGdI",
        "outputId": "519db10d-4163-4d41-e41a-49de3f7aa998",
        "colab": {
          "base_uri": "https://localhost:8080/"
        }
      },
      "outputs": [
        {
          "output_type": "stream",
          "name": "stdout",
          "text": [
            "https://www.omdbapi.com/?apikey=6be81d95&t=The+Big+Short&plot=full\n",
            "Request returned 200 : 'OK'\n",
            "{'Actors': 'Christian Bale, Steve Carell, Ryan Gosling',\n",
            " 'Awards': 'Won 1 Oscar. 37 wins & 81 nominations total',\n",
            " 'BoxOffice': '$70,259,870',\n",
            " 'Country': 'United States',\n",
            " 'DVD': '07 Jul 2016',\n",
            " 'Director': 'Adam McKay',\n",
            " 'Genre': 'Biography, Comedy, Drama',\n",
            " 'Language': 'English',\n",
            " 'Metascore': '81',\n",
            " 'Plot': 'Three separate but parallel stories of the U.S mortgage housing '\n",
            "         'crisis of 2005 are told. Michael Burry, an eccentric ex-physician '\n",
            "         'turned one-eyed Scion Capital hedge fund manager, has traded '\n",
            "         'traditional office attire for shorts, bare feet and a Supercuts '\n",
            "         'haircut. He believes that the US housing market is built on a bubble '\n",
            "         'that will burst within the next few years. Autonomy within the '\n",
            "         'company allows Burry to do largely as he pleases, so Burry proceeds '\n",
            "         'to bet against the housing market with the banks, who are more than '\n",
            "         'happy to accept his proposal for something that has never happened '\n",
            "         'in American history. The banks believe that Burry is a crackpot and '\n",
            "         'therefore are confident in that they will win the deal. Jared '\n",
            "         'Vennett with Deutschebank gets wind of what Burry is doing and, as '\n",
            "         \"an investor believes he too can cash in on Burry's beliefs. An \"\n",
            "         'errant telephone call to FrontPoint Partners gets this information '\n",
            "         'into the hands of Mark Baum, an idealist who is fed up with the '\n",
            "         'corruption in the financial industry. Baum and his associates, who '\n",
            "         'work at an arms length under Morgan Stanley, decide to join forces '\n",
            "         'with Vennett despite not totally trusting him. In addition to '\n",
            "         \"Burry's information, they further believe that most of the mortgages \"\n",
            "         'are overrated by the bond agencies, with the banks collating all the '\n",
            "         'sub-prime mortgages under AAA packages. Charlie Geller and Jamie '\n",
            "         'Shipley, who are minor players in a $30 million start-up garage '\n",
            "         \"company called Brownfield, get a hold of Vennett's prospectus on the \"\n",
            "         'matter. Wanting in on the action but not having the official clout '\n",
            "         'to play, they decide to call an old \"friend\", retired investment '\n",
            "         'banker Ben Rickert, to help out. All three of these groups work on '\n",
            "         \"the premise that the banks are stupid and don't know what's going \"\n",
            "         'on, while for them to win, the general economy has to lose, which '\n",
            "         'means the suffering of the general investor who trusts the financial '\n",
            "         'institutions. That latter aspect may not sit well with Baum. Some of '\n",
            "         'these assumptions may be incorrect and may be far more manipulative '\n",
            "         'than they could have ever imagined, which in turn may throw curves '\n",
            "         'into the process.',\n",
            " 'Poster': 'https://m.media-amazon.com/images/M/MV5BNDc4MThhN2EtZjMzNC00ZDJmLThiZTgtNThlY2UxZWMzNjdkXkEyXkFqcGdeQXVyNDk3NzU2MTQ@._V1_SX300.jpg',\n",
            " 'Production': 'N/A',\n",
            " 'Rated': 'R',\n",
            " 'Ratings': [{'Source': 'Internet Movie Database', 'Value': '7.8/10'},\n",
            "             {'Source': 'Rotten Tomatoes', 'Value': '89%'},\n",
            "             {'Source': 'Metacritic', 'Value': '81/100'}],\n",
            " 'Released': '23 Dec 2015',\n",
            " 'Response': 'True',\n",
            " 'Runtime': '130 min',\n",
            " 'Title': 'The Big Short',\n",
            " 'Type': 'movie',\n",
            " 'Website': 'N/A',\n",
            " 'Writer': 'Charles Randolph, Adam McKay, Michael Lewis',\n",
            " 'Year': '2015',\n",
            " 'imdbID': 'tt1596363',\n",
            " 'imdbRating': '7.8',\n",
            " 'imdbVotes': '477,406'}\n"
          ]
        }
      ],
      "source": [
        "import requests  # Import the requests library\n",
        "\n",
        "# Query URL\n",
        "url = ('https://www.omdbapi.com/?apikey=6be81d95&t=The+Big+Short&plot=full')  # Movie 'The Big Short' with a full plot\n",
        "\n",
        "print(url)\n",
        "\n",
        "response = requests.get(url)  # Make a GET request to the URL.\n",
        "\n",
        "# Print status code (and associated text).\n",
        "print(f\"Request returned {response.status_code} : '{response.reason}'\")\n",
        "\n",
        "#Note: status 200 means the request was successful. Search online for documentation about request statuses.\n",
        "\n",
        "# Print data returned (parsing as JSON)\n",
        "payload = response.json()  # Parse `response.text` into JSON\n",
        "\n",
        "import pprint #This library makes the result look good.\n",
        "\n",
        "pp = pprint.PrettyPrinter(indent=1)\n",
        "pp.pprint(payload)"
      ]
    },
    {
      "cell_type": "markdown",
      "metadata": {
        "id": "mDdTMPOym_FE"
      },
      "source": [
        "**You did it!** You can now process the data obtained in the movie description"
      ]
    },
    {
      "cell_type": "code",
      "execution_count": 3,
      "metadata": {
        "id": "HfMM215ukpIU",
        "outputId": "a23e722f-e943-4872-a862-361bf1d647b0",
        "colab": {
          "base_uri": "https://localhost:8080/",
          "height": 35
        }
      },
      "outputs": [
        {
          "output_type": "execute_result",
          "data": {
            "text/plain": [
              "'Christian Bale, Steve Carell, Ryan Gosling'"
            ],
            "application/vnd.google.colaboratory.intrinsic+json": {
              "type": "string"
            }
          },
          "metadata": {},
          "execution_count": 3
        }
      ],
      "source": [
        "#Show the actors that played in the movie\n",
        "\n",
        "payload['Actors']"
      ]
    },
    {
      "cell_type": "code",
      "execution_count": 4,
      "metadata": {
        "id": "dodnN5bXk3wH",
        "outputId": "aad7e9cb-f289-480c-902e-d71198927588",
        "colab": {
          "base_uri": "https://localhost:8080/"
        }
      },
      "outputs": [
        {
          "output_type": "stream",
          "name": "stdout",
          "text": [
            "Three separate but parallel stories of the U.S mortgage housing crisis of 2005 are told. Michael Burry, an eccentric ex-physician turned one-eyed Scion Capital hedge fund manager, has traded traditional office attire for shorts, bare feet and a Supercuts haircut. He believes that the US housing market is built on a bubble that will burst within the next few years. Autonomy within the company allows Burry to do largely as he pleases, so Burry proceeds to bet against the housing market with the banks, who are more than happy to accept his proposal for something that has never happened in American history. The banks believe that Burry is a crackpot and therefore are confident in that they will win the deal. Jared Vennett with Deutschebank gets wind of what Burry is doing and, as an investor believes he too can cash in on Burry's beliefs. An errant telephone call to FrontPoint Partners gets this information into the hands of Mark Baum, an idealist who is fed up with the corruption in the financial industry. Baum and his associates, who work at an arms length under Morgan Stanley, decide to join forces with Vennett despite not totally trusting him. In addition to Burry's information, they further believe that most of the mortgages are overrated by the bond agencies, with the banks collating all the sub-prime mortgages under AAA packages. Charlie Geller and Jamie Shipley, who are minor players in a $30 million start-up garage company called Brownfield, get a hold of Vennett's prospectus on the matter. Wanting in on the action but not having the official clout to play, they decide to call an old \"friend\", retired investment banker Ben Rickert, to help out. All three of these groups work on the premise that the banks are stupid and don't know what's going on, while for them to win, the general economy has to lose, which means the suffering of the general investor who trusts the financial institutions. That latter aspect may not sit well with Baum. Some of these assumptions may be incorrect and may be far more manipulative than they could have ever imagined, which in turn may throw curves into the process.\n"
          ]
        }
      ],
      "source": [
        "#Show the plot of the movie\n",
        "\n",
        "plot = payload['Plot']\n",
        "\n",
        "print(plot)"
      ]
    },
    {
      "cell_type": "code",
      "execution_count": 5,
      "metadata": {
        "id": "HvlhtmJ5oLfW",
        "outputId": "e3fe6e18-4760-4d1f-a511-8b3d7ef65551",
        "colab": {
          "base_uri": "https://localhost:8080/"
        }
      },
      "outputs": [
        {
          "output_type": "stream",
          "name": "stdout",
          "text": [
            "<class 'str'>\n",
            "364\n"
          ]
        }
      ],
      "source": [
        "#Count the number of words in the plot\n",
        "print(type(plot))\n",
        "\n",
        "plot_length = plot.split() #use the split method on a string\n",
        "\n",
        "print(len(plot_length)) #count the length of the list containing all words"
      ]
    },
    {
      "cell_type": "markdown",
      "metadata": {
        "id": "gZRqqUm1rK80"
      },
      "source": [
        "## Your turn !\n",
        "\n",
        "Here, you will be able to search for your own favorite movie and retrieve the corresponding IMDb data."
      ]
    },
    {
      "cell_type": "code",
      "execution_count": 6,
      "metadata": {
        "id": "FeqPoaFfrZn9"
      },
      "outputs": [],
      "source": [
        "your_url = ('https://www.omdbapi.com/?apikey=6be81d95&t=The+Wolf+of+Wall+Street&plot=full')\n",
        "\n",
        "#You will need the key and the name of the movie from omdbapi.com (see the first part of this example)"
      ]
    },
    {
      "cell_type": "code",
      "execution_count": 7,
      "metadata": {
        "id": "tNs2IYQLxzBH",
        "outputId": "beb84a89-82a7-4e76-84b8-672cad7bbb9a",
        "colab": {
          "base_uri": "https://localhost:8080/"
        }
      },
      "outputs": [
        {
          "output_type": "stream",
          "name": "stdout",
          "text": [
            "https://www.omdbapi.com/?apikey=6be81d95&t=The+Wolf+of+Wall+Street&plot=full\n",
            "Request returned 200 : 'OK'\n",
            "{'Actors': 'Leonardo DiCaprio, Jonah Hill, Margot Robbie',\n",
            " 'Awards': 'Nominated for 5 Oscars. 37 wins & 179 nominations total',\n",
            " 'BoxOffice': '$116,900,694',\n",
            " 'Country': 'United States',\n",
            " 'DVD': '12 Dec 2015',\n",
            " 'Director': 'Martin Scorsese',\n",
            " 'Genre': 'Biography, Comedy, Crime',\n",
            " 'Language': 'English, French',\n",
            " 'Metascore': '75',\n",
            " 'Plot': 'In the early 1990s, Jordan Belfort teamed with his partner Donny '\n",
            "         'Azoff and started brokerage firm Stratton Oakmont. Their company '\n",
            "         'quickly grows from a staff of 20 to a staff of more than 250 and '\n",
            "         'their status in the trading community and Wall Street grows '\n",
            "         'exponentially. So much that companies file their initial public '\n",
            "         'offerings through them. As their status grows, so do the amount of '\n",
            "         'substances they abuse, and so do their lies. They draw attention '\n",
            "         'like no other, throwing lavish parties for their staff when they hit '\n",
            "         'the jackpot on high trades. That ultimately leads to Belfort '\n",
            "         'featured on the cover of Forbes Magazine, being called \"The Wolf Of '\n",
            "         'Wall St.\". With the FBI onto Belfort\\'s trading schemes, he devises '\n",
            "         'new ways to cover his tracks and watch his fortune grow. Belfort '\n",
            "         'ultimately comes up with a scheme to stash their cash in a European '\n",
            "         'bank. But with the FBI watching him like a hawk, how long will '\n",
            "         'Belfort and Azoff be able to maintain their elaborate wealth and '\n",
            "         'luxurious lifestyles?',\n",
            " 'Poster': 'https://m.media-amazon.com/images/M/MV5BMjIxMjgxNTk0MF5BMl5BanBnXkFtZTgwNjIyOTg2MDE@._V1_SX300.jpg',\n",
            " 'Production': 'N/A',\n",
            " 'Rated': 'R',\n",
            " 'Ratings': [{'Source': 'Internet Movie Database', 'Value': '8.2/10'},\n",
            "             {'Source': 'Rotten Tomatoes', 'Value': '80%'},\n",
            "             {'Source': 'Metacritic', 'Value': '75/100'}],\n",
            " 'Released': '25 Dec 2013',\n",
            " 'Response': 'True',\n",
            " 'Runtime': '180 min',\n",
            " 'Title': 'The Wolf of Wall Street',\n",
            " 'Type': 'movie',\n",
            " 'Website': 'N/A',\n",
            " 'Writer': 'Terence Winter, Jordan Belfort',\n",
            " 'Year': '2013',\n",
            " 'imdbID': 'tt0993846',\n",
            " 'imdbRating': '8.2',\n",
            " 'imdbVotes': '1,557,215'}\n"
          ]
        }
      ],
      "source": [
        "import requests\n",
        "\n",
        "print(your_url) #The URL of your choice.\n",
        "\n",
        "response = requests.get(your_url)  # Make a GET request to the URL.\n",
        "\n",
        "# Print status code (and associated text).\n",
        "print(f\"Request returned {response.status_code} : '{response.reason}'\")\n",
        "\n",
        "\n",
        "# Print data returned (parsing as JSON)\n",
        "your_movie = response.json()\n",
        "\n",
        "import pprint\n",
        "pp = pprint.PrettyPrinter(indent=1)\n",
        "pp.pprint(your_movie)"
      ]
    },
    {
      "cell_type": "code",
      "execution_count": 8,
      "metadata": {
        "id": "yKzT96KkzFhC",
        "outputId": "0217e25e-307d-4d69-bee0-fc45f1c8bea8",
        "colab": {
          "base_uri": "https://localhost:8080/"
        }
      },
      "outputs": [
        {
          "output_type": "execute_result",
          "data": {
            "text/plain": [
              "[{'Source': 'Internet Movie Database', 'Value': '8.2/10'},\n",
              " {'Source': 'Rotten Tomatoes', 'Value': '80%'},\n",
              " {'Source': 'Metacritic', 'Value': '75/100'}]"
            ]
          },
          "metadata": {},
          "execution_count": 8
        }
      ],
      "source": [
        "#Find the ratings of your movie!\n",
        "\n",
        "your_movie['Ratings']"
      ]
    },
    {
      "cell_type": "code",
      "execution_count": 9,
      "metadata": {
        "id": "xiTf-AfPzPIt",
        "outputId": "f5d88806-5869-4554-d3f1-50e7cf1fd4c7",
        "colab": {
          "base_uri": "https://localhost:8080/",
          "height": 35
        }
      },
      "outputs": [
        {
          "output_type": "execute_result",
          "data": {
            "text/plain": [
              "'Terence Winter, Jordan Belfort'"
            ],
            "application/vnd.google.colaboratory.intrinsic+json": {
              "type": "string"
            }
          },
          "metadata": {},
          "execution_count": 9
        }
      ],
      "source": [
        "#Find the writer of your movie!\n",
        "\n",
        "your_movie['Writer']"
      ]
    },
    {
      "cell_type": "markdown",
      "metadata": {
        "id": "mzEXDyT599Cm"
      },
      "source": [
        "# 2. Current weather data\n",
        "\n",
        "In this example, you will see how to obtain real-time weather data on the city of your choice.\n",
        "\n",
        "> We will use [OpenWeather API](https://openweathermap.org/api). You can find documentation there.\n",
        "\n",
        "The process is relatively similar to the first example, and hopefully by now you will have understood the intuition. This will therefore be a more concise illustration."
      ]
    },
    {
      "cell_type": "markdown",
      "metadata": {
        "id": "QVrdMG7-CZMS"
      },
      "source": [
        "## Current weather in Lausanne\n",
        "\n",
        "We have already generated an API key: `APPID=c3b012a09cda741d210d8739c796c3da`\n",
        "\n",
        "The only parameters inputted here are the name of the city and the country code: `Lausanne,ch`.\n",
        "\n",
        "You could also input the latitude and longitude according to [the documentation](https://openweathermap.org/current).\n",
        "\n",
        "> The OpenWeather API is going to return the following `JSON`formatted data."
      ]
    },
    {
      "cell_type": "code",
      "execution_count": 10,
      "metadata": {
        "id": "FB76ieSJJNqC"
      },
      "outputs": [],
      "source": [
        "url = ('https://api.openweathermap.org/data/2.5/weather?q=Lausanne,ch&APPID=c3b012a09cda741d210d8739c796c3da') #City of Lausanne, CH"
      ]
    },
    {
      "cell_type": "markdown",
      "metadata": {
        "id": "QO19KLlc7-Lu"
      },
      "source": [
        "We automated the input of the city and the country code for you:\n",
        "\n",
        "**Run the following code and input the corresponding request. Then press enter.**"
      ]
    },
    {
      "cell_type": "code",
      "execution_count": 11,
      "metadata": {
        "id": "DnGP610g79ro",
        "outputId": "3053e73a-fe95-4229-bc33-d3637be6ee39",
        "colab": {
          "base_uri": "https://localhost:8080/"
        }
      },
      "outputs": [
        {
          "name": "stdout",
          "output_type": "stream",
          "text": [
            "Enter the city: Lausanne\n"
          ]
        }
      ],
      "source": [
        "url_city = input(\"Enter the city: \")"
      ]
    },
    {
      "cell_type": "code",
      "execution_count": 12,
      "metadata": {
        "id": "csP5h9gg8krJ",
        "outputId": "a07bbda5-ea98-453a-b957-93d9046fe802",
        "colab": {
          "base_uri": "https://localhost:8080/"
        }
      },
      "outputs": [
        {
          "name": "stdout",
          "output_type": "stream",
          "text": [
            "Enter the country code:1006\n"
          ]
        }
      ],
      "source": [
        "url_city = url_city.lower().capitalize()\n",
        "\n",
        "url_country = input(\"Enter the country code:\")"
      ]
    },
    {
      "cell_type": "code",
      "execution_count": 13,
      "metadata": {
        "id": "2j9KeyNU9C2k"
      },
      "outputs": [],
      "source": [
        "url_country = url_country.lower()\n",
        "url_data = url_city+','+url_country\n",
        "\n",
        "url = ('https://api.openweathermap.org/data/2.5/weather?q={}&APPID=c3b012a09cda741d210d8739c796c3da').format(url_data)"
      ]
    },
    {
      "cell_type": "markdown",
      "metadata": {
        "id": "Gt2cYv2B-76Q"
      },
      "source": [
        "We can now repeat the same operation. We fetch the data from the API using the URL with the corresponding filters you just inputted."
      ]
    },
    {
      "cell_type": "code",
      "execution_count": 14,
      "metadata": {
        "id": "6eLmKv9X-G0t",
        "outputId": "3266806a-b2b2-44b0-9671-a8ead2fba3ef",
        "colab": {
          "base_uri": "https://localhost:8080/"
        }
      },
      "outputs": [
        {
          "output_type": "stream",
          "name": "stdout",
          "text": [
            "https://api.openweathermap.org/data/2.5/weather?q=Lausanne,1006&APPID=c3b012a09cda741d210d8739c796c3da\n",
            "Request returned 200 : 'OK'\n",
            "{'base': 'stations',\n",
            " 'clouds': {'all': 100},\n",
            " 'cod': 200,\n",
            " 'coord': {'lat': 46.516, 'lon': 6.6328},\n",
            " 'dt': 1709046971,\n",
            " 'id': 2659994,\n",
            " 'main': {'feels_like': 277.54,\n",
            "          'grnd_level': 954,\n",
            "          'humidity': 79,\n",
            "          'pressure': 1009,\n",
            "          'sea_level': 1009,\n",
            "          'temp': 281.42,\n",
            "          'temp_max': 282.89,\n",
            "          'temp_min': 280.41},\n",
            " 'name': 'Lausanne',\n",
            " 'sys': {'country': 'CH',\n",
            "         'id': 2036162,\n",
            "         'sunrise': 1709014685,\n",
            "         'sunset': 1709054094,\n",
            "         'type': 2},\n",
            " 'timezone': 3600,\n",
            " 'visibility': 10000,\n",
            " 'weather': [{'description': 'overcast clouds',\n",
            "              'icon': '04d',\n",
            "              'id': 804,\n",
            "              'main': 'Clouds'}],\n",
            " 'wind': {'deg': 26, 'gust': 11.27, 'speed': 8.13}}\n"
          ]
        }
      ],
      "source": [
        "import requests  # Import the requests library\n",
        "\n",
        "\n",
        "print(url)\n",
        "\n",
        "response = requests.get(url)  # Make a GET request to the URL.\n",
        "\n",
        "# Print status code (and associated text).\n",
        "print(f\"Request returned {response.status_code} : '{response.reason}'\")\n",
        "\n",
        "#Note: status 200 means the request was successful. Search online for documentation about request statuses.\n",
        "\n",
        "# Print data returned (parsing as JSON)\n",
        "payload = response.json()  # Parse `response.text` into JSON\n",
        "\n",
        "import pprint #This library makes the result look good.\n",
        "\n",
        "pp = pprint.PrettyPrinter(indent=1)\n",
        "pp.pprint(payload)"
      ]
    },
    {
      "cell_type": "markdown",
      "metadata": {
        "id": "zQY99f-oFIAf"
      },
      "source": [
        "_Note_: You can play with this request by changing the URL with the city of your choice."
      ]
    },
    {
      "cell_type": "code",
      "execution_count": 15,
      "metadata": {
        "id": "X2vS-wAaFEn9",
        "outputId": "3b30f21f-3524-4c0c-dd46-be3d94acd860",
        "colab": {
          "base_uri": "https://localhost:8080/"
        }
      },
      "outputs": [
        {
          "output_type": "stream",
          "name": "stdout",
          "text": [
            "<class 'dict'>\n"
          ]
        },
        {
          "output_type": "execute_result",
          "data": {
            "text/plain": [
              "{'temp': 281.42,\n",
              " 'feels_like': 277.54,\n",
              " 'temp_min': 280.41,\n",
              " 'temp_max': 282.89,\n",
              " 'pressure': 1009,\n",
              " 'humidity': 79,\n",
              " 'sea_level': 1009,\n",
              " 'grnd_level': 954}"
            ]
          },
          "metadata": {},
          "execution_count": 15
        }
      ],
      "source": [
        "#What is the temperature?\n",
        "print(type(payload['main']))\n",
        "\n",
        "main_info = payload['main']\n",
        "main_info"
      ]
    },
    {
      "cell_type": "code",
      "execution_count": 16,
      "metadata": {
        "id": "ScV2ZFzwrsyX",
        "outputId": "24dfecef-7d81-44f0-daa2-357f2b625e30",
        "colab": {
          "base_uri": "https://localhost:8080/"
        }
      },
      "outputs": [
        {
          "output_type": "execute_result",
          "data": {
            "text/plain": [
              "281.42"
            ]
          },
          "metadata": {},
          "execution_count": 16
        }
      ],
      "source": [
        "#The previous cell is a dictionary. You can directly obtain the temperature:\n",
        "payload['main']['temp']"
      ]
    },
    {
      "cell_type": "code",
      "execution_count": 17,
      "metadata": {
        "id": "5B6hmLxlF4Un",
        "outputId": "7c201b5b-d8bc-4942-fc3b-03fe62225294",
        "colab": {
          "base_uri": "https://localhost:8080/",
          "height": 81
        }
      },
      "outputs": [
        {
          "output_type": "execute_result",
          "data": {
            "text/plain": [
              "            temp  feels_like  temp_min  temp_max  pressure  humidity  \\\n",
              "Lausanne  281.42      277.54    280.41    282.89      1009        79   \n",
              "\n",
              "          sea_level  grnd_level  \n",
              "Lausanne       1009         954  "
            ],
            "text/html": [
              "\n",
              "  <div id=\"df-cf06d291-e372-4a83-ab7a-965262ffbb43\" class=\"colab-df-container\">\n",
              "    <div>\n",
              "<style scoped>\n",
              "    .dataframe tbody tr th:only-of-type {\n",
              "        vertical-align: middle;\n",
              "    }\n",
              "\n",
              "    .dataframe tbody tr th {\n",
              "        vertical-align: top;\n",
              "    }\n",
              "\n",
              "    .dataframe thead th {\n",
              "        text-align: right;\n",
              "    }\n",
              "</style>\n",
              "<table border=\"1\" class=\"dataframe\">\n",
              "  <thead>\n",
              "    <tr style=\"text-align: right;\">\n",
              "      <th></th>\n",
              "      <th>temp</th>\n",
              "      <th>feels_like</th>\n",
              "      <th>temp_min</th>\n",
              "      <th>temp_max</th>\n",
              "      <th>pressure</th>\n",
              "      <th>humidity</th>\n",
              "      <th>sea_level</th>\n",
              "      <th>grnd_level</th>\n",
              "    </tr>\n",
              "  </thead>\n",
              "  <tbody>\n",
              "    <tr>\n",
              "      <th>Lausanne</th>\n",
              "      <td>281.42</td>\n",
              "      <td>277.54</td>\n",
              "      <td>280.41</td>\n",
              "      <td>282.89</td>\n",
              "      <td>1009</td>\n",
              "      <td>79</td>\n",
              "      <td>1009</td>\n",
              "      <td>954</td>\n",
              "    </tr>\n",
              "  </tbody>\n",
              "</table>\n",
              "</div>\n",
              "    <div class=\"colab-df-buttons\">\n",
              "\n",
              "  <div class=\"colab-df-container\">\n",
              "    <button class=\"colab-df-convert\" onclick=\"convertToInteractive('df-cf06d291-e372-4a83-ab7a-965262ffbb43')\"\n",
              "            title=\"Convert this dataframe to an interactive table.\"\n",
              "            style=\"display:none;\">\n",
              "\n",
              "  <svg xmlns=\"http://www.w3.org/2000/svg\" height=\"24px\" viewBox=\"0 -960 960 960\">\n",
              "    <path d=\"M120-120v-720h720v720H120Zm60-500h600v-160H180v160Zm220 220h160v-160H400v160Zm0 220h160v-160H400v160ZM180-400h160v-160H180v160Zm440 0h160v-160H620v160ZM180-180h160v-160H180v160Zm440 0h160v-160H620v160Z\"/>\n",
              "  </svg>\n",
              "    </button>\n",
              "\n",
              "  <style>\n",
              "    .colab-df-container {\n",
              "      display:flex;\n",
              "      gap: 12px;\n",
              "    }\n",
              "\n",
              "    .colab-df-convert {\n",
              "      background-color: #E8F0FE;\n",
              "      border: none;\n",
              "      border-radius: 50%;\n",
              "      cursor: pointer;\n",
              "      display: none;\n",
              "      fill: #1967D2;\n",
              "      height: 32px;\n",
              "      padding: 0 0 0 0;\n",
              "      width: 32px;\n",
              "    }\n",
              "\n",
              "    .colab-df-convert:hover {\n",
              "      background-color: #E2EBFA;\n",
              "      box-shadow: 0px 1px 2px rgba(60, 64, 67, 0.3), 0px 1px 3px 1px rgba(60, 64, 67, 0.15);\n",
              "      fill: #174EA6;\n",
              "    }\n",
              "\n",
              "    .colab-df-buttons div {\n",
              "      margin-bottom: 4px;\n",
              "    }\n",
              "\n",
              "    [theme=dark] .colab-df-convert {\n",
              "      background-color: #3B4455;\n",
              "      fill: #D2E3FC;\n",
              "    }\n",
              "\n",
              "    [theme=dark] .colab-df-convert:hover {\n",
              "      background-color: #434B5C;\n",
              "      box-shadow: 0px 1px 3px 1px rgba(0, 0, 0, 0.15);\n",
              "      filter: drop-shadow(0px 1px 2px rgba(0, 0, 0, 0.3));\n",
              "      fill: #FFFFFF;\n",
              "    }\n",
              "  </style>\n",
              "\n",
              "    <script>\n",
              "      const buttonEl =\n",
              "        document.querySelector('#df-cf06d291-e372-4a83-ab7a-965262ffbb43 button.colab-df-convert');\n",
              "      buttonEl.style.display =\n",
              "        google.colab.kernel.accessAllowed ? 'block' : 'none';\n",
              "\n",
              "      async function convertToInteractive(key) {\n",
              "        const element = document.querySelector('#df-cf06d291-e372-4a83-ab7a-965262ffbb43');\n",
              "        const dataTable =\n",
              "          await google.colab.kernel.invokeFunction('convertToInteractive',\n",
              "                                                    [key], {});\n",
              "        if (!dataTable) return;\n",
              "\n",
              "        const docLinkHtml = 'Like what you see? Visit the ' +\n",
              "          '<a target=\"_blank\" href=https://colab.research.google.com/notebooks/data_table.ipynb>data table notebook</a>'\n",
              "          + ' to learn more about interactive tables.';\n",
              "        element.innerHTML = '';\n",
              "        dataTable['output_type'] = 'display_data';\n",
              "        await google.colab.output.renderOutput(dataTable, element);\n",
              "        const docLink = document.createElement('div');\n",
              "        docLink.innerHTML = docLinkHtml;\n",
              "        element.appendChild(docLink);\n",
              "      }\n",
              "    </script>\n",
              "  </div>\n",
              "\n",
              "    </div>\n",
              "  </div>\n"
            ],
            "application/vnd.google.colaboratory.intrinsic+json": {
              "type": "dataframe",
              "variable_name": "df_main",
              "summary": "{\n  \"name\": \"df_main\",\n  \"rows\": 1,\n  \"fields\": [\n    {\n      \"column\": \"temp\",\n      \"properties\": {\n        \"dtype\": \"number\",\n        \"std\": null,\n        \"min\": 281.42,\n        \"max\": 281.42,\n        \"num_unique_values\": 1,\n        \"samples\": [\n          281.42\n        ],\n        \"semantic_type\": \"\",\n        \"description\": \"\"\n      }\n    },\n    {\n      \"column\": \"feels_like\",\n      \"properties\": {\n        \"dtype\": \"number\",\n        \"std\": null,\n        \"min\": 277.54,\n        \"max\": 277.54,\n        \"num_unique_values\": 1,\n        \"samples\": [\n          277.54\n        ],\n        \"semantic_type\": \"\",\n        \"description\": \"\"\n      }\n    },\n    {\n      \"column\": \"temp_min\",\n      \"properties\": {\n        \"dtype\": \"number\",\n        \"std\": null,\n        \"min\": 280.41,\n        \"max\": 280.41,\n        \"num_unique_values\": 1,\n        \"samples\": [\n          280.41\n        ],\n        \"semantic_type\": \"\",\n        \"description\": \"\"\n      }\n    },\n    {\n      \"column\": \"temp_max\",\n      \"properties\": {\n        \"dtype\": \"number\",\n        \"std\": null,\n        \"min\": 282.89,\n        \"max\": 282.89,\n        \"num_unique_values\": 1,\n        \"samples\": [\n          282.89\n        ],\n        \"semantic_type\": \"\",\n        \"description\": \"\"\n      }\n    },\n    {\n      \"column\": \"pressure\",\n      \"properties\": {\n        \"dtype\": \"number\",\n        \"std\": null,\n        \"min\": 1009,\n        \"max\": 1009,\n        \"num_unique_values\": 1,\n        \"samples\": [\n          1009\n        ],\n        \"semantic_type\": \"\",\n        \"description\": \"\"\n      }\n    },\n    {\n      \"column\": \"humidity\",\n      \"properties\": {\n        \"dtype\": \"number\",\n        \"std\": null,\n        \"min\": 79,\n        \"max\": 79,\n        \"num_unique_values\": 1,\n        \"samples\": [\n          79\n        ],\n        \"semantic_type\": \"\",\n        \"description\": \"\"\n      }\n    },\n    {\n      \"column\": \"sea_level\",\n      \"properties\": {\n        \"dtype\": \"number\",\n        \"std\": null,\n        \"min\": 1009,\n        \"max\": 1009,\n        \"num_unique_values\": 1,\n        \"samples\": [\n          1009\n        ],\n        \"semantic_type\": \"\",\n        \"description\": \"\"\n      }\n    },\n    {\n      \"column\": \"grnd_level\",\n      \"properties\": {\n        \"dtype\": \"number\",\n        \"std\": null,\n        \"min\": 954,\n        \"max\": 954,\n        \"num_unique_values\": 1,\n        \"samples\": [\n          954\n        ],\n        \"semantic_type\": \"\",\n        \"description\": \"\"\n      }\n    }\n  ]\n}"
            }
          },
          "metadata": {},
          "execution_count": 17
        }
      ],
      "source": [
        "#You can also translate this data into a pandas DataFrame (cf. pandas walkthrough)\n",
        "import pandas as pd\n",
        "\n",
        "name = payload['name']\n",
        "main_index = []\n",
        "main_index.append(name)\n",
        "\n",
        "df_main = pd.DataFrame(main_info, index=main_index)\n",
        "df_main"
      ]
    },
    {
      "cell_type": "code",
      "execution_count": 18,
      "metadata": {
        "id": "FXx9vFnTHvyN",
        "outputId": "df07d0c5-323f-446e-c253-2b0b6c8950a9",
        "colab": {
          "base_uri": "https://localhost:8080/",
          "height": 81
        }
      },
      "outputs": [
        {
          "output_type": "execute_result",
          "data": {
            "text/plain": [
              "          temp  feels_like  temp_min  temp_max  pressure  humidity  sea_level  \\\n",
              "Lausanne  8.27        4.39      7.26      9.74      1009        79       1009   \n",
              "\n",
              "          grnd_level  \n",
              "Lausanne         954  "
            ],
            "text/html": [
              "\n",
              "  <div id=\"df-b6d8ebd5-3e39-4096-9e95-567c2af608e1\" class=\"colab-df-container\">\n",
              "    <div>\n",
              "<style scoped>\n",
              "    .dataframe tbody tr th:only-of-type {\n",
              "        vertical-align: middle;\n",
              "    }\n",
              "\n",
              "    .dataframe tbody tr th {\n",
              "        vertical-align: top;\n",
              "    }\n",
              "\n",
              "    .dataframe thead th {\n",
              "        text-align: right;\n",
              "    }\n",
              "</style>\n",
              "<table border=\"1\" class=\"dataframe\">\n",
              "  <thead>\n",
              "    <tr style=\"text-align: right;\">\n",
              "      <th></th>\n",
              "      <th>temp</th>\n",
              "      <th>feels_like</th>\n",
              "      <th>temp_min</th>\n",
              "      <th>temp_max</th>\n",
              "      <th>pressure</th>\n",
              "      <th>humidity</th>\n",
              "      <th>sea_level</th>\n",
              "      <th>grnd_level</th>\n",
              "    </tr>\n",
              "  </thead>\n",
              "  <tbody>\n",
              "    <tr>\n",
              "      <th>Lausanne</th>\n",
              "      <td>8.27</td>\n",
              "      <td>4.39</td>\n",
              "      <td>7.26</td>\n",
              "      <td>9.74</td>\n",
              "      <td>1009</td>\n",
              "      <td>79</td>\n",
              "      <td>1009</td>\n",
              "      <td>954</td>\n",
              "    </tr>\n",
              "  </tbody>\n",
              "</table>\n",
              "</div>\n",
              "    <div class=\"colab-df-buttons\">\n",
              "\n",
              "  <div class=\"colab-df-container\">\n",
              "    <button class=\"colab-df-convert\" onclick=\"convertToInteractive('df-b6d8ebd5-3e39-4096-9e95-567c2af608e1')\"\n",
              "            title=\"Convert this dataframe to an interactive table.\"\n",
              "            style=\"display:none;\">\n",
              "\n",
              "  <svg xmlns=\"http://www.w3.org/2000/svg\" height=\"24px\" viewBox=\"0 -960 960 960\">\n",
              "    <path d=\"M120-120v-720h720v720H120Zm60-500h600v-160H180v160Zm220 220h160v-160H400v160Zm0 220h160v-160H400v160ZM180-400h160v-160H180v160Zm440 0h160v-160H620v160ZM180-180h160v-160H180v160Zm440 0h160v-160H620v160Z\"/>\n",
              "  </svg>\n",
              "    </button>\n",
              "\n",
              "  <style>\n",
              "    .colab-df-container {\n",
              "      display:flex;\n",
              "      gap: 12px;\n",
              "    }\n",
              "\n",
              "    .colab-df-convert {\n",
              "      background-color: #E8F0FE;\n",
              "      border: none;\n",
              "      border-radius: 50%;\n",
              "      cursor: pointer;\n",
              "      display: none;\n",
              "      fill: #1967D2;\n",
              "      height: 32px;\n",
              "      padding: 0 0 0 0;\n",
              "      width: 32px;\n",
              "    }\n",
              "\n",
              "    .colab-df-convert:hover {\n",
              "      background-color: #E2EBFA;\n",
              "      box-shadow: 0px 1px 2px rgba(60, 64, 67, 0.3), 0px 1px 3px 1px rgba(60, 64, 67, 0.15);\n",
              "      fill: #174EA6;\n",
              "    }\n",
              "\n",
              "    .colab-df-buttons div {\n",
              "      margin-bottom: 4px;\n",
              "    }\n",
              "\n",
              "    [theme=dark] .colab-df-convert {\n",
              "      background-color: #3B4455;\n",
              "      fill: #D2E3FC;\n",
              "    }\n",
              "\n",
              "    [theme=dark] .colab-df-convert:hover {\n",
              "      background-color: #434B5C;\n",
              "      box-shadow: 0px 1px 3px 1px rgba(0, 0, 0, 0.15);\n",
              "      filter: drop-shadow(0px 1px 2px rgba(0, 0, 0, 0.3));\n",
              "      fill: #FFFFFF;\n",
              "    }\n",
              "  </style>\n",
              "\n",
              "    <script>\n",
              "      const buttonEl =\n",
              "        document.querySelector('#df-b6d8ebd5-3e39-4096-9e95-567c2af608e1 button.colab-df-convert');\n",
              "      buttonEl.style.display =\n",
              "        google.colab.kernel.accessAllowed ? 'block' : 'none';\n",
              "\n",
              "      async function convertToInteractive(key) {\n",
              "        const element = document.querySelector('#df-b6d8ebd5-3e39-4096-9e95-567c2af608e1');\n",
              "        const dataTable =\n",
              "          await google.colab.kernel.invokeFunction('convertToInteractive',\n",
              "                                                    [key], {});\n",
              "        if (!dataTable) return;\n",
              "\n",
              "        const docLinkHtml = 'Like what you see? Visit the ' +\n",
              "          '<a target=\"_blank\" href=https://colab.research.google.com/notebooks/data_table.ipynb>data table notebook</a>'\n",
              "          + ' to learn more about interactive tables.';\n",
              "        element.innerHTML = '';\n",
              "        dataTable['output_type'] = 'display_data';\n",
              "        await google.colab.output.renderOutput(dataTable, element);\n",
              "        const docLink = document.createElement('div');\n",
              "        docLink.innerHTML = docLinkHtml;\n",
              "        element.appendChild(docLink);\n",
              "      }\n",
              "    </script>\n",
              "  </div>\n",
              "\n",
              "    </div>\n",
              "  </div>\n"
            ],
            "application/vnd.google.colaboratory.intrinsic+json": {
              "type": "dataframe",
              "variable_name": "df_main",
              "summary": "{\n  \"name\": \"df_main\",\n  \"rows\": 1,\n  \"fields\": [\n    {\n      \"column\": \"temp\",\n      \"properties\": {\n        \"dtype\": \"number\",\n        \"std\": null,\n        \"min\": 8.270000000000039,\n        \"max\": 8.270000000000039,\n        \"num_unique_values\": 1,\n        \"samples\": [\n          8.270000000000039\n        ],\n        \"semantic_type\": \"\",\n        \"description\": \"\"\n      }\n    },\n    {\n      \"column\": \"feels_like\",\n      \"properties\": {\n        \"dtype\": \"number\",\n        \"std\": null,\n        \"min\": 4.390000000000043,\n        \"max\": 4.390000000000043,\n        \"num_unique_values\": 1,\n        \"samples\": [\n          4.390000000000043\n        ],\n        \"semantic_type\": \"\",\n        \"description\": \"\"\n      }\n    },\n    {\n      \"column\": \"temp_min\",\n      \"properties\": {\n        \"dtype\": \"number\",\n        \"std\": null,\n        \"min\": 7.260000000000048,\n        \"max\": 7.260000000000048,\n        \"num_unique_values\": 1,\n        \"samples\": [\n          7.260000000000048\n        ],\n        \"semantic_type\": \"\",\n        \"description\": \"\"\n      }\n    },\n    {\n      \"column\": \"temp_max\",\n      \"properties\": {\n        \"dtype\": \"number\",\n        \"std\": null,\n        \"min\": 9.740000000000009,\n        \"max\": 9.740000000000009,\n        \"num_unique_values\": 1,\n        \"samples\": [\n          9.740000000000009\n        ],\n        \"semantic_type\": \"\",\n        \"description\": \"\"\n      }\n    },\n    {\n      \"column\": \"pressure\",\n      \"properties\": {\n        \"dtype\": \"number\",\n        \"std\": null,\n        \"min\": 1009,\n        \"max\": 1009,\n        \"num_unique_values\": 1,\n        \"samples\": [\n          1009\n        ],\n        \"semantic_type\": \"\",\n        \"description\": \"\"\n      }\n    },\n    {\n      \"column\": \"humidity\",\n      \"properties\": {\n        \"dtype\": \"number\",\n        \"std\": null,\n        \"min\": 79,\n        \"max\": 79,\n        \"num_unique_values\": 1,\n        \"samples\": [\n          79\n        ],\n        \"semantic_type\": \"\",\n        \"description\": \"\"\n      }\n    },\n    {\n      \"column\": \"sea_level\",\n      \"properties\": {\n        \"dtype\": \"number\",\n        \"std\": null,\n        \"min\": 1009,\n        \"max\": 1009,\n        \"num_unique_values\": 1,\n        \"samples\": [\n          1009\n        ],\n        \"semantic_type\": \"\",\n        \"description\": \"\"\n      }\n    },\n    {\n      \"column\": \"grnd_level\",\n      \"properties\": {\n        \"dtype\": \"number\",\n        \"std\": null,\n        \"min\": 954,\n        \"max\": 954,\n        \"num_unique_values\": 1,\n        \"samples\": [\n          954\n        ],\n        \"semantic_type\": \"\",\n        \"description\": \"\"\n      }\n    }\n  ]\n}"
            }
          },
          "metadata": {},
          "execution_count": 18
        }
      ],
      "source": [
        "#Temperature is in Kelvin- let us translate into Celsius\n",
        "\n",
        "df_main[['temp', 'feels_like', 'temp_min', 'temp_max']] = df_main[['temp', 'feels_like', 'temp_min', 'temp_max']] - 273.15\n",
        "df_main"
      ]
    }
  ],
  "metadata": {
    "colab": {
      "provenance": [],
      "include_colab_link": true
    },
    "kernelspec": {
      "display_name": "base",
      "language": "python",
      "name": "python3"
    },
    "language_info": {
      "name": "python",
      "version": "3.9.15"
    },
    "vscode": {
      "interpreter": {
        "hash": "b0cc462c96df3621bcc58e01fadcdf9264a069c5c4bbf07201077bb349d3c6bf"
      }
    }
  },
  "nbformat": 4,
  "nbformat_minor": 0
}
