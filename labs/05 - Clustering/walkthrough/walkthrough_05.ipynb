{
 "cells": [
  {
   "cell_type": "markdown",
   "metadata": {},
   "source": [
    "<a target=\"_blank\" href=\"https://colab.research.google.com/github/michalis0/Business-Intelligence-and-Analytics/blob/master/labs/05%20-%20Clustering/walkthrough/walkthrough_05.ipynb\">\n",
    "  <img src=\"https://colab.research.google.com/assets/colab-badge.svg\" alt=\"Open In Colab\"/>\n",
    "</a>"
   ]
  },
  {
   "attachments": {},
   "cell_type": "markdown",
   "metadata": {},
   "source": [
    "<h1 align=\"center\"> Walkthrough - Lab 5</h1>\n",
    "\n",
    "<div>\n",
    "<td> \n",
    "<img src=\"https://upload.wikimedia.org/wikipedia/commons/thumb/2/2b/Logo_Universit%C3%A9_de_Lausanne.svg/2000px-Logo_Universit%C3%A9_de_Lausanne.svg.png\" style=\"padding-right:10px;width:240px;float:left\"/></td>\n",
    "<h2 style=\"white-space: nowrap\">Business Intelligence and Analytics</h2></td>\n",
    "<hr style=\"clear:both\">\n",
    "<p style=\"font-size:0.85em; margin:2px; text-align:justify\">\n",
    "\n",
    "</div>"
   ]
  },
  {
   "attachments": {},
   "cell_type": "markdown",
   "metadata": {
    "papermill": {
     "duration": 0.02885,
     "end_time": "2020-10-21T06:42:29.672720",
     "exception": false,
     "start_time": "2020-10-21T06:42:29.643870",
     "status": "completed"
    },
    "tags": []
   },
   "source": [
    "![clustering image](https://static.javatpoint.com/tutorial/machine-learning/images/k-means-clustering-algorithm-in-machine-learning.png)\n",
    "\n",
    "### Clustering\n",
    "Clustering is the task of dividing the population or data points into a number of groups such that data points in the same groups are more similar to other data points in the same group than those in other groups. In simple words, the aim is to segregate groups with similar traits and assign them into clusters.\n",
    "\n",
    "### KMeans Clustering \n",
    "K-means clustering is one of the simplest and popular unsupervised machine learning algorithms. You’ll define a target number k, which refers to the number of centroids you need in the dataset. A centroid is the imaginary or real location representing the center of the cluster. Every data point is allocated to each of the clusters through reducing the in-cluster sum of squares. In other words, the K-means algorithm identifies k number of centroids, and then allocates every data point to the nearest cluster, while keeping the centroids as small as possible. The ‘means’ in the K-means refers to averaging of the data; that is, finding the centroid.\n",
    "\n",
    "### About the dataset\n",
    "This input file contains the basic information (ID, age, gender, income, spending score) about the customers of a mall. Spending Score is something you assign to the customer based on your defined parameters like customer behavior and purchasing data.\n"
   ]
  },
  {
   "attachments": {},
   "cell_type": "markdown",
   "metadata": {
    "papermill": {
     "duration": 0.026934,
     "end_time": "2020-10-21T06:42:29.729030",
     "exception": false,
     "start_time": "2020-10-21T06:42:29.702096",
     "status": "completed"
    },
    "tags": []
   },
   "source": [
    "## K-MEANS CLUSTERING"
   ]
  },
  {
   "cell_type": "code",
   "execution_count": null,
   "metadata": {
    "_cell_guid": "b1076dfc-b9ad-4769-8c92-a6c4dae69d19",
    "_uuid": "8f2839f25d086af736a60e9eeb907d3b93b6e0e5",
    "execution": {
     "iopub.execute_input": "2020-10-21T06:42:29.791509Z",
     "iopub.status.busy": "2020-10-21T06:42:29.790667Z",
     "iopub.status.idle": "2020-10-21T06:42:31.233468Z",
     "shell.execute_reply": "2020-10-21T06:42:31.232797Z"
    },
    "papermill": {
     "duration": 1.477288,
     "end_time": "2020-10-21T06:42:31.233607",
     "exception": false,
     "start_time": "2020-10-21T06:42:29.756319",
     "status": "completed"
    },
    "tags": []
   },
   "outputs": [],
   "source": [
    "import numpy as np \n",
    "import pandas as pd \n",
    "import matplotlib.pyplot as plt \n",
    "import seaborn as sns\n",
    "sns.set_style('darkgrid')\n",
    "\n",
    "import plotly as py\n",
    "import plotly.graph_objs as go\n",
    "\n",
    "from sklearn.cluster import KMeans\n",
    "\n",
    "import warnings\n",
    "warnings.filterwarnings('ignore')"
   ]
  },
  {
   "attachments": {},
   "cell_type": "markdown",
   "metadata": {
    "papermill": {
     "duration": 0.026866,
     "end_time": "2020-10-21T06:42:31.289515",
     "exception": false,
     "start_time": "2020-10-21T06:42:31.262649",
     "status": "completed"
    },
    "tags": []
   },
   "source": [
    "## DATA EXPLORATION"
   ]
  },
  {
   "cell_type": "code",
   "execution_count": null,
   "metadata": {
    "_cell_guid": "79c7e3d0-c299-4dcb-8224-4455121ee9b0",
    "_uuid": "d629ff2d2480ee46fbb7e2d37f6b5fab8052498a",
    "execution": {
     "iopub.execute_input": "2020-10-21T06:42:31.352430Z",
     "iopub.status.busy": "2020-10-21T06:42:31.351557Z",
     "iopub.status.idle": "2020-10-21T06:42:31.380030Z",
     "shell.execute_reply": "2020-10-21T06:42:31.379410Z"
    },
    "papermill": {
     "duration": 0.063471,
     "end_time": "2020-10-21T06:42:31.380149",
     "exception": false,
     "start_time": "2020-10-21T06:42:31.316678",
     "status": "completed"
    },
    "tags": []
   },
   "outputs": [],
   "source": [
    "df = pd.read_csv(\"https://github.com/michalis0/Business-Intelligence-and-Analytics/raw/master/data/mall_customers.csv\", index_col=\"CustomerID\")\n",
    "df.head()"
   ]
  },
  {
   "cell_type": "code",
   "execution_count": null,
   "metadata": {
    "execution": {
     "iopub.execute_input": "2020-10-21T06:42:31.442862Z",
     "iopub.status.busy": "2020-10-21T06:42:31.441853Z",
     "iopub.status.idle": "2020-10-21T06:42:31.445248Z",
     "shell.execute_reply": "2020-10-21T06:42:31.445812Z"
    },
    "papermill": {
     "duration": 0.037354,
     "end_time": "2020-10-21T06:42:31.445954",
     "exception": false,
     "start_time": "2020-10-21T06:42:31.408600",
     "status": "completed"
    },
    "tags": []
   },
   "outputs": [],
   "source": [
    "df.columns"
   ]
  },
  {
   "cell_type": "code",
   "execution_count": null,
   "metadata": {
    "execution": {
     "iopub.execute_input": "2020-10-21T06:42:31.519907Z",
     "iopub.status.busy": "2020-10-21T06:42:31.519012Z",
     "iopub.status.idle": "2020-10-21T06:42:31.522460Z",
     "shell.execute_reply": "2020-10-21T06:42:31.523079Z"
    },
    "papermill": {
     "duration": 0.047861,
     "end_time": "2020-10-21T06:42:31.523260",
     "exception": false,
     "start_time": "2020-10-21T06:42:31.475399",
     "status": "completed"
    },
    "tags": []
   },
   "outputs": [],
   "source": [
    "df.info()"
   ]
  },
  {
   "cell_type": "code",
   "execution_count": null,
   "metadata": {
    "execution": {
     "iopub.execute_input": "2020-10-21T06:42:31.591022Z",
     "iopub.status.busy": "2020-10-21T06:42:31.590231Z",
     "iopub.status.idle": "2020-10-21T06:42:31.613631Z",
     "shell.execute_reply": "2020-10-21T06:42:31.612999Z"
    },
    "papermill": {
     "duration": 0.061137,
     "end_time": "2020-10-21T06:42:31.613765",
     "exception": false,
     "start_time": "2020-10-21T06:42:31.552628",
     "status": "completed"
    },
    "tags": []
   },
   "outputs": [],
   "source": [
    "df.describe()"
   ]
  },
  {
   "cell_type": "markdown",
   "metadata": {
    "papermill": {
     "duration": 0.029637,
     "end_time": "2020-10-21T06:42:31.673585",
     "exception": false,
     "start_time": "2020-10-21T06:42:31.643948",
     "status": "completed"
    },
    "tags": []
   },
   "source": [
    "### Checking for null values"
   ]
  },
  {
   "cell_type": "code",
   "execution_count": null,
   "metadata": {
    "execution": {
     "iopub.execute_input": "2020-10-21T06:42:31.742870Z",
     "iopub.status.busy": "2020-10-21T06:42:31.741803Z",
     "iopub.status.idle": "2020-10-21T06:42:31.745984Z",
     "shell.execute_reply": "2020-10-21T06:42:31.745265Z"
    },
    "papermill": {
     "duration": 0.04228,
     "end_time": "2020-10-21T06:42:31.746119",
     "exception": false,
     "start_time": "2020-10-21T06:42:31.703839",
     "status": "completed"
    },
    "tags": []
   },
   "outputs": [],
   "source": [
    "df.isnull().sum()"
   ]
  },
  {
   "cell_type": "code",
   "execution_count": null,
   "metadata": {
    "execution": {
     "iopub.execute_input": "2020-10-21T06:42:31.816777Z",
     "iopub.status.busy": "2020-10-21T06:42:31.815963Z",
     "iopub.status.idle": "2020-10-21T06:42:32.438064Z",
     "shell.execute_reply": "2020-10-21T06:42:32.438664Z"
    },
    "papermill": {
     "duration": 0.661728,
     "end_time": "2020-10-21T06:42:32.438817",
     "exception": false,
     "start_time": "2020-10-21T06:42:31.777089",
     "status": "completed"
    },
    "tags": []
   },
   "outputs": [],
   "source": [
    "# See the distribution of the data of the main components\n",
    "plt.figure(1 , figsize = (15 , 6))\n",
    "n = 0 \n",
    "\n",
    "# Plot each column of the data frame in a separate subplot\n",
    "for x in ['Age' , 'Annual Income (k$)' , 'Spending Score (1-100)']:\n",
    "    n += 1\n",
    "    plt.subplot(1 , 3 , n)\n",
    "    plt.subplots_adjust(hspace = 0.5 , wspace = 0.5)\n",
    "    sns.distplot(df[x] , bins = 15)\n",
    "    plt.title('Distplot of {}'.format(x))\n",
    "plt.show()"
   ]
  },
  {
   "cell_type": "code",
   "execution_count": null,
   "metadata": {
    "execution": {
     "iopub.execute_input": "2020-10-21T06:42:32.515816Z",
     "iopub.status.busy": "2020-10-21T06:42:32.510220Z",
     "iopub.status.idle": "2020-10-21T06:42:35.927152Z",
     "shell.execute_reply": "2020-10-21T06:42:35.927761Z"
    },
    "papermill": {
     "duration": 3.456212,
     "end_time": "2020-10-21T06:42:35.927920",
     "exception": false,
     "start_time": "2020-10-21T06:42:32.471708",
     "status": "completed"
    },
    "tags": []
   },
   "outputs": [],
   "source": [
    "# Pairplots allow us to see the distribution of each variable and the relationship between each pair of variables\n",
    "# We can also see the distribution of each variable on the diagonal\n",
    "# We can also color the data points by a categorical variable\n",
    "sns.pairplot(df, vars = ['Spending Score (1-100)', 'Annual Income (k$)', 'Age'], hue = \"Gender\")"
   ]
  },
  {
   "attachments": {},
   "cell_type": "markdown",
   "metadata": {
    "papermill": {
     "duration": 0.036376,
     "end_time": "2020-10-21T06:42:36.000759",
     "exception": false,
     "start_time": "2020-10-21T06:42:35.964383",
     "status": "completed"
    },
    "tags": []
   },
   "source": [
    "## 2D CLUSTERING BASED ON AGE AND SPENDING SCORE"
   ]
  },
  {
   "cell_type": "code",
   "execution_count": null,
   "metadata": {
    "execution": {
     "iopub.execute_input": "2020-10-21T06:42:36.088661Z",
     "iopub.status.busy": "2020-10-21T06:42:36.086240Z",
     "iopub.status.idle": "2020-10-21T06:42:36.272523Z",
     "shell.execute_reply": "2020-10-21T06:42:36.271908Z"
    },
    "papermill": {
     "duration": 0.235857,
     "end_time": "2020-10-21T06:42:36.272686",
     "exception": false,
     "start_time": "2020-10-21T06:42:36.036829",
     "status": "completed"
    },
    "tags": []
   },
   "outputs": [],
   "source": [
    "# Scatter plot of Age v/s Spending Score without any clustering\n",
    "plt.figure(1 , figsize = (15 , 7))\n",
    "plt.title('Scatter plot of Age v/s Spending Score', fontsize = 20)\n",
    "plt.xlabel('Age')\n",
    "plt.ylabel('Spending Score')\n",
    "plt.scatter( x = 'Age', y = 'Spending Score (1-100)', data = df, s = 100)\n",
    "plt.show()"
   ]
  },
  {
   "attachments": {},
   "cell_type": "markdown",
   "metadata": {
    "papermill": {
     "duration": 0.037115,
     "end_time": "2020-10-21T06:42:36.347995",
     "exception": false,
     "start_time": "2020-10-21T06:42:36.310880",
     "status": "completed"
    },
    "tags": []
   },
   "source": [
    "#### Deciding K value"
   ]
  },
  {
   "attachments": {},
   "cell_type": "markdown",
   "metadata": {},
   "source": [
    "- Iterate over the number of clusters and calculate the inertia\n",
    "- Inertia is the sum of squared distances of samples to their closest cluster center\n",
    "- We will use the elbow method to find the optimal number of clusters\n",
    "- The optimal number of clusters is the point after which the inertia starts decreasing in a linear fashion"
   ]
  },
  {
   "cell_type": "code",
   "execution_count": null,
   "metadata": {
    "execution": {
     "iopub.execute_input": "2020-10-21T06:42:36.433308Z",
     "iopub.status.busy": "2020-10-21T06:42:36.432260Z",
     "iopub.status.idle": "2020-10-21T06:42:37.234592Z",
     "shell.execute_reply": "2020-10-21T06:42:37.233930Z"
    },
    "papermill": {
     "duration": 0.849405,
     "end_time": "2020-10-21T06:42:37.234735",
     "exception": false,
     "start_time": "2020-10-21T06:42:36.385330",
     "status": "completed"
    },
    "tags": []
   },
   "outputs": [],
   "source": [
    "# Elbow method to find the optimal number of clusters\n",
    "X_2D = df[['Age' , 'Spending Score (1-100)']].values\n",
    "inertia = []\n",
    "NB_ITER = 15\n",
    "for n in range(1 , NB_ITER):\n",
    "    algorithm = KMeans(n_clusters=n, random_state= 111)\n",
    "    algorithm.fit(X_2D)\n",
    "    inertia.append(algorithm.inertia_)\n",
    "\n",
    "# Plot vertical line at the point of maximum curvature\n",
    "plt.figure(1 , figsize = (15 ,6))\n",
    "sns.lineplot(x = np.arange(1 , NB_ITER), y = inertia, sort = False, marker='o')\n",
    "plt.xlabel('Number of Clusters') , plt.ylabel('Inertia')\n",
    "plt.axvline(x=4, color='r', linestyle='--')\n",
    "plt.show()"
   ]
  },
  {
   "attachments": {},
   "cell_type": "markdown",
   "metadata": {},
   "source": [
    "From the previous Elbow plot, we can see that the best number of cluster appear to be 4. So we will use this in the following section."
   ]
  },
  {
   "cell_type": "code",
   "execution_count": null,
   "metadata": {
    "execution": {
     "iopub.execute_input": "2020-10-21T06:42:37.674678Z",
     "iopub.status.busy": "2020-10-21T06:42:37.673819Z",
     "iopub.status.idle": "2020-10-21T06:42:37.715963Z",
     "shell.execute_reply": "2020-10-21T06:42:37.715164Z"
    },
    "papermill": {
     "duration": 0.088201,
     "end_time": "2020-10-21T06:42:37.716090",
     "exception": false,
     "start_time": "2020-10-21T06:42:37.627889",
     "status": "completed"
    },
    "tags": []
   },
   "outputs": [],
   "source": [
    "algorithm = KMeans(n_clusters=4, random_state= 111)\n",
    "algorithm.fit(X_2D)\n",
    "labels1 = algorithm.labels_\n",
    "centroids1 = algorithm.cluster_centers_"
   ]
  },
  {
   "cell_type": "code",
   "execution_count": null,
   "metadata": {},
   "outputs": [],
   "source": [
    "# Print the labels and the centroids\n",
    "# The labels are the cluster numbers assigned to each data point\n",
    "print(labels1)"
   ]
  },
  {
   "cell_type": "code",
   "execution_count": null,
   "metadata": {},
   "outputs": [],
   "source": [
    "# Print the centroids coordinates\n",
    "print(centroids1)"
   ]
  },
  {
   "cell_type": "code",
   "execution_count": null,
   "metadata": {},
   "outputs": [],
   "source": [
    "# Create a scatter plot of the data colored by the cluster labels\n",
    "plt.figure(1 , figsize = (15 , 7))\n",
    "\n",
    "# Scatter plot with bright colors\n",
    "plt.scatter(x = 'Age', y = 'Spending Score (1-100)', data = df, s = 100, c = algorithm.labels_)\n",
    "plt.scatter(x = centroids1[: , 0], y = centroids1[: , 1], s = 300, c = 'red', alpha = 0.5)\n",
    "plt.title('Clusters of customers', fontsize = 15)\n",
    "plt.xlabel('Age')\n",
    "plt.ylabel('Spending Score')\n",
    "plt.show()"
   ]
  },
  {
   "cell_type": "code",
   "execution_count": null,
   "metadata": {
    "execution": {
     "iopub.execute_input": "2020-10-21T06:42:37.804058Z",
     "iopub.status.busy": "2020-10-21T06:42:37.803282Z",
     "iopub.status.idle": "2020-10-21T06:42:38.486202Z",
     "shell.execute_reply": "2020-10-21T06:42:38.486899Z"
    },
    "papermill": {
     "duration": 0.73156,
     "end_time": "2020-10-21T06:42:38.487103",
     "exception": false,
     "start_time": "2020-10-21T06:42:37.755543",
     "status": "completed"
    },
    "tags": []
   },
   "outputs": [],
   "source": [
    "# This code creates a mesh grid of the data points found in X_2D[:, 0] and X_2D[:, 1] with a step size of h (in this case 0.02).\n",
    "# The mesh grid is then used to predict the output of the algorithm for each point on the grid.\n",
    "# The result is stored in the Z variable.\n",
    "\n",
    "h = 0.02\n",
    "\n",
    "# Get the minimum and maximum values of the data\n",
    "x_min, x_max = X_2D[:, 0].min() - 1, X_2D[:, 0].max() + 1\n",
    "y_min, y_max = X_2D[:, 1].min() - 1, X_2D[:, 1].max() + 1\n",
    "\n",
    "# Create a mesh grid of all the points in the plot\n",
    "xx, yy = np.meshgrid(np.arange(x_min, x_max, h), np.arange(y_min, y_max, h))\n",
    "\n",
    "# Use the predict method of the algorithm to predict the output for all the points in the mesh grid.\n",
    "Z = algorithm.predict(np.c_[xx.ravel(), yy.ravel()])\n",
    "\n",
    "# NOTE :\n",
    "# np.c_ is a NumPy function used to concatenate two arrays along the second axis.\n",
    "# It takes two arrays and returns an array combining them along the second axis.\n",
    "# In this case, it combines the two arrays xx.ravel() and yy.ravel() along the second axis, which is the column axis.\n",
    "# The result is an array of two columns, which is then used by the algorithm.predict() method to predict the output for each point on the mesh grid."
   ]
  },
  {
   "cell_type": "code",
   "execution_count": null,
   "metadata": {
    "execution": {
     "iopub.execute_input": "2020-10-21T06:42:38.595610Z",
     "iopub.status.busy": "2020-10-21T06:42:38.594749Z",
     "iopub.status.idle": "2020-10-21T06:42:39.063938Z",
     "shell.execute_reply": "2020-10-21T06:42:39.063326Z"
    },
    "papermill": {
     "duration": 0.528959,
     "end_time": "2020-10-21T06:42:39.064060",
     "exception": false,
     "start_time": "2020-10-21T06:42:38.535101",
     "status": "completed"
    },
    "tags": []
   },
   "outputs": [],
   "source": [
    "plt.figure(1 , figsize = (15 , 7) )\n",
    "plt.clf()\n",
    "Z = Z.reshape(xx.shape)\n",
    "plt.imshow(Z , interpolation='nearest', \n",
    "           extent=(xx.min(), xx.max(), yy.min(), yy.max()),\n",
    "           cmap = plt.cm.Pastel2, aspect = 'auto', origin='lower')\n",
    "\n",
    "plt.scatter( x = 'Age', y = 'Spending Score (1-100)', data = df, c = labels1, s = 100)\n",
    "plt.scatter(x = centroids1[: , 0] , y =  centroids1[: , 1] , s = 300 , c = 'red' , alpha = 0.5)\n",
    "plt.ylabel('Spending Score (1-100)') , plt.xlabel('Age')\n",
    "plt.show()"
   ]
  },
  {
   "attachments": {},
   "cell_type": "markdown",
   "metadata": {
    "papermill": {
     "duration": 0.048131,
     "end_time": "2020-10-21T06:42:44.083920",
     "exception": false,
     "start_time": "2020-10-21T06:42:44.035789",
     "status": "completed"
    },
    "tags": []
   },
   "source": [
    "## 3D CLUSTERING AGE, ANNUAL INCOME AND SPENDING INCOME\n",
    "\n",
    "We can generalize the previous method for more than 2 dimensions. Howver, visual interpreation will become harder in 3d and impossible in 4+ dimensions.\n",
    "In this part, we will first work with the same example as before but we will take into account one more feature, mainly the annual income "
   ]
  },
  {
   "cell_type": "code",
   "execution_count": null,
   "metadata": {},
   "outputs": [],
   "source": [
    "# Elbow method to find the optimal number of clusters\n",
    "X_3D = df[['Age' , 'Annual Income (k$)' ,'Spending Score (1-100)']].values\n",
    "inertia = []\n",
    "NB_ITER = 13\n",
    "for n in range(1 , NB_ITER):\n",
    "    algorithm = KMeans(n_clusters=n, random_state= 111)\n",
    "    algorithm.fit(X_3D)\n",
    "    inertia.append(algorithm.inertia_)\n",
    "\n",
    "# Plot vertical line at the point of maximum curvature\n",
    "plt.figure(1 , figsize = (15 ,6))\n",
    "sns.lineplot(x = np.arange(1 , NB_ITER), y = inertia, sort = False, marker='o')\n",
    "plt.xlabel('Number of Clusters') , plt.ylabel('Inertia')\n",
    "plt.axvline(x=6, color='r', linestyle='--')\n",
    "plt.show()"
   ]
  },
  {
   "cell_type": "code",
   "execution_count": null,
   "metadata": {
    "execution": {
     "iopub.execute_input": "2020-10-21T06:42:45.156039Z",
     "iopub.status.busy": "2020-10-21T06:42:45.155258Z",
     "iopub.status.idle": "2020-10-21T06:42:45.262160Z",
     "shell.execute_reply": "2020-10-21T06:42:45.262770Z"
    },
    "papermill": {
     "duration": 0.16549,
     "end_time": "2020-10-21T06:42:45.262922",
     "exception": false,
     "start_time": "2020-10-21T06:42:45.097432",
     "status": "completed"
    },
    "tags": []
   },
   "outputs": [],
   "source": [
    "algorithm = KMeans(n_clusters=6, random_state= 111)\n",
    "algorithm.fit(X_3D)\n",
    "labels3 = algorithm.labels_\n",
    "centroids3 = algorithm.cluster_centers_\n",
    "\n",
    "y_kmeans = algorithm.fit_predict(X_3D)\n",
    "df['cluster'] = pd.DataFrame(y_kmeans)\n",
    "df.head()"
   ]
  },
  {
   "cell_type": "code",
   "execution_count": null,
   "metadata": {
    "execution": {
     "iopub.execute_input": "2020-10-21T06:42:45.376627Z",
     "iopub.status.busy": "2020-10-21T06:42:45.375763Z",
     "iopub.status.idle": "2020-10-21T06:42:46.344569Z",
     "shell.execute_reply": "2020-10-21T06:42:46.343944Z"
    },
    "papermill": {
     "duration": 1.030877,
     "end_time": "2020-10-21T06:42:46.344688",
     "exception": false,
     "start_time": "2020-10-21T06:42:45.313811",
     "status": "completed"
    },
    "tags": []
   },
   "outputs": [],
   "source": [
    "import plotly as py\n",
    "import plotly.graph_objs as go\n",
    "\n",
    "trace1 = go.Scatter3d(\n",
    "    x= df['Age'],\n",
    "    y= df['Spending Score (1-100)'],\n",
    "    z= df['Annual Income (k$)'],\n",
    "    mode='markers',\n",
    "     marker=dict(\n",
    "        color = df['cluster'], \n",
    "        size= 10,\n",
    "        line=dict(\n",
    "            color= df['cluster'],\n",
    "            width= 12\n",
    "        ),\n",
    "        opacity=0.8\n",
    "     )\n",
    ")\n",
    "data = [trace1]\n",
    "layout = go.Layout(\n",
    "    title= 'Clusters wrt Age, Income and Spending Scores',\n",
    "    scene = dict(\n",
    "            xaxis = dict(title  = 'Age'),\n",
    "            yaxis = dict(title  = 'Spending Score'),\n",
    "            zaxis = dict(title  = 'Annual Income')\n",
    "        )\n",
    ")\n",
    "fig = go.Figure(data=data, layout=layout)\n",
    "py.offline.iplot(fig)"
   ]
  },
  {
   "cell_type": "code",
   "execution_count": null,
   "metadata": {
    "execution": {
     "iopub.execute_input": "2020-10-21T06:42:46.464983Z",
     "iopub.status.busy": "2020-10-21T06:42:46.464094Z",
     "iopub.status.idle": "2020-10-21T06:42:46.469059Z",
     "shell.execute_reply": "2020-10-21T06:42:46.468441Z"
    },
    "papermill": {
     "duration": 0.071567,
     "end_time": "2020-10-21T06:42:46.469213",
     "exception": false,
     "start_time": "2020-10-21T06:42:46.397646",
     "status": "completed"
    },
    "tags": []
   },
   "outputs": [],
   "source": [
    "df.head()"
   ]
  },
  {
   "attachments": {},
   "cell_type": "markdown",
   "metadata": {
    "papermill": {
     "duration": 0.043932,
     "end_time": "2020-10-21T06:42:40.593316",
     "exception": false,
     "start_time": "2020-10-21T06:42:40.549384",
     "status": "completed"
    },
    "tags": []
   },
   "source": [
    "## YOUR TURN :\n",
    "## 2D CLUSTERING BASED ON ANNUAL INCOME AND SPENDING SCORE"
   ]
  },
  {
   "attachments": {},
   "cell_type": "markdown",
   "metadata": {},
   "source": [
    "> Based on the previous examples, you should now perform the following tasks:\n",
    "> - Perform K-Means clustering for mutliple number of clusters using the following features:\n",
    ">     - 'Annual Income (k$)'\n",
    ">     - 'Spending Score (1-100)'.\n",
    ">\n",
    "> - Plot the inertia for each number of clusters and use the elbow method to find the optimal number of clusters.\n",
    ">\n",
    "> - Use the optimal number of clusters to perform K-Means clustering on the data set and plot the clusters (no need for a mesh grid : a scatter plot is enough)\n",
    ">"
   ]
  },
  {
   "attachments": {},
   "cell_type": "markdown",
   "metadata": {},
   "source": [
    "### MOODLE QUIZ - QUESTION 1\n",
    "> **Replace all the ... with the appropriate value obtained previously (just below each TODO annotation)**"
   ]
  },
  {
   "attachments": {},
   "cell_type": "markdown",
   "metadata": {},
   "source": [
    "##### QUESTION 1.1 - GET THE DATA USED FOR TRAINING"
   ]
  },
  {
   "cell_type": "code",
   "execution_count": null,
   "metadata": {},
   "outputs": [],
   "source": [
    "# Elbow method to find the optimal number of clusters\n",
    "# TODO: Get the data from the dataframe with the following columns: 'Annual Income (k$)' and 'Spending Score (1-100)'\n",
    "X = ..."
   ]
  },
  {
   "attachments": {},
   "cell_type": "markdown",
   "metadata": {},
   "source": [
    "##### QUESTION 1.2 - TRAIN CLUSTERING WITH UP TO 15 CLUSTERS"
   ]
  },
  {
   "cell_type": "code",
   "execution_count": null,
   "metadata": {},
   "outputs": [],
   "source": [
    "inertia = []\n",
    "NB_ITER = 15\n",
    "for n in range(1 , NB_ITER):\n",
    "    # TODO: Create a KMeans object with the following parameters: n_clusters=n, random_state=111\n",
    "    algorithm = ...\n",
    "    algorithm.fit(X)\n",
    "    inertia.append(algorithm.inertia_)"
   ]
  },
  {
   "attachments": {},
   "cell_type": "markdown",
   "metadata": {},
   "source": [
    "##### QUESTION 1.3 - PLOT INERTIA AND DETERMINE BEST VALUE OF NB_CLUSTERS"
   ]
  },
  {
   "cell_type": "code",
   "execution_count": null,
   "metadata": {},
   "outputs": [],
   "source": [
    "# Plot vertical line at the point of maximum curvature\n",
    "plt.figure(1 , figsize = (15 ,6))\n",
    "\n",
    "# TODO: Plot the inertia values and add a vertical line at the point of maximum curvature you find\n",
    "...\n",
    "# TODO: Add a vertical line at the point of maximum curvature\n",
    "...\n",
    "plt.xlabel('Number of Clusters') , plt.ylabel('Inertia')\n",
    "plt.show()"
   ]
  },
  {
   "cell_type": "code",
   "execution_count": null,
   "metadata": {},
   "outputs": [],
   "source": [
    "# Replace the ... with the appropriate value obtained previously\n",
    "NB_CLUSTERS = ..."
   ]
  },
  {
   "attachments": {},
   "cell_type": "markdown",
   "metadata": {},
   "source": [
    "#### APPLYING K-MEANS"
   ]
  },
  {
   "cell_type": "code",
   "execution_count": null,
   "metadata": {
    "execution": {
     "iopub.execute_input": "2020-10-21T06:42:41.514212Z",
     "iopub.status.busy": "2020-10-21T06:42:41.513093Z",
     "iopub.status.idle": "2020-10-21T06:42:41.556501Z",
     "shell.execute_reply": "2020-10-21T06:42:41.555853Z"
    },
    "papermill": {
     "duration": 0.096838,
     "end_time": "2020-10-21T06:42:41.556640",
     "exception": false,
     "start_time": "2020-10-21T06:42:41.459802",
     "status": "completed"
    },
    "tags": []
   },
   "outputs": [],
   "source": [
    "algorithm = KMeans(n_clusters=NB_CLUSTERS ,init='k-means++', random_state= 111)\n",
    "algorithm.fit(X)\n",
    "labels = algorithm.labels_\n",
    "centroids = algorithm.cluster_centers_"
   ]
  },
  {
   "cell_type": "code",
   "execution_count": null,
   "metadata": {},
   "outputs": [],
   "source": [
    "# Print the labels and the centroids\n",
    "# The labels are the cluster numbers assigned to each data point\n",
    "print(labels)"
   ]
  },
  {
   "cell_type": "code",
   "execution_count": null,
   "metadata": {},
   "outputs": [],
   "source": [
    "# Print the centroids coordinates\n",
    "print(centroids)"
   ]
  },
  {
   "attachments": {},
   "cell_type": "markdown",
   "metadata": {},
   "source": [
    "##### QUESTION 1.4 - DO A SCATTER PLOT OF ALL POINTS WITH DIFFERENT COLORS FOR EACH CLUSTER"
   ]
  },
  {
   "cell_type": "code",
   "execution_count": null,
   "metadata": {},
   "outputs": [],
   "source": [
    "# Scatter plot with bright colors\n",
    "plt.figure(1 , figsize = (15 , 7))\n",
    "\n",
    "# TODO: Use the scatter method of the plt object to plot the data points with the right parameters\n",
    "plt.scatter(x =..., y =... , data = df, s=100, c= ...)\n",
    "\n",
    "# TODO: Ass centroids to the plot with the right parameters\n",
    "plt.scatter(x = ... , y = ... , s = 300, c = 'red', alpha = 0.5)\n",
    "\n",
    "plt.title('Clusters of customers', fontsize = 15)\n",
    "plt.xlabel('Annual Income (k$)')\n",
    "plt.ylabel('Spending Score (1-100)')\n",
    "plt.show()"
   ]
  },
  {
   "cell_type": "markdown",
   "metadata": {},
   "source": [
    "### MOODLE QUIZ - QUESTION 2"
   ]
  },
  {
   "cell_type": "code",
   "execution_count": null,
   "metadata": {},
   "outputs": [],
   "source": [
    "# New point to predict the cluster it belongs to\n",
    "# where the first value is the annual income and the second value is the spending score\n",
    "new_point = np.array([[20, 80]])\n",
    "\n",
    "# Predict the cluster of the new point\n",
    "new_point_label = ...\n",
    "\n",
    "# Display the predicted cluster\n",
    "print('The new point belongs to cluster number {}'.format(new_point_label[0]))\n",
    "\n",
    "# Print coordinates of the new point and the centroid of the cluster it belongs to\n",
    "print('The centroid of the cluster it belongs to is {}'.format(centroids[new_point_label]))"
   ]
  }
 ],
 "metadata": {
  "kernelspec": {
   "display_name": "Python 3",
   "language": "python",
   "name": "python3"
  },
  "language_info": {
   "codemirror_mode": {
    "name": "ipython",
    "version": 3
   },
   "file_extension": ".py",
   "mimetype": "text/x-python",
   "name": "python",
   "nbconvert_exporter": "python",
   "pygments_lexer": "ipython3",
   "version": "3.9.15"
  },
  "papermill": {
   "duration": 22.614156,
   "end_time": "2020-10-21T06:42:47.092818",
   "environment_variables": {},
   "exception": null,
   "input_path": "__notebook__.ipynb",
   "output_path": "__notebook__.ipynb",
   "parameters": {},
   "start_time": "2020-10-21T06:42:24.478662",
   "version": "2.1.0"
  }
 },
 "nbformat": 4,
 "nbformat_minor": 4
}
