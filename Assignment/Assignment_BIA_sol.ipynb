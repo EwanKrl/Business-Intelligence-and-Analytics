{
  "cells": [
    {
      "cell_type": "markdown",
      "metadata": {
        "id": "view-in-github",
        "colab_type": "text"
      },
      "source": [
        "<a href=\"https://colab.research.google.com/github/michalis0/Business-Intelligence-and-Analytics/blob/master/Assignment/Assignment_BIA_sol.ipynb\" target=\"_parent\"><img src=\"https://colab.research.google.com/assets/colab-badge.svg\" alt=\"Open In Colab\"/></a>"
      ]
    },
    {
      "cell_type": "code",
      "execution_count": null,
      "id": "15dc4475-7f7d-4457-8762-bb031a0629b2",
      "metadata": {
        "id": "15dc4475-7f7d-4457-8762-bb031a0629b2"
      },
      "outputs": [],
      "source": [
        "# IMPORT YOUR LIBRARIES HERE\n",
        "import pandas as pd\n",
        "from sklearn.model_selection import train_test_split, GridSearchCV\n",
        "from sklearn.linear_model import LinearRegression, LogisticRegression, LogisticRegressionCV\n",
        "from sklearn.metrics import mean_squared_error, r2_score, confusion_matrix, classification_report\n",
        "from sklearn.preprocessing import OneHotEncoder, MinMaxScaler, StandardScaler\n",
        "from sklearn.metrics import r2_score, mean_absolute_error, mean_squared_error\n",
        "from sklearn.preprocessing import PolynomialFeatures\n",
        "from sklearn.neighbors import KNeighborsClassifier\n",
        "from sklearn.tree import DecisionTreeClassifier\n",
        "import numpy as np\n",
        "import matplotlib\n",
        "import matplotlib.pyplot as plt\n",
        "import seaborn as sns"
      ]
    },
    {
      "cell_type": "markdown",
      "id": "a844a8c0-078c-4946-8927-e570469c601c",
      "metadata": {
        "id": "a844a8c0-078c-4946-8927-e570469c601c"
      },
      "source": [
        "# Business and Intelligence Analytics personal assignment\n",
        "\n",
        "Welcome to the BIA personal assignment!\n",
        "\n",
        "You will have to implement regression and classification algorithms, applying these methods to the topics of agriculture, food, water, and health. More precisely, you will try to:\n",
        "- Predict crop yields using data on weather and fertilizer use.\n",
        "- Predict the potability of water using data on the mineral and micro-organisms content of water.\n",
        "\n",
        "Once you are done you have to submit your notebook on moodle. The deadline of the submission is on __May 19th at 23:59__.\n",
        "\n",
        "If there is need for further clarifications on the questions, after the assignment is released, we will update this file, so make sure you check the git repository for updates.\n",
        "\n",
        "Good luck!"
      ]
    },
    {
      "cell_type": "markdown",
      "id": "306ac928-a1e5-4dd7-8e62-b8108c22e5a9",
      "metadata": {
        "id": "306ac928-a1e5-4dd7-8e62-b8108c22e5a9"
      },
      "source": [
        "#1- Linear regression: predicting crop yields\n",
        "\n",
        "In 2022, between 735 million persons worldwide were suffering from hunger (see [SDG Goal 2](https://www.un.org/sustainabledevelopment/hunger/) Zero Hunger). Given the ongoing growth of the world population, it is imperative to comprehend crop yield at a global level in order to tackle food security issues and mitigate the effects of climate change.\n",
        "\n",
        "The Agricultural yield depends on weather conditions (rain, temperature, etc) and fertilizers use. Having precise information regarding the historical crop yield is critical for making informed decisions regarding agricultural risk management and future projections.\n",
        "\n",
        "Some publications on the topic of food:\n",
        "- [Threats to Nitrogen Fertilizer, Opportunities to Cultivate Sustainable Practices?](https://e4s.center/resources/reports/threats-to-nitrogen-fertilizer-opportunities-to-cultivate-sustainable-practices/)\n",
        "- [True cost of food as a lever to transform the Swiss food system](https://e4s.center/resources/reports/true-cost-of-food-as-a-lever-to-transform-the-swiss-food-system/)\n",
        "\n",
        "<img src='https://upload.wikimedia.org/wikipedia/commons/thumb/b/b7/Sustainable_Development_Goal_02ZeroHunger.svg/800px-Sustainable_Development_Goal_02ZeroHunger.svg.png' width=\"200\">\n",
        "\n",
        "We will use data obtained from the [FAO](http://www.fao.org/home/en/) (Food and Agriculture Organization) and [World Data Bank](https://data.worldbank.org/), and gathered in the [Crop Yield Prediction Dataset](https://www.kaggle.com/datasets/patelris/crop-yield-prediction-dataset).\n",
        "\n",
        "Our goal is to predict the crop yields using the _temperature_, _rain fall_, and _type of crops_.\n"
      ]
    },
    {
      "cell_type": "markdown",
      "id": "783579c9-3e8e-4b44-b95a-58179f897d40",
      "metadata": {
        "id": "783579c9-3e8e-4b44-b95a-58179f897d40"
      },
      "source": [
        "## 1.1 Load and Discover the dataset"
      ]
    },
    {
      "cell_type": "markdown",
      "id": "0beccfea-24ca-4c3f-92f1-c5a950b2cbce",
      "metadata": {
        "id": "0beccfea-24ca-4c3f-92f1-c5a950b2cbce"
      },
      "source": [
        "Load the data in a pandas dataframe. The url link is provided below. Display the first 10 observations and the types of data."
      ]
    },
    {
      "cell_type": "code",
      "execution_count": null,
      "id": "3e87e292-3eed-4193-ba24-60693606b433",
      "metadata": {
        "colab": {
          "base_uri": "https://localhost:8080/",
          "height": 363
        },
        "id": "3e87e292-3eed-4193-ba24-60693606b433",
        "outputId": "e42a120a-a24b-480f-990a-b8a78cdc127a"
      },
      "outputs": [
        {
          "output_type": "execute_result",
          "data": {
            "text/plain": [
              "      Area         Item  Year  hg/ha_yield  average_rain_fall_mm_per_year  \\\n",
              "0  Albania        Maize  1990        36613                           1485   \n",
              "1  Albania     Potatoes  1990        66667                           1485   \n",
              "2  Albania  Rice, paddy  1990        23333                           1485   \n",
              "3  Albania      Sorghum  1990        12500                           1485   \n",
              "4  Albania     Soybeans  1990         7000                           1485   \n",
              "5  Albania        Wheat  1990        30197                           1485   \n",
              "6  Albania        Maize  1991        29068                           1485   \n",
              "7  Albania     Potatoes  1991        77818                           1485   \n",
              "8  Albania  Rice, paddy  1991        28538                           1485   \n",
              "9  Albania      Sorghum  1991         6667                           1485   \n",
              "\n",
              "   pesticides_tonnes  avg_temp  \n",
              "0              121.0     16.37  \n",
              "1              121.0     16.37  \n",
              "2              121.0     16.37  \n",
              "3              121.0     16.37  \n",
              "4              121.0     16.37  \n",
              "5              121.0     16.37  \n",
              "6              121.0     15.36  \n",
              "7              121.0     15.36  \n",
              "8              121.0     15.36  \n",
              "9              121.0     15.36  "
            ],
            "text/html": [
              "\n",
              "  <div id=\"df-39a357bd-5289-46f0-b5f5-8f6db9e3403e\" class=\"colab-df-container\">\n",
              "    <div>\n",
              "<style scoped>\n",
              "    .dataframe tbody tr th:only-of-type {\n",
              "        vertical-align: middle;\n",
              "    }\n",
              "\n",
              "    .dataframe tbody tr th {\n",
              "        vertical-align: top;\n",
              "    }\n",
              "\n",
              "    .dataframe thead th {\n",
              "        text-align: right;\n",
              "    }\n",
              "</style>\n",
              "<table border=\"1\" class=\"dataframe\">\n",
              "  <thead>\n",
              "    <tr style=\"text-align: right;\">\n",
              "      <th></th>\n",
              "      <th>Area</th>\n",
              "      <th>Item</th>\n",
              "      <th>Year</th>\n",
              "      <th>hg/ha_yield</th>\n",
              "      <th>average_rain_fall_mm_per_year</th>\n",
              "      <th>pesticides_tonnes</th>\n",
              "      <th>avg_temp</th>\n",
              "    </tr>\n",
              "  </thead>\n",
              "  <tbody>\n",
              "    <tr>\n",
              "      <th>0</th>\n",
              "      <td>Albania</td>\n",
              "      <td>Maize</td>\n",
              "      <td>1990</td>\n",
              "      <td>36613</td>\n",
              "      <td>1485</td>\n",
              "      <td>121.0</td>\n",
              "      <td>16.37</td>\n",
              "    </tr>\n",
              "    <tr>\n",
              "      <th>1</th>\n",
              "      <td>Albania</td>\n",
              "      <td>Potatoes</td>\n",
              "      <td>1990</td>\n",
              "      <td>66667</td>\n",
              "      <td>1485</td>\n",
              "      <td>121.0</td>\n",
              "      <td>16.37</td>\n",
              "    </tr>\n",
              "    <tr>\n",
              "      <th>2</th>\n",
              "      <td>Albania</td>\n",
              "      <td>Rice, paddy</td>\n",
              "      <td>1990</td>\n",
              "      <td>23333</td>\n",
              "      <td>1485</td>\n",
              "      <td>121.0</td>\n",
              "      <td>16.37</td>\n",
              "    </tr>\n",
              "    <tr>\n",
              "      <th>3</th>\n",
              "      <td>Albania</td>\n",
              "      <td>Sorghum</td>\n",
              "      <td>1990</td>\n",
              "      <td>12500</td>\n",
              "      <td>1485</td>\n",
              "      <td>121.0</td>\n",
              "      <td>16.37</td>\n",
              "    </tr>\n",
              "    <tr>\n",
              "      <th>4</th>\n",
              "      <td>Albania</td>\n",
              "      <td>Soybeans</td>\n",
              "      <td>1990</td>\n",
              "      <td>7000</td>\n",
              "      <td>1485</td>\n",
              "      <td>121.0</td>\n",
              "      <td>16.37</td>\n",
              "    </tr>\n",
              "    <tr>\n",
              "      <th>5</th>\n",
              "      <td>Albania</td>\n",
              "      <td>Wheat</td>\n",
              "      <td>1990</td>\n",
              "      <td>30197</td>\n",
              "      <td>1485</td>\n",
              "      <td>121.0</td>\n",
              "      <td>16.37</td>\n",
              "    </tr>\n",
              "    <tr>\n",
              "      <th>6</th>\n",
              "      <td>Albania</td>\n",
              "      <td>Maize</td>\n",
              "      <td>1991</td>\n",
              "      <td>29068</td>\n",
              "      <td>1485</td>\n",
              "      <td>121.0</td>\n",
              "      <td>15.36</td>\n",
              "    </tr>\n",
              "    <tr>\n",
              "      <th>7</th>\n",
              "      <td>Albania</td>\n",
              "      <td>Potatoes</td>\n",
              "      <td>1991</td>\n",
              "      <td>77818</td>\n",
              "      <td>1485</td>\n",
              "      <td>121.0</td>\n",
              "      <td>15.36</td>\n",
              "    </tr>\n",
              "    <tr>\n",
              "      <th>8</th>\n",
              "      <td>Albania</td>\n",
              "      <td>Rice, paddy</td>\n",
              "      <td>1991</td>\n",
              "      <td>28538</td>\n",
              "      <td>1485</td>\n",
              "      <td>121.0</td>\n",
              "      <td>15.36</td>\n",
              "    </tr>\n",
              "    <tr>\n",
              "      <th>9</th>\n",
              "      <td>Albania</td>\n",
              "      <td>Sorghum</td>\n",
              "      <td>1991</td>\n",
              "      <td>6667</td>\n",
              "      <td>1485</td>\n",
              "      <td>121.0</td>\n",
              "      <td>15.36</td>\n",
              "    </tr>\n",
              "  </tbody>\n",
              "</table>\n",
              "</div>\n",
              "    <div class=\"colab-df-buttons\">\n",
              "\n",
              "  <div class=\"colab-df-container\">\n",
              "    <button class=\"colab-df-convert\" onclick=\"convertToInteractive('df-39a357bd-5289-46f0-b5f5-8f6db9e3403e')\"\n",
              "            title=\"Convert this dataframe to an interactive table.\"\n",
              "            style=\"display:none;\">\n",
              "\n",
              "  <svg xmlns=\"http://www.w3.org/2000/svg\" height=\"24px\" viewBox=\"0 -960 960 960\">\n",
              "    <path d=\"M120-120v-720h720v720H120Zm60-500h600v-160H180v160Zm220 220h160v-160H400v160Zm0 220h160v-160H400v160ZM180-400h160v-160H180v160Zm440 0h160v-160H620v160ZM180-180h160v-160H180v160Zm440 0h160v-160H620v160Z\"/>\n",
              "  </svg>\n",
              "    </button>\n",
              "\n",
              "  <style>\n",
              "    .colab-df-container {\n",
              "      display:flex;\n",
              "      gap: 12px;\n",
              "    }\n",
              "\n",
              "    .colab-df-convert {\n",
              "      background-color: #E8F0FE;\n",
              "      border: none;\n",
              "      border-radius: 50%;\n",
              "      cursor: pointer;\n",
              "      display: none;\n",
              "      fill: #1967D2;\n",
              "      height: 32px;\n",
              "      padding: 0 0 0 0;\n",
              "      width: 32px;\n",
              "    }\n",
              "\n",
              "    .colab-df-convert:hover {\n",
              "      background-color: #E2EBFA;\n",
              "      box-shadow: 0px 1px 2px rgba(60, 64, 67, 0.3), 0px 1px 3px 1px rgba(60, 64, 67, 0.15);\n",
              "      fill: #174EA6;\n",
              "    }\n",
              "\n",
              "    .colab-df-buttons div {\n",
              "      margin-bottom: 4px;\n",
              "    }\n",
              "\n",
              "    [theme=dark] .colab-df-convert {\n",
              "      background-color: #3B4455;\n",
              "      fill: #D2E3FC;\n",
              "    }\n",
              "\n",
              "    [theme=dark] .colab-df-convert:hover {\n",
              "      background-color: #434B5C;\n",
              "      box-shadow: 0px 1px 3px 1px rgba(0, 0, 0, 0.15);\n",
              "      filter: drop-shadow(0px 1px 2px rgba(0, 0, 0, 0.3));\n",
              "      fill: #FFFFFF;\n",
              "    }\n",
              "  </style>\n",
              "\n",
              "    <script>\n",
              "      const buttonEl =\n",
              "        document.querySelector('#df-39a357bd-5289-46f0-b5f5-8f6db9e3403e button.colab-df-convert');\n",
              "      buttonEl.style.display =\n",
              "        google.colab.kernel.accessAllowed ? 'block' : 'none';\n",
              "\n",
              "      async function convertToInteractive(key) {\n",
              "        const element = document.querySelector('#df-39a357bd-5289-46f0-b5f5-8f6db9e3403e');\n",
              "        const dataTable =\n",
              "          await google.colab.kernel.invokeFunction('convertToInteractive',\n",
              "                                                    [key], {});\n",
              "        if (!dataTable) return;\n",
              "\n",
              "        const docLinkHtml = 'Like what you see? Visit the ' +\n",
              "          '<a target=\"_blank\" href=https://colab.research.google.com/notebooks/data_table.ipynb>data table notebook</a>'\n",
              "          + ' to learn more about interactive tables.';\n",
              "        element.innerHTML = '';\n",
              "        dataTable['output_type'] = 'display_data';\n",
              "        await google.colab.output.renderOutput(dataTable, element);\n",
              "        const docLink = document.createElement('div');\n",
              "        docLink.innerHTML = docLinkHtml;\n",
              "        element.appendChild(docLink);\n",
              "      }\n",
              "    </script>\n",
              "  </div>\n",
              "\n",
              "\n",
              "<div id=\"df-e54a7ec1-48ff-46b1-a6ed-5b4333787d24\">\n",
              "  <button class=\"colab-df-quickchart\" onclick=\"quickchart('df-e54a7ec1-48ff-46b1-a6ed-5b4333787d24')\"\n",
              "            title=\"Suggest charts\"\n",
              "            style=\"display:none;\">\n",
              "\n",
              "<svg xmlns=\"http://www.w3.org/2000/svg\" height=\"24px\"viewBox=\"0 0 24 24\"\n",
              "     width=\"24px\">\n",
              "    <g>\n",
              "        <path d=\"M19 3H5c-1.1 0-2 .9-2 2v14c0 1.1.9 2 2 2h14c1.1 0 2-.9 2-2V5c0-1.1-.9-2-2-2zM9 17H7v-7h2v7zm4 0h-2V7h2v10zm4 0h-2v-4h2v4z\"/>\n",
              "    </g>\n",
              "</svg>\n",
              "  </button>\n",
              "\n",
              "<style>\n",
              "  .colab-df-quickchart {\n",
              "      --bg-color: #E8F0FE;\n",
              "      --fill-color: #1967D2;\n",
              "      --hover-bg-color: #E2EBFA;\n",
              "      --hover-fill-color: #174EA6;\n",
              "      --disabled-fill-color: #AAA;\n",
              "      --disabled-bg-color: #DDD;\n",
              "  }\n",
              "\n",
              "  [theme=dark] .colab-df-quickchart {\n",
              "      --bg-color: #3B4455;\n",
              "      --fill-color: #D2E3FC;\n",
              "      --hover-bg-color: #434B5C;\n",
              "      --hover-fill-color: #FFFFFF;\n",
              "      --disabled-bg-color: #3B4455;\n",
              "      --disabled-fill-color: #666;\n",
              "  }\n",
              "\n",
              "  .colab-df-quickchart {\n",
              "    background-color: var(--bg-color);\n",
              "    border: none;\n",
              "    border-radius: 50%;\n",
              "    cursor: pointer;\n",
              "    display: none;\n",
              "    fill: var(--fill-color);\n",
              "    height: 32px;\n",
              "    padding: 0;\n",
              "    width: 32px;\n",
              "  }\n",
              "\n",
              "  .colab-df-quickchart:hover {\n",
              "    background-color: var(--hover-bg-color);\n",
              "    box-shadow: 0 1px 2px rgba(60, 64, 67, 0.3), 0 1px 3px 1px rgba(60, 64, 67, 0.15);\n",
              "    fill: var(--button-hover-fill-color);\n",
              "  }\n",
              "\n",
              "  .colab-df-quickchart-complete:disabled,\n",
              "  .colab-df-quickchart-complete:disabled:hover {\n",
              "    background-color: var(--disabled-bg-color);\n",
              "    fill: var(--disabled-fill-color);\n",
              "    box-shadow: none;\n",
              "  }\n",
              "\n",
              "  .colab-df-spinner {\n",
              "    border: 2px solid var(--fill-color);\n",
              "    border-color: transparent;\n",
              "    border-bottom-color: var(--fill-color);\n",
              "    animation:\n",
              "      spin 1s steps(1) infinite;\n",
              "  }\n",
              "\n",
              "  @keyframes spin {\n",
              "    0% {\n",
              "      border-color: transparent;\n",
              "      border-bottom-color: var(--fill-color);\n",
              "      border-left-color: var(--fill-color);\n",
              "    }\n",
              "    20% {\n",
              "      border-color: transparent;\n",
              "      border-left-color: var(--fill-color);\n",
              "      border-top-color: var(--fill-color);\n",
              "    }\n",
              "    30% {\n",
              "      border-color: transparent;\n",
              "      border-left-color: var(--fill-color);\n",
              "      border-top-color: var(--fill-color);\n",
              "      border-right-color: var(--fill-color);\n",
              "    }\n",
              "    40% {\n",
              "      border-color: transparent;\n",
              "      border-right-color: var(--fill-color);\n",
              "      border-top-color: var(--fill-color);\n",
              "    }\n",
              "    60% {\n",
              "      border-color: transparent;\n",
              "      border-right-color: var(--fill-color);\n",
              "    }\n",
              "    80% {\n",
              "      border-color: transparent;\n",
              "      border-right-color: var(--fill-color);\n",
              "      border-bottom-color: var(--fill-color);\n",
              "    }\n",
              "    90% {\n",
              "      border-color: transparent;\n",
              "      border-bottom-color: var(--fill-color);\n",
              "    }\n",
              "  }\n",
              "</style>\n",
              "\n",
              "  <script>\n",
              "    async function quickchart(key) {\n",
              "      const quickchartButtonEl =\n",
              "        document.querySelector('#' + key + ' button');\n",
              "      quickchartButtonEl.disabled = true;  // To prevent multiple clicks.\n",
              "      quickchartButtonEl.classList.add('colab-df-spinner');\n",
              "      try {\n",
              "        const charts = await google.colab.kernel.invokeFunction(\n",
              "            'suggestCharts', [key], {});\n",
              "      } catch (error) {\n",
              "        console.error('Error during call to suggestCharts:', error);\n",
              "      }\n",
              "      quickchartButtonEl.classList.remove('colab-df-spinner');\n",
              "      quickchartButtonEl.classList.add('colab-df-quickchart-complete');\n",
              "    }\n",
              "    (() => {\n",
              "      let quickchartButtonEl =\n",
              "        document.querySelector('#df-e54a7ec1-48ff-46b1-a6ed-5b4333787d24 button');\n",
              "      quickchartButtonEl.style.display =\n",
              "        google.colab.kernel.accessAllowed ? 'block' : 'none';\n",
              "    })();\n",
              "  </script>\n",
              "</div>\n",
              "    </div>\n",
              "  </div>\n"
            ],
            "application/vnd.google.colaboratory.intrinsic+json": {
              "type": "dataframe",
              "variable_name": "df",
              "summary": "{\n  \"name\": \"df\",\n  \"rows\": 28242,\n  \"fields\": [\n    {\n      \"column\": \"Area\",\n      \"properties\": {\n        \"dtype\": \"category\",\n        \"num_unique_values\": 101,\n        \"samples\": [\n          \"South Africa\",\n          \"Lithuania\",\n          \"Namibia\"\n        ],\n        \"semantic_type\": \"\",\n        \"description\": \"\"\n      }\n    },\n    {\n      \"column\": \"Item\",\n      \"properties\": {\n        \"dtype\": \"category\",\n        \"num_unique_values\": 10,\n        \"samples\": [\n          \"Plantains and others\",\n          \"Potatoes\",\n          \"Wheat\"\n        ],\n        \"semantic_type\": \"\",\n        \"description\": \"\"\n      }\n    },\n    {\n      \"column\": \"Year\",\n      \"properties\": {\n        \"dtype\": \"number\",\n        \"std\": 7,\n        \"min\": 1990,\n        \"max\": 2013,\n        \"num_unique_values\": 23,\n        \"samples\": [\n          2006,\n          1999,\n          1990\n        ],\n        \"semantic_type\": \"\",\n        \"description\": \"\"\n      }\n    },\n    {\n      \"column\": \"hg/ha_yield\",\n      \"properties\": {\n        \"dtype\": \"number\",\n        \"std\": 84956,\n        \"min\": 50,\n        \"max\": 501412,\n        \"num_unique_values\": 11514,\n        \"samples\": [\n          27368,\n          110413,\n          98893\n        ],\n        \"semantic_type\": \"\",\n        \"description\": \"\"\n      }\n    },\n    {\n      \"column\": \"average_rain_fall_mm_per_year\",\n      \"properties\": {\n        \"dtype\": \"number\",\n        \"std\": 709,\n        \"min\": 51,\n        \"max\": 3240,\n        \"num_unique_values\": 100,\n        \"samples\": [\n          1162,\n          788,\n          2280\n        ],\n        \"semantic_type\": \"\",\n        \"description\": \"\"\n      }\n    },\n    {\n      \"column\": \"pesticides_tonnes\",\n      \"properties\": {\n        \"dtype\": \"number\",\n        \"std\": 59958.78466505808,\n        \"min\": 0.04,\n        \"max\": 367778.0,\n        \"num_unique_values\": 1673,\n        \"samples\": [\n          14156.16,\n          43720.04,\n          10777.08\n        ],\n        \"semantic_type\": \"\",\n        \"description\": \"\"\n      }\n    },\n    {\n      \"column\": \"avg_temp\",\n      \"properties\": {\n        \"dtype\": \"number\",\n        \"std\": 6.312050836049793,\n        \"min\": 1.3,\n        \"max\": 30.65,\n        \"num_unique_values\": 1831,\n        \"samples\": [\n          8.76,\n          15.98,\n          13.97\n        ],\n        \"semantic_type\": \"\",\n        \"description\": \"\"\n      }\n    }\n  ]\n}"
            }
          },
          "metadata": {},
          "execution_count": 2
        }
      ],
      "source": [
        "url_yield = 'https://media.githubusercontent.com/media/michalis0/Business-Intelligence-and-Analytics/master/data/yield_df.csv'\n",
        "df = pd.read_csv(url_yield)\n",
        "df.head(10)\n"
      ]
    },
    {
      "cell_type": "code",
      "source": [
        "df.dtypes"
      ],
      "metadata": {
        "id": "a8NcK1cgvY7p",
        "outputId": "85d080b0-f68c-4bf4-feba-e4ce42d31156",
        "colab": {
          "base_uri": "https://localhost:8080/"
        }
      },
      "id": "a8NcK1cgvY7p",
      "execution_count": null,
      "outputs": [
        {
          "output_type": "execute_result",
          "data": {
            "text/plain": [
              "Area                              object\n",
              "Item                              object\n",
              "Year                               int64\n",
              "hg/ha_yield                        int64\n",
              "average_rain_fall_mm_per_year      int64\n",
              "pesticides_tonnes                float64\n",
              "avg_temp                         float64\n",
              "dtype: object"
            ]
          },
          "metadata": {},
          "execution_count": 3
        }
      ]
    },
    {
      "cell_type": "markdown",
      "id": "a0916a03-2452-43da-9c5d-c5f43fddd8f2",
      "metadata": {
        "id": "a0916a03-2452-43da-9c5d-c5f43fddd8f2"
      },
      "source": [
        "#### Question 1\n",
        "Print the list of countries (`Area`) and years available in the dataset. How many unique countries do we have in this dataset?"
      ]
    },
    {
      "cell_type": "code",
      "execution_count": null,
      "id": "af13bb43-fe6f-49ec-b2a4-2faee5cee321",
      "metadata": {
        "colab": {
          "base_uri": "https://localhost:8080/"
        },
        "id": "af13bb43-fe6f-49ec-b2a4-2faee5cee321",
        "outputId": "7b0fad9f-86e7-463a-b341-7253b4426c49"
      },
      "outputs": [
        {
          "output_type": "stream",
          "name": "stdout",
          "text": [
            "['Albania' 'Algeria' 'Angola' 'Argentina' 'Armenia' 'Australia' 'Austria'\n",
            " 'Azerbaijan' 'Bahamas' 'Bahrain' 'Bangladesh' 'Belarus' 'Belgium'\n",
            " 'Botswana' 'Brazil' 'Bulgaria' 'Burkina Faso' 'Burundi' 'Cameroon'\n",
            " 'Canada' 'Central African Republic' 'Chile' 'Colombia' 'Croatia'\n",
            " 'Denmark' 'Dominican Republic' 'Ecuador' 'Egypt' 'El Salvador' 'Eritrea'\n",
            " 'Estonia' 'Finland' 'France' 'Germany' 'Ghana' 'Greece' 'Guatemala'\n",
            " 'Guinea' 'Guyana' 'Haiti' 'Honduras' 'Hungary' 'India' 'Indonesia' 'Iraq'\n",
            " 'Ireland' 'Italy' 'Jamaica' 'Japan' 'Kazakhstan' 'Kenya' 'Latvia'\n",
            " 'Lebanon' 'Lesotho' 'Libya' 'Lithuania' 'Madagascar' 'Malawi' 'Malaysia'\n",
            " 'Mali' 'Mauritania' 'Mauritius' 'Mexico' 'Montenegro' 'Morocco'\n",
            " 'Mozambique' 'Namibia' 'Nepal' 'Netherlands' 'New Zealand' 'Nicaragua'\n",
            " 'Niger' 'Norway' 'Pakistan' 'Papua New Guinea' 'Peru' 'Poland' 'Portugal'\n",
            " 'Qatar' 'Romania' 'Rwanda' 'Saudi Arabia' 'Senegal' 'Slovenia'\n",
            " 'South Africa' 'Spain' 'Sri Lanka' 'Sudan' 'Suriname' 'Sweden'\n",
            " 'Switzerland' 'Tajikistan' 'Thailand' 'Tunisia' 'Turkey' 'Uganda'\n",
            " 'Ukraine' 'United Kingdom' 'Uruguay' 'Zambia' 'Zimbabwe']\n",
            "101\n",
            "[1990 1991 1992 1993 1994 1995 1996 1997 1998 1999 2000 2001 2002 2004\n",
            " 2005 2006 2007 2008 2009 2010 2011 2012 2013]\n"
          ]
        }
      ],
      "source": [
        "# YOUR CODE HERE\n",
        "print(df['Area'].unique())\n",
        "print(len(df['Area'].unique()))\n",
        "print(df['Year'].unique())\n"
      ]
    },
    {
      "cell_type": "markdown",
      "id": "5c92f5c7-b11c-428b-9c7c-93406aa3f413",
      "metadata": {
        "id": "5c92f5c7-b11c-428b-9c7c-93406aa3f413"
      },
      "source": [
        "#### Question 2\n",
        "Print the list of unique items in the `Item` column of the dataset. You should obtain a list of 10 crops. Which corp is the __most frequent__ in this dataset?"
      ]
    },
    {
      "cell_type": "code",
      "execution_count": null,
      "id": "81c32aba-b1fa-46c6-b1e6-0582ab9ca55e",
      "metadata": {
        "colab": {
          "base_uri": "https://localhost:8080/"
        },
        "id": "81c32aba-b1fa-46c6-b1e6-0582ab9ca55e",
        "outputId": "7bde592b-0fd2-4219-fe55-7f1ecb4dc616"
      },
      "outputs": [
        {
          "output_type": "stream",
          "name": "stdout",
          "text": [
            "['Maize' 'Potatoes' 'Rice, paddy' 'Sorghum' 'Soybeans' 'Wheat' 'Cassava'\n",
            " 'Sweet potatoes' 'Plantains and others' 'Yams'] 10\n",
            "Item\n",
            "Potatoes                4276\n",
            "Maize                   4121\n",
            "Wheat                   3857\n",
            "Rice, paddy             3388\n",
            "Soybeans                3223\n",
            "Sorghum                 3039\n",
            "Sweet potatoes          2890\n",
            "Cassava                 2045\n",
            "Yams                     847\n",
            "Plantains and others     556\n",
            "Name: count, dtype: int64\n"
          ]
        }
      ],
      "source": [
        "# YOUR CODE HERE\n",
        "items = df['Item'].unique()\n",
        "print(items, len(items))\n",
        "print(df['Item'].value_counts())"
      ]
    },
    {
      "cell_type": "markdown",
      "source": [
        "#### Question 3\n",
        "We Are interested to know the total yield of \"Wheat\" in each country in the year 2010. Create a new dataframe that contains the total (sum) of `hg/ha_yield` for each country in the year 2010. Which country had the __highest yield of Wheat__ in the year 2010?"
      ],
      "metadata": {
        "id": "iSawmHxTmuDN"
      },
      "id": "iSawmHxTmuDN"
    },
    {
      "cell_type": "code",
      "source": [
        "df_q3 = df[(df[\"Year\"]==2010)&(df[\"Item\"]==\"Wheat\")]\n",
        "df_q3.groupby(\"Area\").agg({\"hg/ha_yield\": sum, \"Year\": min}).sort_values(\"hg/ha_yield\", ascending=False)"
      ],
      "metadata": {
        "id": "gAccKnVzmxRF",
        "outputId": "641570e3-bf8e-4625-b282-4db9e6b4205b",
        "colab": {
          "base_uri": "https://localhost:8080/",
          "height": 455
        }
      },
      "id": "gAccKnVzmxRF",
      "execution_count": null,
      "outputs": [
        {
          "output_type": "execute_result",
          "data": {
            "text/plain": [
              "                hg/ha_yield  Year\n",
              "Area                             \n",
              "India                624690  2010\n",
              "Mexico               433480  2010\n",
              "United Kingdom       383730  2010\n",
              "Brazil               311168  2010\n",
              "Pakistan             229752  2010\n",
              "...                     ...   ...\n",
              "Eritrea               11786  2010\n",
              "Angola                10526  2010\n",
              "Thailand               8756  2010\n",
              "Burundi                7393  2010\n",
              "Honduras               5524  2010\n",
              "\n",
              "[80 rows x 2 columns]"
            ],
            "text/html": [
              "\n",
              "  <div id=\"df-55e25ca0-8cd1-4712-ac2d-47a730606457\" class=\"colab-df-container\">\n",
              "    <div>\n",
              "<style scoped>\n",
              "    .dataframe tbody tr th:only-of-type {\n",
              "        vertical-align: middle;\n",
              "    }\n",
              "\n",
              "    .dataframe tbody tr th {\n",
              "        vertical-align: top;\n",
              "    }\n",
              "\n",
              "    .dataframe thead th {\n",
              "        text-align: right;\n",
              "    }\n",
              "</style>\n",
              "<table border=\"1\" class=\"dataframe\">\n",
              "  <thead>\n",
              "    <tr style=\"text-align: right;\">\n",
              "      <th></th>\n",
              "      <th>hg/ha_yield</th>\n",
              "      <th>Year</th>\n",
              "    </tr>\n",
              "    <tr>\n",
              "      <th>Area</th>\n",
              "      <th></th>\n",
              "      <th></th>\n",
              "    </tr>\n",
              "  </thead>\n",
              "  <tbody>\n",
              "    <tr>\n",
              "      <th>India</th>\n",
              "      <td>624690</td>\n",
              "      <td>2010</td>\n",
              "    </tr>\n",
              "    <tr>\n",
              "      <th>Mexico</th>\n",
              "      <td>433480</td>\n",
              "      <td>2010</td>\n",
              "    </tr>\n",
              "    <tr>\n",
              "      <th>United Kingdom</th>\n",
              "      <td>383730</td>\n",
              "      <td>2010</td>\n",
              "    </tr>\n",
              "    <tr>\n",
              "      <th>Brazil</th>\n",
              "      <td>311168</td>\n",
              "      <td>2010</td>\n",
              "    </tr>\n",
              "    <tr>\n",
              "      <th>Pakistan</th>\n",
              "      <td>229752</td>\n",
              "      <td>2010</td>\n",
              "    </tr>\n",
              "    <tr>\n",
              "      <th>...</th>\n",
              "      <td>...</td>\n",
              "      <td>...</td>\n",
              "    </tr>\n",
              "    <tr>\n",
              "      <th>Eritrea</th>\n",
              "      <td>11786</td>\n",
              "      <td>2010</td>\n",
              "    </tr>\n",
              "    <tr>\n",
              "      <th>Angola</th>\n",
              "      <td>10526</td>\n",
              "      <td>2010</td>\n",
              "    </tr>\n",
              "    <tr>\n",
              "      <th>Thailand</th>\n",
              "      <td>8756</td>\n",
              "      <td>2010</td>\n",
              "    </tr>\n",
              "    <tr>\n",
              "      <th>Burundi</th>\n",
              "      <td>7393</td>\n",
              "      <td>2010</td>\n",
              "    </tr>\n",
              "    <tr>\n",
              "      <th>Honduras</th>\n",
              "      <td>5524</td>\n",
              "      <td>2010</td>\n",
              "    </tr>\n",
              "  </tbody>\n",
              "</table>\n",
              "<p>80 rows × 2 columns</p>\n",
              "</div>\n",
              "    <div class=\"colab-df-buttons\">\n",
              "\n",
              "  <div class=\"colab-df-container\">\n",
              "    <button class=\"colab-df-convert\" onclick=\"convertToInteractive('df-55e25ca0-8cd1-4712-ac2d-47a730606457')\"\n",
              "            title=\"Convert this dataframe to an interactive table.\"\n",
              "            style=\"display:none;\">\n",
              "\n",
              "  <svg xmlns=\"http://www.w3.org/2000/svg\" height=\"24px\" viewBox=\"0 -960 960 960\">\n",
              "    <path d=\"M120-120v-720h720v720H120Zm60-500h600v-160H180v160Zm220 220h160v-160H400v160Zm0 220h160v-160H400v160ZM180-400h160v-160H180v160Zm440 0h160v-160H620v160ZM180-180h160v-160H180v160Zm440 0h160v-160H620v160Z\"/>\n",
              "  </svg>\n",
              "    </button>\n",
              "\n",
              "  <style>\n",
              "    .colab-df-container {\n",
              "      display:flex;\n",
              "      gap: 12px;\n",
              "    }\n",
              "\n",
              "    .colab-df-convert {\n",
              "      background-color: #E8F0FE;\n",
              "      border: none;\n",
              "      border-radius: 50%;\n",
              "      cursor: pointer;\n",
              "      display: none;\n",
              "      fill: #1967D2;\n",
              "      height: 32px;\n",
              "      padding: 0 0 0 0;\n",
              "      width: 32px;\n",
              "    }\n",
              "\n",
              "    .colab-df-convert:hover {\n",
              "      background-color: #E2EBFA;\n",
              "      box-shadow: 0px 1px 2px rgba(60, 64, 67, 0.3), 0px 1px 3px 1px rgba(60, 64, 67, 0.15);\n",
              "      fill: #174EA6;\n",
              "    }\n",
              "\n",
              "    .colab-df-buttons div {\n",
              "      margin-bottom: 4px;\n",
              "    }\n",
              "\n",
              "    [theme=dark] .colab-df-convert {\n",
              "      background-color: #3B4455;\n",
              "      fill: #D2E3FC;\n",
              "    }\n",
              "\n",
              "    [theme=dark] .colab-df-convert:hover {\n",
              "      background-color: #434B5C;\n",
              "      box-shadow: 0px 1px 3px 1px rgba(0, 0, 0, 0.15);\n",
              "      filter: drop-shadow(0px 1px 2px rgba(0, 0, 0, 0.3));\n",
              "      fill: #FFFFFF;\n",
              "    }\n",
              "  </style>\n",
              "\n",
              "    <script>\n",
              "      const buttonEl =\n",
              "        document.querySelector('#df-55e25ca0-8cd1-4712-ac2d-47a730606457 button.colab-df-convert');\n",
              "      buttonEl.style.display =\n",
              "        google.colab.kernel.accessAllowed ? 'block' : 'none';\n",
              "\n",
              "      async function convertToInteractive(key) {\n",
              "        const element = document.querySelector('#df-55e25ca0-8cd1-4712-ac2d-47a730606457');\n",
              "        const dataTable =\n",
              "          await google.colab.kernel.invokeFunction('convertToInteractive',\n",
              "                                                    [key], {});\n",
              "        if (!dataTable) return;\n",
              "\n",
              "        const docLinkHtml = 'Like what you see? Visit the ' +\n",
              "          '<a target=\"_blank\" href=https://colab.research.google.com/notebooks/data_table.ipynb>data table notebook</a>'\n",
              "          + ' to learn more about interactive tables.';\n",
              "        element.innerHTML = '';\n",
              "        dataTable['output_type'] = 'display_data';\n",
              "        await google.colab.output.renderOutput(dataTable, element);\n",
              "        const docLink = document.createElement('div');\n",
              "        docLink.innerHTML = docLinkHtml;\n",
              "        element.appendChild(docLink);\n",
              "      }\n",
              "    </script>\n",
              "  </div>\n",
              "\n",
              "\n",
              "<div id=\"df-e1d1e0c8-b2f5-4399-8c29-7eb324f95af1\">\n",
              "  <button class=\"colab-df-quickchart\" onclick=\"quickchart('df-e1d1e0c8-b2f5-4399-8c29-7eb324f95af1')\"\n",
              "            title=\"Suggest charts\"\n",
              "            style=\"display:none;\">\n",
              "\n",
              "<svg xmlns=\"http://www.w3.org/2000/svg\" height=\"24px\"viewBox=\"0 0 24 24\"\n",
              "     width=\"24px\">\n",
              "    <g>\n",
              "        <path d=\"M19 3H5c-1.1 0-2 .9-2 2v14c0 1.1.9 2 2 2h14c1.1 0 2-.9 2-2V5c0-1.1-.9-2-2-2zM9 17H7v-7h2v7zm4 0h-2V7h2v10zm4 0h-2v-4h2v4z\"/>\n",
              "    </g>\n",
              "</svg>\n",
              "  </button>\n",
              "\n",
              "<style>\n",
              "  .colab-df-quickchart {\n",
              "      --bg-color: #E8F0FE;\n",
              "      --fill-color: #1967D2;\n",
              "      --hover-bg-color: #E2EBFA;\n",
              "      --hover-fill-color: #174EA6;\n",
              "      --disabled-fill-color: #AAA;\n",
              "      --disabled-bg-color: #DDD;\n",
              "  }\n",
              "\n",
              "  [theme=dark] .colab-df-quickchart {\n",
              "      --bg-color: #3B4455;\n",
              "      --fill-color: #D2E3FC;\n",
              "      --hover-bg-color: #434B5C;\n",
              "      --hover-fill-color: #FFFFFF;\n",
              "      --disabled-bg-color: #3B4455;\n",
              "      --disabled-fill-color: #666;\n",
              "  }\n",
              "\n",
              "  .colab-df-quickchart {\n",
              "    background-color: var(--bg-color);\n",
              "    border: none;\n",
              "    border-radius: 50%;\n",
              "    cursor: pointer;\n",
              "    display: none;\n",
              "    fill: var(--fill-color);\n",
              "    height: 32px;\n",
              "    padding: 0;\n",
              "    width: 32px;\n",
              "  }\n",
              "\n",
              "  .colab-df-quickchart:hover {\n",
              "    background-color: var(--hover-bg-color);\n",
              "    box-shadow: 0 1px 2px rgba(60, 64, 67, 0.3), 0 1px 3px 1px rgba(60, 64, 67, 0.15);\n",
              "    fill: var(--button-hover-fill-color);\n",
              "  }\n",
              "\n",
              "  .colab-df-quickchart-complete:disabled,\n",
              "  .colab-df-quickchart-complete:disabled:hover {\n",
              "    background-color: var(--disabled-bg-color);\n",
              "    fill: var(--disabled-fill-color);\n",
              "    box-shadow: none;\n",
              "  }\n",
              "\n",
              "  .colab-df-spinner {\n",
              "    border: 2px solid var(--fill-color);\n",
              "    border-color: transparent;\n",
              "    border-bottom-color: var(--fill-color);\n",
              "    animation:\n",
              "      spin 1s steps(1) infinite;\n",
              "  }\n",
              "\n",
              "  @keyframes spin {\n",
              "    0% {\n",
              "      border-color: transparent;\n",
              "      border-bottom-color: var(--fill-color);\n",
              "      border-left-color: var(--fill-color);\n",
              "    }\n",
              "    20% {\n",
              "      border-color: transparent;\n",
              "      border-left-color: var(--fill-color);\n",
              "      border-top-color: var(--fill-color);\n",
              "    }\n",
              "    30% {\n",
              "      border-color: transparent;\n",
              "      border-left-color: var(--fill-color);\n",
              "      border-top-color: var(--fill-color);\n",
              "      border-right-color: var(--fill-color);\n",
              "    }\n",
              "    40% {\n",
              "      border-color: transparent;\n",
              "      border-right-color: var(--fill-color);\n",
              "      border-top-color: var(--fill-color);\n",
              "    }\n",
              "    60% {\n",
              "      border-color: transparent;\n",
              "      border-right-color: var(--fill-color);\n",
              "    }\n",
              "    80% {\n",
              "      border-color: transparent;\n",
              "      border-right-color: var(--fill-color);\n",
              "      border-bottom-color: var(--fill-color);\n",
              "    }\n",
              "    90% {\n",
              "      border-color: transparent;\n",
              "      border-bottom-color: var(--fill-color);\n",
              "    }\n",
              "  }\n",
              "</style>\n",
              "\n",
              "  <script>\n",
              "    async function quickchart(key) {\n",
              "      const quickchartButtonEl =\n",
              "        document.querySelector('#' + key + ' button');\n",
              "      quickchartButtonEl.disabled = true;  // To prevent multiple clicks.\n",
              "      quickchartButtonEl.classList.add('colab-df-spinner');\n",
              "      try {\n",
              "        const charts = await google.colab.kernel.invokeFunction(\n",
              "            'suggestCharts', [key], {});\n",
              "      } catch (error) {\n",
              "        console.error('Error during call to suggestCharts:', error);\n",
              "      }\n",
              "      quickchartButtonEl.classList.remove('colab-df-spinner');\n",
              "      quickchartButtonEl.classList.add('colab-df-quickchart-complete');\n",
              "    }\n",
              "    (() => {\n",
              "      let quickchartButtonEl =\n",
              "        document.querySelector('#df-e1d1e0c8-b2f5-4399-8c29-7eb324f95af1 button');\n",
              "      quickchartButtonEl.style.display =\n",
              "        google.colab.kernel.accessAllowed ? 'block' : 'none';\n",
              "    })();\n",
              "  </script>\n",
              "</div>\n",
              "    </div>\n",
              "  </div>\n"
            ],
            "application/vnd.google.colaboratory.intrinsic+json": {
              "type": "dataframe",
              "summary": "{\n  \"name\": \"df_q3\",\n  \"rows\": 80,\n  \"fields\": [\n    {\n      \"column\": \"Area\",\n      \"properties\": {\n        \"dtype\": \"string\",\n        \"num_unique_values\": 80,\n        \"samples\": [\n          \"Norway\",\n          \"India\",\n          \"Zambia\"\n        ],\n        \"semantic_type\": \"\",\n        \"description\": \"\"\n      }\n    },\n    {\n      \"column\": \"hg/ha_yield\",\n      \"properties\": {\n        \"dtype\": \"number\",\n        \"std\": 99726,\n        \"min\": 5524,\n        \"max\": 624690,\n        \"num_unique_values\": 80,\n        \"samples\": [\n          45975,\n          624690,\n          63118\n        ],\n        \"semantic_type\": \"\",\n        \"description\": \"\"\n      }\n    },\n    {\n      \"column\": \"Year\",\n      \"properties\": {\n        \"dtype\": \"number\",\n        \"std\": 0,\n        \"min\": 2010,\n        \"max\": 2010,\n        \"num_unique_values\": 1,\n        \"samples\": [\n          2010\n        ],\n        \"semantic_type\": \"\",\n        \"description\": \"\"\n      }\n    }\n  ]\n}"
            }
          },
          "metadata": {},
          "execution_count": 6
        }
      ]
    },
    {
      "cell_type": "markdown",
      "id": "b0118e44-ca7c-4a81-998f-c8bccf4248e2",
      "metadata": {
        "id": "b0118e44-ca7c-4a81-998f-c8bccf4248e2"
      },
      "source": [
        "Display summary statistics for the columns: `hg/ha_yield`, `average_rain_fall_mm_per_year`, `pesticides_tonnes`,`avg_temp`. How many observations do we have?\n",
        "\n",
        "*Hint:* You can extract the columns `hg/ha_yield`, `average_rain_fall_mm_per_year`, `pesticides_tonnes`,`avg_temp` in a new dataframe since we will reuse it in the following questions. hg/ha_yield indicates how many hectograms (hundreds of grams) of crop were produced on one hectare of land."
      ]
    },
    {
      "cell_type": "code",
      "execution_count": null,
      "id": "4e212211-7d8d-41e7-a20f-9bcaadf9122e",
      "metadata": {
        "colab": {
          "base_uri": "https://localhost:8080/",
          "height": 300
        },
        "id": "4e212211-7d8d-41e7-a20f-9bcaadf9122e",
        "outputId": "679ff0db-1eef-4900-9968-8e5b96445180"
      },
      "outputs": [
        {
          "output_type": "execute_result",
          "data": {
            "text/plain": [
              "         hg/ha_yield  average_rain_fall_mm_per_year  pesticides_tonnes  \\\n",
              "count   28242.000000                    28242.00000       28242.000000   \n",
              "mean    77053.332094                     1149.05598       37076.909344   \n",
              "std     84956.612897                      709.81215       59958.784665   \n",
              "min        50.000000                       51.00000           0.040000   \n",
              "25%     19919.250000                      593.00000        1702.000000   \n",
              "50%     38295.000000                     1083.00000       17529.440000   \n",
              "75%    104676.750000                     1668.00000       48687.880000   \n",
              "max    501412.000000                     3240.00000      367778.000000   \n",
              "\n",
              "           avg_temp  \n",
              "count  28242.000000  \n",
              "mean      20.542627  \n",
              "std        6.312051  \n",
              "min        1.300000  \n",
              "25%       16.702500  \n",
              "50%       21.510000  \n",
              "75%       26.000000  \n",
              "max       30.650000  "
            ],
            "text/html": [
              "\n",
              "  <div id=\"df-c47d707f-270d-405f-8345-eb127c14436b\" class=\"colab-df-container\">\n",
              "    <div>\n",
              "<style scoped>\n",
              "    .dataframe tbody tr th:only-of-type {\n",
              "        vertical-align: middle;\n",
              "    }\n",
              "\n",
              "    .dataframe tbody tr th {\n",
              "        vertical-align: top;\n",
              "    }\n",
              "\n",
              "    .dataframe thead th {\n",
              "        text-align: right;\n",
              "    }\n",
              "</style>\n",
              "<table border=\"1\" class=\"dataframe\">\n",
              "  <thead>\n",
              "    <tr style=\"text-align: right;\">\n",
              "      <th></th>\n",
              "      <th>hg/ha_yield</th>\n",
              "      <th>average_rain_fall_mm_per_year</th>\n",
              "      <th>pesticides_tonnes</th>\n",
              "      <th>avg_temp</th>\n",
              "    </tr>\n",
              "  </thead>\n",
              "  <tbody>\n",
              "    <tr>\n",
              "      <th>count</th>\n",
              "      <td>28242.000000</td>\n",
              "      <td>28242.00000</td>\n",
              "      <td>28242.000000</td>\n",
              "      <td>28242.000000</td>\n",
              "    </tr>\n",
              "    <tr>\n",
              "      <th>mean</th>\n",
              "      <td>77053.332094</td>\n",
              "      <td>1149.05598</td>\n",
              "      <td>37076.909344</td>\n",
              "      <td>20.542627</td>\n",
              "    </tr>\n",
              "    <tr>\n",
              "      <th>std</th>\n",
              "      <td>84956.612897</td>\n",
              "      <td>709.81215</td>\n",
              "      <td>59958.784665</td>\n",
              "      <td>6.312051</td>\n",
              "    </tr>\n",
              "    <tr>\n",
              "      <th>min</th>\n",
              "      <td>50.000000</td>\n",
              "      <td>51.00000</td>\n",
              "      <td>0.040000</td>\n",
              "      <td>1.300000</td>\n",
              "    </tr>\n",
              "    <tr>\n",
              "      <th>25%</th>\n",
              "      <td>19919.250000</td>\n",
              "      <td>593.00000</td>\n",
              "      <td>1702.000000</td>\n",
              "      <td>16.702500</td>\n",
              "    </tr>\n",
              "    <tr>\n",
              "      <th>50%</th>\n",
              "      <td>38295.000000</td>\n",
              "      <td>1083.00000</td>\n",
              "      <td>17529.440000</td>\n",
              "      <td>21.510000</td>\n",
              "    </tr>\n",
              "    <tr>\n",
              "      <th>75%</th>\n",
              "      <td>104676.750000</td>\n",
              "      <td>1668.00000</td>\n",
              "      <td>48687.880000</td>\n",
              "      <td>26.000000</td>\n",
              "    </tr>\n",
              "    <tr>\n",
              "      <th>max</th>\n",
              "      <td>501412.000000</td>\n",
              "      <td>3240.00000</td>\n",
              "      <td>367778.000000</td>\n",
              "      <td>30.650000</td>\n",
              "    </tr>\n",
              "  </tbody>\n",
              "</table>\n",
              "</div>\n",
              "    <div class=\"colab-df-buttons\">\n",
              "\n",
              "  <div class=\"colab-df-container\">\n",
              "    <button class=\"colab-df-convert\" onclick=\"convertToInteractive('df-c47d707f-270d-405f-8345-eb127c14436b')\"\n",
              "            title=\"Convert this dataframe to an interactive table.\"\n",
              "            style=\"display:none;\">\n",
              "\n",
              "  <svg xmlns=\"http://www.w3.org/2000/svg\" height=\"24px\" viewBox=\"0 -960 960 960\">\n",
              "    <path d=\"M120-120v-720h720v720H120Zm60-500h600v-160H180v160Zm220 220h160v-160H400v160Zm0 220h160v-160H400v160ZM180-400h160v-160H180v160Zm440 0h160v-160H620v160ZM180-180h160v-160H180v160Zm440 0h160v-160H620v160Z\"/>\n",
              "  </svg>\n",
              "    </button>\n",
              "\n",
              "  <style>\n",
              "    .colab-df-container {\n",
              "      display:flex;\n",
              "      gap: 12px;\n",
              "    }\n",
              "\n",
              "    .colab-df-convert {\n",
              "      background-color: #E8F0FE;\n",
              "      border: none;\n",
              "      border-radius: 50%;\n",
              "      cursor: pointer;\n",
              "      display: none;\n",
              "      fill: #1967D2;\n",
              "      height: 32px;\n",
              "      padding: 0 0 0 0;\n",
              "      width: 32px;\n",
              "    }\n",
              "\n",
              "    .colab-df-convert:hover {\n",
              "      background-color: #E2EBFA;\n",
              "      box-shadow: 0px 1px 2px rgba(60, 64, 67, 0.3), 0px 1px 3px 1px rgba(60, 64, 67, 0.15);\n",
              "      fill: #174EA6;\n",
              "    }\n",
              "\n",
              "    .colab-df-buttons div {\n",
              "      margin-bottom: 4px;\n",
              "    }\n",
              "\n",
              "    [theme=dark] .colab-df-convert {\n",
              "      background-color: #3B4455;\n",
              "      fill: #D2E3FC;\n",
              "    }\n",
              "\n",
              "    [theme=dark] .colab-df-convert:hover {\n",
              "      background-color: #434B5C;\n",
              "      box-shadow: 0px 1px 3px 1px rgba(0, 0, 0, 0.15);\n",
              "      filter: drop-shadow(0px 1px 2px rgba(0, 0, 0, 0.3));\n",
              "      fill: #FFFFFF;\n",
              "    }\n",
              "  </style>\n",
              "\n",
              "    <script>\n",
              "      const buttonEl =\n",
              "        document.querySelector('#df-c47d707f-270d-405f-8345-eb127c14436b button.colab-df-convert');\n",
              "      buttonEl.style.display =\n",
              "        google.colab.kernel.accessAllowed ? 'block' : 'none';\n",
              "\n",
              "      async function convertToInteractive(key) {\n",
              "        const element = document.querySelector('#df-c47d707f-270d-405f-8345-eb127c14436b');\n",
              "        const dataTable =\n",
              "          await google.colab.kernel.invokeFunction('convertToInteractive',\n",
              "                                                    [key], {});\n",
              "        if (!dataTable) return;\n",
              "\n",
              "        const docLinkHtml = 'Like what you see? Visit the ' +\n",
              "          '<a target=\"_blank\" href=https://colab.research.google.com/notebooks/data_table.ipynb>data table notebook</a>'\n",
              "          + ' to learn more about interactive tables.';\n",
              "        element.innerHTML = '';\n",
              "        dataTable['output_type'] = 'display_data';\n",
              "        await google.colab.output.renderOutput(dataTable, element);\n",
              "        const docLink = document.createElement('div');\n",
              "        docLink.innerHTML = docLinkHtml;\n",
              "        element.appendChild(docLink);\n",
              "      }\n",
              "    </script>\n",
              "  </div>\n",
              "\n",
              "\n",
              "<div id=\"df-d7572221-8582-4fd6-9473-09284a46f4ce\">\n",
              "  <button class=\"colab-df-quickchart\" onclick=\"quickchart('df-d7572221-8582-4fd6-9473-09284a46f4ce')\"\n",
              "            title=\"Suggest charts\"\n",
              "            style=\"display:none;\">\n",
              "\n",
              "<svg xmlns=\"http://www.w3.org/2000/svg\" height=\"24px\"viewBox=\"0 0 24 24\"\n",
              "     width=\"24px\">\n",
              "    <g>\n",
              "        <path d=\"M19 3H5c-1.1 0-2 .9-2 2v14c0 1.1.9 2 2 2h14c1.1 0 2-.9 2-2V5c0-1.1-.9-2-2-2zM9 17H7v-7h2v7zm4 0h-2V7h2v10zm4 0h-2v-4h2v4z\"/>\n",
              "    </g>\n",
              "</svg>\n",
              "  </button>\n",
              "\n",
              "<style>\n",
              "  .colab-df-quickchart {\n",
              "      --bg-color: #E8F0FE;\n",
              "      --fill-color: #1967D2;\n",
              "      --hover-bg-color: #E2EBFA;\n",
              "      --hover-fill-color: #174EA6;\n",
              "      --disabled-fill-color: #AAA;\n",
              "      --disabled-bg-color: #DDD;\n",
              "  }\n",
              "\n",
              "  [theme=dark] .colab-df-quickchart {\n",
              "      --bg-color: #3B4455;\n",
              "      --fill-color: #D2E3FC;\n",
              "      --hover-bg-color: #434B5C;\n",
              "      --hover-fill-color: #FFFFFF;\n",
              "      --disabled-bg-color: #3B4455;\n",
              "      --disabled-fill-color: #666;\n",
              "  }\n",
              "\n",
              "  .colab-df-quickchart {\n",
              "    background-color: var(--bg-color);\n",
              "    border: none;\n",
              "    border-radius: 50%;\n",
              "    cursor: pointer;\n",
              "    display: none;\n",
              "    fill: var(--fill-color);\n",
              "    height: 32px;\n",
              "    padding: 0;\n",
              "    width: 32px;\n",
              "  }\n",
              "\n",
              "  .colab-df-quickchart:hover {\n",
              "    background-color: var(--hover-bg-color);\n",
              "    box-shadow: 0 1px 2px rgba(60, 64, 67, 0.3), 0 1px 3px 1px rgba(60, 64, 67, 0.15);\n",
              "    fill: var(--button-hover-fill-color);\n",
              "  }\n",
              "\n",
              "  .colab-df-quickchart-complete:disabled,\n",
              "  .colab-df-quickchart-complete:disabled:hover {\n",
              "    background-color: var(--disabled-bg-color);\n",
              "    fill: var(--disabled-fill-color);\n",
              "    box-shadow: none;\n",
              "  }\n",
              "\n",
              "  .colab-df-spinner {\n",
              "    border: 2px solid var(--fill-color);\n",
              "    border-color: transparent;\n",
              "    border-bottom-color: var(--fill-color);\n",
              "    animation:\n",
              "      spin 1s steps(1) infinite;\n",
              "  }\n",
              "\n",
              "  @keyframes spin {\n",
              "    0% {\n",
              "      border-color: transparent;\n",
              "      border-bottom-color: var(--fill-color);\n",
              "      border-left-color: var(--fill-color);\n",
              "    }\n",
              "    20% {\n",
              "      border-color: transparent;\n",
              "      border-left-color: var(--fill-color);\n",
              "      border-top-color: var(--fill-color);\n",
              "    }\n",
              "    30% {\n",
              "      border-color: transparent;\n",
              "      border-left-color: var(--fill-color);\n",
              "      border-top-color: var(--fill-color);\n",
              "      border-right-color: var(--fill-color);\n",
              "    }\n",
              "    40% {\n",
              "      border-color: transparent;\n",
              "      border-right-color: var(--fill-color);\n",
              "      border-top-color: var(--fill-color);\n",
              "    }\n",
              "    60% {\n",
              "      border-color: transparent;\n",
              "      border-right-color: var(--fill-color);\n",
              "    }\n",
              "    80% {\n",
              "      border-color: transparent;\n",
              "      border-right-color: var(--fill-color);\n",
              "      border-bottom-color: var(--fill-color);\n",
              "    }\n",
              "    90% {\n",
              "      border-color: transparent;\n",
              "      border-bottom-color: var(--fill-color);\n",
              "    }\n",
              "  }\n",
              "</style>\n",
              "\n",
              "  <script>\n",
              "    async function quickchart(key) {\n",
              "      const quickchartButtonEl =\n",
              "        document.querySelector('#' + key + ' button');\n",
              "      quickchartButtonEl.disabled = true;  // To prevent multiple clicks.\n",
              "      quickchartButtonEl.classList.add('colab-df-spinner');\n",
              "      try {\n",
              "        const charts = await google.colab.kernel.invokeFunction(\n",
              "            'suggestCharts', [key], {});\n",
              "      } catch (error) {\n",
              "        console.error('Error during call to suggestCharts:', error);\n",
              "      }\n",
              "      quickchartButtonEl.classList.remove('colab-df-spinner');\n",
              "      quickchartButtonEl.classList.add('colab-df-quickchart-complete');\n",
              "    }\n",
              "    (() => {\n",
              "      let quickchartButtonEl =\n",
              "        document.querySelector('#df-d7572221-8582-4fd6-9473-09284a46f4ce button');\n",
              "      quickchartButtonEl.style.display =\n",
              "        google.colab.kernel.accessAllowed ? 'block' : 'none';\n",
              "    })();\n",
              "  </script>\n",
              "</div>\n",
              "    </div>\n",
              "  </div>\n"
            ],
            "application/vnd.google.colaboratory.intrinsic+json": {
              "type": "dataframe",
              "summary": "{\n  \"name\": \"num_cols\",\n  \"rows\": 8,\n  \"fields\": [\n    {\n      \"column\": \"hg/ha_yield\",\n      \"properties\": {\n        \"dtype\": \"number\",\n        \"std\": 163398.39696078157,\n        \"min\": 50.0,\n        \"max\": 501412.0,\n        \"num_unique_values\": 8,\n        \"samples\": [\n          77053.33209404434,\n          38295.0,\n          28242.0\n        ],\n        \"semantic_type\": \"\",\n        \"description\": \"\"\n      }\n    },\n    {\n      \"column\": \"average_rain_fall_mm_per_year\",\n      \"properties\": {\n        \"dtype\": \"number\",\n        \"std\": 9603.207715748134,\n        \"min\": 51.0,\n        \"max\": 28242.0,\n        \"num_unique_values\": 8,\n        \"samples\": [\n          1149.055980454642,\n          1083.0,\n          28242.0\n        ],\n        \"semantic_type\": \"\",\n        \"description\": \"\"\n      }\n    },\n    {\n      \"column\": \"pesticides_tonnes\",\n      \"properties\": {\n        \"dtype\": \"number\",\n        \"std\": 122107.72892356533,\n        \"min\": 0.04,\n        \"max\": 367778.0,\n        \"num_unique_values\": 8,\n        \"samples\": [\n          37076.909343530904,\n          17529.44,\n          28242.0\n        ],\n        \"semantic_type\": \"\",\n        \"description\": \"\"\n      }\n    },\n    {\n      \"column\": \"avg_temp\",\n      \"properties\": {\n        \"dtype\": \"number\",\n        \"std\": 9978.846266500655,\n        \"min\": 1.3,\n        \"max\": 28242.0,\n        \"num_unique_values\": 8,\n        \"samples\": [\n          20.542626584519507,\n          21.51,\n          28242.0\n        ],\n        \"semantic_type\": \"\",\n        \"description\": \"\"\n      }\n    }\n  ]\n}"
            }
          },
          "metadata": {},
          "execution_count": 7
        }
      ],
      "source": [
        "# YOUR CODE HERE\n",
        "num_cols = df[['hg/ha_yield', 'average_rain_fall_mm_per_year', 'pesticides_tonnes','avg_temp']]\n",
        "num_cols.describe()"
      ]
    },
    {
      "cell_type": "markdown",
      "id": "8a995d1b-a04b-4e57-bfd9-26db5a4a0f53",
      "metadata": {
        "id": "8a995d1b-a04b-4e57-bfd9-26db5a4a0f53"
      },
      "source": [
        "#### Question 4\n",
        "Display a heatmap of the correlation matrix between the columns: `hg/ha_yield`, `average_rain_fall_mm_per_year`, `pesticides_tonnes`, `avg_temp`. Which pair of varibales (columns) have the __highest correlation__?"
      ]
    },
    {
      "cell_type": "code",
      "execution_count": null,
      "id": "b13cf896-70a1-45e6-b19a-7a7d8e9c0ae9",
      "metadata": {
        "colab": {
          "base_uri": "https://localhost:8080/",
          "height": 615
        },
        "id": "b13cf896-70a1-45e6-b19a-7a7d8e9c0ae9",
        "outputId": "845fb6c8-450c-4de7-ce6d-a1ad47d9cbcc"
      },
      "outputs": [
        {
          "output_type": "execute_result",
          "data": {
            "text/plain": [
              "Text(0.5, 1.0, 'Heatmap of correlations between selected columns')"
            ]
          },
          "metadata": {},
          "execution_count": 8
        },
        {
          "output_type": "display_data",
          "data": {
            "text/plain": [
              "<Figure size 700x400 with 2 Axes>"
            ],
            "image/png": "[encoded data removed]"
          },
          "metadata": {}
        }
      ],
      "source": [
        "# YOUR CODE HERE\n",
        "fig=plt.figure(figsize=(7,4))\n",
        "\n",
        "heat_map = num_cols.corr()\n",
        "sb= sns.heatmap(data = heat_map, annot=True)\n",
        "plt.title('Heatmap of correlations between selected columns')"
      ]
    },
    {
      "cell_type": "markdown",
      "id": "91e4d566-d5e5-4179-8807-cf7f2eb48bf9",
      "metadata": {
        "id": "91e4d566-d5e5-4179-8807-cf7f2eb48bf9"
      },
      "source": [
        "Create a boxplot of the columns: `hg/ha_yield`, `average_rain_fall_mm_per_year`, `pesticides_tonnes`, `avg_temp`."
      ]
    },
    {
      "cell_type": "code",
      "execution_count": null,
      "id": "8f14fddf-5f93-44d3-9d2d-c4a35a3b2871",
      "metadata": {
        "colab": {
          "base_uri": "https://localhost:8080/",
          "height": 445
        },
        "id": "8f14fddf-5f93-44d3-9d2d-c4a35a3b2871",
        "outputId": "9738a4de-8919-4e17-b500-02f228ae5cd4"
      },
      "outputs": [
        {
          "output_type": "display_data",
          "data": {
            "text/plain": [
              "<Figure size 900x500 with 1 Axes>"
            ],
            "image/png": "[encoded data removed]"
          },
          "metadata": {}
        }
      ],
      "source": [
        "# YOUR CODE HERE\n",
        "fig=plt.figure(figsize=(9,5))\n",
        "box_plot=num_cols.boxplot()"
      ]
    },
    {
      "cell_type": "markdown",
      "id": "f3e878bc-9a34-4875-8771-f6521c2f1b66",
      "metadata": {
        "id": "f3e878bc-9a34-4875-8771-f6521c2f1b66"
      },
      "source": [
        "- Feel free to pursue your exploration to better understand your dataset. Although not graded, this might help you better understanding the problem and answer the following questions."
      ]
    },
    {
      "cell_type": "code",
      "execution_count": null,
      "id": "7ef645ef-3117-490f-91fe-083e2f96cc97",
      "metadata": {
        "id": "7ef645ef-3117-490f-91fe-083e2f96cc97"
      },
      "outputs": [],
      "source": [
        "# YOUR CODE HERE\n"
      ]
    },
    {
      "cell_type": "markdown",
      "id": "9741f056-f011-469c-9527-d1d016ddce83",
      "metadata": {
        "id": "9741f056-f011-469c-9527-d1d016ddce83"
      },
      "source": [
        "## 1.2: Multivariate regression\n",
        "\n",
        "We will try to predict the crop yields (column `hg/ha_yield`) using the features: `Item`, `average_rain_fall_mm_per_year`, `pesticides_tonnes`, and `avg_temp`.\n",
        "\n",
        "Extract your features and target variables, i.e., X and y variables."
      ]
    },
    {
      "cell_type": "code",
      "execution_count": null,
      "id": "4f218896-30f9-41d9-95a8-7550ab0fcdb6",
      "metadata": {
        "id": "4f218896-30f9-41d9-95a8-7550ab0fcdb6"
      },
      "outputs": [],
      "source": [
        "# YOUR CODE HERE\n",
        "X = df[['Item', 'average_rain_fall_mm_per_year', 'pesticides_tonnes','avg_temp']]\n",
        "y = df[['hg/ha_yield']]"
      ]
    },
    {
      "cell_type": "markdown",
      "id": "9511b15e-2147-48c7-82e0-24bf45bd194e",
      "metadata": {
        "id": "9511b15e-2147-48c7-82e0-24bf45bd194e"
      },
      "source": [
        "Encode the column `Item` using `OneHotEncoder`. After doing the one-hot encoding, you have to remove the `Item` column and add the columns resulting from the one-hot encoding to the dataframe.\n",
        "\n",
        "__Note:__ TO perform one-hot encoding you can either use sklearn `OneHotEncoder` or the `getdummies` method from pandas."
      ]
    },
    {
      "cell_type": "code",
      "source": [
        "# YOUR CODE HERE\n",
        "X = pd.get_dummies(X, columns=[\"Item\"])\n"
      ],
      "metadata": {
        "id": "gwXJmLcSHYj8"
      },
      "id": "gwXJmLcSHYj8",
      "execution_count": null,
      "outputs": []
    },
    {
      "cell_type": "markdown",
      "id": "fccaf94d-c35f-46b8-ae64-456446f93bf7",
      "metadata": {
        "id": "fccaf94d-c35f-46b8-ae64-456446f93bf7"
      },
      "source": [
        "Split between training and test set.\n",
        "\n",
        "__Important:__ To ensure reproducibility, you have to use the following values for the `train_test_split` function:\n",
        "\n",
        "`test_size=0.2`, `random_state=42`, `shuffle=True`"
      ]
    },
    {
      "cell_type": "code",
      "execution_count": null,
      "id": "0ebc8bd9-7d91-4b60-a545-dcc254897368",
      "metadata": {
        "id": "0ebc8bd9-7d91-4b60-a545-dcc254897368"
      },
      "outputs": [],
      "source": [
        "# YOUR CODE HERE\n",
        "X_train, X_test, y_train, y_test = train_test_split(X, y, test_size=0.2, random_state=42, shuffle=True)"
      ]
    },
    {
      "cell_type": "markdown",
      "id": "99c27197-47b0-4d46-a65b-8226d0accef8",
      "metadata": {
        "id": "99c27197-47b0-4d46-a65b-8226d0accef8"
      },
      "source": [
        "Rescale both the features of the training and test datasets (`X_train`, `X_test`) and also the target values for training and test (`y_train`, `y_test`) using `MinMaxScaler`."
      ]
    },
    {
      "cell_type": "code",
      "source": [
        "# Initialize the MinMaxScaler\n",
        "scaler = MinMaxScaler()\n",
        "\n",
        "# Fit the scaler on the training data\n",
        "X_train = scaler.fit_transform(X_train)\n",
        "X_test = scaler.transform(X_test)\n",
        "\n",
        "scaler = MinMaxScaler()\n",
        "\n",
        "y_train = scaler.fit_transform(y_train)\n",
        "y_test = scaler.transform(y_test)\n",
        "\n"
      ],
      "metadata": {
        "id": "_EW0qnsRHdCs"
      },
      "id": "_EW0qnsRHdCs",
      "execution_count": null,
      "outputs": []
    },
    {
      "cell_type": "markdown",
      "id": "d62901f2-e2c9-46f9-bffe-0d0f431a0f1d",
      "metadata": {
        "id": "d62901f2-e2c9-46f9-bffe-0d0f431a0f1d"
      },
      "source": [
        "Build and train a multivariate linear regression model."
      ]
    },
    {
      "cell_type": "code",
      "execution_count": null,
      "id": "fb27386b-b84e-4c51-9445-6d6712178d15",
      "metadata": {
        "id": "fb27386b-b84e-4c51-9445-6d6712178d15",
        "colab": {
          "base_uri": "https://localhost:8080/",
          "height": 74
        },
        "outputId": "bce26c13-c3a4-41e8-bf1c-b5c7bfcb9f5d"
      },
      "outputs": [
        {
          "output_type": "execute_result",
          "data": {
            "text/plain": [
              "LinearRegression()"
            ],
            "text/html": [
              "<style>#sk-container-id-1 {color: black;background-color: white;}#sk-container-id-1 pre{padding: 0;}#sk-container-id-1 div.sk-toggleable {background-color: white;}#sk-container-id-1 label.sk-toggleable__label {cursor: pointer;display: block;width: 100%;margin-bottom: 0;padding: 0.3em;box-sizing: border-box;text-align: center;}#sk-container-id-1 label.sk-toggleable__label-arrow:before {content: \"▸\";float: left;margin-right: 0.25em;color: #696969;}#sk-container-id-1 label.sk-toggleable__label-arrow:hover:before {color: black;}#sk-container-id-1 div.sk-estimator:hover label.sk-toggleable__label-arrow:before {color: black;}#sk-container-id-1 div.sk-toggleable__content {max-height: 0;max-width: 0;overflow: hidden;text-align: left;background-color: #f0f8ff;}#sk-container-id-1 div.sk-toggleable__content pre {margin: 0.2em;color: black;border-radius: 0.25em;background-color: #f0f8ff;}#sk-container-id-1 input.sk-toggleable__control:checked~div.sk-toggleable__content {max-height: 200px;max-width: 100%;overflow: auto;}#sk-container-id-1 input.sk-toggleable__control:checked~label.sk-toggleable__label-arrow:before {content: \"▾\";}#sk-container-id-1 div.sk-estimator input.sk-toggleable__control:checked~label.sk-toggleable__label {background-color: #d4ebff;}#sk-container-id-1 div.sk-label input.sk-toggleable__control:checked~label.sk-toggleable__label {background-color: #d4ebff;}#sk-container-id-1 input.sk-hidden--visually {border: 0;clip: rect(1px 1px 1px 1px);clip: rect(1px, 1px, 1px, 1px);height: 1px;margin: -1px;overflow: hidden;padding: 0;position: absolute;width: 1px;}#sk-container-id-1 div.sk-estimator {font-family: monospace;background-color: #f0f8ff;border: 1px dotted black;border-radius: 0.25em;box-sizing: border-box;margin-bottom: 0.5em;}#sk-container-id-1 div.sk-estimator:hover {background-color: #d4ebff;}#sk-container-id-1 div.sk-parallel-item::after {content: \"\";width: 100%;border-bottom: 1px solid gray;flex-grow: 1;}#sk-container-id-1 div.sk-label:hover label.sk-toggleable__label {background-color: #d4ebff;}#sk-container-id-1 div.sk-serial::before {content: \"\";position: absolute;border-left: 1px solid gray;box-sizing: border-box;top: 0;bottom: 0;left: 50%;z-index: 0;}#sk-container-id-1 div.sk-serial {display: flex;flex-direction: column;align-items: center;background-color: white;padding-right: 0.2em;padding-left: 0.2em;position: relative;}#sk-container-id-1 div.sk-item {position: relative;z-index: 1;}#sk-container-id-1 div.sk-parallel {display: flex;align-items: stretch;justify-content: center;background-color: white;position: relative;}#sk-container-id-1 div.sk-item::before, #sk-container-id-1 div.sk-parallel-item::before {content: \"\";position: absolute;border-left: 1px solid gray;box-sizing: border-box;top: 0;bottom: 0;left: 50%;z-index: -1;}#sk-container-id-1 div.sk-parallel-item {display: flex;flex-direction: column;z-index: 1;position: relative;background-color: white;}#sk-container-id-1 div.sk-parallel-item:first-child::after {align-self: flex-end;width: 50%;}#sk-container-id-1 div.sk-parallel-item:last-child::after {align-self: flex-start;width: 50%;}#sk-container-id-1 div.sk-parallel-item:only-child::after {width: 0;}#sk-container-id-1 div.sk-dashed-wrapped {border: 1px dashed gray;margin: 0 0.4em 0.5em 0.4em;box-sizing: border-box;padding-bottom: 0.4em;background-color: white;}#sk-container-id-1 div.sk-label label {font-family: monospace;font-weight: bold;display: inline-block;line-height: 1.2em;}#sk-container-id-1 div.sk-label-container {text-align: center;}#sk-container-id-1 div.sk-container {/* jupyter's `normalize.less` sets `[hidden] { display: none; }` but bootstrap.min.css set `[hidden] { display: none !important; }` so we also need the `!important` here to be able to override the default hidden behavior on the sphinx rendered scikit-learn.org. See: https://github.com/scikit-learn/scikit-learn/issues/21755 */display: inline-block !important;position: relative;}#sk-container-id-1 div.sk-text-repr-fallback {display: none;}</style><div id=\"sk-container-id-1\" class=\"sk-top-container\"><div class=\"sk-text-repr-fallback\"><pre>LinearRegression()</pre><b>In a Jupyter environment, please rerun this cell to show the HTML representation or trust the notebook. <br />On GitHub, the HTML representation is unable to render, please try loading this page with nbviewer.org.</b></div><div class=\"sk-container\" hidden><div class=\"sk-item\"><div class=\"sk-estimator sk-toggleable\"><input class=\"sk-toggleable__control sk-hidden--visually\" id=\"sk-estimator-id-1\" type=\"checkbox\" checked><label for=\"sk-estimator-id-1\" class=\"sk-toggleable__label sk-toggleable__label-arrow\">LinearRegression</label><div class=\"sk-toggleable__content\"><pre>LinearRegression()</pre></div></div></div></div></div>"
            ]
          },
          "metadata": {},
          "execution_count": 15
        }
      ],
      "source": [
        "# YOUR CODE HERE\n",
        "# 1. Set up the model\n",
        "model = LinearRegression()\n",
        "# 2. Use fit\n",
        "model.fit(X_train, y_train)\n"
      ]
    },
    {
      "cell_type": "markdown",
      "id": "b52fa49c-f2a9-4c43-8170-80ef1d6f3326",
      "metadata": {
        "id": "b52fa49c-f2a9-4c43-8170-80ef1d6f3326"
      },
      "source": [
        "#### Question 5\n",
        "\n",
        "What is the $R^2$, mean absolute error, and mean square error on the test set?\n",
        "\n",
        "__Important:__ To answer the corresponding question in the quiz correctly, you have to follow the above steps (one-hot encoding, train-test split with the given parameters, and min-max rescaling) exactly as instructed."
      ]
    },
    {
      "cell_type": "code",
      "execution_count": null,
      "id": "8ac40095-701c-47d3-81ca-06e6740bd439",
      "metadata": {
        "id": "8ac40095-701c-47d3-81ca-06e6740bd439",
        "colab": {
          "base_uri": "https://localhost:8080/"
        },
        "outputId": "d1ce4d27-1001-4cf7-9ceb-9d65c55872f8"
      },
      "outputs": [
        {
          "output_type": "stream",
          "name": "stdout",
          "text": [
            "MAE 0.063\n",
            "MSE 0.010\n",
            "R^2 0.646\n"
          ]
        }
      ],
      "source": [
        "# YOUR CODE HERE\n",
        "predictions = model.predict(X_test)\n",
        "\n",
        "#Check the score/accuracy\n",
        "print(\"MAE %.3f\" % mean_absolute_error(y_test, predictions))\n",
        "print(\"MSE %.3f\" % mean_squared_error(y_test, predictions))\n",
        "print(\"R^2 %.3f\" % r2_score(y_test, predictions))"
      ]
    },
    {
      "cell_type": "markdown",
      "source": [
        "#### Question 6\n",
        "Now, we would like to observe the effect of removing some of the features from the training on the performance of the linear regression model. Train 4 different liner regressions using the 4 datasets below. Each dataset only has a subset of the features:\n",
        "- `average_rain_fall_mm_per_year`, `pesticides_tonnes`,`avg_temp`\n",
        "- `pesticides_tonnes`,`avg_temp`\n",
        "- `average_rain_fall_mm_per_year`,`avg_temp`\n",
        "- `average_rain_fall_mm_per_year`, `pesticides_tonnes`\n",
        "\n",
        "Make sure that you split each dataset to train and test using the same parameters (`test_size=0.2`, `random_state=42`, `shuffle=True`) and rescale the features and the target variable using min-max scaler. Training the linear regression on which of the subsets of the features leads to the __smallest mean-squared error__?"
      ],
      "metadata": {
        "id": "YamCTliTEoY6"
      },
      "id": "YamCTliTEoY6"
    },
    {
      "cell_type": "code",
      "source": [
        "X1 = X[['average_rain_fall_mm_per_year', 'pesticides_tonnes','avg_temp']]\n",
        "X2 = X[['pesticides_tonnes','avg_temp']]\n",
        "X3 = X[['average_rain_fall_mm_per_year','avg_temp']]\n",
        "X4 = X[['average_rain_fall_mm_per_year', 'pesticides_tonnes']]\n",
        "\n",
        "for X_temp in [X1, X2, X3, X4]:\n",
        "  X_tr, X_te, y_tr, y_te = train_test_split(X_temp, y, test_size=0.2, random_state=42, shuffle=True)\n",
        "  scaler = MinMaxScaler()\n",
        "  X_tr = scaler.fit_transform(X_tr)\n",
        "  X_te = scaler.transform(X_te)\n",
        "\n",
        "  scaler = MinMaxScaler()\n",
        "  y_tr = scaler.fit_transform(y_tr)\n",
        "  y_te = scaler.transform(y_te)\n",
        "\n",
        "  model = LinearRegression()\n",
        "  model.fit(X_tr, y_tr)\n",
        "  predictions = model.predict(X_te)\n",
        "  print(\"MSE %.3f\" % mean_squared_error(y_te, predictions))\n",
        "\n",
        "\n",
        "\n",
        "\n",
        "\n"
      ],
      "metadata": {
        "id": "bhvqKW5LEq6b",
        "outputId": "d232862b-b04f-4ecc-c56b-bcc35de7731d",
        "colab": {
          "base_uri": "https://localhost:8080/"
        }
      },
      "id": "bhvqKW5LEq6b",
      "execution_count": null,
      "outputs": [
        {
          "output_type": "stream",
          "name": "stdout",
          "text": [
            "MSE 0.028\n",
            "MSE 0.028\n",
            "MSE 0.028\n",
            "MSE 0.029\n"
          ]
        }
      ]
    },
    {
      "cell_type": "markdown",
      "source": [
        "## 1.3 Polynomial features regression\n",
        "\n",
        "\n",
        "Next, We will try to improve the performance of our model using Polynomial Features. We will only use the numerical features in this part, i.e., `average_rain_fall_mm_per_year`, `pesticides_tonnes`,`avg_temp`.\n",
        "\n",
        "Write a function that gets as inputs the degree of polynomial features (an integer), the training and test sets (features and target variables), and return the mean absolute error and mean square error of a polynomial feature regression on the test set.\n",
        "\n",
        "*Hint*: Your function should transform your training and test set to integrate polynomial features, then train your model, and then calculate predictions on the test set and return error metrics.\n",
        "\n",
        "*Hint*: You have to use the `PolynomialFeatures` class from sklearn."
      ],
      "metadata": {
        "id": "ezhC3-a6a3lo"
      },
      "id": "ezhC3-a6a3lo"
    },
    {
      "cell_type": "code",
      "source": [
        "# YOUR CODE HERE\n",
        "def poly_regression(d, X_tr, X_te, y_tr, y_te):\n",
        "  poly = PolynomialFeatures(d)\n",
        "  X_tr = poly.fit_transform(X_tr)\n",
        "  X_te = poly.transform(X_te)\n",
        "  model = LinearRegression()\n",
        "  model.fit(X_tr, y_tr)\n",
        "  predictions = model.predict(X_te)\n",
        "  print(\"MSE %.4f\" % mean_squared_error(y_te, predictions))\n",
        "  print(\"MAE %.4f\" % mean_absolute_error(y_te, predictions))\n"
      ],
      "metadata": {
        "id": "qidGKsUsbUlZ"
      },
      "id": "qidGKsUsbUlZ",
      "execution_count": null,
      "outputs": []
    },
    {
      "cell_type": "markdown",
      "source": [
        "#### Question 7\n",
        "\n",
        "Run the polynomial regression models with degrees ranging from 2 to 6, i.e., in Python `range(2, 7)`. Use the training and test set you build in the above section or perform the split again using the parameters `test_size=0.2`, `random_state=42`, `shuffle=True`. Remember that for this part, You only have to use the features `average_rain_fall_mm_per_year`, `pesticides_tonnes`,`avg_temp`. Which polynomial degree results in the smallest mean squared error on the test set?"
      ],
      "metadata": {
        "id": "we-QuEDZbX7L"
      },
      "id": "we-QuEDZbX7L"
    },
    {
      "cell_type": "code",
      "source": [
        "# YOUR CODE HERE\n",
        "for d in range(2, 7):\n",
        "  print(\"degree: \", d)\n",
        "  poly_regression(d, X_train[:, :3], X_test[:,:3], y_train, y_test)\n",
        "  print(\"---\")"
      ],
      "metadata": {
        "id": "CQoXU-HIbi0q",
        "colab": {
          "base_uri": "https://localhost:8080/"
        },
        "outputId": "74bc224f-b901-45a6-d69f-0868e6afb083"
      },
      "id": "CQoXU-HIbi0q",
      "execution_count": null,
      "outputs": [
        {
          "output_type": "stream",
          "name": "stdout",
          "text": [
            "degree:  2\n",
            "MSE 0.0278\n",
            "MAE 0.1273\n",
            "---\n",
            "degree:  3\n",
            "MSE 0.0267\n",
            "MAE 0.1252\n",
            "---\n",
            "degree:  4\n",
            "MSE 0.0263\n",
            "MAE 0.1250\n",
            "---\n",
            "degree:  5\n",
            "MSE 0.0260\n",
            "MAE 0.1243\n",
            "---\n",
            "degree:  6\n",
            "MSE 0.0257\n",
            "MAE 0.1237\n",
            "---\n"
          ]
        }
      ]
    },
    {
      "cell_type": "markdown",
      "id": "d08235a6-27ec-45b7-9adc-0eea440b6b02",
      "metadata": {
        "id": "d08235a6-27ec-45b7-9adc-0eea440b6b02"
      },
      "source": [
        "# 2. Classification\n",
        "\n",
        "Access to safe drinking-water is essential to health, a basic human right and a component of effective policy for health protection. However, for at least 3 billion people, the quality of the water they depend on is unknown due to a lack of monitoring (see [SDG Goal 6](https://sdgs.un.org/goals/goal6) \"Ensure availability and sustainable management of water and sanitation for all\").\n",
        "\n",
        "<img src='https://upload.wikimedia.org/wikipedia/commons/thumb/8/87/Sustainable_Development_Goal_6.png/800px-Sustainable_Development_Goal_6.png' width=\"200\">\n",
        "\n",
        "We will use data from the [Water Quality](https://www.kaggle.com/datasets/mssmartypants/water-quality) dataset to try to predict whether the water is safe to drink depending on the concentration of various minerals and microorganisms. Check the webpage to read a description of the features and get a better understanding of our problem."
      ]
    },
    {
      "cell_type": "markdown",
      "id": "c15fbefb-e6b7-47ad-aaf0-d411c82a84f4",
      "metadata": {
        "id": "c15fbefb-e6b7-47ad-aaf0-d411c82a84f4"
      },
      "source": [
        "## 2.1 Load and Discover the dataset"
      ]
    },
    {
      "cell_type": "markdown",
      "id": "9e484596-0a73-4b6a-a5c5-8a8cd02f8ac2",
      "metadata": {
        "id": "9e484596-0a73-4b6a-a5c5-8a8cd02f8ac2"
      },
      "source": [
        "Load the data in a pandas dataframe. The url link is provided below. Display the first 10 observations and the types of data"
      ]
    },
    {
      "cell_type": "code",
      "execution_count": null,
      "id": "2b92e6a4-30b0-44b4-b986-9b5d1c472842",
      "metadata": {
        "id": "2b92e6a4-30b0-44b4-b986-9b5d1c472842",
        "colab": {
          "base_uri": "https://localhost:8080/",
          "height": 412
        },
        "outputId": "374bfd51-2bb4-4a09-8cc0-cbc13e853b7e"
      },
      "outputs": [
        {
          "output_type": "execute_result",
          "data": {
            "text/plain": [
              "   aluminium  ammonia  arsenic  barium  cadmium  chloramine  chromium  copper  \\\n",
              "0       1.65     9.08     0.04    2.85    0.007        0.35      0.83    0.17   \n",
              "1       2.32    21.16     0.01    3.31    0.002        5.28      0.68    0.66   \n",
              "2       1.01    14.02     0.04    0.58    0.008        4.24      0.53    0.02   \n",
              "3       1.36    11.33     0.04    2.96    0.001        7.23      0.03    1.66   \n",
              "4       0.92    24.33     0.03    0.20    0.006        2.67      0.69    0.57   \n",
              "5       0.94    14.47     0.03    2.88    0.003        0.80      0.43    1.38   \n",
              "6       2.36     5.60     0.01    1.35    0.004        1.28      0.62    1.88   \n",
              "7       3.93    19.87     0.04    0.66    0.001        6.22      0.10    1.86   \n",
              "8       0.60    24.58     0.01    0.71    0.005        3.14      0.77    1.45   \n",
              "9       0.22    16.76     0.02    1.37    0.007        6.40      0.49    0.82   \n",
              "\n",
              "   flouride  bacteria  ...   lead  nitrates  nitrites  mercury  perchlorate  \\\n",
              "0      0.05      0.20  ...  0.054     16.08      1.13    0.007        37.75   \n",
              "1      0.90      0.65  ...  0.100      2.01      1.93    0.003        32.26   \n",
              "2      0.99      0.05  ...  0.078     14.16      1.11    0.006        50.28   \n",
              "3      1.08      0.71  ...  0.016      1.41      1.29    0.004         9.12   \n",
              "4      0.61      0.13  ...  0.117      6.74      1.11    0.003        16.90   \n",
              "5      0.11      0.67  ...  0.135      9.75      1.89    0.006        27.17   \n",
              "6      0.33      0.13  ...  0.021     18.60      1.78    0.007        45.34   \n",
              "7      0.86      0.16  ...  0.197     13.65      1.81    0.001        53.35   \n",
              "8      0.98      0.35  ...  0.167     14.66      1.84    0.004        23.43   \n",
              "9      1.24      0.83  ...  0.109      4.79      1.46    0.010        30.42   \n",
              "\n",
              "   radium  selenium  silver  uranium  is_safe  \n",
              "0    6.78      0.08    0.34     0.02        1  \n",
              "1    3.21      0.08    0.27     0.05        1  \n",
              "2    7.07      0.07    0.44     0.01        0  \n",
              "3    1.72      0.02    0.45     0.05        1  \n",
              "4    2.41      0.02    0.06     0.02        1  \n",
              "5    5.42      0.08    0.19     0.02        1  \n",
              "6    2.84      0.10    0.24     0.08        0  \n",
              "7    7.24      0.08    0.08     0.07        0  \n",
              "8    4.99      0.08    0.25     0.08        1  \n",
              "9    0.08      0.03    0.31     0.01        1  \n",
              "\n",
              "[10 rows x 21 columns]"
            ],
            "text/html": [
              "\n",
              "  <div id=\"df-0a282e6f-ea70-43c0-bfe9-db57f4e6d4e7\" class=\"colab-df-container\">\n",
              "    <div>\n",
              "<style scoped>\n",
              "    .dataframe tbody tr th:only-of-type {\n",
              "        vertical-align: middle;\n",
              "    }\n",
              "\n",
              "    .dataframe tbody tr th {\n",
              "        vertical-align: top;\n",
              "    }\n",
              "\n",
              "    .dataframe thead th {\n",
              "        text-align: right;\n",
              "    }\n",
              "</style>\n",
              "<table border=\"1\" class=\"dataframe\">\n",
              "  <thead>\n",
              "    <tr style=\"text-align: right;\">\n",
              "      <th></th>\n",
              "      <th>aluminium</th>\n",
              "      <th>ammonia</th>\n",
              "      <th>arsenic</th>\n",
              "      <th>barium</th>\n",
              "      <th>cadmium</th>\n",
              "      <th>chloramine</th>\n",
              "      <th>chromium</th>\n",
              "      <th>copper</th>\n",
              "      <th>flouride</th>\n",
              "      <th>bacteria</th>\n",
              "      <th>...</th>\n",
              "      <th>lead</th>\n",
              "      <th>nitrates</th>\n",
              "      <th>nitrites</th>\n",
              "      <th>mercury</th>\n",
              "      <th>perchlorate</th>\n",
              "      <th>radium</th>\n",
              "      <th>selenium</th>\n",
              "      <th>silver</th>\n",
              "      <th>uranium</th>\n",
              "      <th>is_safe</th>\n",
              "    </tr>\n",
              "  </thead>\n",
              "  <tbody>\n",
              "    <tr>\n",
              "      <th>0</th>\n",
              "      <td>1.65</td>\n",
              "      <td>9.08</td>\n",
              "      <td>0.04</td>\n",
              "      <td>2.85</td>\n",
              "      <td>0.007</td>\n",
              "      <td>0.35</td>\n",
              "      <td>0.83</td>\n",
              "      <td>0.17</td>\n",
              "      <td>0.05</td>\n",
              "      <td>0.20</td>\n",
              "      <td>...</td>\n",
              "      <td>0.054</td>\n",
              "      <td>16.08</td>\n",
              "      <td>1.13</td>\n",
              "      <td>0.007</td>\n",
              "      <td>37.75</td>\n",
              "      <td>6.78</td>\n",
              "      <td>0.08</td>\n",
              "      <td>0.34</td>\n",
              "      <td>0.02</td>\n",
              "      <td>1</td>\n",
              "    </tr>\n",
              "    <tr>\n",
              "      <th>1</th>\n",
              "      <td>2.32</td>\n",
              "      <td>21.16</td>\n",
              "      <td>0.01</td>\n",
              "      <td>3.31</td>\n",
              "      <td>0.002</td>\n",
              "      <td>5.28</td>\n",
              "      <td>0.68</td>\n",
              "      <td>0.66</td>\n",
              "      <td>0.90</td>\n",
              "      <td>0.65</td>\n",
              "      <td>...</td>\n",
              "      <td>0.100</td>\n",
              "      <td>2.01</td>\n",
              "      <td>1.93</td>\n",
              "      <td>0.003</td>\n",
              "      <td>32.26</td>\n",
              "      <td>3.21</td>\n",
              "      <td>0.08</td>\n",
              "      <td>0.27</td>\n",
              "      <td>0.05</td>\n",
              "      <td>1</td>\n",
              "    </tr>\n",
              "    <tr>\n",
              "      <th>2</th>\n",
              "      <td>1.01</td>\n",
              "      <td>14.02</td>\n",
              "      <td>0.04</td>\n",
              "      <td>0.58</td>\n",
              "      <td>0.008</td>\n",
              "      <td>4.24</td>\n",
              "      <td>0.53</td>\n",
              "      <td>0.02</td>\n",
              "      <td>0.99</td>\n",
              "      <td>0.05</td>\n",
              "      <td>...</td>\n",
              "      <td>0.078</td>\n",
              "      <td>14.16</td>\n",
              "      <td>1.11</td>\n",
              "      <td>0.006</td>\n",
              "      <td>50.28</td>\n",
              "      <td>7.07</td>\n",
              "      <td>0.07</td>\n",
              "      <td>0.44</td>\n",
              "      <td>0.01</td>\n",
              "      <td>0</td>\n",
              "    </tr>\n",
              "    <tr>\n",
              "      <th>3</th>\n",
              "      <td>1.36</td>\n",
              "      <td>11.33</td>\n",
              "      <td>0.04</td>\n",
              "      <td>2.96</td>\n",
              "      <td>0.001</td>\n",
              "      <td>7.23</td>\n",
              "      <td>0.03</td>\n",
              "      <td>1.66</td>\n",
              "      <td>1.08</td>\n",
              "      <td>0.71</td>\n",
              "      <td>...</td>\n",
              "      <td>0.016</td>\n",
              "      <td>1.41</td>\n",
              "      <td>1.29</td>\n",
              "      <td>0.004</td>\n",
              "      <td>9.12</td>\n",
              "      <td>1.72</td>\n",
              "      <td>0.02</td>\n",
              "      <td>0.45</td>\n",
              "      <td>0.05</td>\n",
              "      <td>1</td>\n",
              "    </tr>\n",
              "    <tr>\n",
              "      <th>4</th>\n",
              "      <td>0.92</td>\n",
              "      <td>24.33</td>\n",
              "      <td>0.03</td>\n",
              "      <td>0.20</td>\n",
              "      <td>0.006</td>\n",
              "      <td>2.67</td>\n",
              "      <td>0.69</td>\n",
              "      <td>0.57</td>\n",
              "      <td>0.61</td>\n",
              "      <td>0.13</td>\n",
              "      <td>...</td>\n",
              "      <td>0.117</td>\n",
              "      <td>6.74</td>\n",
              "      <td>1.11</td>\n",
              "      <td>0.003</td>\n",
              "      <td>16.90</td>\n",
              "      <td>2.41</td>\n",
              "      <td>0.02</td>\n",
              "      <td>0.06</td>\n",
              "      <td>0.02</td>\n",
              "      <td>1</td>\n",
              "    </tr>\n",
              "    <tr>\n",
              "      <th>5</th>\n",
              "      <td>0.94</td>\n",
              "      <td>14.47</td>\n",
              "      <td>0.03</td>\n",
              "      <td>2.88</td>\n",
              "      <td>0.003</td>\n",
              "      <td>0.80</td>\n",
              "      <td>0.43</td>\n",
              "      <td>1.38</td>\n",
              "      <td>0.11</td>\n",
              "      <td>0.67</td>\n",
              "      <td>...</td>\n",
              "      <td>0.135</td>\n",
              "      <td>9.75</td>\n",
              "      <td>1.89</td>\n",
              "      <td>0.006</td>\n",
              "      <td>27.17</td>\n",
              "      <td>5.42</td>\n",
              "      <td>0.08</td>\n",
              "      <td>0.19</td>\n",
              "      <td>0.02</td>\n",
              "      <td>1</td>\n",
              "    </tr>\n",
              "    <tr>\n",
              "      <th>6</th>\n",
              "      <td>2.36</td>\n",
              "      <td>5.60</td>\n",
              "      <td>0.01</td>\n",
              "      <td>1.35</td>\n",
              "      <td>0.004</td>\n",
              "      <td>1.28</td>\n",
              "      <td>0.62</td>\n",
              "      <td>1.88</td>\n",
              "      <td>0.33</td>\n",
              "      <td>0.13</td>\n",
              "      <td>...</td>\n",
              "      <td>0.021</td>\n",
              "      <td>18.60</td>\n",
              "      <td>1.78</td>\n",
              "      <td>0.007</td>\n",
              "      <td>45.34</td>\n",
              "      <td>2.84</td>\n",
              "      <td>0.10</td>\n",
              "      <td>0.24</td>\n",
              "      <td>0.08</td>\n",
              "      <td>0</td>\n",
              "    </tr>\n",
              "    <tr>\n",
              "      <th>7</th>\n",
              "      <td>3.93</td>\n",
              "      <td>19.87</td>\n",
              "      <td>0.04</td>\n",
              "      <td>0.66</td>\n",
              "      <td>0.001</td>\n",
              "      <td>6.22</td>\n",
              "      <td>0.10</td>\n",
              "      <td>1.86</td>\n",
              "      <td>0.86</td>\n",
              "      <td>0.16</td>\n",
              "      <td>...</td>\n",
              "      <td>0.197</td>\n",
              "      <td>13.65</td>\n",
              "      <td>1.81</td>\n",
              "      <td>0.001</td>\n",
              "      <td>53.35</td>\n",
              "      <td>7.24</td>\n",
              "      <td>0.08</td>\n",
              "      <td>0.08</td>\n",
              "      <td>0.07</td>\n",
              "      <td>0</td>\n",
              "    </tr>\n",
              "    <tr>\n",
              "      <th>8</th>\n",
              "      <td>0.60</td>\n",
              "      <td>24.58</td>\n",
              "      <td>0.01</td>\n",
              "      <td>0.71</td>\n",
              "      <td>0.005</td>\n",
              "      <td>3.14</td>\n",
              "      <td>0.77</td>\n",
              "      <td>1.45</td>\n",
              "      <td>0.98</td>\n",
              "      <td>0.35</td>\n",
              "      <td>...</td>\n",
              "      <td>0.167</td>\n",
              "      <td>14.66</td>\n",
              "      <td>1.84</td>\n",
              "      <td>0.004</td>\n",
              "      <td>23.43</td>\n",
              "      <td>4.99</td>\n",
              "      <td>0.08</td>\n",
              "      <td>0.25</td>\n",
              "      <td>0.08</td>\n",
              "      <td>1</td>\n",
              "    </tr>\n",
              "    <tr>\n",
              "      <th>9</th>\n",
              "      <td>0.22</td>\n",
              "      <td>16.76</td>\n",
              "      <td>0.02</td>\n",
              "      <td>1.37</td>\n",
              "      <td>0.007</td>\n",
              "      <td>6.40</td>\n",
              "      <td>0.49</td>\n",
              "      <td>0.82</td>\n",
              "      <td>1.24</td>\n",
              "      <td>0.83</td>\n",
              "      <td>...</td>\n",
              "      <td>0.109</td>\n",
              "      <td>4.79</td>\n",
              "      <td>1.46</td>\n",
              "      <td>0.010</td>\n",
              "      <td>30.42</td>\n",
              "      <td>0.08</td>\n",
              "      <td>0.03</td>\n",
              "      <td>0.31</td>\n",
              "      <td>0.01</td>\n",
              "      <td>1</td>\n",
              "    </tr>\n",
              "  </tbody>\n",
              "</table>\n",
              "<p>10 rows × 21 columns</p>\n",
              "</div>\n",
              "    <div class=\"colab-df-buttons\">\n",
              "\n",
              "  <div class=\"colab-df-container\">\n",
              "    <button class=\"colab-df-convert\" onclick=\"convertToInteractive('df-0a282e6f-ea70-43c0-bfe9-db57f4e6d4e7')\"\n",
              "            title=\"Convert this dataframe to an interactive table.\"\n",
              "            style=\"display:none;\">\n",
              "\n",
              "  <svg xmlns=\"http://www.w3.org/2000/svg\" height=\"24px\" viewBox=\"0 -960 960 960\">\n",
              "    <path d=\"M120-120v-720h720v720H120Zm60-500h600v-160H180v160Zm220 220h160v-160H400v160Zm0 220h160v-160H400v160ZM180-400h160v-160H180v160Zm440 0h160v-160H620v160ZM180-180h160v-160H180v160Zm440 0h160v-160H620v160Z\"/>\n",
              "  </svg>\n",
              "    </button>\n",
              "\n",
              "  <style>\n",
              "    .colab-df-container {\n",
              "      display:flex;\n",
              "      gap: 12px;\n",
              "    }\n",
              "\n",
              "    .colab-df-convert {\n",
              "      background-color: #E8F0FE;\n",
              "      border: none;\n",
              "      border-radius: 50%;\n",
              "      cursor: pointer;\n",
              "      display: none;\n",
              "      fill: #1967D2;\n",
              "      height: 32px;\n",
              "      padding: 0 0 0 0;\n",
              "      width: 32px;\n",
              "    }\n",
              "\n",
              "    .colab-df-convert:hover {\n",
              "      background-color: #E2EBFA;\n",
              "      box-shadow: 0px 1px 2px rgba(60, 64, 67, 0.3), 0px 1px 3px 1px rgba(60, 64, 67, 0.15);\n",
              "      fill: #174EA6;\n",
              "    }\n",
              "\n",
              "    .colab-df-buttons div {\n",
              "      margin-bottom: 4px;\n",
              "    }\n",
              "\n",
              "    [theme=dark] .colab-df-convert {\n",
              "      background-color: #3B4455;\n",
              "      fill: #D2E3FC;\n",
              "    }\n",
              "\n",
              "    [theme=dark] .colab-df-convert:hover {\n",
              "      background-color: #434B5C;\n",
              "      box-shadow: 0px 1px 3px 1px rgba(0, 0, 0, 0.15);\n",
              "      filter: drop-shadow(0px 1px 2px rgba(0, 0, 0, 0.3));\n",
              "      fill: #FFFFFF;\n",
              "    }\n",
              "  </style>\n",
              "\n",
              "    <script>\n",
              "      const buttonEl =\n",
              "        document.querySelector('#df-0a282e6f-ea70-43c0-bfe9-db57f4e6d4e7 button.colab-df-convert');\n",
              "      buttonEl.style.display =\n",
              "        google.colab.kernel.accessAllowed ? 'block' : 'none';\n",
              "\n",
              "      async function convertToInteractive(key) {\n",
              "        const element = document.querySelector('#df-0a282e6f-ea70-43c0-bfe9-db57f4e6d4e7');\n",
              "        const dataTable =\n",
              "          await google.colab.kernel.invokeFunction('convertToInteractive',\n",
              "                                                    [key], {});\n",
              "        if (!dataTable) return;\n",
              "\n",
              "        const docLinkHtml = 'Like what you see? Visit the ' +\n",
              "          '<a target=\"_blank\" href=https://colab.research.google.com/notebooks/data_table.ipynb>data table notebook</a>'\n",
              "          + ' to learn more about interactive tables.';\n",
              "        element.innerHTML = '';\n",
              "        dataTable['output_type'] = 'display_data';\n",
              "        await google.colab.output.renderOutput(dataTable, element);\n",
              "        const docLink = document.createElement('div');\n",
              "        docLink.innerHTML = docLinkHtml;\n",
              "        element.appendChild(docLink);\n",
              "      }\n",
              "    </script>\n",
              "  </div>\n",
              "\n",
              "\n",
              "<div id=\"df-a06df4db-8cb8-4268-b8cc-4dd77cdde887\">\n",
              "  <button class=\"colab-df-quickchart\" onclick=\"quickchart('df-a06df4db-8cb8-4268-b8cc-4dd77cdde887')\"\n",
              "            title=\"Suggest charts\"\n",
              "            style=\"display:none;\">\n",
              "\n",
              "<svg xmlns=\"http://www.w3.org/2000/svg\" height=\"24px\"viewBox=\"0 0 24 24\"\n",
              "     width=\"24px\">\n",
              "    <g>\n",
              "        <path d=\"M19 3H5c-1.1 0-2 .9-2 2v14c0 1.1.9 2 2 2h14c1.1 0 2-.9 2-2V5c0-1.1-.9-2-2-2zM9 17H7v-7h2v7zm4 0h-2V7h2v10zm4 0h-2v-4h2v4z\"/>\n",
              "    </g>\n",
              "</svg>\n",
              "  </button>\n",
              "\n",
              "<style>\n",
              "  .colab-df-quickchart {\n",
              "      --bg-color: #E8F0FE;\n",
              "      --fill-color: #1967D2;\n",
              "      --hover-bg-color: #E2EBFA;\n",
              "      --hover-fill-color: #174EA6;\n",
              "      --disabled-fill-color: #AAA;\n",
              "      --disabled-bg-color: #DDD;\n",
              "  }\n",
              "\n",
              "  [theme=dark] .colab-df-quickchart {\n",
              "      --bg-color: #3B4455;\n",
              "      --fill-color: #D2E3FC;\n",
              "      --hover-bg-color: #434B5C;\n",
              "      --hover-fill-color: #FFFFFF;\n",
              "      --disabled-bg-color: #3B4455;\n",
              "      --disabled-fill-color: #666;\n",
              "  }\n",
              "\n",
              "  .colab-df-quickchart {\n",
              "    background-color: var(--bg-color);\n",
              "    border: none;\n",
              "    border-radius: 50%;\n",
              "    cursor: pointer;\n",
              "    display: none;\n",
              "    fill: var(--fill-color);\n",
              "    height: 32px;\n",
              "    padding: 0;\n",
              "    width: 32px;\n",
              "  }\n",
              "\n",
              "  .colab-df-quickchart:hover {\n",
              "    background-color: var(--hover-bg-color);\n",
              "    box-shadow: 0 1px 2px rgba(60, 64, 67, 0.3), 0 1px 3px 1px rgba(60, 64, 67, 0.15);\n",
              "    fill: var(--button-hover-fill-color);\n",
              "  }\n",
              "\n",
              "  .colab-df-quickchart-complete:disabled,\n",
              "  .colab-df-quickchart-complete:disabled:hover {\n",
              "    background-color: var(--disabled-bg-color);\n",
              "    fill: var(--disabled-fill-color);\n",
              "    box-shadow: none;\n",
              "  }\n",
              "\n",
              "  .colab-df-spinner {\n",
              "    border: 2px solid var(--fill-color);\n",
              "    border-color: transparent;\n",
              "    border-bottom-color: var(--fill-color);\n",
              "    animation:\n",
              "      spin 1s steps(1) infinite;\n",
              "  }\n",
              "\n",
              "  @keyframes spin {\n",
              "    0% {\n",
              "      border-color: transparent;\n",
              "      border-bottom-color: var(--fill-color);\n",
              "      border-left-color: var(--fill-color);\n",
              "    }\n",
              "    20% {\n",
              "      border-color: transparent;\n",
              "      border-left-color: var(--fill-color);\n",
              "      border-top-color: var(--fill-color);\n",
              "    }\n",
              "    30% {\n",
              "      border-color: transparent;\n",
              "      border-left-color: var(--fill-color);\n",
              "      border-top-color: var(--fill-color);\n",
              "      border-right-color: var(--fill-color);\n",
              "    }\n",
              "    40% {\n",
              "      border-color: transparent;\n",
              "      border-right-color: var(--fill-color);\n",
              "      border-top-color: var(--fill-color);\n",
              "    }\n",
              "    60% {\n",
              "      border-color: transparent;\n",
              "      border-right-color: var(--fill-color);\n",
              "    }\n",
              "    80% {\n",
              "      border-color: transparent;\n",
              "      border-right-color: var(--fill-color);\n",
              "      border-bottom-color: var(--fill-color);\n",
              "    }\n",
              "    90% {\n",
              "      border-color: transparent;\n",
              "      border-bottom-color: var(--fill-color);\n",
              "    }\n",
              "  }\n",
              "</style>\n",
              "\n",
              "  <script>\n",
              "    async function quickchart(key) {\n",
              "      const quickchartButtonEl =\n",
              "        document.querySelector('#' + key + ' button');\n",
              "      quickchartButtonEl.disabled = true;  // To prevent multiple clicks.\n",
              "      quickchartButtonEl.classList.add('colab-df-spinner');\n",
              "      try {\n",
              "        const charts = await google.colab.kernel.invokeFunction(\n",
              "            'suggestCharts', [key], {});\n",
              "      } catch (error) {\n",
              "        console.error('Error during call to suggestCharts:', error);\n",
              "      }\n",
              "      quickchartButtonEl.classList.remove('colab-df-spinner');\n",
              "      quickchartButtonEl.classList.add('colab-df-quickchart-complete');\n",
              "    }\n",
              "    (() => {\n",
              "      let quickchartButtonEl =\n",
              "        document.querySelector('#df-a06df4db-8cb8-4268-b8cc-4dd77cdde887 button');\n",
              "      quickchartButtonEl.style.display =\n",
              "        google.colab.kernel.accessAllowed ? 'block' : 'none';\n",
              "    })();\n",
              "  </script>\n",
              "</div>\n",
              "    </div>\n",
              "  </div>\n"
            ],
            "application/vnd.google.colaboratory.intrinsic+json": {
              "type": "dataframe",
              "variable_name": "water_df"
            }
          },
          "metadata": {},
          "execution_count": 20
        }
      ],
      "source": [
        "url_water = 'https://media.githubusercontent.com/media/michalis0/Business-Intelligence-and-Analytics/master/data/waterQuality1.csv'\n",
        "\n",
        "# YOUR CODE HERE\n",
        "water_df = pd.read_csv(url_water)\n",
        "water_df.head(10)"
      ]
    },
    {
      "cell_type": "code",
      "source": [
        "water_df.dtypes"
      ],
      "metadata": {
        "id": "8zNsHQRvcIzW",
        "outputId": "4cae5c40-d2d5-469e-d01d-7f76ec1bd832",
        "colab": {
          "base_uri": "https://localhost:8080/"
        }
      },
      "id": "8zNsHQRvcIzW",
      "execution_count": null,
      "outputs": [
        {
          "output_type": "execute_result",
          "data": {
            "text/plain": [
              "aluminium      float64\n",
              "ammonia        float64\n",
              "arsenic        float64\n",
              "barium         float64\n",
              "cadmium        float64\n",
              "chloramine     float64\n",
              "chromium       float64\n",
              "copper         float64\n",
              "flouride       float64\n",
              "bacteria       float64\n",
              "viruses        float64\n",
              "lead           float64\n",
              "nitrates       float64\n",
              "nitrites       float64\n",
              "mercury        float64\n",
              "perchlorate    float64\n",
              "radium         float64\n",
              "selenium       float64\n",
              "silver         float64\n",
              "uranium        float64\n",
              "is_safe          int64\n",
              "dtype: object"
            ]
          },
          "metadata": {},
          "execution_count": 21
        }
      ]
    },
    {
      "cell_type": "markdown",
      "id": "61c68ed6-2ecc-4c1a-9dad-f089e34e532d",
      "metadata": {
        "id": "61c68ed6-2ecc-4c1a-9dad-f089e34e532d"
      },
      "source": [
        "#### Question 8\n",
        "Display the correlation heatmap of the columns of this dataset. Which feature in this dataset has the __highest correlation__ with the `is_safe` feature?\n",
        "\n",
        "*Hint*: You do not necessarily need to look at the heatmap plot to compare the correlation values. You can compare the correlation values by directly looking at the correlation dataframe."
      ]
    },
    {
      "cell_type": "code",
      "source": [
        "# YOUR CODE HERE\n",
        "fig=plt.figure(figsize=(10,10))\n",
        "\n",
        "heat_map = water_df.corr()\n",
        "sb= sns.heatmap(data = heat_map, annot=True)\n",
        "plt.title('Heatmap of correlations')"
      ],
      "metadata": {
        "id": "Ffcaonj4csqC",
        "outputId": "0d5fc26a-2f94-45c7-a05f-47efd9a96a0f",
        "colab": {
          "base_uri": "https://localhost:8080/",
          "height": 936
        }
      },
      "id": "Ffcaonj4csqC",
      "execution_count": null,
      "outputs": [
        {
          "output_type": "execute_result",
          "data": {
            "text/plain": [
              "Text(0.5, 1.0, 'Heatmap of correlations')"
            ]
          },
          "metadata": {},
          "execution_count": 22
        },
        {
          "output_type": "display_data",
          "data": {
            "text/plain": [
              "<Figure size 1000x1000 with 2 Axes>"
            ],
            "image/png": "[encoded data removed]"
          },
          "metadata": {}
        }
      ]
    },
    {
      "cell_type": "code",
      "source": [
        "heat_map[[\"is_safe\"]].sort_values(\"is_safe\", ascending=False)"
      ],
      "metadata": {
        "id": "hFPa1dDRdFl2",
        "outputId": "503b07dc-08ce-4ecb-b5f5-88b58c0847ef",
        "colab": {
          "base_uri": "https://localhost:8080/",
          "height": 708
        }
      },
      "id": "hFPa1dDRdFl2",
      "execution_count": null,
      "outputs": [
        {
          "output_type": "execute_result",
          "data": {
            "text/plain": [
              "              is_safe\n",
              "is_safe      1.000000\n",
              "aluminium    0.333974\n",
              "chloramine   0.186704\n",
              "chromium     0.182306\n",
              "silver       0.102813\n",
              "barium       0.090858\n",
              "perchlorate  0.075735\n",
              "radium       0.064743\n",
              "nitrites     0.046986\n",
              "copper       0.029498\n",
              "flouride     0.006550\n",
              "lead        -0.009970\n",
              "bacteria    -0.022077\n",
              "ammonia     -0.022919\n",
              "selenium    -0.030923\n",
              "mercury     -0.036817\n",
              "nitrates    -0.072100\n",
              "uranium     -0.075619\n",
              "viruses     -0.097040\n",
              "arsenic     -0.123362\n",
              "cadmium     -0.256034"
            ],
            "text/html": [
              "\n",
              "  <div id=\"df-283a5239-c9c9-46f5-b0dd-00b6a09ba460\" class=\"colab-df-container\">\n",
              "    <div>\n",
              "<style scoped>\n",
              "    .dataframe tbody tr th:only-of-type {\n",
              "        vertical-align: middle;\n",
              "    }\n",
              "\n",
              "    .dataframe tbody tr th {\n",
              "        vertical-align: top;\n",
              "    }\n",
              "\n",
              "    .dataframe thead th {\n",
              "        text-align: right;\n",
              "    }\n",
              "</style>\n",
              "<table border=\"1\" class=\"dataframe\">\n",
              "  <thead>\n",
              "    <tr style=\"text-align: right;\">\n",
              "      <th></th>\n",
              "      <th>is_safe</th>\n",
              "    </tr>\n",
              "  </thead>\n",
              "  <tbody>\n",
              "    <tr>\n",
              "      <th>is_safe</th>\n",
              "      <td>1.000000</td>\n",
              "    </tr>\n",
              "    <tr>\n",
              "      <th>aluminium</th>\n",
              "      <td>0.333974</td>\n",
              "    </tr>\n",
              "    <tr>\n",
              "      <th>chloramine</th>\n",
              "      <td>0.186704</td>\n",
              "    </tr>\n",
              "    <tr>\n",
              "      <th>chromium</th>\n",
              "      <td>0.182306</td>\n",
              "    </tr>\n",
              "    <tr>\n",
              "      <th>silver</th>\n",
              "      <td>0.102813</td>\n",
              "    </tr>\n",
              "    <tr>\n",
              "      <th>barium</th>\n",
              "      <td>0.090858</td>\n",
              "    </tr>\n",
              "    <tr>\n",
              "      <th>perchlorate</th>\n",
              "      <td>0.075735</td>\n",
              "    </tr>\n",
              "    <tr>\n",
              "      <th>radium</th>\n",
              "      <td>0.064743</td>\n",
              "    </tr>\n",
              "    <tr>\n",
              "      <th>nitrites</th>\n",
              "      <td>0.046986</td>\n",
              "    </tr>\n",
              "    <tr>\n",
              "      <th>copper</th>\n",
              "      <td>0.029498</td>\n",
              "    </tr>\n",
              "    <tr>\n",
              "      <th>flouride</th>\n",
              "      <td>0.006550</td>\n",
              "    </tr>\n",
              "    <tr>\n",
              "      <th>lead</th>\n",
              "      <td>-0.009970</td>\n",
              "    </tr>\n",
              "    <tr>\n",
              "      <th>bacteria</th>\n",
              "      <td>-0.022077</td>\n",
              "    </tr>\n",
              "    <tr>\n",
              "      <th>ammonia</th>\n",
              "      <td>-0.022919</td>\n",
              "    </tr>\n",
              "    <tr>\n",
              "      <th>selenium</th>\n",
              "      <td>-0.030923</td>\n",
              "    </tr>\n",
              "    <tr>\n",
              "      <th>mercury</th>\n",
              "      <td>-0.036817</td>\n",
              "    </tr>\n",
              "    <tr>\n",
              "      <th>nitrates</th>\n",
              "      <td>-0.072100</td>\n",
              "    </tr>\n",
              "    <tr>\n",
              "      <th>uranium</th>\n",
              "      <td>-0.075619</td>\n",
              "    </tr>\n",
              "    <tr>\n",
              "      <th>viruses</th>\n",
              "      <td>-0.097040</td>\n",
              "    </tr>\n",
              "    <tr>\n",
              "      <th>arsenic</th>\n",
              "      <td>-0.123362</td>\n",
              "    </tr>\n",
              "    <tr>\n",
              "      <th>cadmium</th>\n",
              "      <td>-0.256034</td>\n",
              "    </tr>\n",
              "  </tbody>\n",
              "</table>\n",
              "</div>\n",
              "    <div class=\"colab-df-buttons\">\n",
              "\n",
              "  <div class=\"colab-df-container\">\n",
              "    <button class=\"colab-df-convert\" onclick=\"convertToInteractive('df-283a5239-c9c9-46f5-b0dd-00b6a09ba460')\"\n",
              "            title=\"Convert this dataframe to an interactive table.\"\n",
              "            style=\"display:none;\">\n",
              "\n",
              "  <svg xmlns=\"http://www.w3.org/2000/svg\" height=\"24px\" viewBox=\"0 -960 960 960\">\n",
              "    <path d=\"M120-120v-720h720v720H120Zm60-500h600v-160H180v160Zm220 220h160v-160H400v160Zm0 220h160v-160H400v160ZM180-400h160v-160H180v160Zm440 0h160v-160H620v160ZM180-180h160v-160H180v160Zm440 0h160v-160H620v160Z\"/>\n",
              "  </svg>\n",
              "    </button>\n",
              "\n",
              "  <style>\n",
              "    .colab-df-container {\n",
              "      display:flex;\n",
              "      gap: 12px;\n",
              "    }\n",
              "\n",
              "    .colab-df-convert {\n",
              "      background-color: #E8F0FE;\n",
              "      border: none;\n",
              "      border-radius: 50%;\n",
              "      cursor: pointer;\n",
              "      display: none;\n",
              "      fill: #1967D2;\n",
              "      height: 32px;\n",
              "      padding: 0 0 0 0;\n",
              "      width: 32px;\n",
              "    }\n",
              "\n",
              "    .colab-df-convert:hover {\n",
              "      background-color: #E2EBFA;\n",
              "      box-shadow: 0px 1px 2px rgba(60, 64, 67, 0.3), 0px 1px 3px 1px rgba(60, 64, 67, 0.15);\n",
              "      fill: #174EA6;\n",
              "    }\n",
              "\n",
              "    .colab-df-buttons div {\n",
              "      margin-bottom: 4px;\n",
              "    }\n",
              "\n",
              "    [theme=dark] .colab-df-convert {\n",
              "      background-color: #3B4455;\n",
              "      fill: #D2E3FC;\n",
              "    }\n",
              "\n",
              "    [theme=dark] .colab-df-convert:hover {\n",
              "      background-color: #434B5C;\n",
              "      box-shadow: 0px 1px 3px 1px rgba(0, 0, 0, 0.15);\n",
              "      filter: drop-shadow(0px 1px 2px rgba(0, 0, 0, 0.3));\n",
              "      fill: #FFFFFF;\n",
              "    }\n",
              "  </style>\n",
              "\n",
              "    <script>\n",
              "      const buttonEl =\n",
              "        document.querySelector('#df-283a5239-c9c9-46f5-b0dd-00b6a09ba460 button.colab-df-convert');\n",
              "      buttonEl.style.display =\n",
              "        google.colab.kernel.accessAllowed ? 'block' : 'none';\n",
              "\n",
              "      async function convertToInteractive(key) {\n",
              "        const element = document.querySelector('#df-283a5239-c9c9-46f5-b0dd-00b6a09ba460');\n",
              "        const dataTable =\n",
              "          await google.colab.kernel.invokeFunction('convertToInteractive',\n",
              "                                                    [key], {});\n",
              "        if (!dataTable) return;\n",
              "\n",
              "        const docLinkHtml = 'Like what you see? Visit the ' +\n",
              "          '<a target=\"_blank\" href=https://colab.research.google.com/notebooks/data_table.ipynb>data table notebook</a>'\n",
              "          + ' to learn more about interactive tables.';\n",
              "        element.innerHTML = '';\n",
              "        dataTable['output_type'] = 'display_data';\n",
              "        await google.colab.output.renderOutput(dataTable, element);\n",
              "        const docLink = document.createElement('div');\n",
              "        docLink.innerHTML = docLinkHtml;\n",
              "        element.appendChild(docLink);\n",
              "      }\n",
              "    </script>\n",
              "  </div>\n",
              "\n",
              "\n",
              "<div id=\"df-08e661f8-4d6d-489a-b0b5-a3287759fd1a\">\n",
              "  <button class=\"colab-df-quickchart\" onclick=\"quickchart('df-08e661f8-4d6d-489a-b0b5-a3287759fd1a')\"\n",
              "            title=\"Suggest charts\"\n",
              "            style=\"display:none;\">\n",
              "\n",
              "<svg xmlns=\"http://www.w3.org/2000/svg\" height=\"24px\"viewBox=\"0 0 24 24\"\n",
              "     width=\"24px\">\n",
              "    <g>\n",
              "        <path d=\"M19 3H5c-1.1 0-2 .9-2 2v14c0 1.1.9 2 2 2h14c1.1 0 2-.9 2-2V5c0-1.1-.9-2-2-2zM9 17H7v-7h2v7zm4 0h-2V7h2v10zm4 0h-2v-4h2v4z\"/>\n",
              "    </g>\n",
              "</svg>\n",
              "  </button>\n",
              "\n",
              "<style>\n",
              "  .colab-df-quickchart {\n",
              "      --bg-color: #E8F0FE;\n",
              "      --fill-color: #1967D2;\n",
              "      --hover-bg-color: #E2EBFA;\n",
              "      --hover-fill-color: #174EA6;\n",
              "      --disabled-fill-color: #AAA;\n",
              "      --disabled-bg-color: #DDD;\n",
              "  }\n",
              "\n",
              "  [theme=dark] .colab-df-quickchart {\n",
              "      --bg-color: #3B4455;\n",
              "      --fill-color: #D2E3FC;\n",
              "      --hover-bg-color: #434B5C;\n",
              "      --hover-fill-color: #FFFFFF;\n",
              "      --disabled-bg-color: #3B4455;\n",
              "      --disabled-fill-color: #666;\n",
              "  }\n",
              "\n",
              "  .colab-df-quickchart {\n",
              "    background-color: var(--bg-color);\n",
              "    border: none;\n",
              "    border-radius: 50%;\n",
              "    cursor: pointer;\n",
              "    display: none;\n",
              "    fill: var(--fill-color);\n",
              "    height: 32px;\n",
              "    padding: 0;\n",
              "    width: 32px;\n",
              "  }\n",
              "\n",
              "  .colab-df-quickchart:hover {\n",
              "    background-color: var(--hover-bg-color);\n",
              "    box-shadow: 0 1px 2px rgba(60, 64, 67, 0.3), 0 1px 3px 1px rgba(60, 64, 67, 0.15);\n",
              "    fill: var(--button-hover-fill-color);\n",
              "  }\n",
              "\n",
              "  .colab-df-quickchart-complete:disabled,\n",
              "  .colab-df-quickchart-complete:disabled:hover {\n",
              "    background-color: var(--disabled-bg-color);\n",
              "    fill: var(--disabled-fill-color);\n",
              "    box-shadow: none;\n",
              "  }\n",
              "\n",
              "  .colab-df-spinner {\n",
              "    border: 2px solid var(--fill-color);\n",
              "    border-color: transparent;\n",
              "    border-bottom-color: var(--fill-color);\n",
              "    animation:\n",
              "      spin 1s steps(1) infinite;\n",
              "  }\n",
              "\n",
              "  @keyframes spin {\n",
              "    0% {\n",
              "      border-color: transparent;\n",
              "      border-bottom-color: var(--fill-color);\n",
              "      border-left-color: var(--fill-color);\n",
              "    }\n",
              "    20% {\n",
              "      border-color: transparent;\n",
              "      border-left-color: var(--fill-color);\n",
              "      border-top-color: var(--fill-color);\n",
              "    }\n",
              "    30% {\n",
              "      border-color: transparent;\n",
              "      border-left-color: var(--fill-color);\n",
              "      border-top-color: var(--fill-color);\n",
              "      border-right-color: var(--fill-color);\n",
              "    }\n",
              "    40% {\n",
              "      border-color: transparent;\n",
              "      border-right-color: var(--fill-color);\n",
              "      border-top-color: var(--fill-color);\n",
              "    }\n",
              "    60% {\n",
              "      border-color: transparent;\n",
              "      border-right-color: var(--fill-color);\n",
              "    }\n",
              "    80% {\n",
              "      border-color: transparent;\n",
              "      border-right-color: var(--fill-color);\n",
              "      border-bottom-color: var(--fill-color);\n",
              "    }\n",
              "    90% {\n",
              "      border-color: transparent;\n",
              "      border-bottom-color: var(--fill-color);\n",
              "    }\n",
              "  }\n",
              "</style>\n",
              "\n",
              "  <script>\n",
              "    async function quickchart(key) {\n",
              "      const quickchartButtonEl =\n",
              "        document.querySelector('#' + key + ' button');\n",
              "      quickchartButtonEl.disabled = true;  // To prevent multiple clicks.\n",
              "      quickchartButtonEl.classList.add('colab-df-spinner');\n",
              "      try {\n",
              "        const charts = await google.colab.kernel.invokeFunction(\n",
              "            'suggestCharts', [key], {});\n",
              "      } catch (error) {\n",
              "        console.error('Error during call to suggestCharts:', error);\n",
              "      }\n",
              "      quickchartButtonEl.classList.remove('colab-df-spinner');\n",
              "      quickchartButtonEl.classList.add('colab-df-quickchart-complete');\n",
              "    }\n",
              "    (() => {\n",
              "      let quickchartButtonEl =\n",
              "        document.querySelector('#df-08e661f8-4d6d-489a-b0b5-a3287759fd1a button');\n",
              "      quickchartButtonEl.style.display =\n",
              "        google.colab.kernel.accessAllowed ? 'block' : 'none';\n",
              "    })();\n",
              "  </script>\n",
              "</div>\n",
              "    </div>\n",
              "  </div>\n"
            ],
            "application/vnd.google.colaboratory.intrinsic+json": {
              "type": "dataframe",
              "summary": "{\n  \"name\": \"heat_map[[\\\"is_safe\\\"]]\",\n  \"rows\": 21,\n  \"fields\": [\n    {\n      \"column\": \"is_safe\",\n      \"properties\": {\n        \"dtype\": \"number\",\n        \"std\": 0.2476112947432834,\n        \"min\": -0.25603392781412454,\n        \"max\": 1.0,\n        \"num_unique_values\": 21,\n        \"samples\": [\n          1.0,\n          -0.07561888095948668,\n          -0.03681683951141185\n        ],\n        \"semantic_type\": \"\",\n        \"description\": \"\"\n      }\n    }\n  ]\n}"
            }
          },
          "metadata": {},
          "execution_count": 23
        }
      ]
    },
    {
      "cell_type": "markdown",
      "id": "42054742-c2fb-4976-b401-ea6830ea833f",
      "metadata": {
        "id": "42054742-c2fb-4976-b401-ea6830ea833f"
      },
      "source": [
        "Feel free to pursue your exploration to better understand your dataset. Although not graded, this might help you better understanding the problem and answer the following questions."
      ]
    },
    {
      "cell_type": "code",
      "execution_count": null,
      "id": "e1892050-1f1e-42d5-ad07-32fe0910bf01",
      "metadata": {
        "id": "e1892050-1f1e-42d5-ad07-32fe0910bf01"
      },
      "outputs": [],
      "source": [
        "# YOUR CODE HERE\n"
      ]
    },
    {
      "cell_type": "markdown",
      "id": "b3071c9e-1801-4e27-9a4c-8893ac08ef03",
      "metadata": {
        "id": "b3071c9e-1801-4e27-9a4c-8893ac08ef03"
      },
      "source": [
        "## 2.2 Preprocessing"
      ]
    },
    {
      "cell_type": "markdown",
      "id": "6522cf94-1f4f-497e-9015-d60f143a47e4",
      "metadata": {
        "id": "6522cf94-1f4f-497e-9015-d60f143a47e4"
      },
      "source": [
        "Our goal in this section is to predict the class \"is_safe\", using all the other features."
      ]
    },
    {
      "cell_type": "markdown",
      "id": "cb8282bf-987f-4409-baaf-39610e66712b",
      "metadata": {
        "id": "cb8282bf-987f-4409-baaf-39610e66712b"
      },
      "source": [
        "Extract the features and the target variable X and y. How many observations do we have of class 0 and of class 1? What is the base rate for this classification problem?"
      ]
    },
    {
      "cell_type": "code",
      "execution_count": null,
      "id": "218d4647-0200-4998-8b5d-5de08fe181a1",
      "metadata": {
        "id": "218d4647-0200-4998-8b5d-5de08fe181a1",
        "colab": {
          "base_uri": "https://localhost:8080/"
        },
        "outputId": "3bead886-7c2b-40e7-b448-adc878c536ac"
      },
      "outputs": [
        {
          "output_type": "stream",
          "name": "stdout",
          "text": [
            "is_safe\n",
            "0    7084\n",
            "1     912\n",
            "Name: count, dtype: int64\n",
            "base rate 0.8859\n"
          ]
        }
      ],
      "source": [
        "# YOUR CODE HERE\n",
        "X = water_df.drop(\"is_safe\", axis=1)\n",
        "y = water_df[\"is_safe\"]\n",
        "\n",
        "print(y.value_counts())\n",
        "print(\"base rate %.4f\" %(y.value_counts().iloc[0]/len(y)))"
      ]
    },
    {
      "cell_type": "markdown",
      "id": "d39e9c21-ba17-4627-b467-22a14b4cd7fb",
      "metadata": {
        "id": "d39e9c21-ba17-4627-b467-22a14b4cd7fb"
      },
      "source": [
        "Split the dataset into training and test sets.\n",
        "\n",
        "__Important__: Use the following values for the train_test_split function: `test_size=0.2`, `random_state=42`, `shuffle=True`. Use the `stratify` argument and set it equal to the y (target variable) to ensure a balanced split of target labels between the training and test sets."
      ]
    },
    {
      "cell_type": "code",
      "execution_count": null,
      "id": "a5898455-ac15-4eb2-9d48-6c058f191131",
      "metadata": {
        "id": "a5898455-ac15-4eb2-9d48-6c058f191131"
      },
      "outputs": [],
      "source": [
        "# YOUR CODE HERE\n",
        "X_train, X_test, y_train, y_test = train_test_split(X, y, test_size=0.2, random_state=42, shuffle=True, stratify=y)"
      ]
    },
    {
      "cell_type": "markdown",
      "id": "7ea3208e-e021-4e0e-90f8-f6c6eb81c02a",
      "metadata": {
        "id": "7ea3208e-e021-4e0e-90f8-f6c6eb81c02a"
      },
      "source": [
        "Rescale the features using `StandardScaler`."
      ]
    },
    {
      "cell_type": "code",
      "execution_count": null,
      "id": "8f1b4cb5-1656-4353-8639-5a8a378f5cef",
      "metadata": {
        "id": "8f1b4cb5-1656-4353-8639-5a8a378f5cef"
      },
      "outputs": [],
      "source": [
        "# YOUR CODE HERE\n",
        "scaler = StandardScaler()\n",
        "\n",
        "X_train = scaler.fit_transform(X_train)\n",
        "X_test = scaler.transform(X_test)"
      ]
    },
    {
      "cell_type": "markdown",
      "id": "c1a78d5a-7e57-49a3-8f15-7fa6f15e5027",
      "metadata": {
        "id": "c1a78d5a-7e57-49a3-8f15-7fa6f15e5027"
      },
      "source": [
        "## 2.3 Logistic Regression"
      ]
    },
    {
      "cell_type": "markdown",
      "id": "fe653332-9ff8-4ad6-a5ab-4e438a7d4f14",
      "metadata": {
        "id": "fe653332-9ff8-4ad6-a5ab-4e438a7d4f14"
      },
      "source": [
        "Train a logistic regression classifier. Set the following values for the arguments of the Logistic Regression class:\n",
        "\n",
        "```penalty='l2', solver='lbfgs', max_iter=1000, random_state=42```"
      ]
    },
    {
      "cell_type": "code",
      "execution_count": null,
      "id": "7cadc026-ffb9-4aea-b541-674127da7e3c",
      "metadata": {
        "id": "7cadc026-ffb9-4aea-b541-674127da7e3c",
        "colab": {
          "base_uri": "https://localhost:8080/",
          "height": 74
        },
        "outputId": "6b6500e0-5747-4d3c-916e-de17d1a73745"
      },
      "outputs": [
        {
          "output_type": "execute_result",
          "data": {
            "text/plain": [
              "LogisticRegression(max_iter=1000, random_state=42)"
            ],
            "text/html": [
              "<style>#sk-container-id-2 {color: black;background-color: white;}#sk-container-id-2 pre{padding: 0;}#sk-container-id-2 div.sk-toggleable {background-color: white;}#sk-container-id-2 label.sk-toggleable__label {cursor: pointer;display: block;width: 100%;margin-bottom: 0;padding: 0.3em;box-sizing: border-box;text-align: center;}#sk-container-id-2 label.sk-toggleable__label-arrow:before {content: \"▸\";float: left;margin-right: 0.25em;color: #696969;}#sk-container-id-2 label.sk-toggleable__label-arrow:hover:before {color: black;}#sk-container-id-2 div.sk-estimator:hover label.sk-toggleable__label-arrow:before {color: black;}#sk-container-id-2 div.sk-toggleable__content {max-height: 0;max-width: 0;overflow: hidden;text-align: left;background-color: #f0f8ff;}#sk-container-id-2 div.sk-toggleable__content pre {margin: 0.2em;color: black;border-radius: 0.25em;background-color: #f0f8ff;}#sk-container-id-2 input.sk-toggleable__control:checked~div.sk-toggleable__content {max-height: 200px;max-width: 100%;overflow: auto;}#sk-container-id-2 input.sk-toggleable__control:checked~label.sk-toggleable__label-arrow:before {content: \"▾\";}#sk-container-id-2 div.sk-estimator input.sk-toggleable__control:checked~label.sk-toggleable__label {background-color: #d4ebff;}#sk-container-id-2 div.sk-label input.sk-toggleable__control:checked~label.sk-toggleable__label {background-color: #d4ebff;}#sk-container-id-2 input.sk-hidden--visually {border: 0;clip: rect(1px 1px 1px 1px);clip: rect(1px, 1px, 1px, 1px);height: 1px;margin: -1px;overflow: hidden;padding: 0;position: absolute;width: 1px;}#sk-container-id-2 div.sk-estimator {font-family: monospace;background-color: #f0f8ff;border: 1px dotted black;border-radius: 0.25em;box-sizing: border-box;margin-bottom: 0.5em;}#sk-container-id-2 div.sk-estimator:hover {background-color: #d4ebff;}#sk-container-id-2 div.sk-parallel-item::after {content: \"\";width: 100%;border-bottom: 1px solid gray;flex-grow: 1;}#sk-container-id-2 div.sk-label:hover label.sk-toggleable__label {background-color: #d4ebff;}#sk-container-id-2 div.sk-serial::before {content: \"\";position: absolute;border-left: 1px solid gray;box-sizing: border-box;top: 0;bottom: 0;left: 50%;z-index: 0;}#sk-container-id-2 div.sk-serial {display: flex;flex-direction: column;align-items: center;background-color: white;padding-right: 0.2em;padding-left: 0.2em;position: relative;}#sk-container-id-2 div.sk-item {position: relative;z-index: 1;}#sk-container-id-2 div.sk-parallel {display: flex;align-items: stretch;justify-content: center;background-color: white;position: relative;}#sk-container-id-2 div.sk-item::before, #sk-container-id-2 div.sk-parallel-item::before {content: \"\";position: absolute;border-left: 1px solid gray;box-sizing: border-box;top: 0;bottom: 0;left: 50%;z-index: -1;}#sk-container-id-2 div.sk-parallel-item {display: flex;flex-direction: column;z-index: 1;position: relative;background-color: white;}#sk-container-id-2 div.sk-parallel-item:first-child::after {align-self: flex-end;width: 50%;}#sk-container-id-2 div.sk-parallel-item:last-child::after {align-self: flex-start;width: 50%;}#sk-container-id-2 div.sk-parallel-item:only-child::after {width: 0;}#sk-container-id-2 div.sk-dashed-wrapped {border: 1px dashed gray;margin: 0 0.4em 0.5em 0.4em;box-sizing: border-box;padding-bottom: 0.4em;background-color: white;}#sk-container-id-2 div.sk-label label {font-family: monospace;font-weight: bold;display: inline-block;line-height: 1.2em;}#sk-container-id-2 div.sk-label-container {text-align: center;}#sk-container-id-2 div.sk-container {/* jupyter's `normalize.less` sets `[hidden] { display: none; }` but bootstrap.min.css set `[hidden] { display: none !important; }` so we also need the `!important` here to be able to override the default hidden behavior on the sphinx rendered scikit-learn.org. See: https://github.com/scikit-learn/scikit-learn/issues/21755 */display: inline-block !important;position: relative;}#sk-container-id-2 div.sk-text-repr-fallback {display: none;}</style><div id=\"sk-container-id-2\" class=\"sk-top-container\"><div class=\"sk-text-repr-fallback\"><pre>LogisticRegression(max_iter=1000, random_state=42)</pre><b>In a Jupyter environment, please rerun this cell to show the HTML representation or trust the notebook. <br />On GitHub, the HTML representation is unable to render, please try loading this page with nbviewer.org.</b></div><div class=\"sk-container\" hidden><div class=\"sk-item\"><div class=\"sk-estimator sk-toggleable\"><input class=\"sk-toggleable__control sk-hidden--visually\" id=\"sk-estimator-id-2\" type=\"checkbox\" checked><label for=\"sk-estimator-id-2\" class=\"sk-toggleable__label sk-toggleable__label-arrow\">LogisticRegression</label><div class=\"sk-toggleable__content\"><pre>LogisticRegression(max_iter=1000, random_state=42)</pre></div></div></div></div></div>"
            ]
          },
          "metadata": {},
          "execution_count": 28
        }
      ],
      "source": [
        "# YOUR CODE HERE\n",
        "lr = LogisticRegression(penalty='l2', solver='lbfgs', max_iter=1000, random_state=42)\n",
        "\n",
        "lr.fit(X_train, y_train)"
      ]
    },
    {
      "cell_type": "markdown",
      "id": "a4cb3a09-4c5e-4e89-84fe-aedfe7df7fc1",
      "metadata": {
        "id": "a4cb3a09-4c5e-4e89-84fe-aedfe7df7fc1"
      },
      "source": [
        "#### Question 10\n",
        "Compute the accuracy on the training and test set. Is the test accuracy better than the base rate?\n",
        "\n",
        "__Important__: to answer this question correctly on Moodle quiz, you have to precisely follow the above instructions for train-test splitting and training the model (Use the values provided for the arguments)."
      ]
    },
    {
      "cell_type": "code",
      "execution_count": null,
      "id": "a716618f-ed45-49d1-8f86-fb000e7304ac",
      "metadata": {
        "id": "a716618f-ed45-49d1-8f86-fb000e7304ac",
        "colab": {
          "base_uri": "https://localhost:8080/"
        },
        "outputId": "8a7a2cb7-0056-4826-fab2-ed0112f0388f"
      },
      "outputs": [
        {
          "output_type": "stream",
          "name": "stdout",
          "text": [
            "test accuracy: 0.9087\n"
          ]
        }
      ],
      "source": [
        "# YOUR CODE HERE\n",
        "print(\"test accuracy: %.4f\" %lr.score(X_test, y_test))"
      ]
    },
    {
      "cell_type": "markdown",
      "id": "e70c2ae2-4659-4ae0-a79a-504b3c76443f",
      "metadata": {
        "id": "e70c2ae2-4659-4ae0-a79a-504b3c76443f"
      },
      "source": [
        "#### Question 11\n",
        "\n",
        "Plot a heatmap of the confusion matrix you compute for the predictions on\n",
        "the test data. Class 1 is the positive class. How many false positive did we obtain?"
      ]
    },
    {
      "cell_type": "code",
      "execution_count": null,
      "id": "5eac357c-07e3-416e-8a25-e36991a65a70",
      "metadata": {
        "id": "5eac357c-07e3-416e-8a25-e36991a65a70",
        "colab": {
          "base_uri": "https://localhost:8080/",
          "height": 501
        },
        "outputId": "79dad081-cf76-45cc-aa34-88e2791f5abe"
      },
      "outputs": [
        {
          "output_type": "stream",
          "name": "stdout",
          "text": [
            "[[1394   24]\n",
            " [ 122   60]]\n"
          ]
        },
        {
          "output_type": "execute_result",
          "data": {
            "text/plain": [
              "Text(50.722222222222214, 0.5, 'true labels')"
            ]
          },
          "metadata": {},
          "execution_count": 30
        },
        {
          "output_type": "display_data",
          "data": {
            "text/plain": [
              "<Figure size 640x480 with 2 Axes>"
            ],
            "image/png": "[encoded data removed]"
          },
          "metadata": {}
        }
      ],
      "source": [
        "# YOUR CODE HERE\n",
        "conf_mat = confusion_matrix(y_test, lr.predict(X_test))\n",
        "print(conf_mat)\n",
        "sns.heatmap(conf_mat, annot=True)\n",
        "plt.xlabel(\"pred\")\n",
        "plt.ylabel(\"true labels\")"
      ]
    },
    {
      "cell_type": "markdown",
      "id": "be0dd998-c956-4728-9075-34cb13eeee1e",
      "metadata": {
        "id": "be0dd998-c956-4728-9075-34cb13eeee1e"
      },
      "source": [
        "Train a logistic regression classifier with cross-validation. Use 5 folds and 9 values in the logsclae between $10^{-4}$ and $10^4$ for the regularizer parameter. For the rest of the arguments, we use the same values as we used for the logistic regression with no cross validation.\n",
        "\n",
        "__Important:__ Set the following values for the arguments:\n",
        "```\n",
        "penalty='l2', solver='lbfgs', max_iter=1000, random_state=42, cv=5, Cs=*9*\n",
        "```"
      ]
    },
    {
      "cell_type": "code",
      "execution_count": null,
      "id": "f345bab1-5985-401f-8141-f01198cb1028",
      "metadata": {
        "id": "f345bab1-5985-401f-8141-f01198cb1028",
        "colab": {
          "base_uri": "https://localhost:8080/",
          "height": 74
        },
        "outputId": "6f28fade-dbc7-4742-b3d4-908d81fe19c5"
      },
      "outputs": [
        {
          "output_type": "execute_result",
          "data": {
            "text/plain": [
              "LogisticRegressionCV(Cs=9, cv=5, max_iter=1000, random_state=42)"
            ],
            "text/html": [
              "<style>#sk-container-id-4 {color: black;background-color: white;}#sk-container-id-4 pre{padding: 0;}#sk-container-id-4 div.sk-toggleable {background-color: white;}#sk-container-id-4 label.sk-toggleable__label {cursor: pointer;display: block;width: 100%;margin-bottom: 0;padding: 0.3em;box-sizing: border-box;text-align: center;}#sk-container-id-4 label.sk-toggleable__label-arrow:before {content: \"▸\";float: left;margin-right: 0.25em;color: #696969;}#sk-container-id-4 label.sk-toggleable__label-arrow:hover:before {color: black;}#sk-container-id-4 div.sk-estimator:hover label.sk-toggleable__label-arrow:before {color: black;}#sk-container-id-4 div.sk-toggleable__content {max-height: 0;max-width: 0;overflow: hidden;text-align: left;background-color: #f0f8ff;}#sk-container-id-4 div.sk-toggleable__content pre {margin: 0.2em;color: black;border-radius: 0.25em;background-color: #f0f8ff;}#sk-container-id-4 input.sk-toggleable__control:checked~div.sk-toggleable__content {max-height: 200px;max-width: 100%;overflow: auto;}#sk-container-id-4 input.sk-toggleable__control:checked~label.sk-toggleable__label-arrow:before {content: \"▾\";}#sk-container-id-4 div.sk-estimator input.sk-toggleable__control:checked~label.sk-toggleable__label {background-color: #d4ebff;}#sk-container-id-4 div.sk-label input.sk-toggleable__control:checked~label.sk-toggleable__label {background-color: #d4ebff;}#sk-container-id-4 input.sk-hidden--visually {border: 0;clip: rect(1px 1px 1px 1px);clip: rect(1px, 1px, 1px, 1px);height: 1px;margin: -1px;overflow: hidden;padding: 0;position: absolute;width: 1px;}#sk-container-id-4 div.sk-estimator {font-family: monospace;background-color: #f0f8ff;border: 1px dotted black;border-radius: 0.25em;box-sizing: border-box;margin-bottom: 0.5em;}#sk-container-id-4 div.sk-estimator:hover {background-color: #d4ebff;}#sk-container-id-4 div.sk-parallel-item::after {content: \"\";width: 100%;border-bottom: 1px solid gray;flex-grow: 1;}#sk-container-id-4 div.sk-label:hover label.sk-toggleable__label {background-color: #d4ebff;}#sk-container-id-4 div.sk-serial::before {content: \"\";position: absolute;border-left: 1px solid gray;box-sizing: border-box;top: 0;bottom: 0;left: 50%;z-index: 0;}#sk-container-id-4 div.sk-serial {display: flex;flex-direction: column;align-items: center;background-color: white;padding-right: 0.2em;padding-left: 0.2em;position: relative;}#sk-container-id-4 div.sk-item {position: relative;z-index: 1;}#sk-container-id-4 div.sk-parallel {display: flex;align-items: stretch;justify-content: center;background-color: white;position: relative;}#sk-container-id-4 div.sk-item::before, #sk-container-id-4 div.sk-parallel-item::before {content: \"\";position: absolute;border-left: 1px solid gray;box-sizing: border-box;top: 0;bottom: 0;left: 50%;z-index: -1;}#sk-container-id-4 div.sk-parallel-item {display: flex;flex-direction: column;z-index: 1;position: relative;background-color: white;}#sk-container-id-4 div.sk-parallel-item:first-child::after {align-self: flex-end;width: 50%;}#sk-container-id-4 div.sk-parallel-item:last-child::after {align-self: flex-start;width: 50%;}#sk-container-id-4 div.sk-parallel-item:only-child::after {width: 0;}#sk-container-id-4 div.sk-dashed-wrapped {border: 1px dashed gray;margin: 0 0.4em 0.5em 0.4em;box-sizing: border-box;padding-bottom: 0.4em;background-color: white;}#sk-container-id-4 div.sk-label label {font-family: monospace;font-weight: bold;display: inline-block;line-height: 1.2em;}#sk-container-id-4 div.sk-label-container {text-align: center;}#sk-container-id-4 div.sk-container {/* jupyter's `normalize.less` sets `[hidden] { display: none; }` but bootstrap.min.css set `[hidden] { display: none !important; }` so we also need the `!important` here to be able to override the default hidden behavior on the sphinx rendered scikit-learn.org. See: https://github.com/scikit-learn/scikit-learn/issues/21755 */display: inline-block !important;position: relative;}#sk-container-id-4 div.sk-text-repr-fallback {display: none;}</style><div id=\"sk-container-id-4\" class=\"sk-top-container\"><div class=\"sk-text-repr-fallback\"><pre>LogisticRegressionCV(Cs=9, cv=5, max_iter=1000, random_state=42)</pre><b>In a Jupyter environment, please rerun this cell to show the HTML representation or trust the notebook. <br />On GitHub, the HTML representation is unable to render, please try loading this page with nbviewer.org.</b></div><div class=\"sk-container\" hidden><div class=\"sk-item\"><div class=\"sk-estimator sk-toggleable\"><input class=\"sk-toggleable__control sk-hidden--visually\" id=\"sk-estimator-id-4\" type=\"checkbox\" checked><label for=\"sk-estimator-id-4\" class=\"sk-toggleable__label sk-toggleable__label-arrow\">LogisticRegressionCV</label><div class=\"sk-toggleable__content\"><pre>LogisticRegressionCV(Cs=9, cv=5, max_iter=1000, random_state=42)</pre></div></div></div></div></div>"
            ]
          },
          "metadata": {},
          "execution_count": 36
        }
      ],
      "source": [
        "# YOUR CODE HERE\n",
        "lr_cv = LogisticRegressionCV(penalty='l2', solver='lbfgs', max_iter=1000, random_state=42, cv=5, Cs=9)\n",
        "\n",
        "lr_cv.fit(X_train, y_train)"
      ]
    },
    {
      "cell_type": "markdown",
      "source": [
        "#### Question 12\n",
        "\n",
        "What is the value of the regularizer parameter for the best Logistic Regression model? What is the accuracy of the best model on the test data?"
      ],
      "metadata": {
        "id": "_-7axtzAV0PW"
      },
      "id": "_-7axtzAV0PW"
    },
    {
      "cell_type": "code",
      "source": [
        "print(lr_cv.C_)\n",
        "print(lr_cv.score(X_test, y_test))"
      ],
      "metadata": {
        "id": "jEGKVoakTWR1",
        "outputId": "13e0186e-1eb7-4dc8-e67d-16ee834ecb43",
        "colab": {
          "base_uri": "https://localhost:8080/"
        }
      },
      "id": "jEGKVoakTWR1",
      "execution_count": null,
      "outputs": [
        {
          "output_type": "stream",
          "name": "stdout",
          "text": [
            "[100.]\n",
            "0.90875\n"
          ]
        }
      ]
    },
    {
      "cell_type": "markdown",
      "id": "c8755d13-e60d-47a0-8f1b-da6533c7d09a",
      "metadata": {
        "id": "c8755d13-e60d-47a0-8f1b-da6533c7d09a"
      },
      "source": [
        "Using the sklearn `classification_report` function, compute the precision, recall, and f1 score of class 1 and class 0 for the best model on the test data?"
      ]
    },
    {
      "cell_type": "code",
      "execution_count": null,
      "id": "f534e8c8-e260-44a5-a919-87a2b5766ee7",
      "metadata": {
        "id": "f534e8c8-e260-44a5-a919-87a2b5766ee7",
        "colab": {
          "base_uri": "https://localhost:8080/"
        },
        "outputId": "5892436c-0cab-4e13-a5fe-605ed47de420"
      },
      "outputs": [
        {
          "output_type": "stream",
          "name": "stdout",
          "text": [
            "              precision    recall  f1-score   support\n",
            "\n",
            "           0       0.92      0.98      0.95      1418\n",
            "           1       0.71      0.33      0.45       182\n",
            "\n",
            "    accuracy                           0.91      1600\n",
            "   macro avg       0.82      0.66      0.70      1600\n",
            "weighted avg       0.90      0.91      0.89      1600\n",
            "\n"
          ]
        }
      ],
      "source": [
        "# YOUR CODE HERE\n",
        "print(classification_report(y_test, lr_cv.predict(X_test)))"
      ]
    },
    {
      "cell_type": "markdown",
      "id": "59c37554-92a3-44b3-83ec-39fd76a16b39",
      "metadata": {
        "id": "59c37554-92a3-44b3-83ec-39fd76a16b39"
      },
      "source": [
        "## 2.4 KNN classifier"
      ]
    },
    {
      "cell_type": "markdown",
      "id": "3e829a37-268e-4310-9b51-d868020e1488",
      "metadata": {
        "id": "3e829a37-268e-4310-9b51-d868020e1488"
      },
      "source": [
        "Train a KNN classifier on the training dataset. Use the following values for the arguments of the KNN classifier:\n",
        "```\n",
        "n_neighbors=7, p=2, weights='uniform', algorithm=\"kd_tree\"\n",
        "```"
      ]
    },
    {
      "cell_type": "code",
      "execution_count": null,
      "id": "2ead0216-3239-4a1b-9bc3-00f8601628a4",
      "metadata": {
        "id": "2ead0216-3239-4a1b-9bc3-00f8601628a4",
        "colab": {
          "base_uri": "https://localhost:8080/"
        },
        "outputId": "eef70a5c-65c4-4c2f-b51e-65f68f590231"
      },
      "outputs": [
        {
          "output_type": "stream",
          "name": "stdout",
          "text": [
            "0.919375\n"
          ]
        }
      ],
      "source": [
        "# YOUR CODE HERE\n",
        "knn = KNeighborsClassifier(n_neighbors=7, p=2, weights='uniform', algorithm=\"kd_tree\")\n",
        "knn.fit(X_train, y_train)\n",
        "\n",
        "print(knn.score(X_test, y_test))"
      ]
    },
    {
      "cell_type": "markdown",
      "id": "63b12db0-a203-4c0e-8976-7e4035a6ea8e",
      "metadata": {
        "id": "63b12db0-a203-4c0e-8976-7e4035a6ea8e"
      },
      "source": [
        "#### Question 13\n",
        "Use `GridSearchCV` to find the best hyper-parameters for your KNN model. Use values between 1 and 10 for `n_neighbors` argument and use either 'uniform' or 'distance' for the `weights` argument. Use a 5-fold cross validation. This translate to the following values for the arguments of the `GridSearchCV`:\n",
        "```\n",
        "param_grid={\"n_neighbors\": range(1, 11), \"weights\":[\"uniform\", \"distance\"]}, cv=5\n",
        "```\n",
        "\n",
        "What is the accuracy of the best KNN model on the test data?"
      ]
    },
    {
      "cell_type": "code",
      "execution_count": null,
      "id": "9c99ee6b-c812-4672-9ce5-a98c79a25c67",
      "metadata": {
        "id": "9c99ee6b-c812-4672-9ce5-a98c79a25c67",
        "colab": {
          "base_uri": "https://localhost:8080/",
          "height": 117
        },
        "outputId": "5d3a94e8-c8a9-40d7-ed28-948b199c1529"
      },
      "outputs": [
        {
          "output_type": "execute_result",
          "data": {
            "text/plain": [
              "GridSearchCV(cv=5,\n",
              "             estimator=KNeighborsClassifier(algorithm='kd_tree', n_neighbors=7),\n",
              "             param_grid={'n_neighbors': range(1, 11),\n",
              "                         'weights': ['uniform', 'distance']})"
            ],
            "text/html": [
              "<style>#sk-container-id-6 {color: black;background-color: white;}#sk-container-id-6 pre{padding: 0;}#sk-container-id-6 div.sk-toggleable {background-color: white;}#sk-container-id-6 label.sk-toggleable__label {cursor: pointer;display: block;width: 100%;margin-bottom: 0;padding: 0.3em;box-sizing: border-box;text-align: center;}#sk-container-id-6 label.sk-toggleable__label-arrow:before {content: \"▸\";float: left;margin-right: 0.25em;color: #696969;}#sk-container-id-6 label.sk-toggleable__label-arrow:hover:before {color: black;}#sk-container-id-6 div.sk-estimator:hover label.sk-toggleable__label-arrow:before {color: black;}#sk-container-id-6 div.sk-toggleable__content {max-height: 0;max-width: 0;overflow: hidden;text-align: left;background-color: #f0f8ff;}#sk-container-id-6 div.sk-toggleable__content pre {margin: 0.2em;color: black;border-radius: 0.25em;background-color: #f0f8ff;}#sk-container-id-6 input.sk-toggleable__control:checked~div.sk-toggleable__content {max-height: 200px;max-width: 100%;overflow: auto;}#sk-container-id-6 input.sk-toggleable__control:checked~label.sk-toggleable__label-arrow:before {content: \"▾\";}#sk-container-id-6 div.sk-estimator input.sk-toggleable__control:checked~label.sk-toggleable__label {background-color: #d4ebff;}#sk-container-id-6 div.sk-label input.sk-toggleable__control:checked~label.sk-toggleable__label {background-color: #d4ebff;}#sk-container-id-6 input.sk-hidden--visually {border: 0;clip: rect(1px 1px 1px 1px);clip: rect(1px, 1px, 1px, 1px);height: 1px;margin: -1px;overflow: hidden;padding: 0;position: absolute;width: 1px;}#sk-container-id-6 div.sk-estimator {font-family: monospace;background-color: #f0f8ff;border: 1px dotted black;border-radius: 0.25em;box-sizing: border-box;margin-bottom: 0.5em;}#sk-container-id-6 div.sk-estimator:hover {background-color: #d4ebff;}#sk-container-id-6 div.sk-parallel-item::after {content: \"\";width: 100%;border-bottom: 1px solid gray;flex-grow: 1;}#sk-container-id-6 div.sk-label:hover label.sk-toggleable__label {background-color: #d4ebff;}#sk-container-id-6 div.sk-serial::before {content: \"\";position: absolute;border-left: 1px solid gray;box-sizing: border-box;top: 0;bottom: 0;left: 50%;z-index: 0;}#sk-container-id-6 div.sk-serial {display: flex;flex-direction: column;align-items: center;background-color: white;padding-right: 0.2em;padding-left: 0.2em;position: relative;}#sk-container-id-6 div.sk-item {position: relative;z-index: 1;}#sk-container-id-6 div.sk-parallel {display: flex;align-items: stretch;justify-content: center;background-color: white;position: relative;}#sk-container-id-6 div.sk-item::before, #sk-container-id-6 div.sk-parallel-item::before {content: \"\";position: absolute;border-left: 1px solid gray;box-sizing: border-box;top: 0;bottom: 0;left: 50%;z-index: -1;}#sk-container-id-6 div.sk-parallel-item {display: flex;flex-direction: column;z-index: 1;position: relative;background-color: white;}#sk-container-id-6 div.sk-parallel-item:first-child::after {align-self: flex-end;width: 50%;}#sk-container-id-6 div.sk-parallel-item:last-child::after {align-self: flex-start;width: 50%;}#sk-container-id-6 div.sk-parallel-item:only-child::after {width: 0;}#sk-container-id-6 div.sk-dashed-wrapped {border: 1px dashed gray;margin: 0 0.4em 0.5em 0.4em;box-sizing: border-box;padding-bottom: 0.4em;background-color: white;}#sk-container-id-6 div.sk-label label {font-family: monospace;font-weight: bold;display: inline-block;line-height: 1.2em;}#sk-container-id-6 div.sk-label-container {text-align: center;}#sk-container-id-6 div.sk-container {/* jupyter's `normalize.less` sets `[hidden] { display: none; }` but bootstrap.min.css set `[hidden] { display: none !important; }` so we also need the `!important` here to be able to override the default hidden behavior on the sphinx rendered scikit-learn.org. See: https://github.com/scikit-learn/scikit-learn/issues/21755 */display: inline-block !important;position: relative;}#sk-container-id-6 div.sk-text-repr-fallback {display: none;}</style><div id=\"sk-container-id-6\" class=\"sk-top-container\"><div class=\"sk-text-repr-fallback\"><pre>GridSearchCV(cv=5,\n",
              "             estimator=KNeighborsClassifier(algorithm=&#x27;kd_tree&#x27;, n_neighbors=7),\n",
              "             param_grid={&#x27;n_neighbors&#x27;: range(1, 11),\n",
              "                         &#x27;weights&#x27;: [&#x27;uniform&#x27;, &#x27;distance&#x27;]})</pre><b>In a Jupyter environment, please rerun this cell to show the HTML representation or trust the notebook. <br />On GitHub, the HTML representation is unable to render, please try loading this page with nbviewer.org.</b></div><div class=\"sk-container\" hidden><div class=\"sk-item sk-dashed-wrapped\"><div class=\"sk-label-container\"><div class=\"sk-label sk-toggleable\"><input class=\"sk-toggleable__control sk-hidden--visually\" id=\"sk-estimator-id-8\" type=\"checkbox\" ><label for=\"sk-estimator-id-8\" class=\"sk-toggleable__label sk-toggleable__label-arrow\">GridSearchCV</label><div class=\"sk-toggleable__content\"><pre>GridSearchCV(cv=5,\n",
              "             estimator=KNeighborsClassifier(algorithm=&#x27;kd_tree&#x27;, n_neighbors=7),\n",
              "             param_grid={&#x27;n_neighbors&#x27;: range(1, 11),\n",
              "                         &#x27;weights&#x27;: [&#x27;uniform&#x27;, &#x27;distance&#x27;]})</pre></div></div></div><div class=\"sk-parallel\"><div class=\"sk-parallel-item\"><div class=\"sk-item\"><div class=\"sk-label-container\"><div class=\"sk-label sk-toggleable\"><input class=\"sk-toggleable__control sk-hidden--visually\" id=\"sk-estimator-id-9\" type=\"checkbox\" ><label for=\"sk-estimator-id-9\" class=\"sk-toggleable__label sk-toggleable__label-arrow\">estimator: KNeighborsClassifier</label><div class=\"sk-toggleable__content\"><pre>KNeighborsClassifier(algorithm=&#x27;kd_tree&#x27;, n_neighbors=7)</pre></div></div></div><div class=\"sk-serial\"><div class=\"sk-item\"><div class=\"sk-estimator sk-toggleable\"><input class=\"sk-toggleable__control sk-hidden--visually\" id=\"sk-estimator-id-10\" type=\"checkbox\" ><label for=\"sk-estimator-id-10\" class=\"sk-toggleable__label sk-toggleable__label-arrow\">KNeighborsClassifier</label><div class=\"sk-toggleable__content\"><pre>KNeighborsClassifier(algorithm=&#x27;kd_tree&#x27;, n_neighbors=7)</pre></div></div></div></div></div></div></div></div></div></div>"
            ]
          },
          "metadata": {},
          "execution_count": 46
        }
      ],
      "source": [
        "# YOUR CODE HERE\n",
        "grid_search_knn = GridSearchCV(estimator=knn,\n",
        "             param_grid={\"n_neighbors\": range(1, 11), \"weights\":[\"uniform\", \"distance\"]},\n",
        "             cv=5,\n",
        "             )\n",
        "\n",
        "grid_search_knn.fit(X_train, y_train)"
      ]
    },
    {
      "cell_type": "code",
      "source": [
        "grid_search_knn.score(X_test, y_test)"
      ],
      "metadata": {
        "id": "W70tpbRogzqH",
        "outputId": "812f8183-c29d-4228-b18e-4f00d057fe67",
        "colab": {
          "base_uri": "https://localhost:8080/"
        }
      },
      "id": "W70tpbRogzqH",
      "execution_count": null,
      "outputs": [
        {
          "output_type": "execute_result",
          "data": {
            "text/plain": [
              "0.913125"
            ]
          },
          "metadata": {},
          "execution_count": 48
        }
      ]
    },
    {
      "cell_type": "markdown",
      "source": [
        "#### Question 14\n",
        "\n",
        "What are the `n_neighbors` and `weights` values for the best KNN model?"
      ],
      "metadata": {
        "id": "XgOI9wv_iOmm"
      },
      "id": "XgOI9wv_iOmm"
    },
    {
      "cell_type": "code",
      "source": [
        "grid_search_knn.best_params_"
      ],
      "metadata": {
        "id": "_DJAtH7-h5YA",
        "outputId": "1cda6513-335a-4f12-b9ba-55f4bcd1c711",
        "colab": {
          "base_uri": "https://localhost:8080/"
        }
      },
      "id": "_DJAtH7-h5YA",
      "execution_count": null,
      "outputs": [
        {
          "output_type": "execute_result",
          "data": {
            "text/plain": [
              "{'n_neighbors': 9, 'weights': 'uniform'}"
            ]
          },
          "metadata": {},
          "execution_count": 51
        }
      ]
    },
    {
      "cell_type": "markdown",
      "id": "0b09b651-b03a-4cfc-b514-a823c6914ca5",
      "metadata": {
        "id": "0b09b651-b03a-4cfc-b514-a823c6914ca5"
      },
      "source": [
        "Plot a heatmap of the confusion matrix on the test set for the best KNN model. Using the sklearn `classification_report` function, compute the accuracy of the best KNN model on the test set as well as its precision, recall, and f1 score for both class 1 and 0."
      ]
    },
    {
      "cell_type": "code",
      "source": [
        "conf_mat = confusion_matrix(y_test, grid_search_knn.best_estimator_.predict(X_test))\n",
        "print(conf_mat)\n",
        "sns.heatmap(conf_mat, annot=True)\n",
        "plt.xlabel(\"pred\")\n",
        "plt.ylabel(\"true labels\")"
      ],
      "metadata": {
        "id": "0BaukNUOjCf9",
        "outputId": "b7fdf16b-463b-4bcf-b3f5-dde60ec1c351",
        "colab": {
          "base_uri": "https://localhost:8080/",
          "height": 501
        }
      },
      "id": "0BaukNUOjCf9",
      "execution_count": null,
      "outputs": [
        {
          "output_type": "stream",
          "name": "stdout",
          "text": [
            "[[1397   21]\n",
            " [ 118   64]]\n"
          ]
        },
        {
          "output_type": "execute_result",
          "data": {
            "text/plain": [
              "Text(50.722222222222214, 0.5, 'true labels')"
            ]
          },
          "metadata": {},
          "execution_count": 53
        },
        {
          "output_type": "display_data",
          "data": {
            "text/plain": [
              "<Figure size 640x480 with 2 Axes>"
            ],
            "image/png": "[encoded data removed]"
          },
          "metadata": {}
        }
      ]
    },
    {
      "cell_type": "code",
      "source": [
        "print(classification_report(y_test, grid_search_knn.best_estimator_.predict(X_test)))"
      ],
      "metadata": {
        "id": "3w794CO_jcEa",
        "outputId": "80e4dd2b-41b0-415f-d40e-52f8fe802f65",
        "colab": {
          "base_uri": "https://localhost:8080/"
        }
      },
      "id": "3w794CO_jcEa",
      "execution_count": null,
      "outputs": [
        {
          "output_type": "stream",
          "name": "stdout",
          "text": [
            "              precision    recall  f1-score   support\n",
            "\n",
            "           0       0.92      0.99      0.95      1418\n",
            "           1       0.75      0.35      0.48       182\n",
            "\n",
            "    accuracy                           0.91      1600\n",
            "   macro avg       0.84      0.67      0.72      1600\n",
            "weighted avg       0.90      0.91      0.90      1600\n",
            "\n"
          ]
        }
      ]
    },
    {
      "cell_type": "markdown",
      "id": "45dc258a-d7cb-46da-a8cb-c3749a6bbe03",
      "metadata": {
        "id": "45dc258a-d7cb-46da-a8cb-c3749a6bbe03"
      },
      "source": [
        "### Question 10: Decision Trees"
      ]
    },
    {
      "cell_type": "markdown",
      "id": "b267fafa-a5b4-4759-a6ec-9b95ef00e3ff",
      "metadata": {
        "id": "b267fafa-a5b4-4759-a6ec-9b95ef00e3ff"
      },
      "source": [
        "Train a Decision Tree classifier on the trainig data. Use the following values for the arguments of the decision tree:\n",
        "```\n",
        "criterion=\"gini\", max_depth=3, random_state=42\n",
        "```"
      ]
    },
    {
      "cell_type": "code",
      "execution_count": null,
      "id": "b6ce7ca3-5d8a-4e8a-b1b2-f310847373fb",
      "metadata": {
        "id": "b6ce7ca3-5d8a-4e8a-b1b2-f310847373fb",
        "colab": {
          "base_uri": "https://localhost:8080/",
          "height": 74
        },
        "outputId": "c3e3c5f4-d40a-4ff5-f400-6694a8c6077a"
      },
      "outputs": [
        {
          "output_type": "execute_result",
          "data": {
            "text/plain": [
              "DecisionTreeClassifier(max_depth=3, random_state=42)"
            ],
            "text/html": [
              "<style>#sk-container-id-8 {color: black;background-color: white;}#sk-container-id-8 pre{padding: 0;}#sk-container-id-8 div.sk-toggleable {background-color: white;}#sk-container-id-8 label.sk-toggleable__label {cursor: pointer;display: block;width: 100%;margin-bottom: 0;padding: 0.3em;box-sizing: border-box;text-align: center;}#sk-container-id-8 label.sk-toggleable__label-arrow:before {content: \"▸\";float: left;margin-right: 0.25em;color: #696969;}#sk-container-id-8 label.sk-toggleable__label-arrow:hover:before {color: black;}#sk-container-id-8 div.sk-estimator:hover label.sk-toggleable__label-arrow:before {color: black;}#sk-container-id-8 div.sk-toggleable__content {max-height: 0;max-width: 0;overflow: hidden;text-align: left;background-color: #f0f8ff;}#sk-container-id-8 div.sk-toggleable__content pre {margin: 0.2em;color: black;border-radius: 0.25em;background-color: #f0f8ff;}#sk-container-id-8 input.sk-toggleable__control:checked~div.sk-toggleable__content {max-height: 200px;max-width: 100%;overflow: auto;}#sk-container-id-8 input.sk-toggleable__control:checked~label.sk-toggleable__label-arrow:before {content: \"▾\";}#sk-container-id-8 div.sk-estimator input.sk-toggleable__control:checked~label.sk-toggleable__label {background-color: #d4ebff;}#sk-container-id-8 div.sk-label input.sk-toggleable__control:checked~label.sk-toggleable__label {background-color: #d4ebff;}#sk-container-id-8 input.sk-hidden--visually {border: 0;clip: rect(1px 1px 1px 1px);clip: rect(1px, 1px, 1px, 1px);height: 1px;margin: -1px;overflow: hidden;padding: 0;position: absolute;width: 1px;}#sk-container-id-8 div.sk-estimator {font-family: monospace;background-color: #f0f8ff;border: 1px dotted black;border-radius: 0.25em;box-sizing: border-box;margin-bottom: 0.5em;}#sk-container-id-8 div.sk-estimator:hover {background-color: #d4ebff;}#sk-container-id-8 div.sk-parallel-item::after {content: \"\";width: 100%;border-bottom: 1px solid gray;flex-grow: 1;}#sk-container-id-8 div.sk-label:hover label.sk-toggleable__label {background-color: #d4ebff;}#sk-container-id-8 div.sk-serial::before {content: \"\";position: absolute;border-left: 1px solid gray;box-sizing: border-box;top: 0;bottom: 0;left: 50%;z-index: 0;}#sk-container-id-8 div.sk-serial {display: flex;flex-direction: column;align-items: center;background-color: white;padding-right: 0.2em;padding-left: 0.2em;position: relative;}#sk-container-id-8 div.sk-item {position: relative;z-index: 1;}#sk-container-id-8 div.sk-parallel {display: flex;align-items: stretch;justify-content: center;background-color: white;position: relative;}#sk-container-id-8 div.sk-item::before, #sk-container-id-8 div.sk-parallel-item::before {content: \"\";position: absolute;border-left: 1px solid gray;box-sizing: border-box;top: 0;bottom: 0;left: 50%;z-index: -1;}#sk-container-id-8 div.sk-parallel-item {display: flex;flex-direction: column;z-index: 1;position: relative;background-color: white;}#sk-container-id-8 div.sk-parallel-item:first-child::after {align-self: flex-end;width: 50%;}#sk-container-id-8 div.sk-parallel-item:last-child::after {align-self: flex-start;width: 50%;}#sk-container-id-8 div.sk-parallel-item:only-child::after {width: 0;}#sk-container-id-8 div.sk-dashed-wrapped {border: 1px dashed gray;margin: 0 0.4em 0.5em 0.4em;box-sizing: border-box;padding-bottom: 0.4em;background-color: white;}#sk-container-id-8 div.sk-label label {font-family: monospace;font-weight: bold;display: inline-block;line-height: 1.2em;}#sk-container-id-8 div.sk-label-container {text-align: center;}#sk-container-id-8 div.sk-container {/* jupyter's `normalize.less` sets `[hidden] { display: none; }` but bootstrap.min.css set `[hidden] { display: none !important; }` so we also need the `!important` here to be able to override the default hidden behavior on the sphinx rendered scikit-learn.org. See: https://github.com/scikit-learn/scikit-learn/issues/21755 */display: inline-block !important;position: relative;}#sk-container-id-8 div.sk-text-repr-fallback {display: none;}</style><div id=\"sk-container-id-8\" class=\"sk-top-container\"><div class=\"sk-text-repr-fallback\"><pre>DecisionTreeClassifier(max_depth=3, random_state=42)</pre><b>In a Jupyter environment, please rerun this cell to show the HTML representation or trust the notebook. <br />On GitHub, the HTML representation is unable to render, please try loading this page with nbviewer.org.</b></div><div class=\"sk-container\" hidden><div class=\"sk-item\"><div class=\"sk-estimator sk-toggleable\"><input class=\"sk-toggleable__control sk-hidden--visually\" id=\"sk-estimator-id-12\" type=\"checkbox\" checked><label for=\"sk-estimator-id-12\" class=\"sk-toggleable__label sk-toggleable__label-arrow\">DecisionTreeClassifier</label><div class=\"sk-toggleable__content\"><pre>DecisionTreeClassifier(max_depth=3, random_state=42)</pre></div></div></div></div></div>"
            ]
          },
          "metadata": {},
          "execution_count": 60
        }
      ],
      "source": [
        "# YOUR CODE HERE\n",
        "dtree = DecisionTreeClassifier(criterion=\"gini\", max_depth=3, random_state=42)\n",
        "dtree.fit(X_train, y_train)"
      ]
    },
    {
      "cell_type": "code",
      "source": [
        "dtree.score(X_test, y_test)"
      ],
      "metadata": {
        "id": "tYtBHxGFrj-4",
        "outputId": "c83c6091-c7e3-4180-ff1d-ace8b1384a91",
        "colab": {
          "base_uri": "https://localhost:8080/"
        }
      },
      "id": "tYtBHxGFrj-4",
      "execution_count": null,
      "outputs": [
        {
          "output_type": "execute_result",
          "data": {
            "text/plain": [
              "0.940625"
            ]
          },
          "metadata": {},
          "execution_count": 61
        }
      ]
    },
    {
      "cell_type": "markdown",
      "id": "aacfc59f-7aa0-4030-9ef0-58a051be89e7",
      "metadata": {
        "id": "aacfc59f-7aa0-4030-9ef0-58a051be89e7"
      },
      "source": [
        "#### Question 15\n",
        "Use `GridSearchCV` to find the best hyper-parameters for your decision tree model. Use values between 1 and 7 for `max_depth` argument and use either 'gini' or 'entropy' for the `criterion` argument. Use a 5-fold cross validation. This translate to the following values for the arguments of the `GridSearchCV`:\n",
        "```\n",
        "param_grid={\"max_depth\": range(1, 8), \"criterion\":[\"gini\", \"entropy\"]}, cv=5\n",
        "```\n",
        "\n",
        "What is the accuracy of the best decision tree model on the test data?\n"
      ]
    },
    {
      "cell_type": "code",
      "execution_count": null,
      "id": "abab96a6-d754-4e5b-9e8c-f756760a2f88",
      "metadata": {
        "id": "abab96a6-d754-4e5b-9e8c-f756760a2f88",
        "colab": {
          "base_uri": "https://localhost:8080/",
          "height": 117
        },
        "outputId": "ea9aebe0-8bdd-47d5-87d8-412201a7a945"
      },
      "outputs": [
        {
          "output_type": "execute_result",
          "data": {
            "text/plain": [
              "GridSearchCV(cv=5,\n",
              "             estimator=DecisionTreeClassifier(max_depth=3, random_state=42),\n",
              "             param_grid={'criterion': ['gini', 'entropy'],\n",
              "                         'max_depth': range(1, 8)})"
            ],
            "text/html": [
              "<style>#sk-container-id-9 {color: black;background-color: white;}#sk-container-id-9 pre{padding: 0;}#sk-container-id-9 div.sk-toggleable {background-color: white;}#sk-container-id-9 label.sk-toggleable__label {cursor: pointer;display: block;width: 100%;margin-bottom: 0;padding: 0.3em;box-sizing: border-box;text-align: center;}#sk-container-id-9 label.sk-toggleable__label-arrow:before {content: \"▸\";float: left;margin-right: 0.25em;color: #696969;}#sk-container-id-9 label.sk-toggleable__label-arrow:hover:before {color: black;}#sk-container-id-9 div.sk-estimator:hover label.sk-toggleable__label-arrow:before {color: black;}#sk-container-id-9 div.sk-toggleable__content {max-height: 0;max-width: 0;overflow: hidden;text-align: left;background-color: #f0f8ff;}#sk-container-id-9 div.sk-toggleable__content pre {margin: 0.2em;color: black;border-radius: 0.25em;background-color: #f0f8ff;}#sk-container-id-9 input.sk-toggleable__control:checked~div.sk-toggleable__content {max-height: 200px;max-width: 100%;overflow: auto;}#sk-container-id-9 input.sk-toggleable__control:checked~label.sk-toggleable__label-arrow:before {content: \"▾\";}#sk-container-id-9 div.sk-estimator input.sk-toggleable__control:checked~label.sk-toggleable__label {background-color: #d4ebff;}#sk-container-id-9 div.sk-label input.sk-toggleable__control:checked~label.sk-toggleable__label {background-color: #d4ebff;}#sk-container-id-9 input.sk-hidden--visually {border: 0;clip: rect(1px 1px 1px 1px);clip: rect(1px, 1px, 1px, 1px);height: 1px;margin: -1px;overflow: hidden;padding: 0;position: absolute;width: 1px;}#sk-container-id-9 div.sk-estimator {font-family: monospace;background-color: #f0f8ff;border: 1px dotted black;border-radius: 0.25em;box-sizing: border-box;margin-bottom: 0.5em;}#sk-container-id-9 div.sk-estimator:hover {background-color: #d4ebff;}#sk-container-id-9 div.sk-parallel-item::after {content: \"\";width: 100%;border-bottom: 1px solid gray;flex-grow: 1;}#sk-container-id-9 div.sk-label:hover label.sk-toggleable__label {background-color: #d4ebff;}#sk-container-id-9 div.sk-serial::before {content: \"\";position: absolute;border-left: 1px solid gray;box-sizing: border-box;top: 0;bottom: 0;left: 50%;z-index: 0;}#sk-container-id-9 div.sk-serial {display: flex;flex-direction: column;align-items: center;background-color: white;padding-right: 0.2em;padding-left: 0.2em;position: relative;}#sk-container-id-9 div.sk-item {position: relative;z-index: 1;}#sk-container-id-9 div.sk-parallel {display: flex;align-items: stretch;justify-content: center;background-color: white;position: relative;}#sk-container-id-9 div.sk-item::before, #sk-container-id-9 div.sk-parallel-item::before {content: \"\";position: absolute;border-left: 1px solid gray;box-sizing: border-box;top: 0;bottom: 0;left: 50%;z-index: -1;}#sk-container-id-9 div.sk-parallel-item {display: flex;flex-direction: column;z-index: 1;position: relative;background-color: white;}#sk-container-id-9 div.sk-parallel-item:first-child::after {align-self: flex-end;width: 50%;}#sk-container-id-9 div.sk-parallel-item:last-child::after {align-self: flex-start;width: 50%;}#sk-container-id-9 div.sk-parallel-item:only-child::after {width: 0;}#sk-container-id-9 div.sk-dashed-wrapped {border: 1px dashed gray;margin: 0 0.4em 0.5em 0.4em;box-sizing: border-box;padding-bottom: 0.4em;background-color: white;}#sk-container-id-9 div.sk-label label {font-family: monospace;font-weight: bold;display: inline-block;line-height: 1.2em;}#sk-container-id-9 div.sk-label-container {text-align: center;}#sk-container-id-9 div.sk-container {/* jupyter's `normalize.less` sets `[hidden] { display: none; }` but bootstrap.min.css set `[hidden] { display: none !important; }` so we also need the `!important` here to be able to override the default hidden behavior on the sphinx rendered scikit-learn.org. See: https://github.com/scikit-learn/scikit-learn/issues/21755 */display: inline-block !important;position: relative;}#sk-container-id-9 div.sk-text-repr-fallback {display: none;}</style><div id=\"sk-container-id-9\" class=\"sk-top-container\"><div class=\"sk-text-repr-fallback\"><pre>GridSearchCV(cv=5,\n",
              "             estimator=DecisionTreeClassifier(max_depth=3, random_state=42),\n",
              "             param_grid={&#x27;criterion&#x27;: [&#x27;gini&#x27;, &#x27;entropy&#x27;],\n",
              "                         &#x27;max_depth&#x27;: range(1, 8)})</pre><b>In a Jupyter environment, please rerun this cell to show the HTML representation or trust the notebook. <br />On GitHub, the HTML representation is unable to render, please try loading this page with nbviewer.org.</b></div><div class=\"sk-container\" hidden><div class=\"sk-item sk-dashed-wrapped\"><div class=\"sk-label-container\"><div class=\"sk-label sk-toggleable\"><input class=\"sk-toggleable__control sk-hidden--visually\" id=\"sk-estimator-id-13\" type=\"checkbox\" ><label for=\"sk-estimator-id-13\" class=\"sk-toggleable__label sk-toggleable__label-arrow\">GridSearchCV</label><div class=\"sk-toggleable__content\"><pre>GridSearchCV(cv=5,\n",
              "             estimator=DecisionTreeClassifier(max_depth=3, random_state=42),\n",
              "             param_grid={&#x27;criterion&#x27;: [&#x27;gini&#x27;, &#x27;entropy&#x27;],\n",
              "                         &#x27;max_depth&#x27;: range(1, 8)})</pre></div></div></div><div class=\"sk-parallel\"><div class=\"sk-parallel-item\"><div class=\"sk-item\"><div class=\"sk-label-container\"><div class=\"sk-label sk-toggleable\"><input class=\"sk-toggleable__control sk-hidden--visually\" id=\"sk-estimator-id-14\" type=\"checkbox\" ><label for=\"sk-estimator-id-14\" class=\"sk-toggleable__label sk-toggleable__label-arrow\">estimator: DecisionTreeClassifier</label><div class=\"sk-toggleable__content\"><pre>DecisionTreeClassifier(max_depth=3, random_state=42)</pre></div></div></div><div class=\"sk-serial\"><div class=\"sk-item\"><div class=\"sk-estimator sk-toggleable\"><input class=\"sk-toggleable__control sk-hidden--visually\" id=\"sk-estimator-id-15\" type=\"checkbox\" ><label for=\"sk-estimator-id-15\" class=\"sk-toggleable__label sk-toggleable__label-arrow\">DecisionTreeClassifier</label><div class=\"sk-toggleable__content\"><pre>DecisionTreeClassifier(max_depth=3, random_state=42)</pre></div></div></div></div></div></div></div></div></div></div>"
            ]
          },
          "metadata": {},
          "execution_count": 62
        }
      ],
      "source": [
        "# YOUR CODE HERE\n",
        "grid_search_dtree = GridSearchCV(dtree,\n",
        "                                 param_grid={\"max_depth\": range(1, 8), \"criterion\":[\"gini\", \"entropy\"]},\n",
        "                                 cv=5)\n",
        "\n",
        "grid_search_dtree.fit(X_train, y_train)"
      ]
    },
    {
      "cell_type": "code",
      "source": [
        "grid_search_dtree.best_estimator_.score(X_test, y_test)"
      ],
      "metadata": {
        "id": "ClQfHRfZtCtP",
        "outputId": "2b6342a7-94bf-41f5-ee3c-6e1f8cf323a1",
        "colab": {
          "base_uri": "https://localhost:8080/"
        }
      },
      "id": "ClQfHRfZtCtP",
      "execution_count": null,
      "outputs": [
        {
          "output_type": "execute_result",
          "data": {
            "text/plain": [
              "0.966875"
            ]
          },
          "metadata": {},
          "execution_count": 64
        }
      ]
    },
    {
      "cell_type": "markdown",
      "source": [
        "#### Question 16\n",
        "What are 'criterion' and 'max_depth' values for the best decision tree model?\n"
      ],
      "metadata": {
        "id": "zyg92hKxtTRl"
      },
      "id": "zyg92hKxtTRl"
    },
    {
      "cell_type": "code",
      "source": [
        "grid_search_dtree.best_params_"
      ],
      "metadata": {
        "id": "94Hhel-ntSk0",
        "outputId": "49f84bcd-251f-4be8-8499-c774f9fc83e9",
        "colab": {
          "base_uri": "https://localhost:8080/"
        }
      },
      "id": "94Hhel-ntSk0",
      "execution_count": null,
      "outputs": [
        {
          "output_type": "execute_result",
          "data": {
            "text/plain": [
              "{'criterion': 'entropy', 'max_depth': 7}"
            ]
          },
          "metadata": {},
          "execution_count": 65
        }
      ]
    },
    {
      "cell_type": "markdown",
      "id": "e154e70d-e2b8-4a8b-b6f6-a53ddbfba37d",
      "metadata": {
        "id": "e154e70d-e2b8-4a8b-b6f6-a53ddbfba37d"
      },
      "source": [
        "Plot a heatmap of the confusion matrix on the test set for the best decision tree model. Using the sklearn `classification_report` function, compute the accuracy of the best decision tree model on the test set as well as its precision, recall, and f1 score for both class 1 and 0."
      ]
    },
    {
      "cell_type": "code",
      "execution_count": null,
      "id": "f1997aca-cbf3-4a23-bf65-bcdd15293d80",
      "metadata": {
        "id": "f1997aca-cbf3-4a23-bf65-bcdd15293d80",
        "colab": {
          "base_uri": "https://localhost:8080/",
          "height": 506
        },
        "outputId": "6a380ec4-b32b-40ce-c9e8-7b6a0c4a49ad"
      },
      "outputs": [
        {
          "output_type": "stream",
          "name": "stdout",
          "text": [
            "[[1405   13]\n",
            " [  40  142]]\n"
          ]
        },
        {
          "output_type": "execute_result",
          "data": {
            "text/plain": [
              "Text(50.722222222222214, 0.5, 'true labels')"
            ]
          },
          "metadata": {},
          "execution_count": 66
        },
        {
          "output_type": "display_data",
          "data": {
            "text/plain": [
              "<Figure size 640x480 with 2 Axes>"
            ],
            "image/png": "[encoded data removed]"
          },
          "metadata": {}
        }
      ],
      "source": [
        "# YOUR CODE HERE\n",
        "conf_mat = confusion_matrix(y_test, grid_search_dtree.best_estimator_.predict(X_test))\n",
        "print(conf_mat)\n",
        "sns.heatmap(conf_mat, annot=True)\n",
        "plt.xlabel(\"pred\")\n",
        "plt.ylabel(\"true labels\")"
      ]
    },
    {
      "cell_type": "code",
      "source": [
        "print(classification_report(y_test, grid_search_dtree.best_estimator_.predict(X_test)))"
      ],
      "metadata": {
        "id": "tjdi4t33uBbD",
        "outputId": "b79c2330-63f3-4d47-9a42-f6db572cd5ff",
        "colab": {
          "base_uri": "https://localhost:8080/"
        }
      },
      "id": "tjdi4t33uBbD",
      "execution_count": null,
      "outputs": [
        {
          "output_type": "stream",
          "name": "stdout",
          "text": [
            "              precision    recall  f1-score   support\n",
            "\n",
            "           0       0.97      0.99      0.98      1418\n",
            "           1       0.92      0.78      0.84       182\n",
            "\n",
            "    accuracy                           0.97      1600\n",
            "   macro avg       0.94      0.89      0.91      1600\n",
            "weighted avg       0.97      0.97      0.97      1600\n",
            "\n"
          ]
        }
      ]
    },
    {
      "cell_type": "markdown",
      "source": [
        "#### Question 17\n",
        "In this particular problem (predicting whether the water is safe or not) it is important for us to be as precise as possible when predicting a water sample is safe (when predicting class 1). Given this criterion, what is the best option among the 3 model you trained, i.e., logistic regression, KNN classifier, and decision tree?"
      ],
      "metadata": {
        "id": "lMg6iK2XuTYu"
      },
      "id": "lMg6iK2XuTYu"
    },
    {
      "cell_type": "markdown",
      "id": "fbc3b538-551c-4098-b82f-8c00d976a448",
      "metadata": {
        "id": "fbc3b538-551c-4098-b82f-8c00d976a448"
      },
      "source": [
        "### Congrats, you are done with the assignment!\n",
        "\n"
      ]
    }
  ],
  "metadata": {
    "kernelspec": {
      "display_name": "Python 3 (ipykernel)",
      "language": "python",
      "name": "python3"
    },
    "language_info": {
      "codemirror_mode": {
        "name": "ipython",
        "version": 3
      },
      "file_extension": ".py",
      "mimetype": "text/x-python",
      "name": "python",
      "nbconvert_exporter": "python",
      "pygments_lexer": "ipython3",
      "version": "3.9.4"
    },
    "colab": {
      "provenance": [],
      "include_colab_link": true
    }
  },
  "nbformat": 4,
  "nbformat_minor": 5
}