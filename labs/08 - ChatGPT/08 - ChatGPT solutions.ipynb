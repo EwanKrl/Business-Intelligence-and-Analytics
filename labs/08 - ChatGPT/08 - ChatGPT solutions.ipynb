{
 "cells": [
  {
   "cell_type": "markdown",
   "id": "e87f2294-595d-450e-84b7-42280e523735",
   "metadata": {
    "id": "u461z_Wk-K-P"
   },
   "source": [
    "<h1 align=\"center\"> WALKTHROUGH X</h1>\n",
    "\n",
    "<div>\n",
    "<td> \n",
    "<img src=\"https://upload.wikimedia.org/wikipedia/commons/thumb/2/2b/Logo_Universit%C3%A9_de_Lausanne.svg/2000px-Logo_Universit%C3%A9_de_Lausanne.svg.png\" style=\"padding-right:10px;width:240px;float:left\"/></td>\n",
    "<h2 style=\"white-space: nowrap\">Business Intelligence and Analytics</h2></td>\n",
    "<hr style=\"clear:both\">\n",
    "<p style=\"font-size:0.85em; margin:2px; text-align:justify\">\n",
    "\n",
    "</div>\n",
    "\n",
    "This week, we will working with Chat GPT and learn how to use this tool at it's best."
   ]
  },
  {
   "cell_type": "markdown",
   "id": "259f7bf2-4ec4-40b2-aab1-1f3adb01ca6a",
   "metadata": {},
   "source": [
    "<div style=\"text-align:left;\">\n",
    "    <img src=\"https://ares.decipherzone.com/blog-manager/uploads/ckeditor_Chat%20Gpt%20Memes%2015.png\" style=\"width:100%;max-width:600px;\" />\n",
    "</div>\n",
    "\n"
   ]
  },
  {
   "cell_type": "markdown",
   "id": "cc9db3a3-2f5a-45ef-8091-3fcbc1feee27",
   "metadata": {},
   "source": [
    "# What is ChatGPT"
   ]
  },
  {
   "cell_type": "markdown",
   "id": "65f60bed-f8e7-49af-ba62-6341044aea0c",
   "metadata": {},
   "source": [
    "Prompt: What are you? And how do you work?\n",
    "\n",
    "Answer: \n",
    "\n",
    "\"I am an AI language model developed by OpenAI called ChatGPT. My primary function is to generate human-like text based on the input I receive. I work by processing and understanding the input text provided to me, then generating responses that are contextually relevant and coherent. My responses are based on patterns learned from vast amounts of text data during my training. I don't have consciousness, emotions, or personal experiences like a human does. Instead, I generate responses purely based on patterns learned from the data.\" ChatGPT"
   ]
  },
  {
   "cell_type": "markdown",
   "id": "b3a878e2-3539-4217-aab1-adb9020d8f54",
   "metadata": {},
   "source": [
    "Prompt: Could you be more technical and explain what is the model used?\n",
    "\n",
    "Answer: \n",
    "\n",
    "\"Certainly! I'm built on the GPT (Generative Pre-trained Transformer) architecture, specifically GPT-3.5. This architecture is based on a transformer neural network model, which is a type of deep learning model that excels at processing sequential data, such as text.\n",
    "\n",
    "Here's a bit more detail about the components and workings of the GPT model:\n",
    "\n",
    "- Transformer Architecture: The transformer architecture is central to how GPT models operate. It utilizes self-attention mechanisms to weigh the importance of different words in a sentence when generating text. This allows the model to capture long-range dependencies and relationships within the input text.\n",
    "\n",
    "-  Pre-training: Before being fine-tuned for specific tasks, such as question answering or text completion, the GPT model undergoes pre-training on a large corpus of text data. During pre-training, the model learns to predict the next word in a sequence given the preceding words. This process helps the model develop a rich understanding of language patterns and semantics.\n",
    "\n",
    "-  Fine-tuning: After pre-training, the model can be fine-tuned on smaller, task-specific datasets to adapt its parameters for specific applications. For example, it can be fine-tuned on conversational data to improve its performance in generating human-like responses in dialogue settings.\n",
    "\n",
    "- Attention Mechanism: The attention mechanism allows the model to focus on different parts of the input text when generating responses. This enables the model to consider relevant context and information during text generation.\n",
    "\n",
    "- Parameter Size: GPT-3.5 is one of the largest language models, with billions of parameters. These parameters represent the weights and biases of the neural network, and they are learned during the training process.\n",
    "\n",
    "- Generation Process: When given an input prompt, the model generates a response by sampling from the probability distribution over the vocabulary of words, conditioned on the input text. The sampling process incorporates randomness, which helps produce diverse and natural-sounding responses.\n",
    "\n",
    "Overall, the GPT architecture, coupled with extensive pre-training on large text corpora, enables the model to generate coherent and contextually relevant text across a wide range of tasks and domains.\" ChatGPT"
   ]
  },
  {
   "cell_type": "markdown",
   "id": "84088bdd-4262-4c3c-b90f-bb27af366e53",
   "metadata": {},
   "source": [
    "# ChatGPT Best Practices"
   ]
  },
  {
   "cell_type": "markdown",
   "id": "eb2a5963-1513-476e-aeb7-b069666290db",
   "metadata": {},
   "source": [
    "Here are some best practices rules to build better prompts: \n",
    "\n",
    "- Be clear\n",
    "- Be simple\n",
    "- Be critic"
   ]
  },
  {
   "cell_type": "markdown",
   "id": "18bc8fe5-d29b-49ad-912c-15a48488d383",
   "metadata": {},
   "source": [
    "## Be clear"
   ]
  },
  {
   "cell_type": "markdown",
   "id": "9f850575-cb6a-451c-bd8d-92c2cd2d37cc",
   "metadata": {},
   "source": [
    "ChatGPT cannot read your mind (not yet atleast. To get the desired output, you should give the most informations possible and describe at best what is the desired output. \n",
    "\n",
    "When coding, you will often need to specify different things to chatGPT before actually getting a great output: \n",
    "\n",
    "- Data\n",
    "    - What data are you working with? (name, variables,...)\n",
    "    - What is the format of the data? (.dtypes, type(), .shape, .columns(),....)\n",
    "    - What does the data represent?\n",
    " \n",
    "\n",
    "- Output\n",
    "    - What is the expected output? (type, format)\n",
    "    - How to achieve this output? Do you have an example? \n",
    "\n",
    "When making a prompt, try to give as much relevent informations as possible and be clear as possible. The best is to imagine ChatGPT as a teammember that justed joined the project to help. "
   ]
  },
  {
   "cell_type": "markdown",
   "id": "021a6bef-ee67-40fa-bcbd-32a76507ba5e",
   "metadata": {},
   "source": [
    "[Say What You See](https://www.google.com/url?sa=t&source=web&rct=j&opi=89978449&url=https://artsandculture.google.com/experiment/say-what-you-see/jwG3m7wQShZngw&ved=2ahUKEwjrk5Wy57CFAxXh_rsIHbfJDCAQFnoECBYQAQ&usg=AOvVaw1cX4Qgq9ckhV2iPvMWXpp_) is a great example to display the difference between what we wanted to say and what was understood. To get the best score, you will need as much context as possible!\n"
   ]
  },
  {
   "cell_type": "markdown",
   "id": "376c30e8-98a4-47b3-b5e3-4bde6fff2edb",
   "metadata": {},
   "source": [
    "## Be simple"
   ]
  },
  {
   "cell_type": "markdown",
   "id": "8959f8a8-10da-4b4d-bdbb-8f6bb9a03647",
   "metadata": {},
   "source": [
    "The best way to get an output that you understand and that is right is to ask simple things at first and to add complexity after. \n",
    "\n",
    "Two rules of thumb are: \n",
    "- Make yourself a plan on how to achieve the final output\n",
    "- Start simple and build the complexity up\n"
   ]
  },
  {
   "cell_type": "markdown",
   "id": "81c304f6-f2e5-406c-b8bd-ff6283dc2682",
   "metadata": {},
   "source": [
    "## Be critic"
   ]
  },
  {
   "cell_type": "markdown",
   "id": "4f966cd1-2f24-444b-8980-b3216e12a708",
   "metadata": {},
   "source": [
    "You should not trust blindly what ChatGPT gave you. Each prompt will potentialy give a different output, the only way to be sure that you got what you asked is to UNDERSTAND the code.\n",
    "\n",
    "Here are some tips on how to understand the output: \n",
    "\n",
    "- Ask ChatGPT to use functions that you master\n",
    "- Break down the code in different parts and look if they work as intended\n",
    "- Ask ChatGPT to explain in detail the output (don't hesitate to open a new discussion)\n",
    "- **PLAY** with the code\n",
    "\n",
    "The best way to be sure that the code work is to play with code and always be curious! Never hesitate to ask yourself : \"What if I change this?\""
   ]
  },
  {
   "cell_type": "markdown",
   "id": "1e16ebf6-091e-43aa-b7f0-78742e00b12e",
   "metadata": {},
   "source": [
    "# When Chat GPT fails"
   ]
  },
  {
   "cell_type": "markdown",
   "id": "8eb29da2-b4ff-4a8a-bccf-7d40527eb954",
   "metadata": {},
   "source": [
    "When the task asks for a multistep process, chat gpt will often fail. For example, for association rules or KNN"
   ]
  },
  {
   "cell_type": "markdown",
   "id": "27779bae-0cad-4379-896e-a676cefa5a37",
   "metadata": {},
   "source": [
    "## Association Rules"
   ]
  },
  {
   "cell_type": "markdown",
   "id": "b116a1c3-aace-472a-88b8-e593801d53c6",
   "metadata": {},
   "source": [
    "When asking: \n",
    "\n",
    "The table below shows the shopping baskets of a grocery store. Which association rules have a support >= 0.5 and confidence >= 0.8? (Check all that are correct)\n",
    "\n",
    "1 bread, milk, eggs, cheese\n",
    "2 bread, milk, butter, bananas, cheese\n",
    "3 bread, eggs, cheese, yogurt, apples \n",
    "4 milk, yogurt, apples, bananas, apples\n",
    "5 eggs, cheese, bread, milk\n",
    "6 yogurt, milk, bananas, apples\n",
    "7 bread, milk, cheese, yogurt\n",
    "8 milk eggs, cheese, butter, bananas\n",
    "9 bread, milk, apples, cheese, butter\n",
    "10 milk, yogurt, eggs, cheese\n",
    "\n",
    "\n",
    "ChatGPT:\n",
    "\n",
    "To find the association rules with support >= 0.5 and confidence >= 0.8, we need to calculate the support and confidence for each possible association rule and then check which ones meet the criteria.\n",
    "\n",
    "Given the shopping baskets:\n",
    "\n",
    "    bread, milk, eggs, cheese\n",
    "    bread, milk, butter, bananas, cheese\n",
    "    bread, eggs, cheese, yogurt, apples\n",
    "    milk, yogurt, apples, bananas, apples\n",
    "    eggs, cheese, bread, milk\n",
    "    yogurt, milk, bananas, apples\n",
    "    bread, milk, cheese, yogurt\n",
    "    milk eggs, cheese, butter, bananas (I assume this is a typo, and it should be \"milk, eggs, cheese, butter, bananas\")\n",
    "    bread, milk, apples, cheese, butter\n",
    "    milk, yogurt, eggs, cheese\n",
    "\n",
    "Let's check each possible association rule and calculate their support and confidence:\n",
    "\n",
    "    {bread} -> {milk}\n",
    "    {milk} -> {bread}\n",
    "    {eggs} -> {cheese}\n",
    "    {cheese} -> {eggs}\n",
    "    {bread, milk} -> {cheese}\n",
    "    {cheese} -> {bread, milk}\n",
    "\n",
    "Calculating support and confidence:\n",
    "\n",
    "    Support({bread} -> {milk}) = 4/10 = 0.4, Confidence({bread} -> {milk}) = 2/5 = 0.4\n",
    "    Support({milk} -> {bread}) = 4/10 = 0.4, Confidence({milk} -> {bread}) = 2/4 = 0.5\n",
    "    Support({eggs} -> {cheese}) = 2/10 = 0.2, Confidence({eggs} -> {cheese}) = 2/2 = 1.0\n",
    "    Support({cheese} -> {eggs}) = 2/10 = 0.2, Confidence({cheese} -> {eggs}) = 2/2 = 1.0\n",
    "    Support({bread, milk} -> {cheese}) = 2/10 = 0.2, Confidence({bread, milk} -> {cheese}) = 2/2 = 1.0\n",
    "    Support({cheese} -> {bread, milk}) = 2/10 = 0.2, Confidence({cheese} -> {bread, milk}) = 2/2 = 1.0\n",
    "\n",
    "Based on the calculations, none of the association rules have both support >= 0.5 and confidence >= 0.8. Therefore, there are no correct options."
   ]
  },
  {
   "cell_type": "markdown",
   "id": "26f5f851-34b5-46a6-9cda-ace54f01806b",
   "metadata": {},
   "source": [
    "Can you check theses? \n",
    "{bread} -> {eggs}\n",
    "{eggs} -> {cheese}\n",
    "{cheese, bread} -> {milk}\n",
    "{bread, eggs} -> {cheese}\n",
    "{cheese} -> {milk}\n",
    "ChatGPT\n",
    "\n",
    "Apologies for the oversight. Let's recheck those association rules:\n",
    "\n",
    "Given the shopping baskets:\n",
    "\n",
    "    bread, milk, eggs, cheese\n",
    "    bread, milk, butter, bananas, cheese\n",
    "    bread, eggs, cheese, yogurt, apples\n",
    "    milk, yogurt, apples, bananas, apples\n",
    "    eggs, cheese, bread, milk\n",
    "    yogurt, milk, bananas, apples\n",
    "    bread, milk, cheese, yogurt\n",
    "    milk, eggs, cheese, butter, bananas\n",
    "    bread, milk, apples, cheese, butter\n",
    "    milk, yogurt, eggs, cheese\n",
    "\n",
    "Now let's calculate the support and confidence for each rule:\n",
    "\n",
    "    {bread} -> {eggs}\n",
    "        Support({bread} -> {eggs}) = 2/10 = 0.2\n",
    "        Confidence({bread} -> {eggs}) = 2/5 = 0.4\n",
    "\n",
    "    {eggs} -> {cheese}\n",
    "        Support({eggs} -> {cheese}) = 2/10 = 0.2\n",
    "        Confidence({eggs} -> {cheese}) = 2/2 = 1.0\n",
    "\n",
    "    {cheese, bread} -> {milk}\n",
    "        Support({cheese, bread} -> {milk}) = 2/10 = 0.2\n",
    "        Confidence({cheese, bread} -> {milk}) = 2/2 = 1.0\n",
    "\n",
    "    {bread, eggs} -> {cheese}\n",
    "        Support({bread, eggs} -> {cheese}) = 1/10 = 0.1\n",
    "        Confidence({bread, eggs} -> {cheese}) = 1/2 = 0.5\n",
    "\n",
    "    {cheese} -> {milk}\n",
    "        Support({cheese} -> {milk}) = 4/10 = 0.4\n",
    "        Confidence({cheese} -> {milk}) = 4/5 = 0.8\n",
    "\n",
    "Now, let's identify the rules that satisfy the conditions support >= 0.5 and confidence >= 0.8:\n",
    "\n",
    "    {eggs} -> {cheese} meets both conditions.\n",
    "    {cheese, bread} -> {milk} meets both conditions.\n",
    "    {cheese} -> {milk} meets both conditions.\n",
    "\n",
    "So, the correct association rules are:\n",
    "\n",
    "    {eggs} -> {cheese}\n",
    "    {cheese, bread} -> {milk}\n",
    "    {cheese} -> {milk}"
   ]
  },
  {
   "cell_type": "markdown",
   "id": "98b7bb59-8e3a-4b80-abaf-82e457fa0104",
   "metadata": {},
   "source": [
    "In the following dataset of grocery transactions, both of the association rules {bread} -> {milk} and {bread} -> {cheese, milk} have a support equal to 0.5 and confidence equal to 0.83. Which of the following statements is correct about these two association rules?\n",
    "\n",
    "1 bread, cheese, eggs, milk \n",
    "2 banans, bread, butter, cheese, milk \n",
    "3 apples, bread, cheese, eggs, yogurt \n",
    "4 apples, bananas, milk, yogurt\n",
    "5 bread, cheese, eggs, milk \n",
    "6 apples, bananas, milk, yogurt \n",
    "7 bread, cheese, milk, yogurt \n",
    "8 bananas, butter, cheese, eggs, milk \n",
    "9 apples, bread, butter, cheese, milk\n",
    "10 cheese, eggs, milk, yogurt\n",
    "\n",
    "{bread} -> {milk} is the most interesting rule\n",
    "{bread} -> {cheese, milk} is most interesting rule\n",
    "Both of the rules are equally interesting as they have the same confidence.\n",
    "None of the statements are correct\n",
    "\n",
    "Chat GPT\n",
    "\n",
    "\n",
    "Given the dataset of grocery transactions:\n",
    "\n",
    "    bread, cheese, eggs, milk\n",
    "    bananas, bread, butter, cheese, milk\n",
    "    apples, bread, cheese, eggs, yogurt\n",
    "    apples, bananas, milk, yogurt\n",
    "    bread, cheese, eggs, milk\n",
    "    apples, bananas, milk, yogurt\n",
    "    bread, cheese, milk, yogurt\n",
    "    bananas, butter, cheese, eggs, milk\n",
    "    apples, bread, butter, cheese, milk\n",
    "    cheese, eggs, milk, yogurt\n",
    "\n",
    "Given that both of the association rules {bread} -> {milk} and {bread} -> {cheese, milk} have a support equal to 0.5 and confidence equal to 0.83.\n",
    "\n",
    "Now, let's assess the statements:\n",
    "\n",
    "    {bread} -> {milk} is the most interesting rule.\n",
    "    {bread} -> {cheese, milk} is the most interesting rule.\n",
    "    Both of the rules are equally interesting as they have the same confidence.\n",
    "    None of the statements are correct.\n",
    "\n",
    "To decide which statement is correct, let's consider the definitions of \"interestingness\" in association rule mining. Typically, interestingness is determined by metrics such as support, confidence, and lift.\n",
    "\n",
    "Since both rules have the same support and confidence, we should look at the additional item in the consequent (milk only vs. cheese and milk).\n",
    "\n",
    "In terms of the number of items in the consequent, {bread} -> {cheese, milk} is more specific than {bread} -> {milk}, as it involves one more item. However, whether one rule is more interesting than the other depends on the context and the specific goals of the analysis.\n",
    "\n",
    "Therefore, the correct statement is:\n",
    "\n",
    "    Both of the rules are equally interesting as they have the same confidence."
   ]
  },
  {
   "cell_type": "markdown",
   "id": "28d1ad04-2bf4-4084-933a-68a550d61d4d",
   "metadata": {},
   "source": [
    "are you sure? Can you compare the lifts?\n",
    "\n",
    "ChatGPT\n",
    "\n",
    "Apologies for the oversight. Let's compare the lifts of the two association rules to determine which one is more interesting.\n",
    "\n",
    "The lift of an association rule {A} -> {B} is defined as:\n",
    "\n",
    "lift(A→B)=support(A∪B)support(A)×support(B)lift(A→B)=support(A)×support(B)support(A∪B)​\n",
    "\n",
    "Given that both {bread} -> {milk} and {bread} -> {cheese, milk} have a support equal to 0.5, we only need to compare the denominator part of the lift formula, which involves the support of the antecedent (bread) and the support of the consequent (milk).\n",
    "\n",
    "For {bread} -> {milk}:\n",
    "support(bread)=7/10=0.7support(bread)=7/10=0.7\n",
    "support(milk)=6/10=0.6support(milk)=6/10=0.6\n",
    "\n",
    "For {bread} -> {cheese, milk}:\n",
    "support(bread)=7/10=0.7support(bread)=7/10=0.7\n",
    "support(cheese,milk)=4/10=0.4support(cheese,milk)=4/10=0.4\n",
    "\n",
    "Now, let's calculate the lifts:\n",
    "\n",
    "For {bread} -> {milk}:\n",
    "lift(bread→milk)=0.50.7×0.6≈1.19lift(bread→milk)=0.7×0.60.5​≈1.19\n",
    "\n",
    "For {bread} -> {cheese, milk}:\n",
    "lift(bread→cheese,milk)=0.50.7×0.4≈1.79lift(bread→cheese,milk)=0.7×0.40.5​≈1.79\n",
    "\n",
    "The higher the lift, the stronger the association. Therefore, {bread} -> {cheese, milk} has a higher lift compared to {bread} -> {milk}.\n",
    "\n",
    "Now, let's assess the statements again:\n",
    "\n",
    "    {bread} -> {milk} is the most interesting rule.\n",
    "    {bread} -> {cheese, milk} is the most interesting rule.\n",
    "    Both of the rules are equally interesting as they have the same confidence.\n",
    "    None of the statements are correct.\n",
    "\n",
    "The correct statement is:\n",
    "\n",
    "    {bread} -> {cheese, milk} is the most interesting rule."
   ]
  },
  {
   "cell_type": "markdown",
   "id": "d96cebe8-e1ab-4695-bc2d-f12c01afa22a",
   "metadata": {},
   "source": [
    "He calculcated the lift wrong: \n",
    "\n",
    "lift {bread} -> {milk} = ((# bread and milk) / (#bread)) / ((#milk) / (total)) = (5/6) / (9/10) = 0.93\n",
    "\n",
    "lift {bread} -> {cheese, milk} = ((# bread, cheese and milk) / (#bread)) / ((#cheese and milk) / (total)) = (5/6) / (7/10) = 1.19\n",
    "\n",
    "Therefore, {bread} -> {cheese, milk} is better. He got the right answer but by luck..."
   ]
  },
  {
   "cell_type": "markdown",
   "id": "b36ca680-f9cf-4dd6-b7d9-1a376a9e7dba",
   "metadata": {},
   "source": [
    "## KNN"
   ]
  },
  {
   "cell_type": "markdown",
   "id": "77308cfa-d7fc-40fa-b209-abe3cb067e6e",
   "metadata": {},
   "source": [
    "User\n",
    "The following figure shows a subset of the Iris dataset projected in 2 dimensions. The class labels together with the number of data points in each class are indicated in the plot legend. For which value of k, the k-nearest neighbor classifier gives the same accuracy as the base rate for this dataset? (Answer one integer value)\n",
    "\n",
    "\n",
    "\n",
    "<div style=\"text-align:left;\">\n",
    "    <img src=\"https://github.com/Tiagss/Pictures/blob/535689b12ccab7628c5ee81d6e9c26c04073f7c7/KNN%20100.png?raw=true\" style=\"width:100%;max-width:600px;\" />\n",
    "</div>\n",
    "\n",
    "\n",
    "ChatGPT\n",
    "\n",
    "To determine the value of k for which the k-nearest neighbor (k-NN) classifier gives the same accuracy as the base rate for this dataset, we need to consider the distribution of the classes and the concept of the base rate.\n",
    "\n",
    "The base rate, also known as the majority class baseline, is a classifier that always predicts the majority class. From the legend in the plot, we see that the class \"setosa\" has the most data points (50 points), while the other two classes, \"versicolor\" and \"virginica,\" each have 25 points.\n",
    "\n",
    "The accuracy of the base rate classifier would be the proportion of the majority class in the dataset. Thus, the accuracy would be 50/100 = 0.5 or 50% since \"setosa\" is the majority class.\n",
    "\n",
    "The k-NN classifier's accuracy will equal the base rate when the value of k is such that the k-NN classifier also always predicts the majority class for any given input. To ensure that the k-NN classifier predicts the majority class, k would have to be chosen such that the nearest neighbors would always include more \"setosa\" points than \"versicolor\" and \"virginica\" combined, regardless of where in the space the query point is located.\n",
    "\n",
    "Given that \"setosa\" has twice as many points as each of the other classes, one might initially think that k must be even to have the potential for a tie, but because there are more \"setosa\" points, in the event of a tie, the classifier could still end up predicting \"versicolor\" or \"virginica\" depending on the distribution of the nearest neighbors.\n",
    "\n",
    "However, since we can't see the exact placement of all the points and how they might be clustered or spread out in the space from the provided image, this cannot be determined with certainty from the image alone. Generally, to answer such a question, we would perform a computational experiment by running the k-NN algorithm with different values of k and comparing the accuracy to the base rate.\n",
    "\n",
    "In a typical evenly distributed case, if you have a two-class problem with a 2:1 ratio, and you want to ensure that the majority class is always predicted, you could start by testing k values that are multiples of the total number of classes (3 in this case). But again, without exact spatial information about the points, this is speculative and would need computational verification."
   ]
  },
  {
   "cell_type": "markdown",
   "id": "8da3e23e-aa40-481b-86dc-c1f1a78b65c3",
   "metadata": {},
   "source": [
    "This was the answer: \n",
    "\n",
    "The base rate for the classifier is 50%. Also the KNN classifier with k equal to the number of datapoints, will always classify every data point as the majority class label. Therefore the KNN classifier with k=100 will have an accuracy of 50%.\n",
    "\n",
    "\n",
    "ChatGPT\n",
    "\n",
    "Indeed, that's correct. If you set k equal to the total number of data points in the dataset for a k-nearest neighbor classifier, it will consider all points for making a decision on the class of any new data point. Since 'setosa' is the majority class, it will always predict 'setosa' for any input, which would result in an accuracy equivalent to the base rate — in this case, 50%. This assumes a simple majority vote without any weighting by distance, which is the standard method for k-NN.\n",
    "\n",
    "So for k=100 in this dataset, the k-NN classifier's accuracy will be the same as the base rate, which is 50%. Thank you for the clarification!"
   ]
  },
  {
   "cell_type": "markdown",
   "id": "b457ffb2-e9ed-4599-a357-3e0b260c8198",
   "metadata": {},
   "source": [
    "\n",
    "<div style=\"text-align:left;\">\n",
    "    <img src=\"https://github.com/Tiagss/Pictures/blob/main/KNN%20pink.png?raw=true\" style=\"width:100%;max-width:600px;\" />\n",
    "</div>\n",
    "\n",
    "User\n",
    "How would the KNN classifier classify the black square in the center for k=5 and k=12?\n",
    "\n",
    "ChatGPT\n",
    "\n",
    "To determine how the k-nearest neighbor (k-NN) classifier would classify the black square in the center for k=5 and k=12, we need to count the number of nearest neighbors from each class within the distance that encompasses the k nearest points.\n",
    "\n",
    "For k=5, we would look for the five closest data points to the black square and base the classification on the majority class within those five points.\n",
    "\n",
    "For k=12, we would expand our \"neighborhood\" to include the twelve closest points to the black square and classify it based on the majority class within those twelve points.\n",
    "\n",
    "Based on the image provided, I can describe the process to you:\n",
    "\n",
    "    For k=5, it seems that the five closest points to the black square are all from class B (the pink dots), as they are the innermost points around the black square. Therefore, the k-NN classifier would classify the black square as class B.\n",
    "\n",
    "    For k=12, we would consider a larger number of points. Since the points from class A (the orange triangles) appear to be further away than the innermost five points of class B, we need to count if there are more than seven points of class A within the closest twelve points to the black square. If not, and the majority of the twelve points are from class B, then the classifier would still classify the black square as class B. From the image, it appears that this might be the case since the class A points are outside the second ring.\n",
    "\n",
    "Without an exact count or coordinates, this is a visual estimate, but the image suggests that for both k=5 and k=12, the k-NN classifier would likely classify the black square as belonging to class B, given that the class B points are closer to the center than the class A points.\n"
   ]
  },
  {
   "cell_type": "markdown",
   "id": "d62e6a78-abb0-443f-9bf1-0d57a6da16c6",
   "metadata": {},
   "source": [
    "The answer was k=5 Class A and k =12 Class B"
   ]
  },
  {
   "cell_type": "markdown",
   "id": "2d094a08-80f5-433e-aa7b-8a175026acbb",
   "metadata": {},
   "source": [
    "# Conclusion "
   ]
  },
  {
   "cell_type": "markdown",
   "id": "e1c18f66-86fd-4a3a-9c50-2bf8bf1c10bc",
   "metadata": {},
   "source": [
    "Eventhough ChatGPT is very usefull in most contexts, the answers provided can be wrong, especially when facing multistep exercises. Association Rules and KNNs are two well know examples of failures from ChatGPT."
   ]
  },
  {
   "cell_type": "markdown",
   "id": "0c863acb-9333-4ccd-8a7c-6cca6fa4b804",
   "metadata": {},
   "source": [
    "# Exercices : "
   ]
  },
  {
   "cell_type": "markdown",
   "id": "49019f5f-e3dd-4d27-aa65-d7de300656c9",
   "metadata": {},
   "source": [
    "Given the following pairwise distances between objects 0,1,2,3 and 4 we execute hierarchical clustering. Which dendrogram corresponds to the outcome of the single linkage hierarchical clustering?\n",
    "\n",
    "Étant donné les distances par paire suivantes entre les objets 0, 1, 2, 3 et 4, nous procédons à un clustering hiérarchique. Quel dendrogramme correspond au résultat du clustering hiérarchique avec la méthode lien unique ?\n",
    "\n",
    "<div style=\"text-align:left;\">\n",
    "    <img src=\"https://github.com/Tiagss/Pictures/blob/c3cfd72b262aaf64d66cce6d00832519c9bd2a0b/dendogram.png?raw=true\" style=\"width:100%;max-width:600px;\" />\n",
    "</div>\n",
    "\n",
    "<div style=\"text-align:left;\">\n",
    "    <img src=\"https://github.com/Tiagss/Pictures/blob/main/dendrogram1%20(2).jpg?raw=true\" style=\"width:100%;max-width:600px;\" />\n",
    "</div>"
   ]
  },
  {
   "cell_type": "markdown",
   "id": "d8551e5a-77fe-424a-97bf-7e95296b107e",
   "metadata": {},
   "source": [
    "When asking ChatGPT this: \n",
    "\n",
    "I have this distance matrix : \n",
    "\n",
    "\\  0 1 2 3 4 \n",
    "\n",
    "0  0 5 6 4 4 \n",
    "\n",
    "1  5 0 5 5 6 \n",
    "\n",
    "2  6 5 0 2 6 \n",
    "\n",
    "3  2 5 2 0 1\n",
    "\n",
    "4  4 6 6 1 0 \n",
    "\n",
    "Given the following pairwise distances between objects 0,1,2,3 and 4 we execute hierarchical clustering. What should the dendogram look like?\n",
    "\n",
    "\n",
    "the output of ChatGPT is : \n",
    "\n",
    "To create a dendrogram from the given distance matrix, we can use hierarchical clustering algorithms such as agglomerative clustering. Here's the dendrogram that corresponds to the given distance matrix:\n",
    "\n",
    "\n",
    "                |            _______\n",
    "                |___________|       |\n",
    "                |           |   ____|____\n",
    "                |           |  |         |\n",
    "                |___________|__|____     |\n",
    "                            |        |    |\n",
    "                            |        |____|\n",
    "                            |        |    |\n",
    "                            |________|____|\n",
    "                                     |\n",
    "                                     |\n",
    "                                     |\n",
    "                                     |\n",
    "\n",
    "This dendrogram illustrates how the objects are clustered together based on their pairwise distances. At the bottom level, each object is represented by a single vertical line. As we move up in the dendrogram, lines merge together to form clusters. The height of the vertical lines indicates the distance between the clusters or objects being merged."
   ]
  },
  {
   "cell_type": "markdown",
   "id": "f39599e4-4d7b-40f1-a0a3-9cade952ff32",
   "metadata": {},
   "source": [
    "**Can you improve the prompt in order to answer the initial question?**"
   ]
  },
  {
   "cell_type": "markdown",
   "id": "fab776eb-5bf0-40d5-9845-c040e219f6a4",
   "metadata": {},
   "source": [
    "**Exercise**: Try to reproduce at best this boxplot using the best practices showed before!\n",
    "\n",
    "<div style=\"text-align:left;\">\n",
    "    <img src=\"https://github.com/Tiagss/Pictures/blob/main/Boxplot_GPT.png?raw=true\" style=\"width:100%;max-width:600px;\" />\n",
    "</div>\n"
   ]
  },
  {
   "cell_type": "code",
   "execution_count": 32,
   "id": "7d2618bd-0a44-403f-982e-636c1a14ea58",
   "metadata": {},
   "outputs": [],
   "source": [
    "import pandas as pd\n",
    "import seaborn as sns\n",
    "import matplotlib.pyplot as plt\n",
    "import numpy as np"
   ]
  },
  {
   "cell_type": "code",
   "execution_count": 27,
   "id": "7fee7645-af5c-45fe-9b8a-4af025bbe5f3",
   "metadata": {},
   "outputs": [
    {
     "data": {
      "text/html": [
       "<div>\n",
       "<style scoped>\n",
       "    .dataframe tbody tr th:only-of-type {\n",
       "        vertical-align: middle;\n",
       "    }\n",
       "\n",
       "    .dataframe tbody tr th {\n",
       "        vertical-align: top;\n",
       "    }\n",
       "\n",
       "    .dataframe thead th {\n",
       "        text-align: right;\n",
       "    }\n",
       "</style>\n",
       "<table border=\"1\" class=\"dataframe\">\n",
       "  <thead>\n",
       "    <tr style=\"text-align: right;\">\n",
       "      <th></th>\n",
       "      <th>Top 20</th>\n",
       "      <th>Salary</th>\n",
       "      <th>Bonus</th>\n",
       "    </tr>\n",
       "  </thead>\n",
       "  <tbody>\n",
       "    <tr>\n",
       "      <th>5</th>\n",
       "      <td>True</td>\n",
       "      <td>482885.0</td>\n",
       "      <td>60000.0</td>\n",
       "    </tr>\n",
       "  </tbody>\n",
       "</table>\n",
       "</div>"
      ],
      "text/plain": [
       "   Top 20    Salary    Bonus\n",
       "5    True  482885.0  60000.0"
      ]
     },
     "execution_count": 27,
     "metadata": {},
     "output_type": "execute_result"
    }
   ],
   "source": [
    "df = pd.read_csv('https://media.githubusercontent.com/media/michalis0/Business-Intelligence-and-Analytics/master/data/CEO%20compensation.csv')\n",
    "df = df.dropna()\n",
    "Salary_Bonus = df.loc[:, ['Top 20', 'Salary', 'Bonus']]\n",
    "Salary_Bonus.head(1)"
   ]
  },
  {
   "cell_type": "code",
   "execution_count": 36,
   "id": "46a9e284-8206-47b6-8072-46384ba20f71",
   "metadata": {},
   "outputs": [
    {
     "data": {
      "image/png": "[encoded data removed]",
      "text/plain": [
       "<Figure size 1000x600 with 1 Axes>"
      ]
     },
     "metadata": {},
     "output_type": "display_data"
    }
   ],
   "source": [
    "# Filter DataFrame for Top 20 == True and extract Salary and Bonus values\n",
    "S_top = df.loc[df['Top 20'] == True, 'Salary'].values\n",
    "B_top = df.loc[df['Top 20'] == True, 'Bonus'].values\n",
    "\n",
    "# Filter DataFrame for Top 20 == False and extract Salary and Bonus values\n",
    "S_no_top = df.loc[df['Top 20'] == False, 'Salary'].values\n",
    "B_no_top = df.loc[df['Top 20'] == False, 'Bonus'].values\n",
    "\n",
    "# Arrays for the for loop\n",
    "arrays = [S_top, B_top, S_no_top, B_no_top]\n",
    "array_labels = ['Salary Top 20', 'Bonus Top 20', 'Salary Not Top 20', 'Bonus Not Top 20']\n",
    "\n",
    "#Create a figure\n",
    "plt.figure(figsize=(10, 6))\n",
    "\n",
    "# Generate positions for each boxplot\n",
    "positions = np.arange(len(arrays)) + 1\n",
    "\n",
    "# Iterate over the four arrays\n",
    "for i, array in enumerate(arrays):\n",
    "    # Calculate the mean for the current array\n",
    "    mean_array = np.mean(array)\n",
    "\n",
    "    # Create boxplot for the current array\n",
    "    plt.boxplot(array, positions=[positions[i]], widths=0.6, showfliers=True)\n",
    "\n",
    "    # Plot mean as a line\n",
    "    plt.plot(positions[i], mean_array, marker='o', color='r')\n",
    "\n",
    "\n",
    "# Set y-axis label\n",
    "plt.ylabel('Salary / Bonus')\n",
    "\n",
    "# Set y-axis to log scale\n",
    "plt.yscale('log')\n",
    "\n",
    "# Set title\n",
    "plt.title('Boxplot for Salary and Bonus (Log Scale)')\n",
    "\n",
    "# Set x-axis ticks and labels\n",
    "plt.xticks(positions, array_labels)\n",
    "\n",
    "# Show plot\n",
    "plt.grid(True)\n",
    "plt.tight_layout()\n",
    "plt.savefig('Boxplot_GPT.png')  # Save as PNG format\n",
    "plt.show()\n",
    "\n"
   ]
  }
 ],
 "metadata": {
  "kernelspec": {
   "display_name": "Python 3 (ipykernel)",
   "language": "python",
   "name": "python3"
  },
  "language_info": {
   "codemirror_mode": {
    "name": "ipython",
    "version": 3
   },
   "file_extension": ".py",
   "mimetype": "text/x-python",
   "name": "python",
   "nbconvert_exporter": "python",
   "pygments_lexer": "ipython3",
   "version": "3.11.5"
  }
 },
 "nbformat": 4,
 "nbformat_minor": 5
}
