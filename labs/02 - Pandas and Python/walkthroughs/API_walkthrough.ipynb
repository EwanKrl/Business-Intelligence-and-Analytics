{
  "cells": [
    {
      "cell_type": "markdown",
      "metadata": {
        "id": "view-in-github",
        "colab_type": "text"
      },
      "source": [
        "<a href=\"https://colab.research.google.com/github/michalis0/Business-Intelligence-and-Analytics/blob/Editing/labs/02%20-%20Pandas%20and%20Python/walkthroughs/API_walkthrough.ipynb\" target=\"_parent\"><img src=\"https://colab.research.google.com/assets/colab-badge.svg\" alt=\"Open In Colab\"/></a>"
      ]
    },
    {
      "cell_type": "code",
      "execution_count": null,
      "metadata": {
        "id": "LIG51I0NZ0QE"
      },
      "outputs": [],
      "source": [
        "#@title Exercise on API - Lab 2\n",
        "\n",
        "%%html\n",
        "\n",
        "<div>\n",
        "<td>\n",
        "<img src=\"https://upload.wikimedia.org/wikipedia/commons/thumb/2/2b/Logo_Universit%C3%A9_de_Lausanne.svg/2000px-Logo_Universit%C3%A9_de_Lausanne.svg.png\" style=\"padding-right:10px;width:240px;float:left\"/></td>\n",
        "<h2 style=\"white-space: nowrap\">Business Intelligence and Analytics</h2></td>\n",
        "<hr style=\"clear:both\">\n",
        "<p style=\"font-size:0.85em; margin:2px; text-align:justify\">\n",
        "\n",
        "</div>"
      ]
    },
    {
      "cell_type": "markdown",
      "metadata": {
        "id": "nPrgCqTTVXmg"
      },
      "source": [
        "# Introduction\n",
        "\n",
        ">This exercise aims at illustrating the practical use of API requests to obtain data from the Internet. During this exercise, we will show you how to obtain API data from various websites in `json` format. Then, you will use a small program that allows you to retrieve the data in Colab. From this point onwards, the data will be accessible for you to work on.\n",
        "\n",
        "> We are going to use **2 examples**: one where you retrieve IMDb data about your **favorite movie** and another where you retrieve **current weather** data from any city in the world.\n",
        "\n",
        "_Note_: data treatment will be developed in the following labs: \"Pandas and Python\" and \"Data cleaning\", respectively the 2nd and 3rd labs. This exercise only shows you the process of obtaining _real time_ online data from an API.\n",
        "\n",
        "_Reminder_: data obtained in such a way is called _external_ data.\n",
        "\n",
        "\n"
      ]
    },
    {
      "cell_type": "markdown",
      "metadata": {
        "id": "LoodZhsh0eaH"
      },
      "source": [
        "# 1. Data from your favorite movie\n",
        "\n",
        "In this example, you will understand how to extract data concerning the movie of your choice.\n",
        "\n",
        "First, you will have to make a request against an API to obtain the data.\n",
        "\n",
        "Second, you will translate this data in Colab."
      ]
    },
    {
      "cell_type": "markdown",
      "metadata": {
        "id": "a6GT0pj-eIMz"
      },
      "source": [
        "## Making a OMDb API request\n",
        "\n",
        "**Let us take a look at the [OMDb API](https://www.omdbapi.com/)**\n",
        "\n",
        "> You can see that you will be able to make a HTTP request with this URL: ```http://www.omdbapi.com/?apikey=[yourkey]&```\n",
        "\n",
        "For this, you will need a **key** (see theory) for the API to control your requests. For OMDb API, free requests are limited to 1'000 per day.\n",
        "\n",
        "> You can get your own key [here](https://www.omdbapi.com/apikey.aspx) by inputing your email address.\n",
        "\n",
        "> You can also use the key I generated : `6be81d95`.\n",
        "\n",
        "You will then need to apply **filters** to your HTTP request for the API to recognize what you are looking for. Those will be appended to the end of your URL.\n",
        "\n",
        "For example, say I want to search for the movie \"The Big Short\" with a full plot.\n",
        "> The filters would be the following: `t=The+Big+Short&plot=full`. You can see that `t` indicates the title of the movie (for this API, it is mandatory) and `plot` has an option `full`.\n",
        "\n",
        "> The filters are always separed by a `&` sign.\n",
        "\n",
        "Therefore, the URL of my request would be the following:\n",
        "\n",
        "```https://www.omdbapi.com/?apikey=6be81d95&t=The+Big+Short&plot=full```\n",
        "\n",
        "**Try inputing that URL in your browser and see what happens!**\n"
      ]
    },
    {
      "cell_type": "markdown",
      "metadata": {
        "id": "ZY0tP7cNvAo9"
      },
      "source": [
        "### Result\n",
        "\n",
        "If everything goes well, you get a webpage in `json` format !\n",
        "\n",
        "You might recognize the **semi-structured** data type from your theory class.\n",
        "\n",
        ">However, all of this is still happening in your web browser, and you cannot process this data with any program of your choice."
      ]
    },
    {
      "cell_type": "markdown",
      "metadata": {
        "id": "A2xDQI_oew6Q"
      },
      "source": [
        "## Loading the data in Colab\n",
        "\n",
        "More on this process can be found [here](https://colab.research.google.com/github/nestauk/im-tutorials/blob/3-ysi-tutorial/notebooks/APIs/API_tutorial.ipynb). This exercise is largely inspired by the official Colab tutorial."
      ]
    },
    {
      "cell_type": "code",
      "execution_count": null,
      "metadata": {
        "id": "Sa-33IjZaGdI"
      },
      "outputs": [],
      "source": [
        "import requests  # Import the requests library\n",
        "\n",
        "# Query URL\n",
        "url = ('https://www.omdbapi.com/?apikey=6be81d95&t=The+Big+Short&plot=full')  # Movie 'The Big Short' with a full plot\n",
        "\n",
        "print(url)\n",
        "\n",
        "response = requests.get(url)  # Make a GET request to the URL.\n",
        "\n",
        "# Print status code (and associated text).\n",
        "print(f\"Request returned {response.status_code} : '{response.reason}'\")\n",
        "\n",
        "#Note: status 200 means the request was successful. Search online for documentation about request statuses.\n",
        "\n",
        "# Print data returned (parsing as JSON)\n",
        "payload = response.json()  # Parse `response.text` into JSON\n",
        "\n",
        "import pprint #This library makes the result look good.\n",
        "\n",
        "pp = pprint.PrettyPrinter(indent=1)\n",
        "pp.pprint(payload)"
      ]
    },
    {
      "cell_type": "markdown",
      "metadata": {
        "id": "mDdTMPOym_FE"
      },
      "source": [
        "**You did it!** You can now process the data obtained in the movie description"
      ]
    },
    {
      "cell_type": "code",
      "execution_count": null,
      "metadata": {
        "id": "HfMM215ukpIU"
      },
      "outputs": [],
      "source": [
        "#Show the actors that played in the movie\n",
        "\n",
        "payload['Actors']"
      ]
    },
    {
      "cell_type": "code",
      "execution_count": null,
      "metadata": {
        "id": "dodnN5bXk3wH"
      },
      "outputs": [],
      "source": [
        "#Show the plot of the movie\n",
        "\n",
        "plot = payload['Plot']\n",
        "\n",
        "print(plot)"
      ]
    },
    {
      "cell_type": "code",
      "execution_count": null,
      "metadata": {
        "id": "HvlhtmJ5oLfW"
      },
      "outputs": [],
      "source": [
        "#Count the number of words in the plot\n",
        "print(type(plot))\n",
        "\n",
        "plot_length = plot.split() #use the split method on a string\n",
        "\n",
        "print(len(plot_length)) #count the length of the list containing all words"
      ]
    },
    {
      "cell_type": "markdown",
      "metadata": {
        "id": "gZRqqUm1rK80"
      },
      "source": [
        "## Your turn !\n",
        "\n",
        "Here, you will be able to search for your own favorite movie and retrieve the corresponding IMDb data."
      ]
    },
    {
      "cell_type": "code",
      "execution_count": null,
      "metadata": {
        "id": "FeqPoaFfrZn9"
      },
      "outputs": [],
      "source": [
        "your_url = ('Your url here')\n",
        "\n",
        "#You will need the key and the name of the movie from omdbapi.com (see the first part of this example)"
      ]
    },
    {
      "cell_type": "code",
      "execution_count": null,
      "metadata": {
        "id": "tNs2IYQLxzBH"
      },
      "outputs": [],
      "source": [
        "import requests\n",
        "\n",
        "print(your_url) #The URL of your choice.\n",
        "\n",
        "response = requests.get(your_url)  # Make a GET request to the URL.\n",
        "\n",
        "# Print status code (and associated text).\n",
        "print(f\"Request returned {response.status_code} : '{response.reason}'\")\n",
        "\n",
        "\n",
        "# Print data returned (parsing as JSON)\n",
        "your_movie = response.json()\n",
        "\n",
        "import pprint\n",
        "pp = pprint.PrettyPrinter(indent=1)\n",
        "pp.pprint(your_movie)"
      ]
    },
    {
      "cell_type": "code",
      "execution_count": null,
      "metadata": {
        "id": "yKzT96KkzFhC"
      },
      "outputs": [],
      "source": [
        "#Find the ratings of your movie!\n",
        "\n",
        "your_movie['Your code here']"
      ]
    },
    {
      "cell_type": "code",
      "execution_count": null,
      "metadata": {
        "id": "xiTf-AfPzPIt"
      },
      "outputs": [],
      "source": [
        "#Find the writer of your movie!\n",
        "\n",
        "'Your code here'"
      ]
    },
    {
      "cell_type": "markdown",
      "metadata": {
        "id": "mzEXDyT599Cm"
      },
      "source": [
        "# 2. Current weather data\n",
        "\n",
        "In this example, you will see how to obtain real-time weather data on the city of your choice.\n",
        "\n",
        "> We will use [OpenWeather API](https://openweathermap.org/api). You can find documentation there.\n",
        "\n",
        "The process is relatively similar to the first example, and hopefully by now you will have understood the intuition. This will therefore be a more concise illustration."
      ]
    },
    {
      "cell_type": "markdown",
      "metadata": {
        "id": "QVrdMG7-CZMS"
      },
      "source": [
        "## Current weather in Lausanne\n",
        "\n",
        "We have already generated an API key: `APPID=c3b012a09cda741d210d8739c796c3da`\n",
        "\n",
        "The only parameters inputted here are the name of the city and the country code: `Lausanne,ch`.\n",
        "\n",
        "You could also input the latitude and longitude according to [the documentation](https://openweathermap.org/current).\n",
        "\n",
        "> The OpenWeather API is going to return the following `JSON`formatted data."
      ]
    },
    {
      "cell_type": "code",
      "execution_count": null,
      "metadata": {
        "id": "FB76ieSJJNqC"
      },
      "outputs": [],
      "source": [
        "url = ('https://api.openweathermap.org/data/2.5/weather?q=Lausanne,ch&APPID=c3b012a09cda741d210d8739c796c3da') #City of Lausanne, CH"
      ]
    },
    {
      "cell_type": "markdown",
      "metadata": {
        "id": "QO19KLlc7-Lu"
      },
      "source": [
        "We automated the input of the city and the country code for you:\n",
        "\n",
        "**Run the following code and input the corresponding request. Then press enter.**"
      ]
    },
    {
      "cell_type": "code",
      "execution_count": null,
      "metadata": {
        "id": "DnGP610g79ro"
      },
      "outputs": [],
      "source": [
        "url_city = input(\"Enter the city: \")"
      ]
    },
    {
      "cell_type": "code",
      "execution_count": null,
      "metadata": {
        "id": "csP5h9gg8krJ"
      },
      "outputs": [],
      "source": [
        "url_city = url_city.lower().capitalize()\n",
        "\n",
        "url_country = input(\"Enter the country code:\")"
      ]
    },
    {
      "cell_type": "code",
      "execution_count": null,
      "metadata": {
        "id": "2j9KeyNU9C2k"
      },
      "outputs": [],
      "source": [
        "url_country = url_country.lower()\n",
        "url_data = url_city+','+url_country\n",
        "\n",
        "url = ('https://api.openweathermap.org/data/2.5/weather?q={}&APPID=c3b012a09cda741d210d8739c796c3da').format(url_data)"
      ]
    },
    {
      "cell_type": "markdown",
      "metadata": {
        "id": "Gt2cYv2B-76Q"
      },
      "source": [
        "We can now repeat the same operation. We fetch the data from the API using the URL with the corresponding filters you just inputted."
      ]
    },
    {
      "cell_type": "code",
      "execution_count": null,
      "metadata": {
        "id": "6eLmKv9X-G0t"
      },
      "outputs": [],
      "source": [
        "import requests  # Import the requests library\n",
        "\n",
        "\n",
        "print(url)\n",
        "\n",
        "response = requests.get(url)  # Make a GET request to the URL.\n",
        "\n",
        "# Print status code (and associated text).\n",
        "print(f\"Request returned {response.status_code} : '{response.reason}'\")\n",
        "\n",
        "#Note: status 200 means the request was successful. Search online for documentation about request statuses.\n",
        "\n",
        "# Print data returned (parsing as JSON)\n",
        "payload = response.json()  # Parse `response.text` into JSON\n",
        "\n",
        "import pprint #This library makes the result look good.\n",
        "\n",
        "pp = pprint.PrettyPrinter(indent=1)\n",
        "pp.pprint(payload)"
      ]
    },
    {
      "cell_type": "markdown",
      "metadata": {
        "id": "zQY99f-oFIAf"
      },
      "source": [
        "_Note_: You can play with this request by changing the URL with the city of your choice."
      ]
    },
    {
      "cell_type": "code",
      "execution_count": null,
      "metadata": {
        "id": "X2vS-wAaFEn9"
      },
      "outputs": [],
      "source": [
        "#What is the temperature?\n",
        "print(type(payload['main']))\n",
        "\n",
        "main_info = payload['main']\n",
        "main_info"
      ]
    },
    {
      "cell_type": "code",
      "execution_count": null,
      "metadata": {
        "id": "ScV2ZFzwrsyX"
      },
      "outputs": [],
      "source": [
        "#The previous cell is a dictionary. You can directly obtain the temperature:\n",
        "payload['main']['temp']"
      ]
    },
    {
      "cell_type": "code",
      "execution_count": null,
      "metadata": {
        "id": "5B6hmLxlF4Un"
      },
      "outputs": [],
      "source": [
        "#You can also translate this data into a pandas DataFrame (cf. pandas walkthrough)\n",
        "import pandas as pd\n",
        "\n",
        "name = payload['name']\n",
        "main_index = []\n",
        "main_index.append(name)\n",
        "\n",
        "df_main = pd.DataFrame(main_info, index=main_index)\n",
        "df_main"
      ]
    },
    {
      "cell_type": "code",
      "execution_count": null,
      "metadata": {
        "id": "FXx9vFnTHvyN"
      },
      "outputs": [],
      "source": [
        "#Temperature is in Kelvin- let us translate into Celsius\n",
        "\n",
        "df_main[['temp', 'feels_like', 'temp_min', 'temp_max']] = df_main[['temp', 'feels_like', 'temp_min', 'temp_max']] - 273.15\n",
        "df_main"
      ]
    }
  ],
  "metadata": {
    "colab": {
      "provenance": [],
      "include_colab_link": true
    },
    "kernelspec": {
      "display_name": "base",
      "language": "python",
      "name": "python3"
    },
    "language_info": {
      "name": "python",
      "version": "3.9.15"
    },
    "vscode": {
      "interpreter": {
        "hash": "b0cc462c96df3621bcc58e01fadcdf9264a069c5c4bbf07201077bb349d3c6bf"
      }
    }
  },
  "nbformat": 4,
  "nbformat_minor": 0
}